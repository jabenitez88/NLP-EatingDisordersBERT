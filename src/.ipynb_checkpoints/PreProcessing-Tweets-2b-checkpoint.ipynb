{
 "cells": [
  {
   "cell_type": "markdown",
   "metadata": {},
   "source": [
    "# Tweets about eating disorders\n",
    "## Pre-processing and initial data cleaning 2\n",
    "\n",
    "\n",
    "Only 2000 tweets preprocessing. "
   ]
  },
  {
   "cell_type": "code",
   "execution_count": 11,
   "metadata": {},
   "outputs": [],
   "source": [
    "import os\n",
    "import pandas as pd\n",
    "\n",
    "df = pd.read_csv('TweetsEtiquetados-2000.csv', encoding='utf8', sep=';', error_bad_lines=False)"
   ]
  },
  {
   "cell_type": "code",
   "execution_count": 12,
   "metadata": {},
   "outputs": [
    {
     "data": {
      "text/html": [
       "<div>\n",
       "<style scoped>\n",
       "    .dataframe tbody tr th:only-of-type {\n",
       "        vertical-align: middle;\n",
       "    }\n",
       "\n",
       "    .dataframe tbody tr th {\n",
       "        vertical-align: top;\n",
       "    }\n",
       "\n",
       "    .dataframe thead th {\n",
       "        text-align: right;\n",
       "    }\n",
       "</style>\n",
       "<table border=\"1\" class=\"dataframe\">\n",
       "  <thead>\n",
       "    <tr style=\"text-align: right;\">\n",
       "      <th></th>\n",
       "      <th>Column1</th>\n",
       "      <th>id_tweet</th>\n",
       "      <th>link</th>\n",
       "      <th>stream_group</th>\n",
       "      <th>text_orig</th>\n",
       "      <th>Commercial</th>\n",
       "      <th>POLITICS</th>\n",
       "      <th>ED</th>\n",
       "      <th>Family</th>\n",
       "      <th>ED_patience</th>\n",
       "      <th>ProED</th>\n",
       "      <th>Offensive</th>\n",
       "      <th>Informative</th>\n",
       "      <th>Scientific</th>\n",
       "      <th>Sad</th>\n",
       "      <th>hashtag</th>\n",
       "      <th>Columna2</th>\n",
       "      <th>Columna3</th>\n",
       "    </tr>\n",
       "  </thead>\n",
       "  <tbody>\n",
       "    <tr>\n",
       "      <th>0</th>\n",
       "      <td>0</td>\n",
       "      <td>1,31851E+34</td>\n",
       "      <td>https://twitter.com/sophhhiiieeeeee/status/1318513897826123776</td>\n",
       "      <td>1</td>\n",
       "      <td>RT @beatED: Learn more about anorexia and bulimia, as well as other eating disorders, here: https://t.co/Aj2HbjRH39 @BBCPanorama #BBCPanorama</td>\n",
       "      <td>0</td>\n",
       "      <td>0</td>\n",
       "      <td>1</td>\n",
       "      <td>0.0</td>\n",
       "      <td>0</td>\n",
       "      <td>0</td>\n",
       "      <td>0</td>\n",
       "      <td>1</td>\n",
       "      <td>0</td>\n",
       "      <td>0.0</td>\n",
       "      <td>['BBCPanorama']</td>\n",
       "      <td>NaN</td>\n",
       "      <td>NaN</td>\n",
       "    </tr>\n",
       "    <tr>\n",
       "      <th>1</th>\n",
       "      <td>3</td>\n",
       "      <td>1,31851E+34</td>\n",
       "      <td>https://twitter.com/thelewespound/status/1318514436542500866</td>\n",
       "      <td>1</td>\n",
       "      <td>A woman tries to balance her relationships with her mother and teenage daughter while under the shadow of #anorexia in the atmospheric British drama #BodyofWater. \\n\\nAt Depot from Friday, book now: https://lewesdepot.org/film/body-of-water\\n</td>\n",
       "      <td>0</td>\n",
       "      <td>0</td>\n",
       "      <td>1</td>\n",
       "      <td>0.0</td>\n",
       "      <td>0</td>\n",
       "      <td>0</td>\n",
       "      <td>0</td>\n",
       "      <td>0</td>\n",
       "      <td>0</td>\n",
       "      <td>0.0</td>\n",
       "      <td>['anorexia', 'BodyofWater']</td>\n",
       "      <td>NaN</td>\n",
       "      <td>NaN</td>\n",
       "    </tr>\n",
       "    <tr>\n",
       "      <th>2</th>\n",
       "      <td>6</td>\n",
       "      <td>1,31851E+34</td>\n",
       "      <td>https://twitter.com/milkylbs/status/1318514816814882817</td>\n",
       "      <td>1</td>\n",
       "      <td>not a full on diagnosis but like my therapist legit told my mom i have anorexia nevrususu and my poor mom sat there like 👁👄👁...oh</td>\n",
       "      <td>0</td>\n",
       "      <td>0</td>\n",
       "      <td>1</td>\n",
       "      <td>0.0</td>\n",
       "      <td>1</td>\n",
       "      <td>0</td>\n",
       "      <td>0</td>\n",
       "      <td>0</td>\n",
       "      <td>0</td>\n",
       "      <td>0.0</td>\n",
       "      <td>[]</td>\n",
       "      <td>NaN</td>\n",
       "      <td>NaN</td>\n",
       "    </tr>\n",
       "    <tr>\n",
       "      <th>3</th>\n",
       "      <td>11</td>\n",
       "      <td>1,31852E+34</td>\n",
       "      <td>https://twitter.com/JamesJosephIgoe/status/1318515167743811584</td>\n",
       "      <td>1</td>\n",
       "      <td>Higher-calorie diets for patients with anorexia nervosa shorten hospital stays https://t.co/jQFWUHQELR via @instapaper</td>\n",
       "      <td>0</td>\n",
       "      <td>0</td>\n",
       "      <td>1</td>\n",
       "      <td>0.0</td>\n",
       "      <td>0</td>\n",
       "      <td>0</td>\n",
       "      <td>0</td>\n",
       "      <td>1</td>\n",
       "      <td>1</td>\n",
       "      <td>0.0</td>\n",
       "      <td>[]</td>\n",
       "      <td>NaN</td>\n",
       "      <td>NaN</td>\n",
       "    </tr>\n",
       "    <tr>\n",
       "      <th>4</th>\n",
       "      <td>14</td>\n",
       "      <td>1,31852E+34</td>\n",
       "      <td>https://twitter.com/GENDERYOON/status/1318515364217704449</td>\n",
       "      <td>1</td>\n",
       "      <td>tw // ed ment freddie pissed me off but it was amazing. but the way they got the anorexic, bulimic actress to play a food-obsessed character will never sit right with me</td>\n",
       "      <td>0</td>\n",
       "      <td>0</td>\n",
       "      <td>1</td>\n",
       "      <td>0.0</td>\n",
       "      <td>1</td>\n",
       "      <td>1</td>\n",
       "      <td>0</td>\n",
       "      <td>0</td>\n",
       "      <td>0</td>\n",
       "      <td>0.0</td>\n",
       "      <td>[]</td>\n",
       "      <td>NaN</td>\n",
       "      <td>NaN</td>\n",
       "    </tr>\n",
       "  </tbody>\n",
       "</table>\n",
       "</div>"
      ],
      "text/plain": [
       "   Column1     id_tweet  \\\n",
       "0        0  1,31851E+34   \n",
       "1        3  1,31851E+34   \n",
       "2        6  1,31851E+34   \n",
       "3       11  1,31852E+34   \n",
       "4       14  1,31852E+34   \n",
       "\n",
       "                                                             link  \\\n",
       "0  https://twitter.com/sophhhiiieeeeee/status/1318513897826123776   \n",
       "1    https://twitter.com/thelewespound/status/1318514436542500866   \n",
       "2         https://twitter.com/milkylbs/status/1318514816814882817   \n",
       "3  https://twitter.com/JamesJosephIgoe/status/1318515167743811584   \n",
       "4       https://twitter.com/GENDERYOON/status/1318515364217704449   \n",
       "\n",
       "   stream_group  \\\n",
       "0             1   \n",
       "1             1   \n",
       "2             1   \n",
       "3             1   \n",
       "4             1   \n",
       "\n",
       "                                                                                                                                                                                                                                            text_orig  \\\n",
       "0                                                                                                       RT @beatED: Learn more about anorexia and bulimia, as well as other eating disorders, here: https://t.co/Aj2HbjRH39 @BBCPanorama #BBCPanorama   \n",
       "1  A woman tries to balance her relationships with her mother and teenage daughter while under the shadow of #anorexia in the atmospheric British drama #BodyofWater. \\n\\nAt Depot from Friday, book now: https://lewesdepot.org/film/body-of-water\\n   \n",
       "2                                                                                                                   not a full on diagnosis but like my therapist legit told my mom i have anorexia nevrususu and my poor mom sat there like 👁👄👁...oh   \n",
       "3                                                                                                                              Higher-calorie diets for patients with anorexia nervosa shorten hospital stays https://t.co/jQFWUHQELR via @instapaper   \n",
       "4                                                                           tw // ed ment freddie pissed me off but it was amazing. but the way they got the anorexic, bulimic actress to play a food-obsessed character will never sit right with me   \n",
       "\n",
       "   Commercial  POLITICS  ED  Family  ED_patience  ProED  Offensive  \\\n",
       "0           0         0   1     0.0            0      0          0   \n",
       "1           0         0   1     0.0            0      0          0   \n",
       "2           0         0   1     0.0            1      0          0   \n",
       "3           0         0   1     0.0            0      0          0   \n",
       "4           0         0   1     0.0            1      1          0   \n",
       "\n",
       "   Informative  Scientific  Sad                      hashtag  Columna2  \\\n",
       "0            1           0  0.0              ['BBCPanorama']       NaN   \n",
       "1            0           0  0.0  ['anorexia', 'BodyofWater']       NaN   \n",
       "2            0           0  0.0                           []       NaN   \n",
       "3            1           1  0.0                           []       NaN   \n",
       "4            0           0  0.0                           []       NaN   \n",
       "\n",
       "  Columna3  \n",
       "0      NaN  \n",
       "1      NaN  \n",
       "2      NaN  \n",
       "3      NaN  \n",
       "4      NaN  "
      ]
     },
     "execution_count": 12,
     "metadata": {},
     "output_type": "execute_result"
    }
   ],
   "source": [
    "df.head()"
   ]
  },
  {
   "cell_type": "code",
   "execution_count": 13,
   "metadata": {},
   "outputs": [],
   "source": [
    "df = df.drop(['Column1','Columna2','Columna3','hashtag','link'], axis=1)"
   ]
  },
  {
   "cell_type": "code",
   "execution_count": 14,
   "metadata": {},
   "outputs": [
    {
     "data": {
      "text/plain": [
       "Index(['id_tweet', 'stream_group', 'text_orig', 'Commercial', 'POLITICS', 'ED',\n",
       "       'Family', 'ED_patience', 'ProED', 'Offensive', 'Informative',\n",
       "       'Scientific', 'Sad'],\n",
       "      dtype='object')"
      ]
     },
     "execution_count": 14,
     "metadata": {},
     "output_type": "execute_result"
    }
   ],
   "source": [
    "df.columns"
   ]
  },
  {
   "cell_type": "code",
   "execution_count": 15,
   "metadata": {},
   "outputs": [],
   "source": [
    "pd.set_option('display.max_columns', None)\n",
    "pd.set_option('display.max_rows', None)\n",
    "pd.options.display.max_colwidth = 300\n",
    "#data2_1.info(memory_usage=\"deep\")"
   ]
  },
  {
   "cell_type": "markdown",
   "metadata": {},
   "source": [
    "We unite all the data sets into one."
   ]
  },
  {
   "cell_type": "code",
   "execution_count": 16,
   "metadata": {},
   "outputs": [],
   "source": [
    "def usageForType(df):\n",
    "    for ctype in ['float','float64','int64','int','object','datetime','category']:\n",
    "        columnType = df.select_dtypes(include=[ctype])\n",
    "        meanMemoryUsage = columnType.memory_usage(deep=True).mean()\n",
    "        meanMemoryUsageMB = meanMemoryUsage / 1024 ** 2\n",
    "        print(\"Memory usage for type \",ctype , \" : {:0.5f} MB\".format(meanMemoryUsageMB))"
   ]
  },
  {
   "cell_type": "code",
   "execution_count": null,
   "metadata": {},
   "outputs": [],
   "source": []
  },
  {
   "cell_type": "markdown",
   "metadata": {},
   "source": [
    "We make a cross between the columns 'id.tweet' and 'retweeted_id' so that we remove all the tweets that are retuits of already existing tweets."
   ]
  },
  {
   "cell_type": "code",
   "execution_count": 19,
   "metadata": {},
   "outputs": [],
   "source": [
    "df2 = df.copy()"
   ]
  },
  {
   "cell_type": "code",
   "execution_count": 20,
   "metadata": {},
   "outputs": [
    {
     "name": "stderr",
     "output_type": "stream",
     "text": [
      "[nltk_data] Downloading package wordnet to\n",
      "[nltk_data]     C:\\Users\\MICROSOFT\\AppData\\Roaming\\nltk_data...\n",
      "[nltk_data]   Package wordnet is already up-to-date!\n",
      "[nltk_data] Downloading package stopwords to\n",
      "[nltk_data]     C:\\Users\\MICROSOFT\\AppData\\Roaming\\nltk_data...\n",
      "[nltk_data]   Package stopwords is already up-to-date!\n"
     ]
    }
   ],
   "source": [
    "import pandas as pd\n",
    "import numpy as np\n",
    "import json\n",
    "from collections import Counter\n",
    "from wordcloud import WordCloud\n",
    "import matplotlib.pyplot as plt\n",
    "import re, string, unicodedata\n",
    "import nltk\n",
    "from nltk import word_tokenize, sent_tokenize, FreqDist\n",
    "from nltk.corpus import stopwords\n",
    "from nltk.stem import LancasterStemmer, WordNetLemmatizer\n",
    "nltk.download\n",
    "nltk.download('wordnet')\n",
    "nltk.download('stopwords')\n",
    "from nltk.tokenize import TweetTokenizer\n",
    "\n",
    "import preprocessor as p\n",
    "df2['hashtag'] = df2['text_orig'].apply(lambda x: re.findall(r\"#(\\w+)\", x))\n",
    "\n",
    "def preprocess_tweet(row):\n",
    "    text = row['text_orig']\n",
    "    text = p.clean(text)\n",
    "    return text\n",
    "\n",
    "df2['text'] = df2.apply(preprocess_tweet, axis=1)"
   ]
  },
  {
   "cell_type": "code",
   "execution_count": 21,
   "metadata": {},
   "outputs": [
    {
     "data": {
      "text/plain": [
       "(2000, 15)"
      ]
     },
     "execution_count": 21,
     "metadata": {},
     "output_type": "execute_result"
    }
   ],
   "source": [
    "df2['hashtag'].head(10)\n",
    "df2.shape"
   ]
  },
  {
   "cell_type": "code",
   "execution_count": 22,
   "metadata": {},
   "outputs": [],
   "source": [
    "def preprocess_data(data):\n",
    "    #Removes Numbers\n",
    "    data = data.astype(str).str.replace('\\d+', '')\n",
    "    lower_text = data.str.lower()\n",
    "    lemmatizer = nltk.stem.WordNetLemmatizer()\n",
    "    w_tokenizer =  TweetTokenizer()\n",
    " \n",
    "    def lemmatize_text(text):\n",
    "        return [(lemmatizer.lemmatize(w)) for w \\\n",
    "                       in w_tokenizer.tokenize((text))]\n",
    "    \n",
    "    def remove_punctuation(words):\n",
    "        new_words = []\n",
    "        for word in words:\n",
    "            new_word = re.sub(r'[^\\w\\s]', '', (word))\n",
    "            if new_word != '':\n",
    "                new_words.append(new_word)\n",
    "        return new_words\n",
    "    words = lower_text.apply(lemmatize_text)\n",
    "    words = words.apply(remove_punctuation)\n",
    "    return pd.DataFrame(words)\n",
    "\n",
    "pre_tweets = preprocess_data(df2['text'])\n",
    "df2['text'] = pre_tweets\n",
    "stop_words = set(stopwords.words('english'))\n",
    "df2['text'] = df2['text'].apply(lambda x: [item for item in \\\n",
    "                                    x if item not in stop_words])"
   ]
  },
  {
   "cell_type": "code",
   "execution_count": 23,
   "metadata": {},
   "outputs": [],
   "source": [
    "df2['hashtag'].dropna(inplace=True)"
   ]
  },
  {
   "cell_type": "code",
   "execution_count": 24,
   "metadata": {},
   "outputs": [
    {
     "data": {
      "text/plain": [
       "0              [BBCPanorama]\n",
       "1    [anorexia, BodyofWater]\n",
       "2                         []\n",
       "Name: hashtag, dtype: object"
      ]
     },
     "execution_count": 24,
     "metadata": {},
     "output_type": "execute_result"
    }
   ],
   "source": [
    "tweets2 = df2.copy()\n",
    "\n",
    "tweets2['hashtag'].head(3)\n",
    "tweets2 = tweets2.reset_index(drop=True)\n",
    "tweets2['hashtag'].head(3)"
   ]
  },
  {
   "cell_type": "code",
   "execution_count": 25,
   "metadata": {},
   "outputs": [],
   "source": [
    "tweets = df2.copy()"
   ]
  },
  {
   "cell_type": "code",
   "execution_count": 26,
   "metadata": {},
   "outputs": [
    {
     "name": "stdout",
     "output_type": "stream",
     "text": [
      "Reading twitter - 1grams ...\n",
      "Reading twitter - 2grams ...\n"
     ]
    },
    {
     "name": "stderr",
     "output_type": "stream",
     "text": [
      "C:\\Users\\MICROSOFT\\Anaconda3\\envs\\tfm\\lib\\site-packages\\ekphrasis\\classes\\exmanager.py:14: FutureWarning: Possible nested set at position 42\n",
      "  regexes = {k.lower(): re.compile(self.expressions[k]) for k, v in\n"
     ]
    },
    {
     "name": "stdout",
     "output_type": "stream",
     "text": [
      "(2000, 15)\n"
     ]
    },
    {
     "data": {
      "image/png": "[encoded data removed]",
      "text/plain": [
       "<Figure size 864x720 with 1 Axes>"
      ]
     },
     "metadata": {
      "needs_background": "light"
     },
     "output_type": "display_data"
    }
   ],
   "source": [
    "from ekphrasis.classes.segmenter import Segmenter\n",
    "\n",
    "# segmenter using the word statistics from Twitter\n",
    "seg_tw = Segmenter(corpus=\"twitter\")\n",
    "a = []\n",
    "\n",
    "#tweets2 = tweets.copy()\n",
    "#tweets['hashtag'] = tweets['hashtag'].dropna(inplace=True)\n",
    "tweets = tweets.reset_index(drop=True)\n",
    "print(tweets.shape)\n",
    "\n",
    "for i in range(len(tweets)):\n",
    "    if tweets['hashtag'][i] != a:\n",
    "        listToStr1 = ' '.join([str(elem) for elem in \\\n",
    "                                       tweets['hashtag'][i]])\n",
    "        tweets.loc[i,'Segmented#'] = seg_tw.segment(listToStr1)\n",
    "\n",
    "#Frequency of words\n",
    "fdist = FreqDist(tweets['Segmented#'])\n",
    "#WordCloud\n",
    "wc = WordCloud(width=800, height=400, max_words=50).generate_from_frequencies(fdist)\n",
    "plt.figure(figsize=(12,10))\n",
    "plt.imshow(wc, interpolation=\"bilinear\")\n",
    "plt.axis(\"off\")\n",
    "plt.show()"
   ]
  },
  {
   "cell_type": "code",
   "execution_count": 27,
   "metadata": {},
   "outputs": [],
   "source": [
    "tweets.to_csv('tweets2.csv', encoding='utf-8')"
   ]
  },
  {
   "cell_type": "code",
   "execution_count": 4,
   "metadata": {},
   "outputs": [],
   "source": [
    "import os\n",
    "import pandas as pd\n",
    "import numpy as np\n",
    "import json\n",
    "from collections import Counter\n",
    "from wordcloud import WordCloud\n",
    "import matplotlib.pyplot as plt\n",
    "import re, string, unicodedata\n",
    "import nltk\n",
    "from nltk import word_tokenize, sent_tokenize, FreqDist\n",
    "from nltk.corpus import stopwords\n",
    "from nltk.stem import LancasterStemmer, WordNetLemmatizer\n",
    "nltk.download\n",
    "tweets = pd.read_csv('tweets2.csv', encoding='utf8', error_bad_lines=False)"
   ]
  },
  {
   "cell_type": "code",
   "execution_count": 5,
   "metadata": {},
   "outputs": [
    {
     "data": {
      "text/html": [
       "<div>\n",
       "<style scoped>\n",
       "    .dataframe tbody tr th:only-of-type {\n",
       "        vertical-align: middle;\n",
       "    }\n",
       "\n",
       "    .dataframe tbody tr th {\n",
       "        vertical-align: top;\n",
       "    }\n",
       "\n",
       "    .dataframe thead th {\n",
       "        text-align: right;\n",
       "    }\n",
       "</style>\n",
       "<table border=\"1\" class=\"dataframe\">\n",
       "  <thead>\n",
       "    <tr style=\"text-align: right;\">\n",
       "      <th></th>\n",
       "      <th>Unnamed: 0</th>\n",
       "      <th>id_tweet</th>\n",
       "      <th>stream_group</th>\n",
       "      <th>text_orig</th>\n",
       "      <th>Commercial</th>\n",
       "      <th>POLITICS</th>\n",
       "      <th>ED</th>\n",
       "      <th>Family</th>\n",
       "      <th>ED_patience</th>\n",
       "      <th>ProED</th>\n",
       "      <th>Offensive</th>\n",
       "      <th>Informative</th>\n",
       "      <th>Scientific</th>\n",
       "      <th>Sad</th>\n",
       "      <th>hashtag</th>\n",
       "      <th>text</th>\n",
       "      <th>Segmented#</th>\n",
       "    </tr>\n",
       "  </thead>\n",
       "  <tbody>\n",
       "    <tr>\n",
       "      <th>0</th>\n",
       "      <td>0</td>\n",
       "      <td>1,31851E+34</td>\n",
       "      <td>1</td>\n",
       "      <td>RT @beatED: Learn more about anorexia and buli...</td>\n",
       "      <td>0</td>\n",
       "      <td>0</td>\n",
       "      <td>1</td>\n",
       "      <td>0.0</td>\n",
       "      <td>0</td>\n",
       "      <td>0</td>\n",
       "      <td>0</td>\n",
       "      <td>1</td>\n",
       "      <td>0</td>\n",
       "      <td>0.0</td>\n",
       "      <td>['BBCPanorama']</td>\n",
       "      <td>['learn', 'anorexia', 'bulimia', 'well', 'eati...</td>\n",
       "      <td>bbc panorama</td>\n",
       "    </tr>\n",
       "    <tr>\n",
       "      <th>1</th>\n",
       "      <td>1</td>\n",
       "      <td>1,31851E+34</td>\n",
       "      <td>1</td>\n",
       "      <td>A woman tries to balance her relationships wit...</td>\n",
       "      <td>0</td>\n",
       "      <td>0</td>\n",
       "      <td>1</td>\n",
       "      <td>0.0</td>\n",
       "      <td>0</td>\n",
       "      <td>0</td>\n",
       "      <td>0</td>\n",
       "      <td>0</td>\n",
       "      <td>0</td>\n",
       "      <td>0.0</td>\n",
       "      <td>['anorexia', 'BodyofWater']</td>\n",
       "      <td>['woman', 'try', 'balance', 'relationship', 'm...</td>\n",
       "      <td>anorexia  bodyof water</td>\n",
       "    </tr>\n",
       "  </tbody>\n",
       "</table>\n",
       "</div>"
      ],
      "text/plain": [
       "   Unnamed: 0     id_tweet  stream_group  \\\n",
       "0           0  1,31851E+34             1   \n",
       "1           1  1,31851E+34             1   \n",
       "\n",
       "                                           text_orig  Commercial  POLITICS  \\\n",
       "0  RT @beatED: Learn more about anorexia and buli...           0         0   \n",
       "1  A woman tries to balance her relationships wit...           0         0   \n",
       "\n",
       "   ED  Family  ED_patience  ProED  Offensive  Informative  Scientific  Sad  \\\n",
       "0   1     0.0            0      0          0            1           0  0.0   \n",
       "1   1     0.0            0      0          0            0           0  0.0   \n",
       "\n",
       "                       hashtag  \\\n",
       "0              ['BBCPanorama']   \n",
       "1  ['anorexia', 'BodyofWater']   \n",
       "\n",
       "                                                text              Segmented#  \n",
       "0  ['learn', 'anorexia', 'bulimia', 'well', 'eati...            bbc panorama  \n",
       "1  ['woman', 'try', 'balance', 'relationship', 'm...  anorexia  bodyof water  "
      ]
     },
     "execution_count": 5,
     "metadata": {},
     "output_type": "execute_result"
    }
   ],
   "source": [
    "tweets.head(2)"
   ]
  },
  {
   "cell_type": "code",
   "execution_count": 12,
   "metadata": {},
   "outputs": [],
   "source": [
    "tweets.columns=['num1','id_tw','stream_group','text_orig','f1_commercial','f2_politics','f3_ed','f4_family','ED Patient','Pro ED','f7_offensive','Informative','Scientific','f10_sad','hashtag','text','segmented']"
   ]
  },
  {
   "cell_type": "code",
   "execution_count": 13,
   "metadata": {},
   "outputs": [
    {
     "data": {
      "text/html": [
       "<div>\n",
       "<style scoped>\n",
       "    .dataframe tbody tr th:only-of-type {\n",
       "        vertical-align: middle;\n",
       "    }\n",
       "\n",
       "    .dataframe tbody tr th {\n",
       "        vertical-align: top;\n",
       "    }\n",
       "\n",
       "    .dataframe thead th {\n",
       "        text-align: right;\n",
       "    }\n",
       "</style>\n",
       "<table border=\"1\" class=\"dataframe\">\n",
       "  <thead>\n",
       "    <tr style=\"text-align: right;\">\n",
       "      <th></th>\n",
       "      <th>num1</th>\n",
       "      <th>id_tw</th>\n",
       "      <th>stream_group</th>\n",
       "      <th>text_orig</th>\n",
       "      <th>f1_commercial</th>\n",
       "      <th>f2_politics</th>\n",
       "      <th>f3_ed</th>\n",
       "      <th>f4_family</th>\n",
       "      <th>ED Patient</th>\n",
       "      <th>Pro ED</th>\n",
       "      <th>f7_offensive</th>\n",
       "      <th>Informative</th>\n",
       "      <th>Scientific</th>\n",
       "      <th>f10_sad</th>\n",
       "      <th>hashtag</th>\n",
       "      <th>text</th>\n",
       "      <th>segmented</th>\n",
       "    </tr>\n",
       "  </thead>\n",
       "  <tbody>\n",
       "    <tr>\n",
       "      <th>0</th>\n",
       "      <td>0</td>\n",
       "      <td>1,31851E+34</td>\n",
       "      <td>1</td>\n",
       "      <td>RT @beatED: Learn more about anorexia and buli...</td>\n",
       "      <td>0</td>\n",
       "      <td>0</td>\n",
       "      <td>1</td>\n",
       "      <td>0.0</td>\n",
       "      <td>0</td>\n",
       "      <td>0</td>\n",
       "      <td>0</td>\n",
       "      <td>1</td>\n",
       "      <td>0</td>\n",
       "      <td>0.0</td>\n",
       "      <td>['BBCPanorama']</td>\n",
       "      <td>['learn', 'anorexia', 'bulimia', 'well', 'eati...</td>\n",
       "      <td>bbc panorama</td>\n",
       "    </tr>\n",
       "    <tr>\n",
       "      <th>1</th>\n",
       "      <td>1</td>\n",
       "      <td>1,31851E+34</td>\n",
       "      <td>1</td>\n",
       "      <td>A woman tries to balance her relationships wit...</td>\n",
       "      <td>0</td>\n",
       "      <td>0</td>\n",
       "      <td>1</td>\n",
       "      <td>0.0</td>\n",
       "      <td>0</td>\n",
       "      <td>0</td>\n",
       "      <td>0</td>\n",
       "      <td>0</td>\n",
       "      <td>0</td>\n",
       "      <td>0.0</td>\n",
       "      <td>['anorexia', 'BodyofWater']</td>\n",
       "      <td>['woman', 'try', 'balance', 'relationship', 'm...</td>\n",
       "      <td>anorexia  bodyof water</td>\n",
       "    </tr>\n",
       "  </tbody>\n",
       "</table>\n",
       "</div>"
      ],
      "text/plain": [
       "   num1        id_tw  stream_group  \\\n",
       "0     0  1,31851E+34             1   \n",
       "1     1  1,31851E+34             1   \n",
       "\n",
       "                                           text_orig  f1_commercial  \\\n",
       "0  RT @beatED: Learn more about anorexia and buli...              0   \n",
       "1  A woman tries to balance her relationships wit...              0   \n",
       "\n",
       "   f2_politics  f3_ed  f4_family  ED Patient  Pro ED  f7_offensive  \\\n",
       "0            0      1        0.0           0       0             0   \n",
       "1            0      1        0.0           0       0             0   \n",
       "\n",
       "   Informative  Scientific  f10_sad                      hashtag  \\\n",
       "0            1           0      0.0              ['BBCPanorama']   \n",
       "1            0           0      0.0  ['anorexia', 'BodyofWater']   \n",
       "\n",
       "                                                text               segmented  \n",
       "0  ['learn', 'anorexia', 'bulimia', 'well', 'eati...            bbc panorama  \n",
       "1  ['woman', 'try', 'balance', 'relationship', 'm...  anorexia  bodyof water  "
      ]
     },
     "execution_count": 13,
     "metadata": {},
     "output_type": "execute_result"
    }
   ],
   "source": [
    "tweets.head(2)"
   ]
  },
  {
   "cell_type": "code",
   "execution_count": 14,
   "metadata": {},
   "outputs": [],
   "source": [
    "cols=['f1_commercial','f2_politics','f3_ed','f4_family','ED Patient','Pro ED','f7_offensive','Informative','Scientific','f10_sad']"
   ]
  },
  {
   "cell_type": "code",
   "execution_count": 15,
   "metadata": {},
   "outputs": [
    {
     "name": "stdout",
     "output_type": "stream",
     "text": [
      "0    98.1\n",
      "1     1.9\n",
      "Name: f1_commercial, dtype: float64 \n",
      "\n",
      "0    92.55\n",
      "1     7.45\n",
      "Name: f2_politics, dtype: float64 \n",
      "\n",
      "1    87.65\n",
      "0    12.35\n",
      "Name: f3_ed, dtype: float64 \n",
      "\n",
      "0.0    99.422966\n",
      "1.0     0.577034\n",
      "Name: f4_family, dtype: float64 \n",
      "\n",
      "0    51.5\n",
      "1    48.5\n",
      "Name: ED Patient, dtype: float64 \n",
      "\n",
      "0    76.65\n",
      "1    23.35\n",
      "Name: Pro ED, dtype: float64 \n",
      "\n",
      "0    96.85\n",
      "1     3.15\n",
      "Name: f7_offensive, dtype: float64 \n",
      "\n",
      "0    61.65\n",
      "1    38.35\n",
      "Name: Informative, dtype: float64 \n",
      "\n",
      "0    75.55\n",
      "1    24.45\n",
      "Name: Scientific, dtype: float64 \n",
      "\n",
      "0.0    77.893519\n",
      "1.0    15.393519\n",
      "2.0     6.712963\n",
      "Name: f10_sad, dtype: float64 \n",
      "\n"
     ]
    }
   ],
   "source": [
    "for col in cols:\n",
    "    print(tweets[col].value_counts(normalize=True)*100,'\\n')"
   ]
  },
  {
   "cell_type": "code",
   "execution_count": 16,
   "metadata": {},
   "outputs": [],
   "source": [
    "megaDF = pd.DataFrame()\n",
    "megaDF.rename_axis('values')\n",
    "cols2 = cols[:-1]\n",
    "for col in cols2:\n",
    "    df = tweets[col].value_counts(normalize=True).rename_axis('values').to_frame(col)\n",
    "    #df.plot.bar()\n",
    "    #megaDF.concat([megaDF,df])\n",
    "    megaDF = pd.concat([megaDF,df], axis=1)\n",
    "    #plt.show()"
   ]
  },
  {
   "cell_type": "code",
   "execution_count": 17,
   "metadata": {},
   "outputs": [
    {
     "data": {
      "text/plain": [
       "(array([0, 1, 2, 3, 4, 5, 6, 7, 8]),\n",
       " <a list of 9 Text major ticklabel objects>)"
      ]
     },
     "execution_count": 17,
     "metadata": {},
     "output_type": "execute_result"
    },
    {
     "data": {
      "image/png": "[encoded data removed]",
      "text/plain": [
       "<Figure size 432x288 with 1 Axes>"
      ]
     },
     "metadata": {
      "needs_background": "light"
     },
     "output_type": "display_data"
    }
   ],
   "source": [
    "megaDF.T.plot.bar(stacked=True,rot=0)\n",
    "plt.xticks(rotation=90)"
   ]
  },
  {
   "cell_type": "code",
   "execution_count": 18,
   "metadata": {},
   "outputs": [
    {
     "data": {
      "text/plain": [
       "(array([0, 1, 2, 3]), <a list of 4 Text major ticklabel objects>)"
      ]
     },
     "execution_count": 18,
     "metadata": {},
     "output_type": "execute_result"
    },
    {
     "data": {
      "image/png": "[encoded data removed]",
      "text/plain": [
       "<Figure size 432x288 with 1 Axes>"
      ]
     },
     "metadata": {
      "needs_background": "light"
     },
     "output_type": "display_data"
    }
   ],
   "source": [
    "tweets1 = tweets.copy().drop(['f1_commercial', 'f2_politics', 'f3_ed', 'f4_family', 'f7_offensive', 'f10_sad'], axis=1)\n",
    "megaDF=megaDF.drop(['f1_commercial', 'f2_politics', 'f3_ed', 'f4_family', 'f7_offensive'],axis=1)\n",
    "megaDF.T.plot.bar(stacked=True,rot=0)\n",
    "plt.xticks(rotation=90)"
   ]
  },
  {
   "cell_type": "code",
   "execution_count": 37,
   "metadata": {},
   "outputs": [
    {
     "data": {
      "text/html": [
       "<div>\n",
       "<style scoped>\n",
       "    .dataframe tbody tr th:only-of-type {\n",
       "        vertical-align: middle;\n",
       "    }\n",
       "\n",
       "    .dataframe tbody tr th {\n",
       "        vertical-align: top;\n",
       "    }\n",
       "\n",
       "    .dataframe thead th {\n",
       "        text-align: right;\n",
       "    }\n",
       "</style>\n",
       "<table border=\"1\" class=\"dataframe\">\n",
       "  <thead>\n",
       "    <tr style=\"text-align: right;\">\n",
       "      <th></th>\n",
       "      <th>num1</th>\n",
       "      <th>id_tw</th>\n",
       "      <th>stream_group</th>\n",
       "      <th>text_orig</th>\n",
       "      <th>f5_edpatient</th>\n",
       "      <th>f6_proed</th>\n",
       "      <th>f8_info</th>\n",
       "      <th>f9_scientific</th>\n",
       "      <th>hashtag</th>\n",
       "      <th>text</th>\n",
       "      <th>segmented</th>\n",
       "    </tr>\n",
       "  </thead>\n",
       "  <tbody>\n",
       "    <tr>\n",
       "      <th>0</th>\n",
       "      <td>0</td>\n",
       "      <td>1,31851E+34</td>\n",
       "      <td>1</td>\n",
       "      <td>RT @beatED: Learn more about anorexia and bulimia, as well as other eating disorders, here: https://t.co/Aj2HbjRH39 @BBCPanorama #BBCPanorama</td>\n",
       "      <td>0</td>\n",
       "      <td>0</td>\n",
       "      <td>1</td>\n",
       "      <td>0</td>\n",
       "      <td>['BBCPanorama']</td>\n",
       "      <td>['learn', 'anorexia', 'bulimia', 'well', 'eating', 'disorder']</td>\n",
       "      <td>bbc panorama</td>\n",
       "    </tr>\n",
       "    <tr>\n",
       "      <th>1</th>\n",
       "      <td>1</td>\n",
       "      <td>1,31851E+34</td>\n",
       "      <td>1</td>\n",
       "      <td>A woman tries to balance her relationships with her mother and teenage daughter while under the shadow of #anorexia in the atmospheric British drama #BodyofWater. \\n\\nAt Depot from Friday, book now: https://lewesdepot.org/film/body-of-water\\n</td>\n",
       "      <td>0</td>\n",
       "      <td>0</td>\n",
       "      <td>0</td>\n",
       "      <td>0</td>\n",
       "      <td>['anorexia', 'BodyofWater']</td>\n",
       "      <td>['woman', 'try', 'balance', 'relationship', 'mother', 'teenage', 'daughter', 'shadow', 'atmospheric', 'british', 'drama', 'depot', 'friday', 'book']</td>\n",
       "      <td>anorexia  bodyof water</td>\n",
       "    </tr>\n",
       "  </tbody>\n",
       "</table>\n",
       "</div>"
      ],
      "text/plain": [
       "   num1        id_tw  stream_group  \\\n",
       "0     0  1,31851E+34             1   \n",
       "1     1  1,31851E+34             1   \n",
       "\n",
       "                                                                                                                                                                                                                                            text_orig  \\\n",
       "0                                                                                                       RT @beatED: Learn more about anorexia and bulimia, as well as other eating disorders, here: https://t.co/Aj2HbjRH39 @BBCPanorama #BBCPanorama   \n",
       "1  A woman tries to balance her relationships with her mother and teenage daughter while under the shadow of #anorexia in the atmospheric British drama #BodyofWater. \\n\\nAt Depot from Friday, book now: https://lewesdepot.org/film/body-of-water\\n   \n",
       "\n",
       "   f5_edpatient  f6_proed  f8_info  f9_scientific  \\\n",
       "0             0         0        1              0   \n",
       "1             0         0        0              0   \n",
       "\n",
       "                       hashtag  \\\n",
       "0              ['BBCPanorama']   \n",
       "1  ['anorexia', 'BodyofWater']   \n",
       "\n",
       "                                                                                                                                                   text  \\\n",
       "0                                                                                        ['learn', 'anorexia', 'bulimia', 'well', 'eating', 'disorder']   \n",
       "1  ['woman', 'try', 'balance', 'relationship', 'mother', 'teenage', 'daughter', 'shadow', 'atmospheric', 'british', 'drama', 'depot', 'friday', 'book']   \n",
       "\n",
       "                segmented  \n",
       "0            bbc panorama  \n",
       "1  anorexia  bodyof water  "
      ]
     },
     "execution_count": 37,
     "metadata": {},
     "output_type": "execute_result"
    }
   ],
   "source": [
    "tweets1.head(2)"
   ]
  },
  {
   "cell_type": "code",
   "execution_count": null,
   "metadata": {},
   "outputs": [],
   "source": [
    "import pandas as pd\n",
    "import numpy as np\n",
    "\n",
    "import spacy\n",
    "import nltk\n",
    "import nltk.data\n",
    "from nltk.tokenize import word_tokenize\n",
    "from nltk.stem import SnowballStemmer\n",
    "import regex as re\n",
    "import string\n",
    "from collections import defaultdict\n",
    "\n",
    "import matplotlib.pyplot as plt\n",
    "import seaborn as sns\n",
    "pd.set_option('display.max_colwidth', None)\n",
    "\n",
    "import sklearn\n",
    "from sklearn.model_selection import train_test_split\n",
    "from sklearn.metrics import f1_score, accuracy_score\n",
    "\n",
    "from simpletransformers.classification import ClassificationModel\n",
    "\n",
    "\n",
    "import io"
   ]
  },
  {
   "cell_type": "code",
   "execution_count": null,
   "metadata": {},
   "outputs": [],
   "source": [
    "punctuations = \"¡!#$%&'()*+,-./:;<=>¿?@[\\]^_`{|}~\"\n",
    "\n",
    "def read_txt(filename):\n",
    "    list = []\n",
    "    with open(filename, 'r', encoding='utf-8') as f:\n",
    "        data = f.readlines()\n",
    "        for line in data:\n",
    "            list.append(str(line).replace('\\n', ''))\n",
    "    return list\n",
    "\n",
    "stopwords = read_txt('spanish_stopwords.txt')\n",
    "\n",
    "stemmer = SnowballStemmer('spanish')\n",
    "\n",
    "\n",
    "def clean_accents(tweet):\n",
    "    tweet = re.sub(r\"[àáâãäå]\", \"a\", tweet)\n",
    "    tweet = re.sub(r\"ç\", \"c\", tweet)\n",
    "    tweet = re.sub(r\"[èéêë]\", \"e\", tweet)\n",
    "    tweet = re.sub(r\"[ìíîï]\", \"i\", tweet)\n",
    "    tweet = re.sub(r\"[òóôõö]\", \"o\", tweet)\n",
    "    tweet = re.sub(r\"[ùúûü]\", \"u\", tweet)\n",
    "    tweet = re.sub(r\"[ýÿ]\", \"y\", tweet)\n",
    "\n",
    "    return tweet\n",
    "\n",
    "def clean_tweet(tweet, stem = False):\n",
    "    tweet = tweet.lower().strip()\n",
    "    tweet = re.sub(r'https?:\\/\\/\\S+', '', tweet)\n",
    "    tweet = re.sub(r'http?:\\/\\/\\S+', '', tweet)\n",
    "    tweet = re.sub(r'www?:\\/\\/\\S+', '', tweet)\n",
    "    tweet = re.sub(r'\\s([@#][\\w_-]+)', \"\", tweet)\n",
    "    tweet = re.sub(r\"\\n\", \" \", tweet)\n",
    "    tweet = clean_accents(tweet)\n",
    "    tweet = re.sub(r\"\\b(a*ha+h[ha]*|o?l+o+l+[ol]*|x+d+[x*d*]*|a*ja+[j+a+]+)\\b\", \"<risas>\", tweet)\n",
    "    for symbol in punctuations:\n",
    "        tweet = tweet.replace(symbol, \"\")\n",
    "    tokens = []\n",
    "    for token in tweet.strip().split():\n",
    "        if token not in punctuations and token not in stopwords:\n",
    "            if stem:\n",
    "                tokens.append(stemmer.stem(token))\n",
    "            else:\n",
    "                tokens.append(token)\n",
    "    return \" \".join(tokens)"
   ]
  },
  {
   "cell_type": "code",
   "execution_count": null,
   "metadata": {},
   "outputs": [],
   "source": [
    "tweets1['text_cleaned'] = tweets['text_orig'].apply(lambda s : clean_tweet(s))\n",
    "print(tweets1['text_cleaned'].head(5))"
   ]
  },
  {
   "cell_type": "code",
   "execution_count": null,
   "metadata": {},
   "outputs": [],
   "source": [
    "tweets1.head(2)"
   ]
  },
  {
   "cell_type": "code",
   "execution_count": null,
   "metadata": {},
   "outputs": [],
   "source": [
    "df = tweets1.copy()\n",
    "X = df['text_cleaned']\n",
    "Y1 = df['f5_edpatient']\n",
    "Y2 = df['f6_proed']\n",
    "Y3 = df['f8_info']\n",
    "Y4 = df['f9_scientific']"
   ]
  },
  {
   "cell_type": "code",
   "execution_count": null,
   "metadata": {},
   "outputs": [],
   "source": [
    "X1_train, X1_test, y1_train, y1_test = train_test_split(X, Y1, test_size=0.3, random_state=42)\n",
    "X2_train, X2_test, y2_train, y2_test = train_test_split(X, Y2, test_size=0.3, random_state=42)\n",
    "X3_train, X3_test, y3_train, y3_test = train_test_split(X, Y3, test_size=0.3, random_state=42)\n",
    "X4_train, X4_test, y4_train, y4_test = train_test_split(X, Y4, test_size=0.3, random_state=42)"
   ]
  },
  {
   "cell_type": "code",
   "execution_count": null,
   "metadata": {},
   "outputs": [],
   "source": [
    "y1_test.value_counts(normalize=True)"
   ]
  },
  {
   "cell_type": "code",
   "execution_count": null,
   "metadata": {},
   "outputs": [],
   "source": []
  },
  {
   "cell_type": "code",
   "execution_count": null,
   "metadata": {},
   "outputs": [],
   "source": []
  },
  {
   "cell_type": "code",
   "execution_count": 80,
   "metadata": {},
   "outputs": [
    {
     "name": "stdout",
     "output_type": "stream",
     "text": [
      "|===========================================================================|\n",
      "|                  PyTorch CUDA memory summary, device ID 0                 |\n",
      "|---------------------------------------------------------------------------|\n",
      "|            CUDA OOMs: 4            |        cudaMalloc retries: 6         |\n",
      "|===========================================================================|\n",
      "|        Metric         | Cur Usage  | Peak Usage | Tot Alloc  | Tot Freed  |\n",
      "|---------------------------------------------------------------------------|\n",
      "| Allocated memory      |    1391 MB |    6527 MB |   12960 GB |   12959 GB |\n",
      "|       from large pool |    1390 MB |    6518 MB |   12898 GB |   12897 GB |\n",
      "|       from small pool |       0 MB |      22 MB |      62 GB |      62 GB |\n",
      "|---------------------------------------------------------------------------|\n",
      "| Active memory         |    1391 MB |    6527 MB |   12960 GB |   12959 GB |\n",
      "|       from large pool |    1390 MB |    6518 MB |   12898 GB |   12897 GB |\n",
      "|       from small pool |       0 MB |      22 MB |      62 GB |      62 GB |\n",
      "|---------------------------------------------------------------------------|\n",
      "| GPU reserved memory   |    6684 MB |    6684 MB |    7732 MB |    1048 MB |\n",
      "|       from large pool |    6672 MB |    6672 MB |    7672 MB |    1000 MB |\n",
      "|       from small pool |      12 MB |      30 MB |      60 MB |      48 MB |\n",
      "|---------------------------------------------------------------------------|\n",
      "| Non-releasable memory |  526407 KB |     861 MB |   12146 GB |   12146 GB |\n",
      "|       from large pool |  521246 KB |     858 MB |   12040 GB |   12040 GB |\n",
      "|       from small pool |    5161 KB |       7 MB |     106 GB |     106 GB |\n",
      "|---------------------------------------------------------------------------|\n",
      "| Allocations           |     403    |    1870    |    4915 K  |    4915 K  |\n",
      "|       from large pool |     150    |     772    |    2401 K  |    2401 K  |\n",
      "|       from small pool |     253    |    1220    |    2513 K  |    2513 K  |\n",
      "|---------------------------------------------------------------------------|\n",
      "| Active allocs         |     403    |    1870    |    4915 K  |    4915 K  |\n",
      "|       from large pool |     150    |     772    |    2401 K  |    2401 K  |\n",
      "|       from small pool |     253    |    1220    |    2513 K  |    2513 K  |\n",
      "|---------------------------------------------------------------------------|\n",
      "| GPU reserved segments |     174    |     215    |     252    |      78    |\n",
      "|       from large pool |     168    |     200    |     222    |      54    |\n",
      "|       from small pool |       6    |      15    |      30    |      24    |\n",
      "|---------------------------------------------------------------------------|\n",
      "| Non-releasable allocs |      97    |     200    |    2334 K  |    2333 K  |\n",
      "|       from large pool |      63    |     105    |    1194 K  |    1194 K  |\n",
      "|       from small pool |      34    |     104    |    1139 K  |    1139 K  |\n",
      "|===========================================================================|\n",
      "\n"
     ]
    }
   ],
   "source": [
    "import gc\n",
    "del model1,model2,model3\n",
    "gc.collect()\n",
    "print(torch.cuda.memory_summary(device=0, abbreviated=False))\n"
   ]
  },
  {
   "cell_type": "code",
   "execution_count": null,
   "metadata": {},
   "outputs": [],
   "source": []
  },
  {
   "cell_type": "code",
   "execution_count": null,
   "metadata": {},
   "outputs": [],
   "source": []
  }
 ],
 "metadata": {
  "kernelspec": {
   "display_name": "Python 3",
   "language": "python",
   "name": "python3"
  },
  "language_info": {
   "codemirror_mode": {
    "name": "ipython",
    "version": 3
   },
   "file_extension": ".py",
   "mimetype": "text/x-python",
   "name": "python",
   "nbconvert_exporter": "python",
   "pygments_lexer": "ipython3",
   "version": "3.7.9"
  }
 },
 "nbformat": 4,
 "nbformat_minor": 4
}
