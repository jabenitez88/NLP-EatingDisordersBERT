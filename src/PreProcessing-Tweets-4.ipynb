{
 "cells": [
  {
   "cell_type": "markdown",
   "metadata": {},
   "source": [
    "# Tweets about eating disorders\n",
    "## Modelling with CV\n",
    " "
   ]
  },
  {
   "cell_type": "code",
   "execution_count": 4,
   "metadata": {},
   "outputs": [],
   "source": [
    "import os\n",
    "import pandas as pd\n",
    "import numpy as np\n",
    "import json\n",
    "from collections import Counter\n",
    "from wordcloud import WordCloud\n",
    "import matplotlib.pyplot as plt\n",
    "import re, string, unicodedata\n",
    "import nltk\n",
    "from nltk import word_tokenize, sent_tokenize, FreqDist\n",
    "from nltk.corpus import stopwords\n",
    "from nltk.stem import LancasterStemmer, WordNetLemmatizer\n",
    "nltk.download\n",
    "tweets = pd.read_csv('tweets2.csv', encoding='utf8', error_bad_lines=False)"
   ]
  },
  {
   "cell_type": "code",
   "execution_count": 5,
   "metadata": {},
   "outputs": [
    {
     "data": {
      "text/html": [
       "<div>\n",
       "<style scoped>\n",
       "    .dataframe tbody tr th:only-of-type {\n",
       "        vertical-align: middle;\n",
       "    }\n",
       "\n",
       "    .dataframe tbody tr th {\n",
       "        vertical-align: top;\n",
       "    }\n",
       "\n",
       "    .dataframe thead th {\n",
       "        text-align: right;\n",
       "    }\n",
       "</style>\n",
       "<table border=\"1\" class=\"dataframe\">\n",
       "  <thead>\n",
       "    <tr style=\"text-align: right;\">\n",
       "      <th></th>\n",
       "      <th>Unnamed: 0</th>\n",
       "      <th>id_tweet</th>\n",
       "      <th>stream_group</th>\n",
       "      <th>text_orig</th>\n",
       "      <th>Commercial</th>\n",
       "      <th>POLITICS</th>\n",
       "      <th>ED</th>\n",
       "      <th>Family</th>\n",
       "      <th>ED_patience</th>\n",
       "      <th>ProED</th>\n",
       "      <th>Offensive</th>\n",
       "      <th>Informative</th>\n",
       "      <th>Scientific</th>\n",
       "      <th>Sad</th>\n",
       "      <th>hashtag</th>\n",
       "      <th>text</th>\n",
       "      <th>Segmented#</th>\n",
       "    </tr>\n",
       "  </thead>\n",
       "  <tbody>\n",
       "    <tr>\n",
       "      <th>0</th>\n",
       "      <td>0</td>\n",
       "      <td>1,31851E+34</td>\n",
       "      <td>1</td>\n",
       "      <td>RT @beatED: Learn more about anorexia and buli...</td>\n",
       "      <td>0</td>\n",
       "      <td>0</td>\n",
       "      <td>1</td>\n",
       "      <td>0.0</td>\n",
       "      <td>0</td>\n",
       "      <td>0</td>\n",
       "      <td>0</td>\n",
       "      <td>1</td>\n",
       "      <td>0</td>\n",
       "      <td>0.0</td>\n",
       "      <td>['BBCPanorama']</td>\n",
       "      <td>['learn', 'anorexia', 'bulimia', 'well', 'eati...</td>\n",
       "      <td>bbc panorama</td>\n",
       "    </tr>\n",
       "    <tr>\n",
       "      <th>1</th>\n",
       "      <td>1</td>\n",
       "      <td>1,31851E+34</td>\n",
       "      <td>1</td>\n",
       "      <td>A woman tries to balance her relationships wit...</td>\n",
       "      <td>0</td>\n",
       "      <td>0</td>\n",
       "      <td>1</td>\n",
       "      <td>0.0</td>\n",
       "      <td>0</td>\n",
       "      <td>0</td>\n",
       "      <td>0</td>\n",
       "      <td>0</td>\n",
       "      <td>0</td>\n",
       "      <td>0.0</td>\n",
       "      <td>['anorexia', 'BodyofWater']</td>\n",
       "      <td>['woman', 'try', 'balance', 'relationship', 'm...</td>\n",
       "      <td>anorexia  bodyof water</td>\n",
       "    </tr>\n",
       "  </tbody>\n",
       "</table>\n",
       "</div>"
      ],
      "text/plain": [
       "   Unnamed: 0     id_tweet  stream_group  \\\n",
       "0           0  1,31851E+34             1   \n",
       "1           1  1,31851E+34             1   \n",
       "\n",
       "                                           text_orig  Commercial  POLITICS  \\\n",
       "0  RT @beatED: Learn more about anorexia and buli...           0         0   \n",
       "1  A woman tries to balance her relationships wit...           0         0   \n",
       "\n",
       "   ED  Family  ED_patience  ProED  Offensive  Informative  Scientific  Sad  \\\n",
       "0   1     0.0            0      0          0            1           0  0.0   \n",
       "1   1     0.0            0      0          0            0           0  0.0   \n",
       "\n",
       "                       hashtag  \\\n",
       "0              ['BBCPanorama']   \n",
       "1  ['anorexia', 'BodyofWater']   \n",
       "\n",
       "                                                text              Segmented#  \n",
       "0  ['learn', 'anorexia', 'bulimia', 'well', 'eati...            bbc panorama  \n",
       "1  ['woman', 'try', 'balance', 'relationship', 'm...  anorexia  bodyof water  "
      ]
     },
     "execution_count": 5,
     "metadata": {},
     "output_type": "execute_result"
    }
   ],
   "source": [
    "tweets.head(2)"
   ]
  },
  {
   "cell_type": "code",
   "execution_count": 6,
   "metadata": {},
   "outputs": [],
   "source": [
    "tweets.columns=['num1','id_tw','stream_group','text_orig','f1_commercial','f2_politics','f3_ed','f4_family','f5_edpatient','f6_proed','f7_offensive','f8_info','f9_scientific','f10_sad','hashtag','text','segmented']"
   ]
  },
  {
   "cell_type": "code",
   "execution_count": 7,
   "metadata": {},
   "outputs": [],
   "source": [
    "cols=['f1_commercial','f2_politics','f3_ed','f4_family','f5_edpatient','f6_proed','f7_offensive','f8_info','f9_scientific','f10_sad']"
   ]
  },
  {
   "cell_type": "code",
   "execution_count": 8,
   "metadata": {},
   "outputs": [
    {
     "data": {
      "text/plain": [
       "\"for col in cols:\\n    print(tweets[col].value_counts(normalize=True)*100,'\\n')\""
      ]
     },
     "execution_count": 8,
     "metadata": {},
     "output_type": "execute_result"
    }
   ],
   "source": [
    "'''for col in cols:\n",
    "    print(tweets[col].value_counts(normalize=True)*100,'\\n')'''"
   ]
  },
  {
   "cell_type": "code",
   "execution_count": 9,
   "metadata": {},
   "outputs": [],
   "source": [
    "megaDF = pd.DataFrame()\n",
    "megaDF.rename_axis('values')\n",
    "cols2 = cols[:-1]\n",
    "for col in cols2:\n",
    "    df = tweets[col].value_counts(normalize=True).rename_axis('valores').to_frame(col)\n",
    "    #df.plot.bar()\n",
    "    #megaDF.concat([megaDF,df])\n",
    "    megaDF = pd.concat([megaDF,df], axis=1)\n",
    "    #plt.show()"
   ]
  },
  {
   "cell_type": "code",
   "execution_count": 10,
   "metadata": {},
   "outputs": [
    {
     "data": {
      "text/plain": [
       "(array([0, 1, 2, 3, 4, 5, 6, 7, 8]),\n",
       " [Text(0, 0, 'f1_commercial'),\n",
       "  Text(1, 0, 'f2_politics'),\n",
       "  Text(2, 0, 'f3_ed'),\n",
       "  Text(3, 0, 'f4_family'),\n",
       "  Text(4, 0, 'f5_edpatient'),\n",
       "  Text(5, 0, 'f6_proed'),\n",
       "  Text(6, 0, 'f7_offensive'),\n",
       "  Text(7, 0, 'f8_info'),\n",
       "  Text(8, 0, 'f9_scientific')])"
      ]
     },
     "execution_count": 10,
     "metadata": {},
     "output_type": "execute_result"
    },
    {
     "data": {
      "image/png": "[encoded data removed]",
      "text/plain": [
       "<Figure size 432x288 with 1 Axes>"
      ]
     },
     "metadata": {
      "needs_background": "light"
     },
     "output_type": "display_data"
    }
   ],
   "source": [
    "megaDF.T.plot.bar(stacked=True,rot=0)\n",
    "plt.xticks(rotation=90)"
   ]
  },
  {
   "cell_type": "code",
   "execution_count": 11,
   "metadata": {},
   "outputs": [
    {
     "data": {
      "text/plain": [
       "(array([0, 1, 2, 3]),\n",
       " [Text(0, 0, 'f5_edpatient'),\n",
       "  Text(1, 0, 'f6_proed'),\n",
       "  Text(2, 0, 'f8_info'),\n",
       "  Text(3, 0, 'f9_scientific')])"
      ]
     },
     "execution_count": 11,
     "metadata": {},
     "output_type": "execute_result"
    },
    {
     "data": {
      "image/png": "[encoded data removed]",
      "text/plain": [
       "<Figure size 432x288 with 1 Axes>"
      ]
     },
     "metadata": {
      "needs_background": "light"
     },
     "output_type": "display_data"
    }
   ],
   "source": [
    "tweets1 = tweets.copy().drop(['f1_commercial', 'f2_politics', 'f3_ed', 'f4_family', 'f7_offensive', 'f10_sad'], axis=1)\n",
    "megaDF=megaDF.drop(['f1_commercial', 'f2_politics', 'f3_ed', 'f4_family', 'f7_offensive'],axis=1)\n",
    "megaDF.T.plot.bar(stacked=True,rot=0)\n",
    "plt.xticks(rotation=90)"
   ]
  },
  {
   "cell_type": "code",
   "execution_count": 12,
   "metadata": {},
   "outputs": [],
   "source": [
    "import pandas as pd\n",
    "import numpy as np\n",
    "\n",
    "import spacy\n",
    "import nltk\n",
    "import nltk.data\n",
    "from nltk.tokenize import word_tokenize\n",
    "from nltk.stem import SnowballStemmer\n",
    "import regex as re\n",
    "import string\n",
    "from collections import defaultdict\n",
    "\n",
    "import matplotlib.pyplot as plt\n",
    "import seaborn as sns\n",
    "pd.set_option('display.max_colwidth', None)\n",
    "\n",
    "import sklearn\n",
    "from sklearn.model_selection import train_test_split\n",
    "from sklearn.metrics import f1_score, accuracy_score\n",
    "\n",
    "from simpletransformers.classification import ClassificationModel\n",
    "\n",
    "\n",
    "import io"
   ]
  },
  {
   "cell_type": "code",
   "execution_count": 13,
   "metadata": {},
   "outputs": [],
   "source": [
    "punctuations = \"¡!#$%&'()*+,-./:;<=>¿?@[\\]^_`{|}~\"\n",
    "\n",
    "def read_txt(filename):\n",
    "    list = []\n",
    "    with open(filename, 'r', encoding='utf-8') as f:\n",
    "        data = f.readlines()\n",
    "        for line in data:\n",
    "            list.append(str(line).replace('\\n', ''))\n",
    "    return list\n",
    "\n",
    "stopwords = read_txt('spanish_stopwords.txt')\n",
    "\n",
    "stemmer = SnowballStemmer('spanish')\n",
    "\n",
    "\n",
    "def clean_accents(tweet):\n",
    "    tweet = re.sub(r\"[àáâãäå]\", \"a\", tweet)\n",
    "    tweet = re.sub(r\"ç\", \"c\", tweet)\n",
    "    tweet = re.sub(r\"[èéêë]\", \"e\", tweet)\n",
    "    tweet = re.sub(r\"[ìíîï]\", \"i\", tweet)\n",
    "    tweet = re.sub(r\"[òóôõö]\", \"o\", tweet)\n",
    "    tweet = re.sub(r\"[ùúûü]\", \"u\", tweet)\n",
    "    tweet = re.sub(r\"[ýÿ]\", \"y\", tweet)\n",
    "\n",
    "    return tweet\n",
    "\n",
    "def clean_tweet(tweet, stem = False):\n",
    "    tweet = tweet.lower().strip()\n",
    "    tweet = re.sub(r'https?:\\/\\/\\S+', '', tweet)\n",
    "    tweet = re.sub(r'http?:\\/\\/\\S+', '', tweet)\n",
    "    tweet = re.sub(r'www?:\\/\\/\\S+', '', tweet)\n",
    "    tweet = re.sub(r'\\s([@#][\\w_-]+)', \"\", tweet)\n",
    "    tweet = re.sub(r\"\\n\", \" \", tweet)\n",
    "    tweet = clean_accents(tweet)\n",
    "    tweet = re.sub(r\"\\b(a*ha+h[ha]*|o?l+o+l+[ol]*|x+d+[x*d*]*|a*ja+[j+a+]+)\\b\", \"<risas>\", tweet)\n",
    "    for symbol in punctuations:\n",
    "        tweet = tweet.replace(symbol, \"\")\n",
    "    tokens = []\n",
    "    for token in tweet.strip().split():\n",
    "        if token not in punctuations and token not in stopwords:\n",
    "            if stem:\n",
    "                tokens.append(stemmer.stem(token))\n",
    "            else:\n",
    "                tokens.append(token)\n",
    "    return \" \".join(tokens)"
   ]
  },
  {
   "cell_type": "code",
   "execution_count": 14,
   "metadata": {},
   "outputs": [],
   "source": [
    "tweets1['text_cleaned'] = tweets['text_orig'].apply(lambda s : clean_tweet(s))\n",
    "#print(tweets1['text_cleaned'].head(5))"
   ]
  },
  {
   "cell_type": "code",
   "execution_count": 15,
   "metadata": {},
   "outputs": [],
   "source": [
    "#tweets1.head(2)"
   ]
  },
  {
   "cell_type": "code",
   "execution_count": 43,
   "metadata": {},
   "outputs": [],
   "source": [
    "df = tweets1.copy()\n",
    "X = df['text_cleaned']\n",
    "Y1 = df['f5_edpatient']\n",
    "Y2 = df['f6_proed']\n",
    "Y3 = df['f8_info']\n",
    "Y4 = df['f9_scientific']"
   ]
  },
  {
   "cell_type": "code",
   "execution_count": 17,
   "metadata": {},
   "outputs": [],
   "source": [
    "X1_train, X1_test, y1_train, y1_test = train_test_split(X, Y1, test_size=0.3, random_state=42)\n",
    "X2_train, X2_test, y2_train, y2_test = train_test_split(X, Y2, test_size=0.3, random_state=42)\n",
    "X3_train, X3_test, y3_train, y3_test = train_test_split(X, Y3, test_size=0.3, random_state=42)\n",
    "X4_train, X4_test, y4_train, y4_test = train_test_split(X, Y4, test_size=0.3, random_state=42)"
   ]
  },
  {
   "cell_type": "code",
   "execution_count": 18,
   "metadata": {},
   "outputs": [
    {
     "data": {
      "text/plain": [
       "0    0.533333\n",
       "1    0.466667\n",
       "Name: f5_edpatient, dtype: float64"
      ]
     },
     "execution_count": 18,
     "metadata": {},
     "output_type": "execute_result"
    }
   ],
   "source": [
    "y1_test.value_counts(normalize=True)"
   ]
  },
  {
   "cell_type": "code",
   "execution_count": 19,
   "metadata": {},
   "outputs": [
    {
     "name": "stderr",
     "output_type": "stream",
     "text": [
      "[nltk_data] Downloading package stopwords to\n",
      "[nltk_data]     C:\\Users\\MICROSOFT\\AppData\\Roaming\\nltk_data...\n",
      "[nltk_data]   Package stopwords is already up-to-date!\n"
     ]
    }
   ],
   "source": [
    "import numpy as np\n",
    "import re\n",
    "import nltk\n",
    "from sklearn.datasets import load_files\n",
    "nltk.download('stopwords')\n",
    "import pickle\n",
    "from nltk.corpus import stopwords"
   ]
  },
  {
   "cell_type": "code",
   "execution_count": 20,
   "metadata": {},
   "outputs": [],
   "source": [
    "documents = []\n",
    "\n",
    "from nltk.stem import WordNetLemmatizer\n",
    "\n",
    "stemmer = WordNetLemmatizer()\n",
    "\n",
    "for sen in range(0, len(X)):\n",
    "    # Remove all the special characters\n",
    "    document = re.sub(r'\\W', ' ', str(X[sen]))\n",
    "    \n",
    "    # remove all single characters\n",
    "    document = re.sub(r'\\s+[a-zA-Z]\\s+', ' ', document)\n",
    "    \n",
    "    # Remove single characters from the start\n",
    "    document = re.sub(r'\\^[a-zA-Z]\\s+', ' ', document) \n",
    "    \n",
    "    # Substituting multiple spaces with single space\n",
    "    document = re.sub(r'\\s+', ' ', document, flags=re.I)\n",
    "    \n",
    "    # Removing prefixed 'b'\n",
    "    document = re.sub(r'^b\\s+', '', document)\n",
    "    \n",
    "    # Converting to Lowercase\n",
    "    document = document.lower()\n",
    "    \n",
    "    # Lemmatization\n",
    "    document = document.split()\n",
    "\n",
    "    document = [stemmer.lemmatize(word) for word in document]\n",
    "    document = ' '.join(document)\n",
    "    \n",
    "    documents.append(document)\n",
    "    \n"
   ]
  },
  {
   "cell_type": "code",
   "execution_count": 21,
   "metadata": {},
   "outputs": [],
   "source": [
    "from sklearn.feature_extraction.text import CountVectorizer\n",
    "vectorizer = CountVectorizer(max_features=1500, min_df=5, max_df=0.7, stop_words=stopwords.words('english'))\n",
    "X = vectorizer.fit_transform(documents).toarray()"
   ]
  },
  {
   "cell_type": "code",
   "execution_count": 22,
   "metadata": {},
   "outputs": [],
   "source": [
    "from sklearn.feature_extraction.text import TfidfTransformer\n",
    "tfidfconverter = TfidfTransformer()\n",
    "X = tfidfconverter.fit_transform(X).toarray()"
   ]
  },
  {
   "cell_type": "code",
   "execution_count": 23,
   "metadata": {},
   "outputs": [],
   "source": [
    "X1_train, X1_test, y1_train, y1_test = train_test_split(X, Y1, test_size=0.3, random_state=42)\n",
    "X2_train, X2_test, y2_train, y2_test = train_test_split(X, Y2, test_size=0.3, random_state=42)\n",
    "X3_train, X3_test, y3_train, y3_test = train_test_split(X, Y3, test_size=0.3, random_state=42)\n",
    "X4_train, X4_test, y4_train, y4_test = train_test_split(X, Y4, test_size=0.3, random_state=42)"
   ]
  },
  {
   "cell_type": "code",
   "execution_count": 24,
   "metadata": {},
   "outputs": [
    {
     "name": "stdout",
     "output_type": "stream",
     "text": [
      "[[255  65]\n",
      " [ 38 242]]\n",
      "              precision    recall  f1-score   support\n",
      "\n",
      "           0       0.87      0.80      0.83       320\n",
      "           1       0.79      0.86      0.82       280\n",
      "\n",
      "    accuracy                           0.83       600\n",
      "   macro avg       0.83      0.83      0.83       600\n",
      "weighted avg       0.83      0.83      0.83       600\n",
      "\n",
      "0.8283333333333334\n"
     ]
    }
   ],
   "source": [
    "from sklearn.ensemble import RandomForestClassifier\n",
    "\n",
    "classifier = RandomForestClassifier(n_estimators=1000, random_state=0)\n",
    "classifier.fit(X1_train, y1_train) \n",
    "\n",
    "y1_pred = classifier.predict(X1_test)\n",
    "\n",
    "from sklearn.metrics import classification_report, confusion_matrix, accuracy_score\n",
    "\n",
    "print(confusion_matrix(y1_test,y1_pred))\n",
    "print(classification_report(y1_test,y1_pred))\n",
    "print(accuracy_score(y1_test, y1_pred))\n"
   ]
  },
  {
   "cell_type": "code",
   "execution_count": 25,
   "metadata": {},
   "outputs": [
    {
     "name": "stdout",
     "output_type": "stream",
     "text": [
      "[[431  36]\n",
      " [ 34  99]]\n",
      "              precision    recall  f1-score   support\n",
      "\n",
      "           0       0.93      0.92      0.92       467\n",
      "           1       0.73      0.74      0.74       133\n",
      "\n",
      "    accuracy                           0.88       600\n",
      "   macro avg       0.83      0.83      0.83       600\n",
      "weighted avg       0.88      0.88      0.88       600\n",
      "\n",
      "0.8833333333333333\n"
     ]
    }
   ],
   "source": [
    "X1_train, X1_test, y1_train, y1_test = train_test_split(X, Y2, test_size=0.3, random_state=42)\n",
    "\n",
    "classifier = RandomForestClassifier(n_estimators=1000, random_state=0)\n",
    "classifier.fit(X1_train, y1_train) \n",
    "\n",
    "y1_pred = classifier.predict(X1_test)\n",
    "\n",
    "print(confusion_matrix(y1_test,y1_pred))\n",
    "print(classification_report(y1_test,y1_pred))\n",
    "print(accuracy_score(y1_test, y1_pred))\n"
   ]
  },
  {
   "cell_type": "code",
   "execution_count": 26,
   "metadata": {},
   "outputs": [
    {
     "name": "stdout",
     "output_type": "stream",
     "text": [
      "[[324  35]\n",
      " [ 66 175]]\n",
      "              precision    recall  f1-score   support\n",
      "\n",
      "           0       0.83      0.90      0.87       359\n",
      "           1       0.83      0.73      0.78       241\n",
      "\n",
      "    accuracy                           0.83       600\n",
      "   macro avg       0.83      0.81      0.82       600\n",
      "weighted avg       0.83      0.83      0.83       600\n",
      "\n",
      "0.8316666666666667\n"
     ]
    }
   ],
   "source": [
    "X1_train, X1_test, y1_train, y1_test = train_test_split(X, Y3, test_size=0.3, random_state=42)\n",
    "\n",
    "classifier = RandomForestClassifier(n_estimators=1000, random_state=0)\n",
    "classifier.fit(X1_train, y1_train) \n",
    "\n",
    "y1_pred = classifier.predict(X1_test)\n",
    "\n",
    "print(confusion_matrix(y1_test,y1_pred))\n",
    "print(classification_report(y1_test,y1_pred))\n",
    "print(accuracy_score(y1_test, y1_pred))\n"
   ]
  },
  {
   "cell_type": "code",
   "execution_count": 27,
   "metadata": {},
   "outputs": [
    {
     "name": "stdout",
     "output_type": "stream",
     "text": [
      "[[443  12]\n",
      " [ 25 120]]\n",
      "              precision    recall  f1-score   support\n",
      "\n",
      "           0       0.95      0.97      0.96       455\n",
      "           1       0.91      0.83      0.87       145\n",
      "\n",
      "    accuracy                           0.94       600\n",
      "   macro avg       0.93      0.90      0.91       600\n",
      "weighted avg       0.94      0.94      0.94       600\n",
      "\n",
      "0.9383333333333334\n"
     ]
    }
   ],
   "source": [
    "X1_train, X1_test, y1_train, y1_test = train_test_split(X, Y4, test_size=0.3, random_state=42)\n",
    "\n",
    "classifier = RandomForestClassifier(n_estimators=1000, random_state=0)\n",
    "classifier.fit(X1_train, y1_train) \n",
    "\n",
    "y1_pred = classifier.predict(X1_test)\n",
    "\n",
    "print(confusion_matrix(y1_test,y1_pred))\n",
    "print(classification_report(y1_test,y1_pred))\n",
    "print(accuracy_score(y1_test, y1_pred))\n"
   ]
  },
  {
   "cell_type": "code",
   "execution_count": null,
   "metadata": {},
   "outputs": [],
   "source": []
  },
  {
   "cell_type": "code",
   "execution_count": null,
   "metadata": {},
   "outputs": [],
   "source": []
  },
  {
   "cell_type": "code",
   "execution_count": null,
   "metadata": {},
   "outputs": [],
   "source": []
  },
  {
   "cell_type": "code",
   "execution_count": null,
   "metadata": {},
   "outputs": [],
   "source": []
  },
  {
   "cell_type": "code",
   "execution_count": 28,
   "metadata": {},
   "outputs": [],
   "source": [
    "import pandas as pd\n",
    "import numpy as np\n",
    "import matplotlib.pyplot as plt\n",
    "import seaborn as sns\n",
    "from sklearn.model_selection import train_test_split\n",
    "from sklearn.preprocessing import LabelEncoder\n",
    "from keras.models import Model\n",
    "from keras.layers import LSTM, Activation, Dense, Dropout, Input, Embedding\n",
    "from keras.optimizers import RMSprop\n",
    "from keras.preprocessing.text import Tokenizer\n",
    "from keras.preprocessing import sequence\n",
    "from keras.utils import to_categorical\n",
    "from keras.callbacks import EarlyStopping\n",
    "%matplotlib inline"
   ]
  },
  {
   "cell_type": "code",
   "execution_count": 112,
   "metadata": {},
   "outputs": [],
   "source": [
    "df = tweets1.copy()\n",
    "X = df['text_cleaned']\n",
    "Y1 = df['f5_edpatient']\n",
    "Y2 = df['f6_proed']\n",
    "Y3 = df['f8_info']\n",
    "Y4 = df['f9_scientific']"
   ]
  },
  {
   "cell_type": "code",
   "execution_count": 113,
   "metadata": {},
   "outputs": [],
   "source": [
    "X1_train, X1_test, y1_train, y1_test = train_test_split(X, Y1, test_size=0.3, random_state=42)\n",
    "X2_train, X2_test, y2_train, y2_test = train_test_split(X, Y2, test_size=0.3, random_state=42)\n",
    "X3_train, X3_test, y3_train, y3_test = train_test_split(X, Y3, test_size=0.3, random_state=42)\n",
    "X4_train, X4_test, y4_train, y4_test = train_test_split(X, Y4, test_size=0.3, random_state=42)"
   ]
  },
  {
   "cell_type": "code",
   "execution_count": 114,
   "metadata": {},
   "outputs": [],
   "source": [
    "max_words = 1000\n",
    "max_len = 150\n",
    "tok = Tokenizer(num_words=max_words)\n",
    "tok.fit_on_texts(X1_train)\n",
    "sequences = tok.texts_to_sequences(X1_train)\n",
    "sequences_matrix = sequence.pad_sequences(sequences,maxlen=max_len)"
   ]
  },
  {
   "cell_type": "code",
   "execution_count": 115,
   "metadata": {},
   "outputs": [],
   "source": [
    "def RNN():\n",
    "    inputs = Input(name='inputs',shape=[max_len])\n",
    "    layer = Embedding(max_words,50,input_length=max_len)(inputs)\n",
    "    layer = LSTM(100)(layer)\n",
    "    layer = Dense(256,name='FC1')(layer)\n",
    "    layer = Activation('relu')(layer)\n",
    "    layer = Dropout(0.1)(layer)\n",
    "    layer = Dense(1,name='out_layer')(layer)\n",
    "    layer = Activation('sigmoid')(layer)\n",
    "    model = Model(inputs=inputs,outputs=layer)\n",
    "    return model"
   ]
  },
  {
   "cell_type": "code",
   "execution_count": 116,
   "metadata": {},
   "outputs": [
    {
     "name": "stdout",
     "output_type": "stream",
     "text": [
      "Model: \"functional_29\"\n",
      "_________________________________________________________________\n",
      "Layer (type)                 Output Shape              Param #   \n",
      "=================================================================\n",
      "inputs (InputLayer)          [(None, 150)]             0         \n",
      "_________________________________________________________________\n",
      "embedding_24 (Embedding)     (None, 150, 50)           50000     \n",
      "_________________________________________________________________\n",
      "lstm_24 (LSTM)               (None, 100)               60400     \n",
      "_________________________________________________________________\n",
      "FC1 (Dense)                  (None, 256)               25856     \n",
      "_________________________________________________________________\n",
      "activation_28 (Activation)   (None, 256)               0         \n",
      "_________________________________________________________________\n",
      "dropout_14 (Dropout)         (None, 256)               0         \n",
      "_________________________________________________________________\n",
      "out_layer (Dense)            (None, 1)                 257       \n",
      "_________________________________________________________________\n",
      "activation_29 (Activation)   (None, 1)                 0         \n",
      "=================================================================\n",
      "Total params: 136,513\n",
      "Trainable params: 136,513\n",
      "Non-trainable params: 0\n",
      "_________________________________________________________________\n"
     ]
    }
   ],
   "source": [
    "model = RNN()\n",
    "model.summary()\n",
    "model.compile(loss='binary_crossentropy',optimizer=RMSprop(),metrics=['accuracy'])"
   ]
  },
  {
   "cell_type": "code",
   "execution_count": 117,
   "metadata": {},
   "outputs": [
    {
     "name": "stdout",
     "output_type": "stream",
     "text": [
      "Epoch 1/20\n",
      "18/18 [==============================] - 2s 103ms/step - loss: 0.6996 - accuracy: 0.6634 - val_loss: 0.5321 - val_accuracy: 0.7679\n",
      "Epoch 2/20\n",
      "18/18 [==============================] - 1s 83ms/step - loss: 0.3905 - accuracy: 0.8518 - val_loss: 0.4319 - val_accuracy: 0.8071\n",
      "Epoch 3/20\n",
      "18/18 [==============================] - 1s 83ms/step - loss: 0.2890 - accuracy: 0.8893 - val_loss: 0.4273 - val_accuracy: 0.8000\n",
      "Epoch 4/20\n",
      "18/18 [==============================] - 1s 83ms/step - loss: 0.2390 - accuracy: 0.9107 - val_loss: 0.4499 - val_accuracy: 0.8107\n"
     ]
    },
    {
     "data": {
      "text/plain": [
       "<tensorflow.python.keras.callbacks.History at 0x17a0f68d708>"
      ]
     },
     "execution_count": 117,
     "metadata": {},
     "output_type": "execute_result"
    }
   ],
   "source": [
    "model.fit(sequences_matrix,y1_train,batch_size=64,epochs=20,\n",
    "          validation_split=0.2,callbacks=[EarlyStopping(monitor='val_loss',min_delta=0.0001)])"
   ]
  },
  {
   "cell_type": "code",
   "execution_count": 118,
   "metadata": {},
   "outputs": [],
   "source": [
    "test_sequences = tok.texts_to_sequences(X1_test)\n",
    "test_sequences_matrix = sequence.pad_sequences(test_sequences,maxlen=max_len)"
   ]
  },
  {
   "cell_type": "code",
   "execution_count": 119,
   "metadata": {},
   "outputs": [
    {
     "name": "stdout",
     "output_type": "stream",
     "text": [
      "19/19 [==============================] - 0s 20ms/step - loss: 0.4671 - accuracy: 0.7867\n"
     ]
    }
   ],
   "source": [
    "accr = model.evaluate(test_sequences_matrix,y1_test)"
   ]
  },
  {
   "cell_type": "code",
   "execution_count": 120,
   "metadata": {},
   "outputs": [
    {
     "name": "stdout",
     "output_type": "stream",
     "text": [
      "Test set\n",
      "  Loss: 0.467\n",
      "  Accuracy: 0.787\n"
     ]
    }
   ],
   "source": [
    "print('Test set\\n  Loss: {:0.3f}\\n  Accuracy: {:0.3f}'.format(accr[0],accr[1]))"
   ]
  },
  {
   "cell_type": "code",
   "execution_count": 98,
   "metadata": {},
   "outputs": [
    {
     "name": "stdout",
     "output_type": "stream",
     "text": [
      "Model: \"functional_21\"\n",
      "_________________________________________________________________\n",
      "Layer (type)                 Output Shape              Param #   \n",
      "=================================================================\n",
      "inputs (InputLayer)          [(None, 150)]             0         \n",
      "_________________________________________________________________\n",
      "embedding_15 (Embedding)     (None, 150, 50)           50000     \n",
      "_________________________________________________________________\n",
      "lstm_15 (LSTM)               (None, 100)               60400     \n",
      "_________________________________________________________________\n",
      "FC1 (Dense)                  (None, 256)               25856     \n",
      "_________________________________________________________________\n",
      "activation_20 (Activation)   (None, 256)               0         \n",
      "_________________________________________________________________\n",
      "dropout_10 (Dropout)         (None, 256)               0         \n",
      "_________________________________________________________________\n",
      "out_layer (Dense)            (None, 1)                 257       \n",
      "_________________________________________________________________\n",
      "activation_21 (Activation)   (None, 1)                 0         \n",
      "=================================================================\n",
      "Total params: 136,513\n",
      "Trainable params: 136,513\n",
      "Non-trainable params: 0\n",
      "_________________________________________________________________\n",
      "Epoch 1/20\n",
      "18/18 [==============================] - 1s 79ms/step - loss: 0.5829 - accuracy: 0.7446 - val_loss: 0.5426 - val_accuracy: 0.7964\n",
      "Epoch 2/20\n",
      "18/18 [==============================] - 1s 61ms/step - loss: 0.4626 - accuracy: 0.7866 - val_loss: 0.3577 - val_accuracy: 0.8500\n",
      "Epoch 3/20\n",
      "18/18 [==============================] - 1s 61ms/step - loss: 0.3085 - accuracy: 0.8661 - val_loss: 0.3205 - val_accuracy: 0.8643\n",
      "Epoch 4/20\n",
      "18/18 [==============================] - 1s 63ms/step - loss: 0.2348 - accuracy: 0.9000 - val_loss: 0.3127 - val_accuracy: 0.8714\n",
      "Epoch 5/20\n",
      "18/18 [==============================] - 1s 65ms/step - loss: 0.1957 - accuracy: 0.9187 - val_loss: 0.3933 - val_accuracy: 0.8750\n",
      "19/19 [==============================] - 0s 16ms/step - loss: 0.3331 - accuracy: 0.8867\n",
      "Test set\n",
      "  Loss: 0.333\n",
      "  Accuracy: 0.887\n"
     ]
    },
    {
     "data": {
      "text/plain": [
       "array([[335, 132],\n",
       "       [133,   0]], dtype=int64)"
      ]
     },
     "execution_count": 98,
     "metadata": {},
     "output_type": "execute_result"
    }
   ],
   "source": [
    "# CATEGORY 2\n",
    "X1_train, X1_test, y1_train, y1_test = train_test_split(X, Y2, test_size=0.3, random_state=42)\n",
    "\n",
    "\n",
    "max_words = 1000\n",
    "max_len = 150\n",
    "tok = Tokenizer(num_words=max_words)\n",
    "tok.fit_on_texts(X1_train)\n",
    "sequences = tok.texts_to_sequences(X1_train)\n",
    "sequences_matrix = sequence.pad_sequences(sequences,maxlen=max_len)\n",
    "model = RNN()\n",
    "model.summary()\n",
    "model.compile(loss='binary_crossentropy',optimizer=RMSprop(),metrics=['accuracy'])\n",
    "model.fit(sequences_matrix,y1_train,batch_size=64,epochs=20,\n",
    "          validation_split=0.2,callbacks=[EarlyStopping(monitor='val_loss',min_delta=0.0001)])\n",
    "test_sequences = tok.texts_to_sequences(X1_test)\n",
    "test_sequences_matrix = sequence.pad_sequences(test_sequences,maxlen=max_len)\n",
    "accr = model.evaluate(test_sequences_matrix,y1_test)\n",
    "print('Test set\\n  Loss: {:0.3f}\\n  Accuracy: {:0.3f}'.format(accr[0],accr[1]))\n"
   ]
  },
  {
   "cell_type": "code",
   "execution_count": 99,
   "metadata": {},
   "outputs": [
    {
     "name": "stdout",
     "output_type": "stream",
     "text": [
      "Model: \"functional_23\"\n",
      "_________________________________________________________________\n",
      "Layer (type)                 Output Shape              Param #   \n",
      "=================================================================\n",
      "inputs (InputLayer)          [(None, 150)]             0         \n",
      "_________________________________________________________________\n",
      "embedding_16 (Embedding)     (None, 150, 50)           50000     \n",
      "_________________________________________________________________\n",
      "lstm_16 (LSTM)               (None, 100)               60400     \n",
      "_________________________________________________________________\n",
      "FC1 (Dense)                  (None, 256)               25856     \n",
      "_________________________________________________________________\n",
      "activation_22 (Activation)   (None, 256)               0         \n",
      "_________________________________________________________________\n",
      "dropout_11 (Dropout)         (None, 256)               0         \n",
      "_________________________________________________________________\n",
      "out_layer (Dense)            (None, 1)                 257       \n",
      "_________________________________________________________________\n",
      "activation_23 (Activation)   (None, 1)                 0         \n",
      "=================================================================\n",
      "Total params: 136,513\n",
      "Trainable params: 136,513\n",
      "Non-trainable params: 0\n",
      "_________________________________________________________________\n",
      "Epoch 1/20\n",
      "18/18 [==============================] - 1s 76ms/step - loss: 0.6805 - accuracy: 0.6107 - val_loss: 0.6038 - val_accuracy: 0.6893\n",
      "Epoch 2/20\n",
      "18/18 [==============================] - 1s 61ms/step - loss: 0.4967 - accuracy: 0.7839 - val_loss: 0.4828 - val_accuracy: 0.7786\n",
      "Epoch 3/20\n",
      "18/18 [==============================] - 1s 63ms/step - loss: 0.3369 - accuracy: 0.8723 - val_loss: 0.4434 - val_accuracy: 0.7964\n",
      "Epoch 4/20\n",
      "18/18 [==============================] - 1s 60ms/step - loss: 0.2985 - accuracy: 0.8884 - val_loss: 0.4636 - val_accuracy: 0.7964\n",
      "19/19 [==============================] - 0s 14ms/step - loss: 0.3976 - accuracy: 0.8183\n",
      "Test set\n",
      "  Loss: 0.398\n",
      "  Accuracy: 0.818\n"
     ]
    },
    {
     "data": {
      "text/plain": [
       "array([[356,   3],\n",
       "       [112, 129]], dtype=int64)"
      ]
     },
     "execution_count": 99,
     "metadata": {},
     "output_type": "execute_result"
    }
   ],
   "source": [
    "# CATEGORY 3\n",
    "X1_train, X1_test, y1_train, y1_test = train_test_split(X, Y3, test_size=0.3, random_state=42)\n",
    "\n",
    "\n",
    "max_words = 1000\n",
    "max_len = 150\n",
    "tok = Tokenizer(num_words=max_words)\n",
    "tok.fit_on_texts(X1_train)\n",
    "sequences = tok.texts_to_sequences(X1_train)\n",
    "sequences_matrix = sequence.pad_sequences(sequences,maxlen=max_len)\n",
    "model = RNN()\n",
    "model.summary()\n",
    "model.compile(loss='binary_crossentropy',optimizer=RMSprop(),metrics=['accuracy'])\n",
    "model.fit(sequences_matrix,y1_train,batch_size=64,epochs=20,\n",
    "          validation_split=0.2,callbacks=[EarlyStopping(monitor='val_loss',min_delta=0.0001)])\n",
    "test_sequences = tok.texts_to_sequences(X1_test)\n",
    "test_sequences_matrix = sequence.pad_sequences(test_sequences,maxlen=max_len)\n",
    "accr = model.evaluate(test_sequences_matrix,y1_test)\n",
    "print('Test set\\n  Loss: {:0.3f}\\n  Accuracy: {:0.3f}'.format(accr[0],accr[1]))\n",
    "matrix = sklearn.metrics.confusion_matrix(y1_test, y1_pred)\n",
    "matrix"
   ]
  },
  {
   "cell_type": "code",
   "execution_count": 100,
   "metadata": {},
   "outputs": [
    {
     "name": "stdout",
     "output_type": "stream",
     "text": [
      "Model: \"functional_25\"\n",
      "_________________________________________________________________\n",
      "Layer (type)                 Output Shape              Param #   \n",
      "=================================================================\n",
      "inputs (InputLayer)          [(None, 150)]             0         \n",
      "_________________________________________________________________\n",
      "embedding_17 (Embedding)     (None, 150, 50)           50000     \n",
      "_________________________________________________________________\n",
      "lstm_17 (LSTM)               (None, 100)               60400     \n",
      "_________________________________________________________________\n",
      "FC1 (Dense)                  (None, 256)               25856     \n",
      "_________________________________________________________________\n",
      "activation_24 (Activation)   (None, 256)               0         \n",
      "_________________________________________________________________\n",
      "dropout_12 (Dropout)         (None, 256)               0         \n",
      "_________________________________________________________________\n",
      "out_layer (Dense)            (None, 1)                 257       \n",
      "_________________________________________________________________\n",
      "activation_25 (Activation)   (None, 1)                 0         \n",
      "=================================================================\n",
      "Total params: 136,513\n",
      "Trainable params: 136,513\n",
      "Non-trainable params: 0\n",
      "_________________________________________________________________\n",
      "Epoch 1/20\n",
      "18/18 [==============================] - 1s 76ms/step - loss: 0.5911 - accuracy: 0.7393 - val_loss: 0.4910 - val_accuracy: 0.7643\n",
      "Epoch 2/20\n",
      "18/18 [==============================] - 1s 62ms/step - loss: 0.5038 - accuracy: 0.8116 - val_loss: 0.3467 - val_accuracy: 0.8536\n",
      "Epoch 3/20\n",
      "18/18 [==============================] - 1s 63ms/step - loss: 0.2472 - accuracy: 0.9089 - val_loss: 0.3266 - val_accuracy: 0.8821\n",
      "Epoch 4/20\n",
      "18/18 [==============================] - 1s 70ms/step - loss: 0.1923 - accuracy: 0.9241 - val_loss: 0.3361 - val_accuracy: 0.8929\n",
      "19/19 [==============================] - 0s 15ms/step - loss: 0.2587 - accuracy: 0.8967\n",
      "Test set\n",
      "  Loss: 0.259\n",
      "  Accuracy: 0.897\n"
     ]
    },
    {
     "data": {
      "text/plain": [
       "array([[443,  12],\n",
       "       [ 25, 120]], dtype=int64)"
      ]
     },
     "execution_count": 100,
     "metadata": {},
     "output_type": "execute_result"
    }
   ],
   "source": [
    "# CATEGORY 4\n",
    "X1_train, X1_test, y1_train, y1_test = train_test_split(X, Y4, test_size=0.3, random_state=42)\n",
    "\n",
    "\n",
    "max_words = 1000\n",
    "max_len = 150\n",
    "tok = Tokenizer(num_words=max_words)\n",
    "tok.fit_on_texts(X1_train)\n",
    "sequences = tok.texts_to_sequences(X1_train)\n",
    "sequences_matrix = sequence.pad_sequences(sequences,maxlen=max_len)\n",
    "model = RNN()\n",
    "model.summary()\n",
    "model.compile(loss='binary_crossentropy',optimizer=RMSprop(),metrics=['accuracy'])\n",
    "model.fit(sequences_matrix,y1_train,batch_size=64,epochs=20,\n",
    "          validation_split=0.2,callbacks=[EarlyStopping(monitor='val_loss',min_delta=0.0001)])\n",
    "test_sequences = tok.texts_to_sequences(X1_test)\n",
    "test_sequences_matrix = sequence.pad_sequences(test_sequences,maxlen=max_len)\n",
    "accr = model.evaluate(test_sequences_matrix,y1_test)\n",
    "print('Test set\\n  Loss: {:0.3f}\\n  Accuracy: {:0.3f}'.format(accr[0],accr[1]))\n",
    "matrix = sklearn.metrics.confusion_matrix(y1_test, y1_pred)\n",
    "matrix"
   ]
  },
  {
   "cell_type": "code",
   "execution_count": null,
   "metadata": {},
   "outputs": [],
   "source": []
  },
  {
   "cell_type": "code",
   "execution_count": null,
   "metadata": {},
   "outputs": [],
   "source": []
  },
  {
   "cell_type": "code",
   "execution_count": null,
   "metadata": {},
   "outputs": [],
   "source": []
  },
  {
   "cell_type": "code",
   "execution_count": null,
   "metadata": {},
   "outputs": [],
   "source": []
  },
  {
   "cell_type": "code",
   "execution_count": null,
   "metadata": {},
   "outputs": [],
   "source": []
  },
  {
   "cell_type": "code",
   "execution_count": null,
   "metadata": {},
   "outputs": [],
   "source": []
  },
  {
   "cell_type": "code",
   "execution_count": null,
   "metadata": {},
   "outputs": [],
   "source": []
  },
  {
   "cell_type": "code",
   "execution_count": null,
   "metadata": {},
   "outputs": [],
   "source": []
  },
  {
   "cell_type": "code",
   "execution_count": 163,
   "metadata": {},
   "outputs": [
    {
     "data": {
      "text/plain": [
       "'rt learn more about anorexia and bulimia as well as other eating disorders here'"
      ]
     },
     "execution_count": 163,
     "metadata": {},
     "output_type": "execute_result"
    }
   ],
   "source": []
  },
  {
   "cell_type": "code",
   "execution_count": 53,
   "metadata": {},
   "outputs": [],
   "source": [
    "import tensorflow as tf"
   ]
  },
  {
   "cell_type": "code",
   "execution_count": 101,
   "metadata": {},
   "outputs": [
    {
     "name": "stdout",
     "output_type": "stream",
     "text": [
      "Epoch 1/14\n",
      "44/44 [==============================] - 4s 85ms/step - loss: 0.6900 - accuracy: 0.5071 - val_loss: 0.6838 - val_accuracy: 0.5333\n",
      "Epoch 2/14\n",
      "44/44 [==============================] - 1s 22ms/step - loss: 0.6596 - accuracy: 0.5071 - val_loss: 0.6087 - val_accuracy: 0.5333\n",
      "Epoch 3/14\n",
      "44/44 [==============================] - 1s 23ms/step - loss: 0.5088 - accuracy: 0.6364 - val_loss: 0.4764 - val_accuracy: 0.7517\n",
      "Epoch 4/14\n",
      "44/44 [==============================] - 1s 23ms/step - loss: 0.3858 - accuracy: 0.8179 - val_loss: 0.4326 - val_accuracy: 0.8083\n",
      "Epoch 5/14\n",
      "44/44 [==============================] - 1s 22ms/step - loss: 0.3212 - accuracy: 0.8707 - val_loss: 0.4685 - val_accuracy: 0.8150\n",
      "Epoch 6/14\n",
      "44/44 [==============================] - 1s 22ms/step - loss: 0.2761 - accuracy: 0.8871 - val_loss: 0.4483 - val_accuracy: 0.8133\n",
      "Epoch 7/14\n",
      "44/44 [==============================] - 1s 23ms/step - loss: 0.2554 - accuracy: 0.9050 - val_loss: 0.4743 - val_accuracy: 0.8217\n",
      "Epoch 8/14\n",
      "44/44 [==============================] - 1s 22ms/step - loss: 0.2158 - accuracy: 0.9229 - val_loss: 0.4844 - val_accuracy: 0.8200\n",
      "Epoch 9/14\n",
      "44/44 [==============================] - 1s 22ms/step - loss: 0.1924 - accuracy: 0.9314 - val_loss: 0.5307 - val_accuracy: 0.8317\n",
      "Epoch 10/14\n",
      "44/44 [==============================] - 1s 22ms/step - loss: 0.1734 - accuracy: 0.9400 - val_loss: 0.5138 - val_accuracy: 0.8217\n",
      "Epoch 11/14\n",
      "44/44 [==============================] - 1s 22ms/step - loss: 0.1497 - accuracy: 0.9486 - val_loss: 0.6049 - val_accuracy: 0.8300\n",
      "Epoch 12/14\n",
      "44/44 [==============================] - 1s 22ms/step - loss: 0.1507 - accuracy: 0.9464 - val_loss: 0.5006 - val_accuracy: 0.8367\n",
      "Epoch 13/14\n",
      "44/44 [==============================] - 1s 23ms/step - loss: 0.1242 - accuracy: 0.9614 - val_loss: 0.6255 - val_accuracy: 0.8300\n",
      "Epoch 14/14\n",
      "44/44 [==============================] - 1s 22ms/step - loss: 0.1079 - accuracy: 0.9671 - val_loss: 0.6811 - val_accuracy: 0.8200\n",
      "19/19 [==============================] - 0s 7ms/step - loss: 0.6811 - accuracy: 0.8200\n",
      "Test Loss: 0.6810522675514221\n",
      "Test Accuracy: 0.8199999928474426\n"
     ]
    },
    {
     "data": {
      "text/plain": [
       "array([[190, 130],\n",
       "       [278,   2]], dtype=int64)"
      ]
     },
     "execution_count": 101,
     "metadata": {},
     "output_type": "execute_result"
    }
   ],
   "source": [
    "# CATEGORY 1\n",
    "X1_train, X1_test, y1_train, y1_test = train_test_split(X, Y1, test_size=0.3, random_state=42)\n",
    "\n",
    "VOCAB_SIZE=1000\n",
    "encoder = tf.keras.layers.experimental.preprocessing.TextVectorization(\n",
    "    max_tokens=VOCAB_SIZE)\n",
    "encoder.adapt(np.asarray(X1_train))\n",
    "\n",
    "model = tf.keras.Sequential([\n",
    "    encoder,\n",
    "    tf.keras.layers.Embedding(\n",
    "        input_dim=len(encoder.get_vocabulary()),\n",
    "        output_dim=64,\n",
    "        # Use masking to handle the variable sequence lengths\n",
    "        mask_zero=True),\n",
    "    tf.keras.layers.Bidirectional(tf.keras.layers.LSTM(64)),\n",
    "    tf.keras.layers.Dense(64, activation='relu'),\n",
    "    tf.keras.layers.Dense(1)\n",
    "])\n",
    "\n",
    "model.compile(loss=tf.keras.losses.BinaryCrossentropy(from_logits=True),\n",
    "              optimizer=tf.keras.optimizers.Adam(2e-4),\n",
    "              metrics=['accuracy'])\n",
    "\n",
    "history = model.fit(X1_train,y1_train, epochs=14,\n",
    "                    validation_data=(X1_test,y1_test), \n",
    "                    validation_steps=30)\n",
    "\n",
    "test_loss, test_acc = model.evaluate(X1_test,y1_test)\n",
    "\n",
    "print('Test Loss: {}'.format(test_loss))\n",
    "print('Test Accuracy: {}'.format(test_acc))\n",
    "\n",
    "matrix = sklearn.metrics.confusion_matrix(y1_test, y1_pred)\n",
    "matrix"
   ]
  },
  {
   "cell_type": "code",
   "execution_count": null,
   "metadata": {},
   "outputs": [],
   "source": []
  },
  {
   "cell_type": "code",
   "execution_count": 102,
   "metadata": {},
   "outputs": [
    {
     "name": "stdout",
     "output_type": "stream",
     "text": [
      "Epoch 1/14\n",
      "44/44 [==============================] - 4s 92ms/step - loss: 0.6625 - accuracy: 0.7614 - val_loss: 0.5787 - val_accuracy: 0.7783\n",
      "Epoch 2/14\n",
      "44/44 [==============================] - 1s 25ms/step - loss: 0.4922 - accuracy: 0.7614 - val_loss: 0.4548 - val_accuracy: 0.7783\n",
      "Epoch 3/14\n",
      "44/44 [==============================] - 1s 25ms/step - loss: 0.4417 - accuracy: 0.7614 - val_loss: 0.4032 - val_accuracy: 0.7783\n",
      "Epoch 4/14\n",
      "44/44 [==============================] - 1s 26ms/step - loss: 0.3698 - accuracy: 0.7614 - val_loss: 0.3325 - val_accuracy: 0.7783\n",
      "Epoch 5/14\n",
      "44/44 [==============================] - 1s 26ms/step - loss: 0.3046 - accuracy: 0.7629 - val_loss: 0.2927 - val_accuracy: 0.7833\n",
      "Epoch 6/14\n",
      "44/44 [==============================] - 1s 25ms/step - loss: 0.2578 - accuracy: 0.8093 - val_loss: 0.2814 - val_accuracy: 0.8400\n",
      "Epoch 7/14\n",
      "44/44 [==============================] - 1s 25ms/step - loss: 0.2214 - accuracy: 0.8714 - val_loss: 0.2907 - val_accuracy: 0.8550\n",
      "Epoch 8/14\n",
      "44/44 [==============================] - 1s 26ms/step - loss: 0.1929 - accuracy: 0.8936 - val_loss: 0.3060 - val_accuracy: 0.8767\n",
      "Epoch 9/14\n",
      "44/44 [==============================] - 1s 26ms/step - loss: 0.1675 - accuracy: 0.9236 - val_loss: 0.3261 - val_accuracy: 0.8833\n",
      "Epoch 10/14\n",
      "44/44 [==============================] - 1s 26ms/step - loss: 0.1554 - accuracy: 0.9271 - val_loss: 0.3364 - val_accuracy: 0.8700\n",
      "Epoch 11/14\n",
      "44/44 [==============================] - 1s 26ms/step - loss: 0.1358 - accuracy: 0.9457 - val_loss: 0.3791 - val_accuracy: 0.8717\n",
      "Epoch 12/14\n",
      "44/44 [==============================] - 1s 26ms/step - loss: 0.1250 - accuracy: 0.9486 - val_loss: 0.4214 - val_accuracy: 0.8683\n",
      "Epoch 13/14\n",
      "44/44 [==============================] - 1s 26ms/step - loss: 0.1087 - accuracy: 0.9629 - val_loss: 0.4218 - val_accuracy: 0.8683\n",
      "Epoch 14/14\n",
      "44/44 [==============================] - 1s 26ms/step - loss: 0.0993 - accuracy: 0.9679 - val_loss: 0.5146 - val_accuracy: 0.8650\n",
      "19/19 [==============================] - 0s 9ms/step - loss: 0.5146 - accuracy: 0.8650\n",
      "Test Loss: 0.5146041512489319\n",
      "Test Accuracy: 0.8650000095367432\n"
     ]
    },
    {
     "data": {
      "text/plain": [
       "array([[335, 132],\n",
       "       [133,   0]], dtype=int64)"
      ]
     },
     "execution_count": 102,
     "metadata": {},
     "output_type": "execute_result"
    }
   ],
   "source": [
    "# CATEGORY 2\n",
    "X1_train, X1_test, y1_train, y1_test = train_test_split(X, Y2, test_size=0.3, random_state=42)\n",
    "\n",
    "VOCAB_SIZE=1000\n",
    "encoder = tf.keras.layers.experimental.preprocessing.TextVectorization(\n",
    "    max_tokens=VOCAB_SIZE)\n",
    "encoder.adapt(np.asarray(X1_train))\n",
    "\n",
    "model = tf.keras.Sequential([\n",
    "    encoder,\n",
    "    tf.keras.layers.Embedding(\n",
    "        input_dim=len(encoder.get_vocabulary()),\n",
    "        output_dim=64,\n",
    "        # Use masking to handle the variable sequence lengths\n",
    "        mask_zero=True),\n",
    "    tf.keras.layers.Bidirectional(tf.keras.layers.LSTM(64)),\n",
    "    tf.keras.layers.Dense(64, activation='relu'),\n",
    "    tf.keras.layers.Dense(1)\n",
    "])\n",
    "\n",
    "model.compile(loss=tf.keras.losses.BinaryCrossentropy(from_logits=True),\n",
    "              optimizer=tf.keras.optimizers.Adam(2e-4),\n",
    "              metrics=['accuracy'])\n",
    "\n",
    "history = model.fit(X1_train,y1_train, epochs=14,\n",
    "                    validation_data=(X1_test,y1_test), \n",
    "                    validation_steps=30)\n",
    "\n",
    "test_loss, test_acc = model.evaluate(X1_test,y1_test)\n",
    "\n",
    "print('Test Loss: {}'.format(test_loss))\n",
    "print('Test Accuracy: {}'.format(test_acc))\n",
    "\n",
    "matrix = sklearn.metrics.confusion_matrix(y1_test, y1_pred)\n",
    "matrix"
   ]
  },
  {
   "cell_type": "code",
   "execution_count": null,
   "metadata": {},
   "outputs": [],
   "source": []
  },
  {
   "cell_type": "code",
   "execution_count": 103,
   "metadata": {},
   "outputs": [
    {
     "name": "stdout",
     "output_type": "stream",
     "text": [
      "Epoch 1/14\n",
      "44/44 [==============================] - 4s 98ms/step - loss: 0.6863 - accuracy: 0.6243 - val_loss: 0.6782 - val_accuracy: 0.5983\n",
      "Epoch 2/14\n",
      "44/44 [==============================] - 1s 26ms/step - loss: 0.6544 - accuracy: 0.6243 - val_loss: 0.6397 - val_accuracy: 0.5983\n",
      "Epoch 3/14\n",
      "44/44 [==============================] - 1s 27ms/step - loss: 0.5613 - accuracy: 0.6250 - val_loss: 0.5286 - val_accuracy: 0.6383\n",
      "Epoch 4/14\n",
      "44/44 [==============================] - 1s 27ms/step - loss: 0.4339 - accuracy: 0.8014 - val_loss: 0.4494 - val_accuracy: 0.8267\n",
      "Epoch 5/14\n",
      "44/44 [==============================] - 1s 25ms/step - loss: 0.3448 - accuracy: 0.8786 - val_loss: 0.4258 - val_accuracy: 0.8383\n",
      "Epoch 6/14\n",
      "44/44 [==============================] - 1s 26ms/step - loss: 0.2993 - accuracy: 0.8943 - val_loss: 0.4066 - val_accuracy: 0.8383\n",
      "Epoch 7/14\n",
      "44/44 [==============================] - 1s 26ms/step - loss: 0.2561 - accuracy: 0.9136 - val_loss: 0.4051 - val_accuracy: 0.8533\n",
      "Epoch 8/14\n",
      "44/44 [==============================] - 1s 26ms/step - loss: 0.2123 - accuracy: 0.9229 - val_loss: 0.4684 - val_accuracy: 0.8500\n",
      "Epoch 9/14\n",
      "44/44 [==============================] - 1s 25ms/step - loss: 0.1776 - accuracy: 0.9436 - val_loss: 0.4982 - val_accuracy: 0.8400\n",
      "Epoch 10/14\n",
      "44/44 [==============================] - 1s 25ms/step - loss: 0.1540 - accuracy: 0.9486 - val_loss: 0.5231 - val_accuracy: 0.8450\n",
      "Epoch 11/14\n",
      "44/44 [==============================] - 1s 27ms/step - loss: 0.1283 - accuracy: 0.9607 - val_loss: 0.5944 - val_accuracy: 0.8400\n",
      "Epoch 12/14\n",
      "44/44 [==============================] - 1s 27ms/step - loss: 0.1070 - accuracy: 0.9643 - val_loss: 0.7520 - val_accuracy: 0.8350\n",
      "Epoch 13/14\n",
      "44/44 [==============================] - 1s 26ms/step - loss: 0.1172 - accuracy: 0.9607 - val_loss: 0.7019 - val_accuracy: 0.8450\n",
      "Epoch 14/14\n",
      "44/44 [==============================] - 1s 29ms/step - loss: 0.0887 - accuracy: 0.9686 - val_loss: 0.7459 - val_accuracy: 0.8333\n",
      "19/19 [==============================] - 0s 8ms/step - loss: 0.7459 - accuracy: 0.8333\n",
      "Test Loss: 0.7458650469779968\n",
      "Test Accuracy: 0.8333333134651184\n"
     ]
    },
    {
     "data": {
      "text/plain": [
       "array([[356,   3],\n",
       "       [112, 129]], dtype=int64)"
      ]
     },
     "execution_count": 103,
     "metadata": {},
     "output_type": "execute_result"
    }
   ],
   "source": [
    "# CATEGORY 3\n",
    "X1_train, X1_test, y1_train, y1_test = train_test_split(X, Y3, test_size=0.3, random_state=42)\n",
    "\n",
    "VOCAB_SIZE=1000\n",
    "encoder = tf.keras.layers.experimental.preprocessing.TextVectorization(\n",
    "    max_tokens=VOCAB_SIZE)\n",
    "encoder.adapt(np.asarray(X1_train))\n",
    "\n",
    "model = tf.keras.Sequential([\n",
    "    encoder,\n",
    "    tf.keras.layers.Embedding(\n",
    "        input_dim=len(encoder.get_vocabulary()),\n",
    "        output_dim=64,\n",
    "        # Use masking to handle the variable sequence lengths\n",
    "        mask_zero=True),\n",
    "    tf.keras.layers.Bidirectional(tf.keras.layers.LSTM(64)),\n",
    "    tf.keras.layers.Dense(64, activation='relu'),\n",
    "    tf.keras.layers.Dense(1)\n",
    "])\n",
    "\n",
    "model.compile(loss=tf.keras.losses.BinaryCrossentropy(from_logits=True),\n",
    "              optimizer=tf.keras.optimizers.Adam(2e-4),\n",
    "              metrics=['accuracy'])\n",
    "\n",
    "history = model.fit(X1_train,y1_train, epochs=14,\n",
    "                    validation_data=(X1_test,y1_test), \n",
    "                    validation_steps=30)\n",
    "\n",
    "test_loss, test_acc = model.evaluate(X1_test,y1_test)\n",
    "\n",
    "print('Test Loss: {}'.format(test_loss))\n",
    "print('Test Accuracy: {}'.format(test_acc))\n",
    "\n",
    "matrix = sklearn.metrics.confusion_matrix(y1_test, y1_pred)\n",
    "matrix"
   ]
  },
  {
   "cell_type": "code",
   "execution_count": null,
   "metadata": {},
   "outputs": [],
   "source": []
  },
  {
   "cell_type": "code",
   "execution_count": 105,
   "metadata": {},
   "outputs": [
    {
     "name": "stdout",
     "output_type": "stream",
     "text": [
      "Epoch 1/14\n",
      "44/44 [==============================] - 3s 59ms/step - loss: 0.6706 - accuracy: 0.7543 - val_loss: 0.6250 - val_accuracy: 0.7583\n",
      "Epoch 2/14\n",
      "44/44 [==============================] - 1s 18ms/step - loss: 0.5618 - accuracy: 0.7543 - val_loss: 0.5238 - val_accuracy: 0.7583\n",
      "Epoch 3/14\n",
      "44/44 [==============================] - 1s 18ms/step - loss: 0.4697 - accuracy: 0.7543 - val_loss: 0.4103 - val_accuracy: 0.7583\n",
      "Epoch 4/14\n",
      "44/44 [==============================] - 1s 18ms/step - loss: 0.3411 - accuracy: 0.8121 - val_loss: 0.3141 - val_accuracy: 0.9167\n",
      "Epoch 5/14\n",
      "44/44 [==============================] - 1s 18ms/step - loss: 0.2493 - accuracy: 0.9157 - val_loss: 0.2804 - val_accuracy: 0.9167\n",
      "Epoch 6/14\n",
      "44/44 [==============================] - 1s 18ms/step - loss: 0.2061 - accuracy: 0.9264 - val_loss: 0.2371 - val_accuracy: 0.9150\n",
      "Epoch 7/14\n",
      "44/44 [==============================] - 1s 18ms/step - loss: 0.1705 - accuracy: 0.9414 - val_loss: 0.2486 - val_accuracy: 0.9083\n",
      "Epoch 8/14\n",
      "44/44 [==============================] - 1s 19ms/step - loss: 0.1471 - accuracy: 0.9486 - val_loss: 0.2409 - val_accuracy: 0.9250\n",
      "Epoch 9/14\n",
      "44/44 [==============================] - 1s 19ms/step - loss: 0.1142 - accuracy: 0.9671 - val_loss: 0.2645 - val_accuracy: 0.9267\n",
      "Epoch 10/14\n",
      "44/44 [==============================] - 1s 18ms/step - loss: 0.0943 - accuracy: 0.9736 - val_loss: 0.2932 - val_accuracy: 0.9217\n",
      "Epoch 11/14\n",
      "44/44 [==============================] - 1s 19ms/step - loss: 0.0773 - accuracy: 0.9764 - val_loss: 0.3387 - val_accuracy: 0.9117\n",
      "Epoch 12/14\n",
      "44/44 [==============================] - 1s 20ms/step - loss: 0.0677 - accuracy: 0.9807 - val_loss: 0.3834 - val_accuracy: 0.9150\n",
      "Epoch 13/14\n",
      "44/44 [==============================] - 1s 18ms/step - loss: 0.0545 - accuracy: 0.9843 - val_loss: 0.3928 - val_accuracy: 0.9150\n",
      "Epoch 14/14\n",
      "44/44 [==============================] - 1s 18ms/step - loss: 0.0483 - accuracy: 0.9871 - val_loss: 0.4939 - val_accuracy: 0.8967\n",
      "19/19 [==============================] - 0s 10ms/step - loss: 0.4939 - accuracy: 0.8967\n",
      "Test Loss: 0.49394017457962036\n",
      "Test Accuracy: 0.8966666460037231\n"
     ]
    },
    {
     "data": {
      "text/plain": [
       "array([[443,  12],\n",
       "       [ 25, 120]], dtype=int64)"
      ]
     },
     "execution_count": 105,
     "metadata": {},
     "output_type": "execute_result"
    }
   ],
   "source": [
    "# CATEGORY 4\n",
    "X1_train, X1_test, y1_train, y1_test = train_test_split(X, Y4, test_size=0.3, random_state=42)\n",
    "\n",
    "VOCAB_SIZE=1000\n",
    "encoder = tf.keras.layers.experimental.preprocessing.TextVectorization(\n",
    "    max_tokens=VOCAB_SIZE)\n",
    "encoder.adapt(np.asarray(X1_train))\n",
    "\n",
    "model = tf.keras.Sequential([\n",
    "    encoder,\n",
    "    tf.keras.layers.Embedding(\n",
    "        input_dim=len(encoder.get_vocabulary()),\n",
    "        output_dim=64,\n",
    "        # Use masking to handle the variable sequence lengths\n",
    "        mask_zero=True),\n",
    "    tf.keras.layers.Bidirectional(tf.keras.layers.LSTM(64)),\n",
    "    tf.keras.layers.Dense(64, activation='relu'),\n",
    "    tf.keras.layers.Dense(1)\n",
    "])\n",
    "\n",
    "model.compile(loss=tf.keras.losses.BinaryCrossentropy(from_logits=True),\n",
    "              optimizer=tf.keras.optimizers.Adam(2e-4),\n",
    "              metrics=['accuracy'])\n",
    "\n",
    "history = model.fit(X1_train,y1_train, epochs=14,\n",
    "                    validation_data=(X1_test,y1_test), \n",
    "                    validation_steps=30)\n",
    "\n",
    "test_loss, test_acc = model.evaluate(X1_test,y1_test)\n",
    "\n",
    "print('Test Loss: {}'.format(test_loss))\n",
    "print('Test Accuracy: {}'.format(test_acc))\n",
    "\n",
    "matrix = sklearn.metrics.confusion_matrix(y1_test, y1_pred)\n",
    "matrix"
   ]
  },
  {
   "cell_type": "code",
   "execution_count": null,
   "metadata": {},
   "outputs": [],
   "source": []
  },
  {
   "cell_type": "code",
   "execution_count": null,
   "metadata": {},
   "outputs": [],
   "source": []
  },
  {
   "cell_type": "code",
   "execution_count": null,
   "metadata": {},
   "outputs": [],
   "source": []
  },
  {
   "cell_type": "code",
   "execution_count": null,
   "metadata": {},
   "outputs": [],
   "source": []
  },
  {
   "cell_type": "code",
   "execution_count": null,
   "metadata": {},
   "outputs": [],
   "source": []
  },
  {
   "cell_type": "code",
   "execution_count": null,
   "metadata": {},
   "outputs": [],
   "source": []
  },
  {
   "cell_type": "code",
   "execution_count": null,
   "metadata": {},
   "outputs": [],
   "source": []
  },
  {
   "cell_type": "code",
   "execution_count": null,
   "metadata": {},
   "outputs": [],
   "source": []
  },
  {
   "cell_type": "code",
   "execution_count": null,
   "metadata": {},
   "outputs": [],
   "source": []
  },
  {
   "cell_type": "code",
   "execution_count": null,
   "metadata": {},
   "outputs": [],
   "source": []
  }
 ],
 "metadata": {
  "kernelspec": {
   "display_name": "Python 3",
   "language": "python",
   "name": "python3"
  },
  "language_info": {
   "codemirror_mode": {
    "name": "ipython",
    "version": 3
   },
   "file_extension": ".py",
   "mimetype": "text/x-python",
   "name": "python",
   "nbconvert_exporter": "python",
   "pygments_lexer": "ipython3",
   "version": "3.7.9"
  }
 },
 "nbformat": 4,
 "nbformat_minor": 4
}
