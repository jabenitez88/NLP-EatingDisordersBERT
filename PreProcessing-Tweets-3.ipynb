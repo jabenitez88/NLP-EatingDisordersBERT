{
 "cells": [
  {
   "cell_type": "markdown",
   "metadata": {},
   "source": [
    "# Tweets about eating disorders\n",
    "## Modelling with CV\n",
    " "
   ]
  },
  {
   "cell_type": "code",
   "execution_count": 1,
   "metadata": {},
   "outputs": [],
   "source": [
    "import os\n",
    "import pandas as pd\n",
    "import numpy as np\n",
    "import json\n",
    "from collections import Counter\n",
    "from wordcloud import WordCloud\n",
    "import matplotlib.pyplot as plt\n",
    "import re, string, unicodedata\n",
    "import nltk\n",
    "from nltk import word_tokenize, sent_tokenize, FreqDist\n",
    "from nltk.corpus import stopwords\n",
    "from nltk.stem import LancasterStemmer, WordNetLemmatizer\n",
    "nltk.download\n",
    "tweets = pd.read_csv('tweets2.csv', encoding='utf8', error_bad_lines=False)"
   ]
  },
  {
   "cell_type": "code",
   "execution_count": 2,
   "metadata": {},
   "outputs": [
    {
     "data": {
      "text/html": [
       "<div>\n",
       "<style scoped>\n",
       "    .dataframe tbody tr th:only-of-type {\n",
       "        vertical-align: middle;\n",
       "    }\n",
       "\n",
       "    .dataframe tbody tr th {\n",
       "        vertical-align: top;\n",
       "    }\n",
       "\n",
       "    .dataframe thead th {\n",
       "        text-align: right;\n",
       "    }\n",
       "</style>\n",
       "<table border=\"1\" class=\"dataframe\">\n",
       "  <thead>\n",
       "    <tr style=\"text-align: right;\">\n",
       "      <th></th>\n",
       "      <th>Unnamed: 0</th>\n",
       "      <th>id_tweet</th>\n",
       "      <th>stream_group</th>\n",
       "      <th>text_orig</th>\n",
       "      <th>Commercial</th>\n",
       "      <th>POLITICS</th>\n",
       "      <th>ED</th>\n",
       "      <th>Family</th>\n",
       "      <th>ED_patience</th>\n",
       "      <th>ProED</th>\n",
       "      <th>Offensive</th>\n",
       "      <th>Informative</th>\n",
       "      <th>Scientific</th>\n",
       "      <th>Sad</th>\n",
       "      <th>hashtag</th>\n",
       "      <th>text</th>\n",
       "      <th>Segmented#</th>\n",
       "    </tr>\n",
       "  </thead>\n",
       "  <tbody>\n",
       "    <tr>\n",
       "      <th>0</th>\n",
       "      <td>0</td>\n",
       "      <td>1,31851E+34</td>\n",
       "      <td>1</td>\n",
       "      <td>RT @beatED: Learn more about anorexia and buli...</td>\n",
       "      <td>0</td>\n",
       "      <td>0</td>\n",
       "      <td>1</td>\n",
       "      <td>0.0</td>\n",
       "      <td>0</td>\n",
       "      <td>0</td>\n",
       "      <td>0</td>\n",
       "      <td>1</td>\n",
       "      <td>0</td>\n",
       "      <td>0.0</td>\n",
       "      <td>['BBCPanorama']</td>\n",
       "      <td>['learn', 'anorexia', 'bulimia', 'well', 'eati...</td>\n",
       "      <td>bbc panorama</td>\n",
       "    </tr>\n",
       "    <tr>\n",
       "      <th>1</th>\n",
       "      <td>1</td>\n",
       "      <td>1,31851E+34</td>\n",
       "      <td>1</td>\n",
       "      <td>A woman tries to balance her relationships wit...</td>\n",
       "      <td>0</td>\n",
       "      <td>0</td>\n",
       "      <td>1</td>\n",
       "      <td>0.0</td>\n",
       "      <td>0</td>\n",
       "      <td>0</td>\n",
       "      <td>0</td>\n",
       "      <td>0</td>\n",
       "      <td>0</td>\n",
       "      <td>0.0</td>\n",
       "      <td>['anorexia', 'BodyofWater']</td>\n",
       "      <td>['woman', 'try', 'balance', 'relationship', 'm...</td>\n",
       "      <td>anorexia  bodyof water</td>\n",
       "    </tr>\n",
       "  </tbody>\n",
       "</table>\n",
       "</div>"
      ],
      "text/plain": [
       "   Unnamed: 0     id_tweet  stream_group  \\\n",
       "0           0  1,31851E+34             1   \n",
       "1           1  1,31851E+34             1   \n",
       "\n",
       "                                           text_orig  Commercial  POLITICS  \\\n",
       "0  RT @beatED: Learn more about anorexia and buli...           0         0   \n",
       "1  A woman tries to balance her relationships wit...           0         0   \n",
       "\n",
       "   ED  Family  ED_patience  ProED  Offensive  Informative  Scientific  Sad  \\\n",
       "0   1     0.0            0      0          0            1           0  0.0   \n",
       "1   1     0.0            0      0          0            0           0  0.0   \n",
       "\n",
       "                       hashtag  \\\n",
       "0              ['BBCPanorama']   \n",
       "1  ['anorexia', 'BodyofWater']   \n",
       "\n",
       "                                                text              Segmented#  \n",
       "0  ['learn', 'anorexia', 'bulimia', 'well', 'eati...            bbc panorama  \n",
       "1  ['woman', 'try', 'balance', 'relationship', 'm...  anorexia  bodyof water  "
      ]
     },
     "execution_count": 2,
     "metadata": {},
     "output_type": "execute_result"
    }
   ],
   "source": [
    "tweets.head(2)"
   ]
  },
  {
   "cell_type": "code",
   "execution_count": 3,
   "metadata": {},
   "outputs": [],
   "source": [
    "tweets.columns=['num1','id_tw','stream_group','text_orig','f1_commercial','f2_politics','f3_ed','f4_family','f5_edpatient','f6_proed','f7_offensive','f8_info','f9_scientific','f10_sad','hashtag','text','segmented']"
   ]
  },
  {
   "cell_type": "code",
   "execution_count": 4,
   "metadata": {},
   "outputs": [
    {
     "data": {
      "text/html": [
       "<div>\n",
       "<style scoped>\n",
       "    .dataframe tbody tr th:only-of-type {\n",
       "        vertical-align: middle;\n",
       "    }\n",
       "\n",
       "    .dataframe tbody tr th {\n",
       "        vertical-align: top;\n",
       "    }\n",
       "\n",
       "    .dataframe thead th {\n",
       "        text-align: right;\n",
       "    }\n",
       "</style>\n",
       "<table border=\"1\" class=\"dataframe\">\n",
       "  <thead>\n",
       "    <tr style=\"text-align: right;\">\n",
       "      <th></th>\n",
       "      <th>num1</th>\n",
       "      <th>id_tw</th>\n",
       "      <th>stream_group</th>\n",
       "      <th>text_orig</th>\n",
       "      <th>f1_commercial</th>\n",
       "      <th>f2_politics</th>\n",
       "      <th>f3_ed</th>\n",
       "      <th>f4_family</th>\n",
       "      <th>f5_edpatient</th>\n",
       "      <th>f6_proed</th>\n",
       "      <th>f7_offensive</th>\n",
       "      <th>f8_info</th>\n",
       "      <th>f9_scientific</th>\n",
       "      <th>f10_sad</th>\n",
       "      <th>hashtag</th>\n",
       "      <th>text</th>\n",
       "      <th>segmented</th>\n",
       "    </tr>\n",
       "  </thead>\n",
       "  <tbody>\n",
       "    <tr>\n",
       "      <th>0</th>\n",
       "      <td>0</td>\n",
       "      <td>1,31851E+34</td>\n",
       "      <td>1</td>\n",
       "      <td>RT @beatED: Learn more about anorexia and buli...</td>\n",
       "      <td>0</td>\n",
       "      <td>0</td>\n",
       "      <td>1</td>\n",
       "      <td>0.0</td>\n",
       "      <td>0</td>\n",
       "      <td>0</td>\n",
       "      <td>0</td>\n",
       "      <td>1</td>\n",
       "      <td>0</td>\n",
       "      <td>0.0</td>\n",
       "      <td>['BBCPanorama']</td>\n",
       "      <td>['learn', 'anorexia', 'bulimia', 'well', 'eati...</td>\n",
       "      <td>bbc panorama</td>\n",
       "    </tr>\n",
       "    <tr>\n",
       "      <th>1</th>\n",
       "      <td>1</td>\n",
       "      <td>1,31851E+34</td>\n",
       "      <td>1</td>\n",
       "      <td>A woman tries to balance her relationships wit...</td>\n",
       "      <td>0</td>\n",
       "      <td>0</td>\n",
       "      <td>1</td>\n",
       "      <td>0.0</td>\n",
       "      <td>0</td>\n",
       "      <td>0</td>\n",
       "      <td>0</td>\n",
       "      <td>0</td>\n",
       "      <td>0</td>\n",
       "      <td>0.0</td>\n",
       "      <td>['anorexia', 'BodyofWater']</td>\n",
       "      <td>['woman', 'try', 'balance', 'relationship', 'm...</td>\n",
       "      <td>anorexia  bodyof water</td>\n",
       "    </tr>\n",
       "  </tbody>\n",
       "</table>\n",
       "</div>"
      ],
      "text/plain": [
       "   num1        id_tw  stream_group  \\\n",
       "0     0  1,31851E+34             1   \n",
       "1     1  1,31851E+34             1   \n",
       "\n",
       "                                           text_orig  f1_commercial  \\\n",
       "0  RT @beatED: Learn more about anorexia and buli...              0   \n",
       "1  A woman tries to balance her relationships wit...              0   \n",
       "\n",
       "   f2_politics  f3_ed  f4_family  f5_edpatient  f6_proed  f7_offensive  \\\n",
       "0            0      1        0.0             0         0             0   \n",
       "1            0      1        0.0             0         0             0   \n",
       "\n",
       "   f8_info  f9_scientific  f10_sad                      hashtag  \\\n",
       "0        1              0      0.0              ['BBCPanorama']   \n",
       "1        0              0      0.0  ['anorexia', 'BodyofWater']   \n",
       "\n",
       "                                                text               segmented  \n",
       "0  ['learn', 'anorexia', 'bulimia', 'well', 'eati...            bbc panorama  \n",
       "1  ['woman', 'try', 'balance', 'relationship', 'm...  anorexia  bodyof water  "
      ]
     },
     "execution_count": 4,
     "metadata": {},
     "output_type": "execute_result"
    }
   ],
   "source": [
    "tweets.head(2)"
   ]
  },
  {
   "cell_type": "code",
   "execution_count": 5,
   "metadata": {},
   "outputs": [],
   "source": [
    "cols=['f1_commercial','f2_politics','f3_ed','f4_family','f5_edpatient','f6_proed','f7_offensive','f8_info','f9_scientific','f10_sad']"
   ]
  },
  {
   "cell_type": "code",
   "execution_count": 6,
   "metadata": {},
   "outputs": [
    {
     "name": "stdout",
     "output_type": "stream",
     "text": [
      "0    98.1\n",
      "1     1.9\n",
      "Name: f1_commercial, dtype: float64 \n",
      "\n",
      "0    92.55\n",
      "1     7.45\n",
      "Name: f2_politics, dtype: float64 \n",
      "\n",
      "1    87.65\n",
      "0    12.35\n",
      "Name: f3_ed, dtype: float64 \n",
      "\n",
      "0.0    99.422966\n",
      "1.0     0.577034\n",
      "Name: f4_family, dtype: float64 \n",
      "\n",
      "0    51.5\n",
      "1    48.5\n",
      "Name: f5_edpatient, dtype: float64 \n",
      "\n",
      "0    76.65\n",
      "1    23.35\n",
      "Name: f6_proed, dtype: float64 \n",
      "\n",
      "0    96.85\n",
      "1     3.15\n",
      "Name: f7_offensive, dtype: float64 \n",
      "\n",
      "0    61.65\n",
      "1    38.35\n",
      "Name: f8_info, dtype: float64 \n",
      "\n",
      "0    75.55\n",
      "1    24.45\n",
      "Name: f9_scientific, dtype: float64 \n",
      "\n",
      "0.0    77.893519\n",
      "1.0    15.393519\n",
      "2.0     6.712963\n",
      "Name: f10_sad, dtype: float64 \n",
      "\n"
     ]
    }
   ],
   "source": [
    "for col in cols:\n",
    "    print(tweets[col].value_counts(normalize=True)*100,'\\n')"
   ]
  },
  {
   "cell_type": "code",
   "execution_count": 7,
   "metadata": {},
   "outputs": [],
   "source": [
    "megaDF = pd.DataFrame()\n",
    "megaDF.rename_axis('values')\n",
    "cols2 = cols[:-1]\n",
    "for col in cols2:\n",
    "    df = tweets[col].value_counts(normalize=True).rename_axis('valores').to_frame(col)\n",
    "    #df.plot.bar()\n",
    "    #megaDF.concat([megaDF,df])\n",
    "    megaDF = pd.concat([megaDF,df], axis=1)\n",
    "    #plt.show()"
   ]
  },
  {
   "cell_type": "code",
   "execution_count": 8,
   "metadata": {},
   "outputs": [
    {
     "data": {
      "text/plain": [
       "(array([0, 1, 2, 3, 4, 5, 6, 7, 8]),\n",
       " [Text(0, 0, 'f1_commercial'),\n",
       "  Text(1, 0, 'f2_politics'),\n",
       "  Text(2, 0, 'f3_ed'),\n",
       "  Text(3, 0, 'f4_family'),\n",
       "  Text(4, 0, 'f5_edpatient'),\n",
       "  Text(5, 0, 'f6_proed'),\n",
       "  Text(6, 0, 'f7_offensive'),\n",
       "  Text(7, 0, 'f8_info'),\n",
       "  Text(8, 0, 'f9_scientific')])"
      ]
     },
     "execution_count": 8,
     "metadata": {},
     "output_type": "execute_result"
    },
    {
     "data": {
      "image/png": "[encoded data removed]",
      "text/plain": [
       "<Figure size 432x288 with 1 Axes>"
      ]
     },
     "metadata": {
      "needs_background": "light"
     },
     "output_type": "display_data"
    }
   ],
   "source": [
    "megaDF.T.plot.bar(stacked=True,rot=0)\n",
    "plt.xticks(rotation=90)"
   ]
  },
  {
   "cell_type": "code",
   "execution_count": 9,
   "metadata": {},
   "outputs": [
    {
     "data": {
      "text/plain": [
       "(array([0, 1, 2, 3]),\n",
       " [Text(0, 0, 'f5_edpatient'),\n",
       "  Text(1, 0, 'f6_proed'),\n",
       "  Text(2, 0, 'f8_info'),\n",
       "  Text(3, 0, 'f9_scientific')])"
      ]
     },
     "execution_count": 9,
     "metadata": {},
     "output_type": "execute_result"
    },
    {
     "data": {
      "image/png": "[encoded data removed]",
      "text/plain": [
       "<Figure size 432x288 with 1 Axes>"
      ]
     },
     "metadata": {
      "needs_background": "light"
     },
     "output_type": "display_data"
    }
   ],
   "source": [
    "tweets1 = tweets.copy().drop(['f1_commercial', 'f2_politics', 'f3_ed', 'f4_family', 'f7_offensive', 'f10_sad'], axis=1)\n",
    "megaDF=megaDF.drop(['f1_commercial', 'f2_politics', 'f3_ed', 'f4_family', 'f7_offensive'],axis=1)\n",
    "megaDF.T.plot.bar(stacked=True,rot=0)\n",
    "plt.xticks(rotation=90)"
   ]
  },
  {
   "cell_type": "code",
   "execution_count": 10,
   "metadata": {},
   "outputs": [
    {
     "data": {
      "text/html": [
       "<div>\n",
       "<style scoped>\n",
       "    .dataframe tbody tr th:only-of-type {\n",
       "        vertical-align: middle;\n",
       "    }\n",
       "\n",
       "    .dataframe tbody tr th {\n",
       "        vertical-align: top;\n",
       "    }\n",
       "\n",
       "    .dataframe thead th {\n",
       "        text-align: right;\n",
       "    }\n",
       "</style>\n",
       "<table border=\"1\" class=\"dataframe\">\n",
       "  <thead>\n",
       "    <tr style=\"text-align: right;\">\n",
       "      <th></th>\n",
       "      <th>num1</th>\n",
       "      <th>id_tw</th>\n",
       "      <th>stream_group</th>\n",
       "      <th>text_orig</th>\n",
       "      <th>f5_edpatient</th>\n",
       "      <th>f6_proed</th>\n",
       "      <th>f8_info</th>\n",
       "      <th>f9_scientific</th>\n",
       "      <th>hashtag</th>\n",
       "      <th>text</th>\n",
       "      <th>segmented</th>\n",
       "    </tr>\n",
       "  </thead>\n",
       "  <tbody>\n",
       "    <tr>\n",
       "      <th>0</th>\n",
       "      <td>0</td>\n",
       "      <td>1,31851E+34</td>\n",
       "      <td>1</td>\n",
       "      <td>RT @beatED: Learn more about anorexia and buli...</td>\n",
       "      <td>0</td>\n",
       "      <td>0</td>\n",
       "      <td>1</td>\n",
       "      <td>0</td>\n",
       "      <td>['BBCPanorama']</td>\n",
       "      <td>['learn', 'anorexia', 'bulimia', 'well', 'eati...</td>\n",
       "      <td>bbc panorama</td>\n",
       "    </tr>\n",
       "    <tr>\n",
       "      <th>1</th>\n",
       "      <td>1</td>\n",
       "      <td>1,31851E+34</td>\n",
       "      <td>1</td>\n",
       "      <td>A woman tries to balance her relationships wit...</td>\n",
       "      <td>0</td>\n",
       "      <td>0</td>\n",
       "      <td>0</td>\n",
       "      <td>0</td>\n",
       "      <td>['anorexia', 'BodyofWater']</td>\n",
       "      <td>['woman', 'try', 'balance', 'relationship', 'm...</td>\n",
       "      <td>anorexia  bodyof water</td>\n",
       "    </tr>\n",
       "  </tbody>\n",
       "</table>\n",
       "</div>"
      ],
      "text/plain": [
       "   num1        id_tw  stream_group  \\\n",
       "0     0  1,31851E+34             1   \n",
       "1     1  1,31851E+34             1   \n",
       "\n",
       "                                           text_orig  f5_edpatient  f6_proed  \\\n",
       "0  RT @beatED: Learn more about anorexia and buli...             0         0   \n",
       "1  A woman tries to balance her relationships wit...             0         0   \n",
       "\n",
       "   f8_info  f9_scientific                      hashtag  \\\n",
       "0        1              0              ['BBCPanorama']   \n",
       "1        0              0  ['anorexia', 'BodyofWater']   \n",
       "\n",
       "                                                text               segmented  \n",
       "0  ['learn', 'anorexia', 'bulimia', 'well', 'eati...            bbc panorama  \n",
       "1  ['woman', 'try', 'balance', 'relationship', 'm...  anorexia  bodyof water  "
      ]
     },
     "execution_count": 10,
     "metadata": {},
     "output_type": "execute_result"
    }
   ],
   "source": [
    "tweets1.head(2)"
   ]
  },
  {
   "cell_type": "code",
   "execution_count": 11,
   "metadata": {},
   "outputs": [],
   "source": [
    "import pandas as pd\n",
    "import numpy as np\n",
    "\n",
    "import spacy\n",
    "import nltk\n",
    "import nltk.data\n",
    "from nltk.tokenize import word_tokenize\n",
    "from nltk.stem import SnowballStemmer\n",
    "import regex as re\n",
    "import string\n",
    "from collections import defaultdict\n",
    "\n",
    "import matplotlib.pyplot as plt\n",
    "import seaborn as sns\n",
    "pd.set_option('display.max_colwidth', None)\n",
    "\n",
    "import sklearn\n",
    "from sklearn.model_selection import train_test_split\n",
    "from sklearn.metrics import f1_score, accuracy_score\n",
    "\n",
    "from simpletransformers.classification import ClassificationModel\n",
    "\n",
    "\n",
    "import io"
   ]
  },
  {
   "cell_type": "code",
   "execution_count": 12,
   "metadata": {},
   "outputs": [],
   "source": [
    "punctuations = \"¡!#$%&'()*+,-./:;<=>¿?@[\\]^_`{|}~\"\n",
    "\n",
    "def read_txt(filename):\n",
    "    list = []\n",
    "    with open(filename, 'r', encoding='utf-8') as f:\n",
    "        data = f.readlines()\n",
    "        for line in data:\n",
    "            list.append(str(line).replace('\\n', ''))\n",
    "    return list\n",
    "\n",
    "stopwords = read_txt('spanish_stopwords.txt')\n",
    "\n",
    "stemmer = SnowballStemmer('spanish')\n",
    "\n",
    "\n",
    "def clean_accents(tweet):\n",
    "    tweet = re.sub(r\"[àáâãäå]\", \"a\", tweet)\n",
    "    tweet = re.sub(r\"ç\", \"c\", tweet)\n",
    "    tweet = re.sub(r\"[èéêë]\", \"e\", tweet)\n",
    "    tweet = re.sub(r\"[ìíîï]\", \"i\", tweet)\n",
    "    tweet = re.sub(r\"[òóôõö]\", \"o\", tweet)\n",
    "    tweet = re.sub(r\"[ùúûü]\", \"u\", tweet)\n",
    "    tweet = re.sub(r\"[ýÿ]\", \"y\", tweet)\n",
    "\n",
    "    return tweet\n",
    "\n",
    "def clean_tweet(tweet, stem = False):\n",
    "    tweet = tweet.lower().strip()\n",
    "    tweet = re.sub(r'https?:\\/\\/\\S+', '', tweet)\n",
    "    tweet = re.sub(r'http?:\\/\\/\\S+', '', tweet)\n",
    "    tweet = re.sub(r'www?:\\/\\/\\S+', '', tweet)\n",
    "    tweet = re.sub(r'\\s([@#][\\w_-]+)', \"\", tweet)\n",
    "    tweet = re.sub(r\"\\n\", \" \", tweet)\n",
    "    tweet = clean_accents(tweet)\n",
    "    tweet = re.sub(r\"\\b(a*ha+h[ha]*|o?l+o+l+[ol]*|x+d+[x*d*]*|a*ja+[j+a+]+)\\b\", \"<risas>\", tweet)\n",
    "    for symbol in punctuations:\n",
    "        tweet = tweet.replace(symbol, \"\")\n",
    "    tokens = []\n",
    "    for token in tweet.strip().split():\n",
    "        if token not in punctuations and token not in stopwords:\n",
    "            if stem:\n",
    "                tokens.append(stemmer.stem(token))\n",
    "            else:\n",
    "                tokens.append(token)\n",
    "    return \" \".join(tokens)"
   ]
  },
  {
   "cell_type": "code",
   "execution_count": 13,
   "metadata": {},
   "outputs": [
    {
     "name": "stdout",
     "output_type": "stream",
     "text": [
      "0                                                                                           rt learn more about anorexia and bulimia as well as other eating disorders here\n",
      "1    woman tries to balance her relationships with her mother and teenage daughter while under the shadow of in the atmospheric british drama at depot from friday book now\n",
      "2                                              not full on diagnosis but like my therapist legit told my mom i have anorexia nevrususu and my poor mom sat there like 👁👄👁oh\n",
      "3                                                                                         highercalorie diets for patients with anorexia nervosa shorten hospital stays via\n",
      "4               tw ed ment freddie pissed off but it was amazing but the way they got the anorexic bulimic actress to play foodobsessed character will never sit right with\n",
      "Name: text_cleaned, dtype: object\n"
     ]
    }
   ],
   "source": [
    "tweets1['text_cleaned'] = tweets['text_orig'].apply(lambda s : clean_tweet(s))\n",
    "print(tweets1['text_cleaned'].head(5))"
   ]
  },
  {
   "cell_type": "code",
   "execution_count": 14,
   "metadata": {},
   "outputs": [
    {
     "data": {
      "text/html": [
       "<div>\n",
       "<style scoped>\n",
       "    .dataframe tbody tr th:only-of-type {\n",
       "        vertical-align: middle;\n",
       "    }\n",
       "\n",
       "    .dataframe tbody tr th {\n",
       "        vertical-align: top;\n",
       "    }\n",
       "\n",
       "    .dataframe thead th {\n",
       "        text-align: right;\n",
       "    }\n",
       "</style>\n",
       "<table border=\"1\" class=\"dataframe\">\n",
       "  <thead>\n",
       "    <tr style=\"text-align: right;\">\n",
       "      <th></th>\n",
       "      <th>num1</th>\n",
       "      <th>id_tw</th>\n",
       "      <th>stream_group</th>\n",
       "      <th>text_orig</th>\n",
       "      <th>f5_edpatient</th>\n",
       "      <th>f6_proed</th>\n",
       "      <th>f8_info</th>\n",
       "      <th>f9_scientific</th>\n",
       "      <th>hashtag</th>\n",
       "      <th>text</th>\n",
       "      <th>segmented</th>\n",
       "      <th>text_cleaned</th>\n",
       "    </tr>\n",
       "  </thead>\n",
       "  <tbody>\n",
       "    <tr>\n",
       "      <th>0</th>\n",
       "      <td>0</td>\n",
       "      <td>1,31851E+34</td>\n",
       "      <td>1</td>\n",
       "      <td>RT @beatED: Learn more about anorexia and bulimia, as well as other eating disorders, here: https://t.co/Aj2HbjRH39 @BBCPanorama #BBCPanorama</td>\n",
       "      <td>0</td>\n",
       "      <td>0</td>\n",
       "      <td>1</td>\n",
       "      <td>0</td>\n",
       "      <td>['BBCPanorama']</td>\n",
       "      <td>['learn', 'anorexia', 'bulimia', 'well', 'eating', 'disorder']</td>\n",
       "      <td>bbc panorama</td>\n",
       "      <td>rt learn more about anorexia and bulimia as well as other eating disorders here</td>\n",
       "    </tr>\n",
       "    <tr>\n",
       "      <th>1</th>\n",
       "      <td>1</td>\n",
       "      <td>1,31851E+34</td>\n",
       "      <td>1</td>\n",
       "      <td>A woman tries to balance her relationships with her mother and teenage daughter while under the shadow of #anorexia in the atmospheric British drama #BodyofWater. \\n\\nAt Depot from Friday, book now: https://lewesdepot.org/film/body-of-water\\n</td>\n",
       "      <td>0</td>\n",
       "      <td>0</td>\n",
       "      <td>0</td>\n",
       "      <td>0</td>\n",
       "      <td>['anorexia', 'BodyofWater']</td>\n",
       "      <td>['woman', 'try', 'balance', 'relationship', 'mother', 'teenage', 'daughter', 'shadow', 'atmospheric', 'british', 'drama', 'depot', 'friday', 'book']</td>\n",
       "      <td>anorexia  bodyof water</td>\n",
       "      <td>woman tries to balance her relationships with her mother and teenage daughter while under the shadow of in the atmospheric british drama at depot from friday book now</td>\n",
       "    </tr>\n",
       "  </tbody>\n",
       "</table>\n",
       "</div>"
      ],
      "text/plain": [
       "   num1        id_tw  stream_group  \\\n",
       "0     0  1,31851E+34             1   \n",
       "1     1  1,31851E+34             1   \n",
       "\n",
       "                                                                                                                                                                                                                                            text_orig  \\\n",
       "0                                                                                                       RT @beatED: Learn more about anorexia and bulimia, as well as other eating disorders, here: https://t.co/Aj2HbjRH39 @BBCPanorama #BBCPanorama   \n",
       "1  A woman tries to balance her relationships with her mother and teenage daughter while under the shadow of #anorexia in the atmospheric British drama #BodyofWater. \\n\\nAt Depot from Friday, book now: https://lewesdepot.org/film/body-of-water\\n   \n",
       "\n",
       "   f5_edpatient  f6_proed  f8_info  f9_scientific  \\\n",
       "0             0         0        1              0   \n",
       "1             0         0        0              0   \n",
       "\n",
       "                       hashtag  \\\n",
       "0              ['BBCPanorama']   \n",
       "1  ['anorexia', 'BodyofWater']   \n",
       "\n",
       "                                                                                                                                                   text  \\\n",
       "0                                                                                        ['learn', 'anorexia', 'bulimia', 'well', 'eating', 'disorder']   \n",
       "1  ['woman', 'try', 'balance', 'relationship', 'mother', 'teenage', 'daughter', 'shadow', 'atmospheric', 'british', 'drama', 'depot', 'friday', 'book']   \n",
       "\n",
       "                segmented  \\\n",
       "0            bbc panorama   \n",
       "1  anorexia  bodyof water   \n",
       "\n",
       "                                                                                                                                                             text_cleaned  \n",
       "0                                                                                         rt learn more about anorexia and bulimia as well as other eating disorders here  \n",
       "1  woman tries to balance her relationships with her mother and teenage daughter while under the shadow of in the atmospheric british drama at depot from friday book now  "
      ]
     },
     "execution_count": 14,
     "metadata": {},
     "output_type": "execute_result"
    }
   ],
   "source": [
    "tweets1.head(2)"
   ]
  },
  {
   "cell_type": "code",
   "execution_count": 15,
   "metadata": {},
   "outputs": [],
   "source": [
    "df = tweets1.copy()\n",
    "X = df['text_cleaned']\n",
    "Y1 = df['f5_edpatient']\n",
    "Y2 = df['f6_proed']\n",
    "Y3 = df['f8_info']\n",
    "Y4 = df['f9_scientific']"
   ]
  },
  {
   "cell_type": "code",
   "execution_count": 16,
   "metadata": {},
   "outputs": [],
   "source": [
    "X1_train, X1_test, y1_train, y1_test = train_test_split(X, Y1, test_size=0.3, random_state=42)\n",
    "X2_train, X2_test, y2_train, y2_test = train_test_split(X, Y2, test_size=0.3, random_state=42)\n",
    "X3_train, X3_test, y3_train, y3_test = train_test_split(X, Y3, test_size=0.3, random_state=42)\n",
    "X4_train, X4_test, y4_train, y4_test = train_test_split(X, Y4, test_size=0.3, random_state=42)"
   ]
  },
  {
   "cell_type": "code",
   "execution_count": 17,
   "metadata": {},
   "outputs": [
    {
     "data": {
      "text/plain": [
       "0    0.533333\n",
       "1    0.466667\n",
       "Name: f5_edpatient, dtype: float64"
      ]
     },
     "execution_count": 17,
     "metadata": {},
     "output_type": "execute_result"
    }
   ],
   "source": [
    "y1_test.value_counts(normalize=True)"
   ]
  },
  {
   "cell_type": "code",
   "execution_count": 18,
   "metadata": {},
   "outputs": [],
   "source": [
    "train_args ={\"reprocess_input_data\": True,\n",
    "           \"fp16\":False,\n",
    "             \"evaluate_during_training\": False,\n",
    "             \"evaluate_during_training_verbose\":False,\n",
    "             \"learning_rate\":2e-5,\n",
    "             \"train_batch_size\":32,\n",
    "             \"eval_batch_size\":32,\n",
    "           \"num_train_epochs\": 15, 'overwrite_output_dir': True, \"evaluation_strategy\":'epochs'\n",
    "            }\n",
    "#optimizer = torch.optim.SGD(model.parameters(), lr=0.01, momentum=0.9)\n",
    "\n",
    "\n",
    "def f1_multiclass(labels, preds):\n",
    "    return f1_score(labels, preds, average='micro')\n",
    "\n",
    "def calcule_f1(df):\n",
    "    return(df['tp'] / (df['tp'] + 0.5 * (df['fp'] + df['fn'])))\n",
    "\n",
    "import torch\n",
    "import gc\n",
    "from tqdm import tqdm\n",
    "\n",
    "\n",
    "dfEval1 = pd.DataFrame()"
   ]
  },
  {
   "cell_type": "code",
   "execution_count": 19,
   "metadata": {},
   "outputs": [
    {
     "data": {
      "text/plain": [
       "'\\nmodel1 = ClassificationModel(\\n\"bert\", \"bert-base-multilingual-cased\",\\n    use_cuda = True,\\n    args=train_args\\n)\\ntrain_df1 = pd.DataFrame({ \\'text_cleaned\\': X1_train, \\'target\\': y1_train })\\ntest_df1 = pd.DataFrame({ \\'text_cleaned\\': X1_test, \\'target\\': y1_test })\\n\\nmodel1.train_model(train_df1)\\nresult1, model_outputs1, wrong_predictions1 = model1.eval_model(test_df1, f1=f1_multiclass, acc=accuracy_score)\\nprint(result1)\\n#torch.save(model1, \\'model1\\'+str(i)+\\'.pt\\')\\ndel model1\\ngc.collect()\\ntorch.cuda.empty_cache()\\n'"
      ]
     },
     "execution_count": 19,
     "metadata": {},
     "output_type": "execute_result"
    }
   ],
   "source": [
    "indexBERT = ['BERT','RoBERTa','DistilBERT','CamemBERT','Albert','FlauBERT']\n",
    "\n",
    "train_df1 = pd.DataFrame({ 'text_cleaned': X1_train, 'target': y1_train })\n",
    "test_df1 = pd.DataFrame({ 'text_cleaned': X1_test, 'target': y1_test })\n",
    "\n",
    "train_df2 = pd.DataFrame({ 'text_cleaned': X2_train, 'target': y2_train })\n",
    "test_df2 = pd.DataFrame({ 'text_cleaned': X2_test, 'target': y2_test })\n",
    "\n",
    "train_df3 = pd.DataFrame({ 'text_cleaned': X3_train, 'target': y3_train })\n",
    "test_df3 = pd.DataFrame({ 'text_cleaned': X3_test, 'target': y3_test })\n",
    "\n",
    "train_df4 = pd.DataFrame({ 'text_cleaned': X4_train, 'target': y4_train })\n",
    "test_df4 = pd.DataFrame({ 'text_cleaned': X4_test, 'target': y4_test })\n",
    "\n",
    "'''\n",
    "model1 = ClassificationModel(\n",
    "\"bert\", \"bert-base-multilingual-cased\",\n",
    "    use_cuda = True,\n",
    "    args=train_args\n",
    ")\n",
    "train_df1 = pd.DataFrame({ 'text_cleaned': X1_train, 'target': y1_train })\n",
    "test_df1 = pd.DataFrame({ 'text_cleaned': X1_test, 'target': y1_test })\n",
    "\n",
    "model1.train_model(train_df1)\n",
    "result1, model_outputs1, wrong_predictions1 = model1.eval_model(test_df1, f1=f1_multiclass, acc=accuracy_score)\n",
    "print(result1)\n",
    "#torch.save(model1, 'model1'+str(i)+'.pt')\n",
    "del model1\n",
    "gc.collect()\n",
    "torch.cuda.empty_cache()\n",
    "'''\n"
   ]
  },
  {
   "cell_type": "code",
   "execution_count": 20,
   "metadata": {},
   "outputs": [],
   "source": [
    "# dfResultsModels2 = pd.DataFrame.from_dict(result1, orient=\"index\").T"
   ]
  },
  {
   "cell_type": "code",
   "execution_count": 21,
   "metadata": {},
   "outputs": [],
   "source": [
    "#dfResultsModels = dfResultsModels.append(dfResultsModels2)\n",
    "#dfResultsModels"
   ]
  },
  {
   "cell_type": "code",
   "execution_count": 22,
   "metadata": {},
   "outputs": [],
   "source": [
    "#pd.DataFrame(dfResultsModels.mean(axis=0)).T"
   ]
  },
  {
   "cell_type": "code",
   "execution_count": 20,
   "metadata": {},
   "outputs": [],
   "source": [
    "N_ITER = 1"
   ]
  },
  {
   "cell_type": "code",
   "execution_count": 21,
   "metadata": {},
   "outputs": [],
   "source": [
    "gc.collect()\n",
    "torch.cuda.empty_cache()"
   ]
  },
  {
   "cell_type": "code",
   "execution_count": 22,
   "metadata": {},
   "outputs": [
    {
     "name": "stderr",
     "output_type": "stream",
     "text": [
      "Some weights of the model checkpoint at bert-base-multilingual-cased were not used when initializing BertForSequenceClassification: ['cls.predictions.bias', 'cls.predictions.transform.dense.weight', 'cls.predictions.transform.dense.bias', 'cls.predictions.decoder.weight', 'cls.seq_relationship.weight', 'cls.seq_relationship.bias', 'cls.predictions.transform.LayerNorm.weight', 'cls.predictions.transform.LayerNorm.bias']\n",
      "- This IS expected if you are initializing BertForSequenceClassification from the checkpoint of a model trained on another task or with another architecture (e.g. initializing a BertForSequenceClassification model from a BertForPreTraining model).\n",
      "- This IS NOT expected if you are initializing BertForSequenceClassification from the checkpoint of a model that you expect to be exactly identical (initializing a BertForSequenceClassification model from a BertForSequenceClassification model).\n",
      "Some weights of BertForSequenceClassification were not initialized from the model checkpoint at bert-base-multilingual-cased and are newly initialized: ['classifier.weight', 'classifier.bias']\n",
      "You should probably TRAIN this model on a down-stream task to be able to use it for predictions and inference.\n",
      "C:\\Users\\MICROSOFT\\Anaconda3\\envs\\tfm2\\lib\\site-packages\\simpletransformers\\classification\\classification_model.py:446: UserWarning: Dataframe headers not specified. Falling back to using column 0 as text and column 1 as labels.\n",
      "  \"Dataframe headers not specified. Falling back to using column 0 as text and column 1 as labels.\"\n"
     ]
    },
    {
     "data": {
      "application/vnd.jupyter.widget-view+json": {
       "model_id": "b19fc9f1bd5e459fabcc456b7c3a9793",
       "version_major": 2,
       "version_minor": 0
      },
      "text/plain": [
       "  0%|          | 0/3 [00:00<?, ?it/s]"
      ]
     },
     "metadata": {},
     "output_type": "display_data"
    },
    {
     "data": {
      "application/vnd.jupyter.widget-view+json": {
       "model_id": "0a9b50618cf041a781d1a6e15dd8c41b",
       "version_major": 2,
       "version_minor": 0
      },
      "text/plain": [
       "Epoch:   0%|          | 0/15 [00:00<?, ?it/s]"
      ]
     },
     "metadata": {},
     "output_type": "display_data"
    },
    {
     "data": {
      "application/vnd.jupyter.widget-view+json": {
       "model_id": "47c5f7d57ecc40d58f21d7211107f04f",
       "version_major": 2,
       "version_minor": 0
      },
      "text/plain": [
       "Running Epoch 0 of 15:   0%|          | 0/44 [00:00<?, ?it/s]"
      ]
     },
     "metadata": {},
     "output_type": "display_data"
    },
    {
     "data": {
      "application/vnd.jupyter.widget-view+json": {
       "model_id": "d9a180ef25dd403181b47df738d7e51a",
       "version_major": 2,
       "version_minor": 0
      },
      "text/plain": [
       "Running Epoch 1 of 15:   0%|          | 0/44 [00:00<?, ?it/s]"
      ]
     },
     "metadata": {},
     "output_type": "display_data"
    },
    {
     "data": {
      "application/vnd.jupyter.widget-view+json": {
       "model_id": "436573c0893e40fc8a1684ca75b8f504",
       "version_major": 2,
       "version_minor": 0
      },
      "text/plain": [
       "Running Epoch 2 of 15:   0%|          | 0/44 [00:00<?, ?it/s]"
      ]
     },
     "metadata": {},
     "output_type": "display_data"
    },
    {
     "data": {
      "application/vnd.jupyter.widget-view+json": {
       "model_id": "e75711065b404e4fbe5bd848daf20e61",
       "version_major": 2,
       "version_minor": 0
      },
      "text/plain": [
       "Running Epoch 3 of 15:   0%|          | 0/44 [00:00<?, ?it/s]"
      ]
     },
     "metadata": {},
     "output_type": "display_data"
    },
    {
     "data": {
      "application/vnd.jupyter.widget-view+json": {
       "model_id": "1aab7b6409784463bdf09d0e54e4647d",
       "version_major": 2,
       "version_minor": 0
      },
      "text/plain": [
       "Running Epoch 4 of 15:   0%|          | 0/44 [00:00<?, ?it/s]"
      ]
     },
     "metadata": {},
     "output_type": "display_data"
    },
    {
     "data": {
      "application/vnd.jupyter.widget-view+json": {
       "model_id": "cdfa90dfb098400ca0041bced851868e",
       "version_major": 2,
       "version_minor": 0
      },
      "text/plain": [
       "Running Epoch 5 of 15:   0%|          | 0/44 [00:00<?, ?it/s]"
      ]
     },
     "metadata": {},
     "output_type": "display_data"
    },
    {
     "data": {
      "application/vnd.jupyter.widget-view+json": {
       "model_id": "cd9b0f2dd27642d3b45b5b4f371e06ab",
       "version_major": 2,
       "version_minor": 0
      },
      "text/plain": [
       "Running Epoch 6 of 15:   0%|          | 0/44 [00:00<?, ?it/s]"
      ]
     },
     "metadata": {},
     "output_type": "display_data"
    },
    {
     "data": {
      "application/vnd.jupyter.widget-view+json": {
       "model_id": "5bdd36bc8ea64519bba7d03287b19149",
       "version_major": 2,
       "version_minor": 0
      },
      "text/plain": [
       "Running Epoch 7 of 15:   0%|          | 0/44 [00:00<?, ?it/s]"
      ]
     },
     "metadata": {},
     "output_type": "display_data"
    },
    {
     "data": {
      "application/vnd.jupyter.widget-view+json": {
       "model_id": "05f2a8f236a249c6b0b2c014e12cb259",
       "version_major": 2,
       "version_minor": 0
      },
      "text/plain": [
       "Running Epoch 8 of 15:   0%|          | 0/44 [00:00<?, ?it/s]"
      ]
     },
     "metadata": {},
     "output_type": "display_data"
    },
    {
     "data": {
      "application/vnd.jupyter.widget-view+json": {
       "model_id": "3b54d7429cd7410a901039a2d89a4f4f",
       "version_major": 2,
       "version_minor": 0
      },
      "text/plain": [
       "Running Epoch 9 of 15:   0%|          | 0/44 [00:00<?, ?it/s]"
      ]
     },
     "metadata": {},
     "output_type": "display_data"
    },
    {
     "data": {
      "application/vnd.jupyter.widget-view+json": {
       "model_id": "ac87bd458c5a4cf7a068704fe3eaa104",
       "version_major": 2,
       "version_minor": 0
      },
      "text/plain": [
       "Running Epoch 10 of 15:   0%|          | 0/44 [00:00<?, ?it/s]"
      ]
     },
     "metadata": {},
     "output_type": "display_data"
    },
    {
     "data": {
      "application/vnd.jupyter.widget-view+json": {
       "model_id": "a973a10e76614229921df594871b40b5",
       "version_major": 2,
       "version_minor": 0
      },
      "text/plain": [
       "Running Epoch 11 of 15:   0%|          | 0/44 [00:00<?, ?it/s]"
      ]
     },
     "metadata": {},
     "output_type": "display_data"
    },
    {
     "data": {
      "application/vnd.jupyter.widget-view+json": {
       "model_id": "ed3294eb2bf44cbb98dbfe413a092860",
       "version_major": 2,
       "version_minor": 0
      },
      "text/plain": [
       "Running Epoch 12 of 15:   0%|          | 0/44 [00:00<?, ?it/s]"
      ]
     },
     "metadata": {},
     "output_type": "display_data"
    },
    {
     "data": {
      "application/vnd.jupyter.widget-view+json": {
       "model_id": "3aff36ce6af7497da3be5b2159f52760",
       "version_major": 2,
       "version_minor": 0
      },
      "text/plain": [
       "Running Epoch 13 of 15:   0%|          | 0/44 [00:00<?, ?it/s]"
      ]
     },
     "metadata": {},
     "output_type": "display_data"
    },
    {
     "data": {
      "application/vnd.jupyter.widget-view+json": {
       "model_id": "d58dbcf4cf114cc8ab19d76bb7a868ce",
       "version_major": 2,
       "version_minor": 0
      },
      "text/plain": [
       "Running Epoch 14 of 15:   0%|          | 0/44 [00:00<?, ?it/s]"
      ]
     },
     "metadata": {},
     "output_type": "display_data"
    },
    {
     "name": "stderr",
     "output_type": "stream",
     "text": [
      "C:\\Users\\MICROSOFT\\Anaconda3\\envs\\tfm2\\lib\\site-packages\\simpletransformers\\classification\\classification_model.py:1026: UserWarning: Dataframe headers not specified. Falling back to using column 0 as text and column 1 as labels.\n",
      "  \"Dataframe headers not specified. Falling back to using column 0 as text and column 1 as labels.\"\n"
     ]
    },
    {
     "data": {
      "application/vnd.jupyter.widget-view+json": {
       "model_id": "d8d6b537d59d4d52a34d0d013d12f23d",
       "version_major": 2,
       "version_minor": 0
      },
      "text/plain": [
       "Running Evaluation:   0%|          | 0/19 [00:00<?, ?it/s]"
      ]
     },
     "metadata": {},
     "output_type": "display_data"
    },
    {
     "name": "stdout",
     "output_type": "stream",
     "text": [
      "{'mcc': 0.7125821199537189, 'tp': 240, 'tn': 274, 'fp': 46, 'fn': 40, 'auroc': 0.9246149553571428, 'auprc': 0.9054694575758212, 'f1': 0.8566666666666667, 'acc': 0.8566666666666667, 'eval_loss': 0.9413808748910302}\n"
     ]
    },
    {
     "data": {
      "application/vnd.jupyter.widget-view+json": {
       "model_id": "7b87906173744e81a36bf54e5f7a5be2",
       "version_major": 2,
       "version_minor": 0
      },
      "text/plain": [
       "Downloading:   0%|          | 0.00/501M [00:00<?, ?B/s]"
      ]
     },
     "metadata": {},
     "output_type": "display_data"
    },
    {
     "name": "stderr",
     "output_type": "stream",
     "text": [
      "Some weights of the model checkpoint at roberta-base were not used when initializing RobertaForSequenceClassification: ['lm_head.bias', 'lm_head.dense.weight', 'lm_head.dense.bias', 'lm_head.layer_norm.weight', 'lm_head.layer_norm.bias', 'lm_head.decoder.weight']\n",
      "- This IS expected if you are initializing RobertaForSequenceClassification from the checkpoint of a model trained on another task or with another architecture (e.g. initializing a BertForSequenceClassification model from a BertForPreTraining model).\n",
      "- This IS NOT expected if you are initializing RobertaForSequenceClassification from the checkpoint of a model that you expect to be exactly identical (initializing a BertForSequenceClassification model from a BertForSequenceClassification model).\n",
      "Some weights of RobertaForSequenceClassification were not initialized from the model checkpoint at roberta-base and are newly initialized: ['classifier.dense.weight', 'classifier.dense.bias', 'classifier.out_proj.weight', 'classifier.out_proj.bias']\n",
      "You should probably TRAIN this model on a down-stream task to be able to use it for predictions and inference.\n"
     ]
    },
    {
     "data": {
      "application/vnd.jupyter.widget-view+json": {
       "model_id": "3d604d51de2342259d3fb26fbeda0870",
       "version_major": 2,
       "version_minor": 0
      },
      "text/plain": [
       "  0%|          | 0/3 [00:00<?, ?it/s]"
      ]
     },
     "metadata": {},
     "output_type": "display_data"
    },
    {
     "data": {
      "application/vnd.jupyter.widget-view+json": {
       "model_id": "43534394cd2e4d609bce5fe464aa1a92",
       "version_major": 2,
       "version_minor": 0
      },
      "text/plain": [
       "Epoch:   0%|          | 0/15 [00:00<?, ?it/s]"
      ]
     },
     "metadata": {},
     "output_type": "display_data"
    },
    {
     "data": {
      "application/vnd.jupyter.widget-view+json": {
       "model_id": "71883b931a164543a9cc441b2b0d8bec",
       "version_major": 2,
       "version_minor": 0
      },
      "text/plain": [
       "Running Epoch 0 of 15:   0%|          | 0/44 [00:00<?, ?it/s]"
      ]
     },
     "metadata": {},
     "output_type": "display_data"
    },
    {
     "data": {
      "application/vnd.jupyter.widget-view+json": {
       "model_id": "877ce06c46d3420a8399d7e3696b5147",
       "version_major": 2,
       "version_minor": 0
      },
      "text/plain": [
       "Running Epoch 1 of 15:   0%|          | 0/44 [00:00<?, ?it/s]"
      ]
     },
     "metadata": {},
     "output_type": "display_data"
    },
    {
     "data": {
      "application/vnd.jupyter.widget-view+json": {
       "model_id": "af335e8e9b4740949ee1cf3bbc81ce99",
       "version_major": 2,
       "version_minor": 0
      },
      "text/plain": [
       "Running Epoch 2 of 15:   0%|          | 0/44 [00:00<?, ?it/s]"
      ]
     },
     "metadata": {},
     "output_type": "display_data"
    },
    {
     "data": {
      "application/vnd.jupyter.widget-view+json": {
       "model_id": "6b672b174ee043218902af94589c9687",
       "version_major": 2,
       "version_minor": 0
      },
      "text/plain": [
       "Running Epoch 3 of 15:   0%|          | 0/44 [00:00<?, ?it/s]"
      ]
     },
     "metadata": {},
     "output_type": "display_data"
    },
    {
     "data": {
      "application/vnd.jupyter.widget-view+json": {
       "model_id": "4a989bd9978543048de1ad89c954d17f",
       "version_major": 2,
       "version_minor": 0
      },
      "text/plain": [
       "Running Epoch 4 of 15:   0%|          | 0/44 [00:00<?, ?it/s]"
      ]
     },
     "metadata": {},
     "output_type": "display_data"
    },
    {
     "data": {
      "application/vnd.jupyter.widget-view+json": {
       "model_id": "44266002df4349299236c2e4df2c10a8",
       "version_major": 2,
       "version_minor": 0
      },
      "text/plain": [
       "Running Epoch 5 of 15:   0%|          | 0/44 [00:00<?, ?it/s]"
      ]
     },
     "metadata": {},
     "output_type": "display_data"
    },
    {
     "data": {
      "application/vnd.jupyter.widget-view+json": {
       "model_id": "2725be1b638a4818844c484b5b99afbb",
       "version_major": 2,
       "version_minor": 0
      },
      "text/plain": [
       "Running Epoch 6 of 15:   0%|          | 0/44 [00:00<?, ?it/s]"
      ]
     },
     "metadata": {},
     "output_type": "display_data"
    },
    {
     "data": {
      "application/vnd.jupyter.widget-view+json": {
       "model_id": "cec454f2ea364c2aae30bc896773e22b",
       "version_major": 2,
       "version_minor": 0
      },
      "text/plain": [
       "Running Epoch 7 of 15:   0%|          | 0/44 [00:00<?, ?it/s]"
      ]
     },
     "metadata": {},
     "output_type": "display_data"
    },
    {
     "data": {
      "application/vnd.jupyter.widget-view+json": {
       "model_id": "2690ba1238714d0899b93508330dc493",
       "version_major": 2,
       "version_minor": 0
      },
      "text/plain": [
       "Running Epoch 8 of 15:   0%|          | 0/44 [00:00<?, ?it/s]"
      ]
     },
     "metadata": {},
     "output_type": "display_data"
    },
    {
     "data": {
      "application/vnd.jupyter.widget-view+json": {
       "model_id": "de33e003416f471791ee57e83c585a7c",
       "version_major": 2,
       "version_minor": 0
      },
      "text/plain": [
       "Running Epoch 9 of 15:   0%|          | 0/44 [00:00<?, ?it/s]"
      ]
     },
     "metadata": {},
     "output_type": "display_data"
    },
    {
     "data": {
      "application/vnd.jupyter.widget-view+json": {
       "model_id": "8d93984dbb4e4e40b50ba7ab0fe20d9e",
       "version_major": 2,
       "version_minor": 0
      },
      "text/plain": [
       "Running Epoch 10 of 15:   0%|          | 0/44 [00:00<?, ?it/s]"
      ]
     },
     "metadata": {},
     "output_type": "display_data"
    },
    {
     "data": {
      "application/vnd.jupyter.widget-view+json": {
       "model_id": "321b0d8dd4f4445d98430f3c696ebe1d",
       "version_major": 2,
       "version_minor": 0
      },
      "text/plain": [
       "Running Epoch 11 of 15:   0%|          | 0/44 [00:00<?, ?it/s]"
      ]
     },
     "metadata": {},
     "output_type": "display_data"
    },
    {
     "data": {
      "application/vnd.jupyter.widget-view+json": {
       "model_id": "c44ada1709bc4cadb076d2cd077b3e6d",
       "version_major": 2,
       "version_minor": 0
      },
      "text/plain": [
       "Running Epoch 12 of 15:   0%|          | 0/44 [00:00<?, ?it/s]"
      ]
     },
     "metadata": {},
     "output_type": "display_data"
    },
    {
     "data": {
      "application/vnd.jupyter.widget-view+json": {
       "model_id": "a523328f48a94e13bf2c0dd6c471888f",
       "version_major": 2,
       "version_minor": 0
      },
      "text/plain": [
       "Running Epoch 13 of 15:   0%|          | 0/44 [00:00<?, ?it/s]"
      ]
     },
     "metadata": {},
     "output_type": "display_data"
    },
    {
     "data": {
      "application/vnd.jupyter.widget-view+json": {
       "model_id": "b47a3cfe58774bbda145220fad65ba97",
       "version_major": 2,
       "version_minor": 0
      },
      "text/plain": [
       "Running Epoch 14 of 15:   0%|          | 0/44 [00:00<?, ?it/s]"
      ]
     },
     "metadata": {},
     "output_type": "display_data"
    },
    {
     "data": {
      "application/vnd.jupyter.widget-view+json": {
       "model_id": "9c9c5f8b5e4942d2b19a1589351e5838",
       "version_major": 2,
       "version_minor": 0
      },
      "text/plain": [
       "Running Evaluation:   0%|          | 0/19 [00:00<?, ?it/s]"
      ]
     },
     "metadata": {},
     "output_type": "display_data"
    },
    {
     "name": "stdout",
     "output_type": "stream",
     "text": [
      "{'mcc': 0.7401314093289127, 'tp': 247, 'tn': 275, 'fp': 45, 'fn': 33, 'auroc': 0.9286216517857142, 'auprc': 0.8940643632991042, 'f1': 0.87, 'acc': 0.87, 'eval_loss': 0.9732028089071575}\n"
     ]
    },
    {
     "data": {
      "application/vnd.jupyter.widget-view+json": {
       "model_id": "7f15c8b5e09e4d2784319bce59534594",
       "version_major": 2,
       "version_minor": 0
      },
      "text/plain": [
       "Downloading:   0%|          | 0.00/263M [00:00<?, ?B/s]"
      ]
     },
     "metadata": {},
     "output_type": "display_data"
    },
    {
     "name": "stderr",
     "output_type": "stream",
     "text": [
      "Some weights of the model checkpoint at distilbert-base-cased were not used when initializing DistilBertForSequenceClassification: ['vocab_transform.weight', 'vocab_transform.bias', 'vocab_layer_norm.weight', 'vocab_layer_norm.bias', 'vocab_projector.weight', 'vocab_projector.bias']\n",
      "- This IS expected if you are initializing DistilBertForSequenceClassification from the checkpoint of a model trained on another task or with another architecture (e.g. initializing a BertForSequenceClassification model from a BertForPreTraining model).\n",
      "- This IS NOT expected if you are initializing DistilBertForSequenceClassification from the checkpoint of a model that you expect to be exactly identical (initializing a BertForSequenceClassification model from a BertForSequenceClassification model).\n",
      "Some weights of DistilBertForSequenceClassification were not initialized from the model checkpoint at distilbert-base-cased and are newly initialized: ['pre_classifier.weight', 'pre_classifier.bias', 'classifier.weight', 'classifier.bias']\n",
      "You should probably TRAIN this model on a down-stream task to be able to use it for predictions and inference.\n"
     ]
    },
    {
     "data": {
      "application/vnd.jupyter.widget-view+json": {
       "model_id": "81de71d5ebe542339a3525a4896e1a2c",
       "version_major": 2,
       "version_minor": 0
      },
      "text/plain": [
       "  0%|          | 0/3 [00:00<?, ?it/s]"
      ]
     },
     "metadata": {},
     "output_type": "display_data"
    },
    {
     "data": {
      "application/vnd.jupyter.widget-view+json": {
       "model_id": "feb322aa3b9c441fad775e3d98c0467d",
       "version_major": 2,
       "version_minor": 0
      },
      "text/plain": [
       "Epoch:   0%|          | 0/15 [00:00<?, ?it/s]"
      ]
     },
     "metadata": {},
     "output_type": "display_data"
    },
    {
     "data": {
      "application/vnd.jupyter.widget-view+json": {
       "model_id": "e72fbd8d4eb14a488d98bccf3c53b784",
       "version_major": 2,
       "version_minor": 0
      },
      "text/plain": [
       "Running Epoch 0 of 15:   0%|          | 0/44 [00:00<?, ?it/s]"
      ]
     },
     "metadata": {},
     "output_type": "display_data"
    },
    {
     "data": {
      "application/vnd.jupyter.widget-view+json": {
       "model_id": "a02060b247944f0386d2e98f6a35c911",
       "version_major": 2,
       "version_minor": 0
      },
      "text/plain": [
       "Running Epoch 1 of 15:   0%|          | 0/44 [00:00<?, ?it/s]"
      ]
     },
     "metadata": {},
     "output_type": "display_data"
    },
    {
     "data": {
      "application/vnd.jupyter.widget-view+json": {
       "model_id": "12f0a3e545ef40fbb21dd7dcb42c957e",
       "version_major": 2,
       "version_minor": 0
      },
      "text/plain": [
       "Running Epoch 2 of 15:   0%|          | 0/44 [00:00<?, ?it/s]"
      ]
     },
     "metadata": {},
     "output_type": "display_data"
    },
    {
     "data": {
      "application/vnd.jupyter.widget-view+json": {
       "model_id": "d1f0199de4784afcbe47ae420027b2ba",
       "version_major": 2,
       "version_minor": 0
      },
      "text/plain": [
       "Running Epoch 3 of 15:   0%|          | 0/44 [00:00<?, ?it/s]"
      ]
     },
     "metadata": {},
     "output_type": "display_data"
    },
    {
     "data": {
      "application/vnd.jupyter.widget-view+json": {
       "model_id": "c8a3e52bc71a49c195e430114f1d6a7e",
       "version_major": 2,
       "version_minor": 0
      },
      "text/plain": [
       "Running Epoch 4 of 15:   0%|          | 0/44 [00:00<?, ?it/s]"
      ]
     },
     "metadata": {},
     "output_type": "display_data"
    },
    {
     "data": {
      "application/vnd.jupyter.widget-view+json": {
       "model_id": "a309fe9cf85d4944b6a7b4c79efbdaf2",
       "version_major": 2,
       "version_minor": 0
      },
      "text/plain": [
       "Running Epoch 5 of 15:   0%|          | 0/44 [00:00<?, ?it/s]"
      ]
     },
     "metadata": {},
     "output_type": "display_data"
    },
    {
     "data": {
      "application/vnd.jupyter.widget-view+json": {
       "model_id": "b2b1dfe08e514d87bd1f262df7c00709",
       "version_major": 2,
       "version_minor": 0
      },
      "text/plain": [
       "Running Epoch 6 of 15:   0%|          | 0/44 [00:00<?, ?it/s]"
      ]
     },
     "metadata": {},
     "output_type": "display_data"
    },
    {
     "data": {
      "application/vnd.jupyter.widget-view+json": {
       "model_id": "f910385df1384eb0803678338be981b8",
       "version_major": 2,
       "version_minor": 0
      },
      "text/plain": [
       "Running Epoch 7 of 15:   0%|          | 0/44 [00:00<?, ?it/s]"
      ]
     },
     "metadata": {},
     "output_type": "display_data"
    },
    {
     "data": {
      "application/vnd.jupyter.widget-view+json": {
       "model_id": "e1967f0daab544418cb7605fffdf37d8",
       "version_major": 2,
       "version_minor": 0
      },
      "text/plain": [
       "Running Epoch 8 of 15:   0%|          | 0/44 [00:00<?, ?it/s]"
      ]
     },
     "metadata": {},
     "output_type": "display_data"
    },
    {
     "data": {
      "application/vnd.jupyter.widget-view+json": {
       "model_id": "23beaaea547f4441afa25abc96baf367",
       "version_major": 2,
       "version_minor": 0
      },
      "text/plain": [
       "Running Epoch 9 of 15:   0%|          | 0/44 [00:00<?, ?it/s]"
      ]
     },
     "metadata": {},
     "output_type": "display_data"
    },
    {
     "data": {
      "application/vnd.jupyter.widget-view+json": {
       "model_id": "03fb01b31d6d4eb784f7a85f366c4336",
       "version_major": 2,
       "version_minor": 0
      },
      "text/plain": [
       "Running Epoch 10 of 15:   0%|          | 0/44 [00:00<?, ?it/s]"
      ]
     },
     "metadata": {},
     "output_type": "display_data"
    },
    {
     "data": {
      "application/vnd.jupyter.widget-view+json": {
       "model_id": "c8ad72736e334dceaf5e423f047f36b9",
       "version_major": 2,
       "version_minor": 0
      },
      "text/plain": [
       "Running Epoch 11 of 15:   0%|          | 0/44 [00:00<?, ?it/s]"
      ]
     },
     "metadata": {},
     "output_type": "display_data"
    },
    {
     "data": {
      "application/vnd.jupyter.widget-view+json": {
       "model_id": "e2bbaffc573f46e6adf49d3e3c55e940",
       "version_major": 2,
       "version_minor": 0
      },
      "text/plain": [
       "Running Epoch 12 of 15:   0%|          | 0/44 [00:00<?, ?it/s]"
      ]
     },
     "metadata": {},
     "output_type": "display_data"
    },
    {
     "data": {
      "application/vnd.jupyter.widget-view+json": {
       "model_id": "5c0e34ed5a2547e3a65fed27b61db511",
       "version_major": 2,
       "version_minor": 0
      },
      "text/plain": [
       "Running Epoch 13 of 15:   0%|          | 0/44 [00:00<?, ?it/s]"
      ]
     },
     "metadata": {},
     "output_type": "display_data"
    },
    {
     "data": {
      "application/vnd.jupyter.widget-view+json": {
       "model_id": "c17c458c724b4666837f412b3767e68f",
       "version_major": 2,
       "version_minor": 0
      },
      "text/plain": [
       "Running Epoch 14 of 15:   0%|          | 0/44 [00:00<?, ?it/s]"
      ]
     },
     "metadata": {},
     "output_type": "display_data"
    },
    {
     "data": {
      "application/vnd.jupyter.widget-view+json": {
       "model_id": "cf2c60be9e754eb0bb3943f2205d534c",
       "version_major": 2,
       "version_minor": 0
      },
      "text/plain": [
       "Running Evaluation:   0%|          | 0/19 [00:00<?, ?it/s]"
      ]
     },
     "metadata": {},
     "output_type": "display_data"
    },
    {
     "name": "stdout",
     "output_type": "stream",
     "text": [
      "{'mcc': 0.6787300638893413, 'tp': 233, 'tn': 271, 'fp': 49, 'fn': 47, 'auroc': 0.8910100446428572, 'auprc': 0.8525270979405933, 'f1': 0.8399999999999999, 'acc': 0.84, 'eval_loss': 0.8221388929768613}\n"
     ]
    },
    {
     "data": {
      "application/vnd.jupyter.widget-view+json": {
       "model_id": "abf89de22b5b432c9c4512d7ee1b72bc",
       "version_major": 2,
       "version_minor": 0
      },
      "text/plain": [
       "Downloading:   0%|          | 0.00/445M [00:00<?, ?B/s]"
      ]
     },
     "metadata": {},
     "output_type": "display_data"
    },
    {
     "name": "stderr",
     "output_type": "stream",
     "text": [
      "Some weights of the model checkpoint at camembert-base were not used when initializing CamembertForSequenceClassification: ['lm_head.bias', 'lm_head.dense.weight', 'lm_head.dense.bias', 'lm_head.layer_norm.weight', 'lm_head.layer_norm.bias', 'lm_head.decoder.weight']\n",
      "- This IS expected if you are initializing CamembertForSequenceClassification from the checkpoint of a model trained on another task or with another architecture (e.g. initializing a BertForSequenceClassification model from a BertForPreTraining model).\n",
      "- This IS NOT expected if you are initializing CamembertForSequenceClassification from the checkpoint of a model that you expect to be exactly identical (initializing a BertForSequenceClassification model from a BertForSequenceClassification model).\n",
      "Some weights of CamembertForSequenceClassification were not initialized from the model checkpoint at camembert-base and are newly initialized: ['classifier.dense.weight', 'classifier.dense.bias', 'classifier.out_proj.weight', 'classifier.out_proj.bias']\n",
      "You should probably TRAIN this model on a down-stream task to be able to use it for predictions and inference.\n",
      "C:\\Users\\MICROSOFT\\Anaconda3\\envs\\tfm2\\lib\\site-packages\\simpletransformers\\classification\\classification_model.py:345: UserWarning: use_multiprocessing automatically disabled as camembert fails when using multiprocessing for feature conversion.\n",
      "  f\"use_multiprocessing automatically disabled as {model_type}\"\n"
     ]
    },
    {
     "data": {
      "application/vnd.jupyter.widget-view+json": {
       "model_id": "85a985e1d66c41a2a485e69460df4221",
       "version_major": 2,
       "version_minor": 0
      },
      "text/plain": [
       "Epoch:   0%|          | 0/15 [00:00<?, ?it/s]"
      ]
     },
     "metadata": {},
     "output_type": "display_data"
    },
    {
     "data": {
      "application/vnd.jupyter.widget-view+json": {
       "model_id": "b6e8086525a643bf88e6b9ad55cc8b0b",
       "version_major": 2,
       "version_minor": 0
      },
      "text/plain": [
       "Running Epoch 0 of 15:   0%|          | 0/44 [00:00<?, ?it/s]"
      ]
     },
     "metadata": {},
     "output_type": "display_data"
    },
    {
     "data": {
      "application/vnd.jupyter.widget-view+json": {
       "model_id": "afa96bb3a6624a0c9a024c8d9433eff0",
       "version_major": 2,
       "version_minor": 0
      },
      "text/plain": [
       "Running Epoch 1 of 15:   0%|          | 0/44 [00:00<?, ?it/s]"
      ]
     },
     "metadata": {},
     "output_type": "display_data"
    },
    {
     "data": {
      "application/vnd.jupyter.widget-view+json": {
       "model_id": "ce8b40935cce46fab000c143147e5061",
       "version_major": 2,
       "version_minor": 0
      },
      "text/plain": [
       "Running Epoch 2 of 15:   0%|          | 0/44 [00:00<?, ?it/s]"
      ]
     },
     "metadata": {},
     "output_type": "display_data"
    },
    {
     "data": {
      "application/vnd.jupyter.widget-view+json": {
       "model_id": "5d0025a5528740899afd952de927aa64",
       "version_major": 2,
       "version_minor": 0
      },
      "text/plain": [
       "Running Epoch 3 of 15:   0%|          | 0/44 [00:00<?, ?it/s]"
      ]
     },
     "metadata": {},
     "output_type": "display_data"
    },
    {
     "data": {
      "application/vnd.jupyter.widget-view+json": {
       "model_id": "23dfb50a4abb40e38d18f59f345a8c77",
       "version_major": 2,
       "version_minor": 0
      },
      "text/plain": [
       "Running Epoch 4 of 15:   0%|          | 0/44 [00:00<?, ?it/s]"
      ]
     },
     "metadata": {},
     "output_type": "display_data"
    },
    {
     "data": {
      "application/vnd.jupyter.widget-view+json": {
       "model_id": "dc936ac0e5a648ea84c104f289c9e34b",
       "version_major": 2,
       "version_minor": 0
      },
      "text/plain": [
       "Running Epoch 5 of 15:   0%|          | 0/44 [00:00<?, ?it/s]"
      ]
     },
     "metadata": {},
     "output_type": "display_data"
    },
    {
     "data": {
      "application/vnd.jupyter.widget-view+json": {
       "model_id": "f283ad65e6e34a6d9926d36e075cc829",
       "version_major": 2,
       "version_minor": 0
      },
      "text/plain": [
       "Running Epoch 6 of 15:   0%|          | 0/44 [00:00<?, ?it/s]"
      ]
     },
     "metadata": {},
     "output_type": "display_data"
    },
    {
     "data": {
      "application/vnd.jupyter.widget-view+json": {
       "model_id": "1ad92703dacf40a9973769d017a3cd7b",
       "version_major": 2,
       "version_minor": 0
      },
      "text/plain": [
       "Running Epoch 7 of 15:   0%|          | 0/44 [00:00<?, ?it/s]"
      ]
     },
     "metadata": {},
     "output_type": "display_data"
    },
    {
     "data": {
      "application/vnd.jupyter.widget-view+json": {
       "model_id": "521270d48ea24f07b72f298a4b8008a0",
       "version_major": 2,
       "version_minor": 0
      },
      "text/plain": [
       "Running Epoch 8 of 15:   0%|          | 0/44 [00:00<?, ?it/s]"
      ]
     },
     "metadata": {},
     "output_type": "display_data"
    },
    {
     "data": {
      "application/vnd.jupyter.widget-view+json": {
       "model_id": "f25f13812a014a13b939fb8cfbbcbe73",
       "version_major": 2,
       "version_minor": 0
      },
      "text/plain": [
       "Running Epoch 9 of 15:   0%|          | 0/44 [00:00<?, ?it/s]"
      ]
     },
     "metadata": {},
     "output_type": "display_data"
    },
    {
     "data": {
      "application/vnd.jupyter.widget-view+json": {
       "model_id": "5e46fb558e7747bc962852c7da2cf721",
       "version_major": 2,
       "version_minor": 0
      },
      "text/plain": [
       "Running Epoch 10 of 15:   0%|          | 0/44 [00:00<?, ?it/s]"
      ]
     },
     "metadata": {},
     "output_type": "display_data"
    },
    {
     "data": {
      "application/vnd.jupyter.widget-view+json": {
       "model_id": "960f76a97e054193abede0f17a81627c",
       "version_major": 2,
       "version_minor": 0
      },
      "text/plain": [
       "Running Epoch 11 of 15:   0%|          | 0/44 [00:00<?, ?it/s]"
      ]
     },
     "metadata": {},
     "output_type": "display_data"
    },
    {
     "data": {
      "application/vnd.jupyter.widget-view+json": {
       "model_id": "cdc4fafc59be439c83b612962f34f890",
       "version_major": 2,
       "version_minor": 0
      },
      "text/plain": [
       "Running Epoch 12 of 15:   0%|          | 0/44 [00:00<?, ?it/s]"
      ]
     },
     "metadata": {},
     "output_type": "display_data"
    },
    {
     "data": {
      "application/vnd.jupyter.widget-view+json": {
       "model_id": "05c29a0aa106463995de7d72f99d2a27",
       "version_major": 2,
       "version_minor": 0
      },
      "text/plain": [
       "Running Epoch 13 of 15:   0%|          | 0/44 [00:00<?, ?it/s]"
      ]
     },
     "metadata": {},
     "output_type": "display_data"
    },
    {
     "data": {
      "application/vnd.jupyter.widget-view+json": {
       "model_id": "bbffe5ea43844759ab14234e5bd17f4d",
       "version_major": 2,
       "version_minor": 0
      },
      "text/plain": [
       "Running Epoch 14 of 15:   0%|          | 0/44 [00:00<?, ?it/s]"
      ]
     },
     "metadata": {},
     "output_type": "display_data"
    },
    {
     "data": {
      "application/vnd.jupyter.widget-view+json": {
       "model_id": "54e8fe9448cd486caf56527fe4cf6202",
       "version_major": 2,
       "version_minor": 0
      },
      "text/plain": [
       "Running Evaluation:   0%|          | 0/19 [00:00<?, ?it/s]"
      ]
     },
     "metadata": {},
     "output_type": "display_data"
    },
    {
     "name": "stdout",
     "output_type": "stream",
     "text": [
      "{'mcc': 0.7023602819495106, 'tp': 225, 'tn': 286, 'fp': 34, 'fn': 55, 'auroc': 0.9146930803571429, 'auprc': 0.9030916365215786, 'f1': 0.8516666666666667, 'acc': 0.8516666666666667, 'eval_loss': 0.5645891224083147}\n"
     ]
    },
    {
     "name": "stderr",
     "output_type": "stream",
     "text": [
      "Some weights of the model checkpoint at albert-base-v1 were not used when initializing AlbertForSequenceClassification: ['predictions.bias', 'predictions.LayerNorm.weight', 'predictions.LayerNorm.bias', 'predictions.dense.weight', 'predictions.dense.bias', 'predictions.decoder.weight', 'predictions.decoder.bias']\n",
      "- This IS expected if you are initializing AlbertForSequenceClassification from the checkpoint of a model trained on another task or with another architecture (e.g. initializing a BertForSequenceClassification model from a BertForPreTraining model).\n",
      "- This IS NOT expected if you are initializing AlbertForSequenceClassification from the checkpoint of a model that you expect to be exactly identical (initializing a BertForSequenceClassification model from a BertForSequenceClassification model).\n",
      "Some weights of AlbertForSequenceClassification were not initialized from the model checkpoint at albert-base-v1 and are newly initialized: ['classifier.weight', 'classifier.bias']\n",
      "You should probably TRAIN this model on a down-stream task to be able to use it for predictions and inference.\n"
     ]
    },
    {
     "data": {
      "application/vnd.jupyter.widget-view+json": {
       "model_id": "bede5c576aed49ccb9c1657447d6cb3a",
       "version_major": 2,
       "version_minor": 0
      },
      "text/plain": [
       "  0%|          | 0/3 [00:00<?, ?it/s]"
      ]
     },
     "metadata": {},
     "output_type": "display_data"
    },
    {
     "data": {
      "application/vnd.jupyter.widget-view+json": {
       "model_id": "f4f004f631334b24b8661c05e44c56c9",
       "version_major": 2,
       "version_minor": 0
      },
      "text/plain": [
       "Epoch:   0%|          | 0/15 [00:00<?, ?it/s]"
      ]
     },
     "metadata": {},
     "output_type": "display_data"
    },
    {
     "data": {
      "application/vnd.jupyter.widget-view+json": {
       "model_id": "1bd504f0049a4995aa638fe792887e9c",
       "version_major": 2,
       "version_minor": 0
      },
      "text/plain": [
       "Running Epoch 0 of 15:   0%|          | 0/44 [00:00<?, ?it/s]"
      ]
     },
     "metadata": {},
     "output_type": "display_data"
    },
    {
     "data": {
      "application/vnd.jupyter.widget-view+json": {
       "model_id": "3953f432dcc046b3b93dda1945315a75",
       "version_major": 2,
       "version_minor": 0
      },
      "text/plain": [
       "Running Epoch 1 of 15:   0%|          | 0/44 [00:00<?, ?it/s]"
      ]
     },
     "metadata": {},
     "output_type": "display_data"
    },
    {
     "data": {
      "application/vnd.jupyter.widget-view+json": {
       "model_id": "52b96b25c625420b8098b225425260b5",
       "version_major": 2,
       "version_minor": 0
      },
      "text/plain": [
       "Running Epoch 2 of 15:   0%|          | 0/44 [00:00<?, ?it/s]"
      ]
     },
     "metadata": {},
     "output_type": "display_data"
    },
    {
     "data": {
      "application/vnd.jupyter.widget-view+json": {
       "model_id": "415242b5da65407f896bb7ad29f260e6",
       "version_major": 2,
       "version_minor": 0
      },
      "text/plain": [
       "Running Epoch 3 of 15:   0%|          | 0/44 [00:00<?, ?it/s]"
      ]
     },
     "metadata": {},
     "output_type": "display_data"
    },
    {
     "data": {
      "application/vnd.jupyter.widget-view+json": {
       "model_id": "f19c4f6ff5ee48179cc1bd12087af2ef",
       "version_major": 2,
       "version_minor": 0
      },
      "text/plain": [
       "Running Epoch 4 of 15:   0%|          | 0/44 [00:00<?, ?it/s]"
      ]
     },
     "metadata": {},
     "output_type": "display_data"
    },
    {
     "data": {
      "application/vnd.jupyter.widget-view+json": {
       "model_id": "4541f8755873416992a8d49657744cdd",
       "version_major": 2,
       "version_minor": 0
      },
      "text/plain": [
       "Running Epoch 5 of 15:   0%|          | 0/44 [00:00<?, ?it/s]"
      ]
     },
     "metadata": {},
     "output_type": "display_data"
    },
    {
     "data": {
      "application/vnd.jupyter.widget-view+json": {
       "model_id": "73d640e7c04a4ce0ad10e4b235093338",
       "version_major": 2,
       "version_minor": 0
      },
      "text/plain": [
       "Running Epoch 6 of 15:   0%|          | 0/44 [00:00<?, ?it/s]"
      ]
     },
     "metadata": {},
     "output_type": "display_data"
    },
    {
     "data": {
      "application/vnd.jupyter.widget-view+json": {
       "model_id": "440ee36bd9c84350b5f87067b965e4d4",
       "version_major": 2,
       "version_minor": 0
      },
      "text/plain": [
       "Running Epoch 7 of 15:   0%|          | 0/44 [00:00<?, ?it/s]"
      ]
     },
     "metadata": {},
     "output_type": "display_data"
    },
    {
     "data": {
      "application/vnd.jupyter.widget-view+json": {
       "model_id": "4ea5c54331894128a563b8e1611dbb10",
       "version_major": 2,
       "version_minor": 0
      },
      "text/plain": [
       "Running Epoch 8 of 15:   0%|          | 0/44 [00:00<?, ?it/s]"
      ]
     },
     "metadata": {},
     "output_type": "display_data"
    },
    {
     "data": {
      "application/vnd.jupyter.widget-view+json": {
       "model_id": "8b8148ce864b4cc7b5962e0061bb51ad",
       "version_major": 2,
       "version_minor": 0
      },
      "text/plain": [
       "Running Epoch 9 of 15:   0%|          | 0/44 [00:00<?, ?it/s]"
      ]
     },
     "metadata": {},
     "output_type": "display_data"
    },
    {
     "data": {
      "application/vnd.jupyter.widget-view+json": {
       "model_id": "4376b05fb0054af89e68d08b95fbd7ab",
       "version_major": 2,
       "version_minor": 0
      },
      "text/plain": [
       "Running Epoch 10 of 15:   0%|          | 0/44 [00:00<?, ?it/s]"
      ]
     },
     "metadata": {},
     "output_type": "display_data"
    },
    {
     "data": {
      "application/vnd.jupyter.widget-view+json": {
       "model_id": "2c2a9b3986b841bc88ad94445ddab00d",
       "version_major": 2,
       "version_minor": 0
      },
      "text/plain": [
       "Running Epoch 11 of 15:   0%|          | 0/44 [00:00<?, ?it/s]"
      ]
     },
     "metadata": {},
     "output_type": "display_data"
    },
    {
     "data": {
      "application/vnd.jupyter.widget-view+json": {
       "model_id": "bb825811dd3644498c66af75c3c652c9",
       "version_major": 2,
       "version_minor": 0
      },
      "text/plain": [
       "Running Epoch 12 of 15:   0%|          | 0/44 [00:00<?, ?it/s]"
      ]
     },
     "metadata": {},
     "output_type": "display_data"
    },
    {
     "data": {
      "application/vnd.jupyter.widget-view+json": {
       "model_id": "cbe40b411adc401e9752f3e36359510d",
       "version_major": 2,
       "version_minor": 0
      },
      "text/plain": [
       "Running Epoch 13 of 15:   0%|          | 0/44 [00:00<?, ?it/s]"
      ]
     },
     "metadata": {},
     "output_type": "display_data"
    },
    {
     "data": {
      "application/vnd.jupyter.widget-view+json": {
       "model_id": "d2bee43eb87f435f9aa1f84d13c2c26b",
       "version_major": 2,
       "version_minor": 0
      },
      "text/plain": [
       "Running Epoch 14 of 15:   0%|          | 0/44 [00:00<?, ?it/s]"
      ]
     },
     "metadata": {},
     "output_type": "display_data"
    },
    {
     "data": {
      "application/vnd.jupyter.widget-view+json": {
       "model_id": "c224e3095a434bda9a165f76048ab2a1",
       "version_major": 2,
       "version_minor": 0
      },
      "text/plain": [
       "Running Evaluation:   0%|          | 0/19 [00:00<?, ?it/s]"
      ]
     },
     "metadata": {},
     "output_type": "display_data"
    },
    {
     "name": "stdout",
     "output_type": "stream",
     "text": [
      "{'mcc': 0.6614834162237766, 'tp': 226, 'tn': 273, 'fp': 47, 'fn': 54, 'auroc': 0.893197544642857, 'auprc': 0.8645988119086377, 'f1': 0.8316666666666667, 'acc': 0.8316666666666667, 'eval_loss': 0.9176747030333469}\n"
     ]
    },
    {
     "data": {
      "application/vnd.jupyter.widget-view+json": {
       "model_id": "ea14874f777f4c178f7af1db6bce9661",
       "version_major": 2,
       "version_minor": 0
      },
      "text/plain": [
       "Downloading:   0%|          | 0.00/553M [00:00<?, ?B/s]"
      ]
     },
     "metadata": {},
     "output_type": "display_data"
    },
    {
     "name": "stderr",
     "output_type": "stream",
     "text": [
      "Some weights of the model checkpoint at flaubert/flaubert_base_cased were not used when initializing FlaubertForSequenceClassification: ['pred_layer.proj.bias', 'pred_layer.proj.weight']\n",
      "- This IS expected if you are initializing FlaubertForSequenceClassification from the checkpoint of a model trained on another task or with another architecture (e.g. initializing a BertForSequenceClassification model from a BertForPreTraining model).\n",
      "- This IS NOT expected if you are initializing FlaubertForSequenceClassification from the checkpoint of a model that you expect to be exactly identical (initializing a BertForSequenceClassification model from a BertForSequenceClassification model).\n",
      "Some weights of FlaubertForSequenceClassification were not initialized from the model checkpoint at flaubert/flaubert_base_cased and are newly initialized: ['position_embeddings.weight', 'embeddings.weight', 'layer_norm_emb.weight', 'layer_norm_emb.bias', 'attentions.0.q_lin.weight', 'attentions.0.q_lin.bias', 'attentions.0.k_lin.weight', 'attentions.0.k_lin.bias', 'attentions.0.v_lin.weight', 'attentions.0.v_lin.bias', 'attentions.0.out_lin.weight', 'attentions.0.out_lin.bias', 'attentions.1.q_lin.weight', 'attentions.1.q_lin.bias', 'attentions.1.k_lin.weight', 'attentions.1.k_lin.bias', 'attentions.1.v_lin.weight', 'attentions.1.v_lin.bias', 'attentions.1.out_lin.weight', 'attentions.1.out_lin.bias', 'attentions.2.q_lin.weight', 'attentions.2.q_lin.bias', 'attentions.2.k_lin.weight', 'attentions.2.k_lin.bias', 'attentions.2.v_lin.weight', 'attentions.2.v_lin.bias', 'attentions.2.out_lin.weight', 'attentions.2.out_lin.bias', 'attentions.3.q_lin.weight', 'attentions.3.q_lin.bias', 'attentions.3.k_lin.weight', 'attentions.3.k_lin.bias', 'attentions.3.v_lin.weight', 'attentions.3.v_lin.bias', 'attentions.3.out_lin.weight', 'attentions.3.out_lin.bias', 'attentions.4.q_lin.weight', 'attentions.4.q_lin.bias', 'attentions.4.k_lin.weight', 'attentions.4.k_lin.bias', 'attentions.4.v_lin.weight', 'attentions.4.v_lin.bias', 'attentions.4.out_lin.weight', 'attentions.4.out_lin.bias', 'attentions.5.q_lin.weight', 'attentions.5.q_lin.bias', 'attentions.5.k_lin.weight', 'attentions.5.k_lin.bias', 'attentions.5.v_lin.weight', 'attentions.5.v_lin.bias', 'attentions.5.out_lin.weight', 'attentions.5.out_lin.bias', 'attentions.6.q_lin.weight', 'attentions.6.q_lin.bias', 'attentions.6.k_lin.weight', 'attentions.6.k_lin.bias', 'attentions.6.v_lin.weight', 'attentions.6.v_lin.bias', 'attentions.6.out_lin.weight', 'attentions.6.out_lin.bias', 'attentions.7.q_lin.weight', 'attentions.7.q_lin.bias', 'attentions.7.k_lin.weight', 'attentions.7.k_lin.bias', 'attentions.7.v_lin.weight', 'attentions.7.v_lin.bias', 'attentions.7.out_lin.weight', 'attentions.7.out_lin.bias', 'attentions.8.q_lin.weight', 'attentions.8.q_lin.bias', 'attentions.8.k_lin.weight', 'attentions.8.k_lin.bias', 'attentions.8.v_lin.weight', 'attentions.8.v_lin.bias', 'attentions.8.out_lin.weight', 'attentions.8.out_lin.bias', 'attentions.9.q_lin.weight', 'attentions.9.q_lin.bias', 'attentions.9.k_lin.weight', 'attentions.9.k_lin.bias', 'attentions.9.v_lin.weight', 'attentions.9.v_lin.bias', 'attentions.9.out_lin.weight', 'attentions.9.out_lin.bias', 'attentions.10.q_lin.weight', 'attentions.10.q_lin.bias', 'attentions.10.k_lin.weight', 'attentions.10.k_lin.bias', 'attentions.10.v_lin.weight', 'attentions.10.v_lin.bias', 'attentions.10.out_lin.weight', 'attentions.10.out_lin.bias', 'attentions.11.q_lin.weight', 'attentions.11.q_lin.bias', 'attentions.11.k_lin.weight', 'attentions.11.k_lin.bias', 'attentions.11.v_lin.weight', 'attentions.11.v_lin.bias', 'attentions.11.out_lin.weight', 'attentions.11.out_lin.bias', 'layer_norm1.0.weight', 'layer_norm1.0.bias', 'layer_norm1.1.weight', 'layer_norm1.1.bias', 'layer_norm1.2.weight', 'layer_norm1.2.bias', 'layer_norm1.3.weight', 'layer_norm1.3.bias', 'layer_norm1.4.weight', 'layer_norm1.4.bias', 'layer_norm1.5.weight', 'layer_norm1.5.bias', 'layer_norm1.6.weight', 'layer_norm1.6.bias', 'layer_norm1.7.weight', 'layer_norm1.7.bias', 'layer_norm1.8.weight', 'layer_norm1.8.bias', 'layer_norm1.9.weight', 'layer_norm1.9.bias', 'layer_norm1.10.weight', 'layer_norm1.10.bias', 'layer_norm1.11.weight', 'layer_norm1.11.bias', 'ffns.0.lin1.weight', 'ffns.0.lin1.bias', 'ffns.0.lin2.weight', 'ffns.0.lin2.bias', 'ffns.1.lin1.weight', 'ffns.1.lin1.bias', 'ffns.1.lin2.weight', 'ffns.1.lin2.bias', 'ffns.2.lin1.weight', 'ffns.2.lin1.bias', 'ffns.2.lin2.weight', 'ffns.2.lin2.bias', 'ffns.3.lin1.weight', 'ffns.3.lin1.bias', 'ffns.3.lin2.weight', 'ffns.3.lin2.bias', 'ffns.4.lin1.weight', 'ffns.4.lin1.bias', 'ffns.4.lin2.weight', 'ffns.4.lin2.bias', 'ffns.5.lin1.weight', 'ffns.5.lin1.bias', 'ffns.5.lin2.weight', 'ffns.5.lin2.bias', 'ffns.6.lin1.weight', 'ffns.6.lin1.bias', 'ffns.6.lin2.weight', 'ffns.6.lin2.bias', 'ffns.7.lin1.weight', 'ffns.7.lin1.bias', 'ffns.7.lin2.weight', 'ffns.7.lin2.bias', 'ffns.8.lin1.weight', 'ffns.8.lin1.bias', 'ffns.8.lin2.weight', 'ffns.8.lin2.bias', 'ffns.9.lin1.weight', 'ffns.9.lin1.bias', 'ffns.9.lin2.weight', 'ffns.9.lin2.bias', 'ffns.10.lin1.weight', 'ffns.10.lin1.bias', 'ffns.10.lin2.weight', 'ffns.10.lin2.bias', 'ffns.11.lin1.weight', 'ffns.11.lin1.bias', 'ffns.11.lin2.weight', 'ffns.11.lin2.bias', 'layer_norm2.0.weight', 'layer_norm2.0.bias', 'layer_norm2.1.weight', 'layer_norm2.1.bias', 'layer_norm2.2.weight', 'layer_norm2.2.bias', 'layer_norm2.3.weight', 'layer_norm2.3.bias', 'layer_norm2.4.weight', 'layer_norm2.4.bias', 'layer_norm2.5.weight', 'layer_norm2.5.bias', 'layer_norm2.6.weight', 'layer_norm2.6.bias', 'layer_norm2.7.weight', 'layer_norm2.7.bias', 'layer_norm2.8.weight', 'layer_norm2.8.bias', 'layer_norm2.9.weight', 'layer_norm2.9.bias', 'layer_norm2.10.weight', 'layer_norm2.10.bias', 'layer_norm2.11.weight', 'layer_norm2.11.bias', 'sequence_summary.summary.weight', 'sequence_summary.summary.bias']\n",
      "You should probably TRAIN this model on a down-stream task to be able to use it for predictions and inference.\n"
     ]
    },
    {
     "data": {
      "application/vnd.jupyter.widget-view+json": {
       "model_id": "0d1b16dba91c41ae8f6ae2f67c3f9d82",
       "version_major": 2,
       "version_minor": 0
      },
      "text/plain": [
       "  0%|          | 0/3 [00:00<?, ?it/s]"
      ]
     },
     "metadata": {},
     "output_type": "display_data"
    },
    {
     "data": {
      "application/vnd.jupyter.widget-view+json": {
       "model_id": "201de013d50c466180c8484403e101e5",
       "version_major": 2,
       "version_minor": 0
      },
      "text/plain": [
       "Epoch:   0%|          | 0/15 [00:00<?, ?it/s]"
      ]
     },
     "metadata": {},
     "output_type": "display_data"
    },
    {
     "data": {
      "application/vnd.jupyter.widget-view+json": {
       "model_id": "e2b59112d9b54cd7b666c48f635efc5d",
       "version_major": 2,
       "version_minor": 0
      },
      "text/plain": [
       "Running Epoch 0 of 15:   0%|          | 0/44 [00:00<?, ?it/s]"
      ]
     },
     "metadata": {},
     "output_type": "display_data"
    },
    {
     "data": {
      "application/vnd.jupyter.widget-view+json": {
       "model_id": "8d4bf7b71c7242f087d041919e60ee36",
       "version_major": 2,
       "version_minor": 0
      },
      "text/plain": [
       "Running Epoch 1 of 15:   0%|          | 0/44 [00:00<?, ?it/s]"
      ]
     },
     "metadata": {},
     "output_type": "display_data"
    },
    {
     "data": {
      "application/vnd.jupyter.widget-view+json": {
       "model_id": "2b4b67f460774a4ba1bbd6d625d17332",
       "version_major": 2,
       "version_minor": 0
      },
      "text/plain": [
       "Running Epoch 2 of 15:   0%|          | 0/44 [00:00<?, ?it/s]"
      ]
     },
     "metadata": {},
     "output_type": "display_data"
    },
    {
     "data": {
      "application/vnd.jupyter.widget-view+json": {
       "model_id": "4d0c3fb1a6144001b31d61a069c9d530",
       "version_major": 2,
       "version_minor": 0
      },
      "text/plain": [
       "Running Epoch 3 of 15:   0%|          | 0/44 [00:00<?, ?it/s]"
      ]
     },
     "metadata": {},
     "output_type": "display_data"
    },
    {
     "data": {
      "application/vnd.jupyter.widget-view+json": {
       "model_id": "ab89d3b804cf4070a09c5146abac6153",
       "version_major": 2,
       "version_minor": 0
      },
      "text/plain": [
       "Running Epoch 4 of 15:   0%|          | 0/44 [00:00<?, ?it/s]"
      ]
     },
     "metadata": {},
     "output_type": "display_data"
    },
    {
     "data": {
      "application/vnd.jupyter.widget-view+json": {
       "model_id": "8794ba5fa03c43479138b2fcbea1e2ec",
       "version_major": 2,
       "version_minor": 0
      },
      "text/plain": [
       "Running Epoch 5 of 15:   0%|          | 0/44 [00:00<?, ?it/s]"
      ]
     },
     "metadata": {},
     "output_type": "display_data"
    },
    {
     "data": {
      "application/vnd.jupyter.widget-view+json": {
       "model_id": "2ce90751850b42f6b5d535053af34a89",
       "version_major": 2,
       "version_minor": 0
      },
      "text/plain": [
       "Running Epoch 6 of 15:   0%|          | 0/44 [00:00<?, ?it/s]"
      ]
     },
     "metadata": {},
     "output_type": "display_data"
    },
    {
     "data": {
      "application/vnd.jupyter.widget-view+json": {
       "model_id": "3db5c62bd97d46d7af9b1a62be93517b",
       "version_major": 2,
       "version_minor": 0
      },
      "text/plain": [
       "Running Epoch 7 of 15:   0%|          | 0/44 [00:00<?, ?it/s]"
      ]
     },
     "metadata": {},
     "output_type": "display_data"
    },
    {
     "data": {
      "application/vnd.jupyter.widget-view+json": {
       "model_id": "45c241cd50cc4be882ec30727a35ed6a",
       "version_major": 2,
       "version_minor": 0
      },
      "text/plain": [
       "Running Epoch 8 of 15:   0%|          | 0/44 [00:00<?, ?it/s]"
      ]
     },
     "metadata": {},
     "output_type": "display_data"
    },
    {
     "data": {
      "application/vnd.jupyter.widget-view+json": {
       "model_id": "9c54bc2de23542adae2a921ef06489dd",
       "version_major": 2,
       "version_minor": 0
      },
      "text/plain": [
       "Running Epoch 9 of 15:   0%|          | 0/44 [00:00<?, ?it/s]"
      ]
     },
     "metadata": {},
     "output_type": "display_data"
    },
    {
     "data": {
      "application/vnd.jupyter.widget-view+json": {
       "model_id": "12f1bf4b5cd34c5fbd8f7fbca221c3d3",
       "version_major": 2,
       "version_minor": 0
      },
      "text/plain": [
       "Running Epoch 10 of 15:   0%|          | 0/44 [00:00<?, ?it/s]"
      ]
     },
     "metadata": {},
     "output_type": "display_data"
    },
    {
     "data": {
      "application/vnd.jupyter.widget-view+json": {
       "model_id": "7622f0d56b7a4c77b0bf3e2bb39e25e1",
       "version_major": 2,
       "version_minor": 0
      },
      "text/plain": [
       "Running Epoch 11 of 15:   0%|          | 0/44 [00:00<?, ?it/s]"
      ]
     },
     "metadata": {},
     "output_type": "display_data"
    },
    {
     "data": {
      "application/vnd.jupyter.widget-view+json": {
       "model_id": "3c3b88e4d07a47749f9dedb96bac4298",
       "version_major": 2,
       "version_minor": 0
      },
      "text/plain": [
       "Running Epoch 12 of 15:   0%|          | 0/44 [00:00<?, ?it/s]"
      ]
     },
     "metadata": {},
     "output_type": "display_data"
    },
    {
     "data": {
      "application/vnd.jupyter.widget-view+json": {
       "model_id": "d4e3a0372b644cc08a7c61782da3e272",
       "version_major": 2,
       "version_minor": 0
      },
      "text/plain": [
       "Running Epoch 13 of 15:   0%|          | 0/44 [00:00<?, ?it/s]"
      ]
     },
     "metadata": {},
     "output_type": "display_data"
    },
    {
     "data": {
      "application/vnd.jupyter.widget-view+json": {
       "model_id": "e4e4284bf51348388c6400dc14b746eb",
       "version_major": 2,
       "version_minor": 0
      },
      "text/plain": [
       "Running Epoch 14 of 15:   0%|          | 0/44 [00:00<?, ?it/s]"
      ]
     },
     "metadata": {},
     "output_type": "display_data"
    },
    {
     "data": {
      "application/vnd.jupyter.widget-view+json": {
       "model_id": "353dc8e244564ffbb73f1668e2b577ae",
       "version_major": 2,
       "version_minor": 0
      },
      "text/plain": [
       "Running Evaluation:   0%|          | 0/19 [00:00<?, ?it/s]"
      ]
     },
     "metadata": {},
     "output_type": "display_data"
    },
    {
     "name": "stdout",
     "output_type": "stream",
     "text": [
      "{'mcc': 0.6883031031753994, 'tp': 229, 'tn': 278, 'fp': 42, 'fn': 51, 'auroc': 0.8951841517857142, 'auprc': 0.8830031992621106, 'f1': 0.845, 'acc': 0.845, 'eval_loss': 0.8026676836766695}\n"
     ]
    }
   ],
   "source": [
    "'''\n",
    "torch.load(model1, 'model1.pt')\n",
    "model1.train_model(train_df1)\n",
    "result1, model_outputs1, wrong_predictions1 = model1.eval_model(test_df1, f1=f1_multiclass, acc=accuracy_score)\n",
    "print(result1)\n",
    "del model1\n",
    "gc.collect()\n",
    "'''\n",
    "#gc.collect()\n",
    "#torch.cuda.empty_cache()\n",
    "limitsave=0\n",
    "train_df1 = pd.DataFrame({ 'text_cleaned': X1_train, 'target': y1_train })\n",
    "test_df1 = pd.DataFrame({ 'text_cleaned': X1_test, 'target': y1_test })\n",
    "\n",
    "'''\n",
    "train_df1 = pd.DataFrame({ 'text_cleaned': X2_train, 'target': y2_train })\n",
    "test_df1 = pd.DataFrame({ 'text_cleaned': X2_test, 'target': y2_test })\n",
    "\n",
    "train_df1 = pd.DataFrame({ 'text_cleaned': X3_train, 'target': y3_train })\n",
    "test_df1 = pd.DataFrame({ 'text_cleaned': X3_test, 'target': y3_test })\n",
    "\n",
    "train_df1 = pd.DataFrame({ 'text_cleaned': X4_train, 'target': y4_train })\n",
    "test_df1 = pd.DataFrame({ 'text_cleaned': X4_test, 'target': y4_test })\n",
    "'''\n",
    "\n",
    "for i in range(0,N_ITER):\n",
    "    model1 = ClassificationModel(\n",
    "    \"bert\", \"bert-base-multilingual-cased\",\n",
    "        use_cuda = True,\n",
    "        args=train_args\n",
    "    )\n",
    "    model1.train_model(train_df1)\n",
    "    result1, model_outputs1, wrong_predictions1 = model1.eval_model(test_df1, f1=f1_multiclass, acc=accuracy_score)\n",
    "    print(result1)\n",
    "    if(i<limitsave):\n",
    "        torch.save(model1, 'model1'+str(i)+'.pt')\n",
    "    del model1\n",
    "    gc.collect()\n",
    "    torch.cuda.empty_cache()\n",
    "    if(i==0):\n",
    "        dfResultsModels1 = pd.DataFrame.from_dict(result1, orient=\"index\").T\n",
    "    else:\n",
    "        dfResultsModels1b = pd.DataFrame.from_dict(result1, orient=\"index\").T\n",
    "        dfResultsModels1 = dfResultsModels1.append(dfResultsModels1b)\n",
    "        \n",
    "dfResultsModels1Trans = pd.DataFrame(dfResultsModels1.mean(axis=0)).T\n",
    "dfResultsModels1Trans['f1'] = calcule_f1(dfResultsModels1Trans)\n",
    "\n",
    "dfResultsModelsTotal = dfResultsModels1Trans.copy()\n",
    "dfResultsModelsTotal.to_csv('dfResultsModelsTotal-1.csv')\n",
    "\n",
    "#dfResultsModelsTotal = pd.read_csv('dfResultsModelsTotal.csv', encoding='utf8', error_bad_lines=False)\n",
    "        \n",
    "for i in range(0,N_ITER):\n",
    "    model1c = ClassificationModel(\n",
    "    \"roberta\", \"roberta-base\",\n",
    "        use_cuda = True,\n",
    "        args=train_args\n",
    "    )\n",
    "    model1c.train_model(train_df1)\n",
    "\n",
    "    result1c, model_outputs1c, wrong_predictions1c = model1c.eval_model(test_df1, f1=f1_multiclass, acc=accuracy_score)\n",
    "    print(result1c)\n",
    "    if(i<limitsave):\n",
    "        torch.save(model1c, 'model1c'+str(i)+'.pt')\n",
    "    del model1c\n",
    "    gc.collect()\n",
    "    if(i==0):\n",
    "        dfResultsModels1c = pd.DataFrame.from_dict(result1c, orient=\"index\").T\n",
    "    else:\n",
    "        dfResultsModels1b = pd.DataFrame.from_dict(result1c, orient=\"index\").T\n",
    "        dfResultsModels1c = dfResultsModels1c.append(dfResultsModels1b)\n",
    "\n",
    "dfResultsModels1cTrans = pd.DataFrame(dfResultsModels1c.mean(axis=0)).T\n",
    "dfResultsModels1cTrans['f1'] = calcule_f1(dfResultsModels1cTrans)\n",
    "dfResultsModelsTotal = dfResultsModelsTotal.append(dfResultsModels1cTrans)\n",
    "dfResultsModelsTotal.to_csv('dfResultsModelsTotal-1.csv')\n",
    "\n",
    "\n",
    "\n",
    "for i in range(0,N_ITER):\n",
    "    model1d = ClassificationModel(\n",
    "    \"distilbert\", \"distilbert-base-cased\",\n",
    "        use_cuda = True,\n",
    "        args=train_args\n",
    "    )\n",
    "    model1d.train_model(train_df1)\n",
    "\n",
    "    result1d, model_outputs1d, wrong_predictions1d = model1d.eval_model(test_df1, f1=f1_multiclass, acc=accuracy_score)\n",
    "    print(result1d)\n",
    "    if(i<limitsave):\n",
    "        torch.save(model1d, 'model1d'+str(i)+'.pt')\n",
    "    del model1d\n",
    "    gc.collect()\n",
    "    if(i==0):\n",
    "        dfResultsModels1d = pd.DataFrame.from_dict(result1d, orient=\"index\").T\n",
    "    else:\n",
    "        dfResultsModels1b = pd.DataFrame.from_dict(result1d, orient=\"index\").T\n",
    "        dfResultsModels1d = dfResultsModels1d.append(dfResultsModels1b)\n",
    "\n",
    "dfResultsModels1dTrans = pd.DataFrame(dfResultsModels1d.mean(axis=0)).T\n",
    "dfResultsModels1dTrans['f1'] = calcule_f1(dfResultsModels1dTrans)\n",
    "dfResultsModelsTotal = dfResultsModelsTotal.append(dfResultsModels1dTrans)\n",
    "\n",
    "dfResultsModelsTotal.to_csv('dfResultsModelsTotal-1.csv')\n",
    "\n",
    "\n",
    "\n",
    "for i in range(0,N_ITER):\n",
    "    model1e = ClassificationModel(\n",
    "    \"camembert\", \"camembert-base\",\n",
    "        use_cuda = True,\n",
    "        args=train_args\n",
    "    )\n",
    "    model1e.train_model(train_df1)\n",
    "\n",
    "    result1e, model_outputs1e, wrong_predictions1e = model1e.eval_model(test_df1, f1=f1_multiclass, acc=accuracy_score)\n",
    "    print(result1e)\n",
    "    if(i<limitsave):\n",
    "        torch.save(model1e, 'model1e'+str(i)+'.pt')\n",
    "    del model1e\n",
    "    gc.collect()\n",
    "    if(i==0):\n",
    "        dfResultsModels1e = pd.DataFrame.from_dict(result1e, orient=\"index\").T\n",
    "    else:\n",
    "        dfResultsModels1b = pd.DataFrame.from_dict(result1e, orient=\"index\").T\n",
    "        dfResultsModels1e = dfResultsModels1e.append(dfResultsModels1b)\n",
    "\n",
    "dfResultsModels1eTrans = pd.DataFrame(dfResultsModels1e.mean(axis=0)).T\n",
    "dfResultsModels1eTrans['f1'] = calcule_f1(dfResultsModels1eTrans)\n",
    "dfResultsModelsTotal = dfResultsModelsTotal.append(dfResultsModels1eTrans)\n",
    "\n",
    "dfResultsModelsTotal.to_csv('dfResultsModelsTotal-1.csv')\n",
    "\n",
    "\n",
    "for i in range(0,N_ITER):\n",
    "    model1f = ClassificationModel(\n",
    "    \"albert\", \"albert-base-v1\",\n",
    "        use_cuda = True,\n",
    "        args=train_args\n",
    "    )\n",
    "    model1f.train_model(train_df1)\n",
    "\n",
    "    result1f, model_outputs1f, wrong_predictions1f = model1f.eval_model(test_df1, f1=f1_multiclass, acc=accuracy_score)\n",
    "    print(result1f)\n",
    "    if(i<limitsave):\n",
    "        torch.save(model1f, 'model1f'+str(i)+'.pt')\n",
    "    del model1f\n",
    "    gc.collect()\n",
    "    if(i==0):\n",
    "        dfResultsModels1f = pd.DataFrame.from_dict(result1f, orient=\"index\").T\n",
    "    else:\n",
    "        dfResultsModels1b = pd.DataFrame.from_dict(result1f, orient=\"index\").T\n",
    "        dfResultsModels1f = dfResultsModels1f.append(dfResultsModels1b)\n",
    "\n",
    "dfResultsModels1fTrans = pd.DataFrame(dfResultsModels1f.mean(axis=0)).T\n",
    "dfResultsModels1fTrans['f1'] = calcule_f1(dfResultsModels1fTrans)\n",
    "dfResultsModelsTotal = dfResultsModelsTotal.append(dfResultsModels1fTrans)\n",
    "dfResultsModelsTotal.to_csv('dfResultsModelsTotal-1.csv')\n",
    "\n",
    "\n",
    "\n",
    "for i in range(0,N_ITER):\n",
    "    model1g = ClassificationModel(\n",
    "    \"flaubert\",\"flaubert/flaubert_base_cased\",\n",
    "        use_cuda = True,\n",
    "        args=train_args\n",
    "    )\n",
    "    model1g.train_model(train_df1)\n",
    "\n",
    "    result1g, model_outputs1g, wrong_predictions1g = model1g.eval_model(test_df1, f1=f1_multiclass, acc=accuracy_score)\n",
    "    print(result1g)\n",
    "    if(i<limitsave):\n",
    "        torch.save(model1g, 'model1g'+str(i)+'.pt')\n",
    "    del model1g\n",
    "    gc.collect()\n",
    "    if(i==0):\n",
    "        dfResultsModels1g = pd.DataFrame.from_dict(result1g, orient=\"index\").T\n",
    "    else:\n",
    "        dfResultsModels1b = pd.DataFrame.from_dict(result1g, orient=\"index\").T\n",
    "        dfResultsModels1g = dfResultsModels1g.append(dfResultsModels1b)\n",
    "\n",
    "dfResultsModels1gTrans = pd.DataFrame(dfResultsModels1g.mean(axis=0)).T\n",
    "dfResultsModels1gTrans['f1'] = calcule_f1(dfResultsModels1gTrans)\n",
    "dfResultsModelsTotal = dfResultsModelsTotal.append(dfResultsModels1gTrans)\n",
    "dfResultsModelsTotal.to_csv('dfResultsModelsTotal-1.csv')\n",
    "\n"
   ]
  },
  {
   "cell_type": "code",
   "execution_count": 27,
   "metadata": {},
   "outputs": [
    {
     "data": {
      "text/html": [
       "<div>\n",
       "<style scoped>\n",
       "    .dataframe tbody tr th:only-of-type {\n",
       "        vertical-align: middle;\n",
       "    }\n",
       "\n",
       "    .dataframe tbody tr th {\n",
       "        vertical-align: top;\n",
       "    }\n",
       "\n",
       "    .dataframe thead th {\n",
       "        text-align: right;\n",
       "    }\n",
       "</style>\n",
       "<table border=\"1\" class=\"dataframe\">\n",
       "  <thead>\n",
       "    <tr style=\"text-align: right;\">\n",
       "      <th></th>\n",
       "      <th>mcc</th>\n",
       "      <th>tp</th>\n",
       "      <th>tn</th>\n",
       "      <th>fp</th>\n",
       "      <th>fn</th>\n",
       "      <th>auroc</th>\n",
       "      <th>auprc</th>\n",
       "      <th>f1</th>\n",
       "      <th>acc</th>\n",
       "      <th>eval_loss</th>\n",
       "    </tr>\n",
       "  </thead>\n",
       "  <tbody>\n",
       "    <tr>\n",
       "      <th>BERT</th>\n",
       "      <td>0.680467</td>\n",
       "      <td>94.0</td>\n",
       "      <td>442.0</td>\n",
       "      <td>25.0</td>\n",
       "      <td>39.0</td>\n",
       "      <td>0.941218</td>\n",
       "      <td>0.859753</td>\n",
       "      <td>0.746032</td>\n",
       "      <td>0.893333</td>\n",
       "      <td>0.588485</td>\n",
       "    </tr>\n",
       "    <tr>\n",
       "      <th>RoBERTa</th>\n",
       "      <td>0.766940</td>\n",
       "      <td>108.0</td>\n",
       "      <td>444.0</td>\n",
       "      <td>23.0</td>\n",
       "      <td>25.0</td>\n",
       "      <td>0.954984</td>\n",
       "      <td>0.873154</td>\n",
       "      <td>0.818182</td>\n",
       "      <td>0.920000</td>\n",
       "      <td>0.565434</td>\n",
       "    </tr>\n",
       "    <tr>\n",
       "      <th>DistilBERT</th>\n",
       "      <td>0.718376</td>\n",
       "      <td>103.0</td>\n",
       "      <td>439.0</td>\n",
       "      <td>28.0</td>\n",
       "      <td>30.0</td>\n",
       "      <td>0.940783</td>\n",
       "      <td>0.792160</td>\n",
       "      <td>0.780303</td>\n",
       "      <td>0.903333</td>\n",
       "      <td>0.526942</td>\n",
       "    </tr>\n",
       "    <tr>\n",
       "      <th>CamemBERT</th>\n",
       "      <td>0.703988</td>\n",
       "      <td>95.0</td>\n",
       "      <td>446.0</td>\n",
       "      <td>21.0</td>\n",
       "      <td>38.0</td>\n",
       "      <td>0.959299</td>\n",
       "      <td>0.836378</td>\n",
       "      <td>0.763052</td>\n",
       "      <td>0.901667</td>\n",
       "      <td>0.382991</td>\n",
       "    </tr>\n",
       "    <tr>\n",
       "      <th>Albert</th>\n",
       "      <td>0.640215</td>\n",
       "      <td>90.0</td>\n",
       "      <td>438.0</td>\n",
       "      <td>29.0</td>\n",
       "      <td>43.0</td>\n",
       "      <td>0.937193</td>\n",
       "      <td>0.829862</td>\n",
       "      <td>0.714286</td>\n",
       "      <td>0.880000</td>\n",
       "      <td>0.702584</td>\n",
       "    </tr>\n",
       "    <tr>\n",
       "      <th>Flaubert</th>\n",
       "      <td>0.721388</td>\n",
       "      <td>105.0</td>\n",
       "      <td>437.0</td>\n",
       "      <td>30.0</td>\n",
       "      <td>28.0</td>\n",
       "      <td>0.953486</td>\n",
       "      <td>0.857952</td>\n",
       "      <td>0.783582</td>\n",
       "      <td>0.903333</td>\n",
       "      <td>0.302684</td>\n",
       "    </tr>\n",
       "  </tbody>\n",
       "</table>\n",
       "</div>"
      ],
      "text/plain": [
       "                 mcc     tp     tn    fp    fn     auroc     auprc        f1  \\\n",
       "BERT        0.680467   94.0  442.0  25.0  39.0  0.941218  0.859753  0.746032   \n",
       "RoBERTa     0.766940  108.0  444.0  23.0  25.0  0.954984  0.873154  0.818182   \n",
       "DistilBERT  0.718376  103.0  439.0  28.0  30.0  0.940783  0.792160  0.780303   \n",
       "CamemBERT   0.703988   95.0  446.0  21.0  38.0  0.959299  0.836378  0.763052   \n",
       "Albert      0.640215   90.0  438.0  29.0  43.0  0.937193  0.829862  0.714286   \n",
       "Flaubert    0.721388  105.0  437.0  30.0  28.0  0.953486  0.857952  0.783582   \n",
       "\n",
       "                 acc  eval_loss  \n",
       "BERT        0.893333   0.588485  \n",
       "RoBERTa     0.920000   0.565434  \n",
       "DistilBERT  0.903333   0.526942  \n",
       "CamemBERT   0.901667   0.382991  \n",
       "Albert      0.880000   0.702584  \n",
       "Flaubert    0.903333   0.302684  "
      ]
     },
     "execution_count": 27,
     "metadata": {},
     "output_type": "execute_result"
    }
   ],
   "source": [
    "indexBERT = ['BERT','RoBERTa','DistilBERT','CamemBERT','Albert','Flaubert']\n",
    "\n",
    "#dfResultsModelsTotal.reindex(indexBERT)\n",
    "dfResultsModelsTotal = dfResultsModelsTotal.reset_index(drop=True)\n",
    "dfResultsModelsTotal.index = indexBERT\n",
    "dfResultsModelsTotal\n",
    "\n",
    "dfResultssModelsTotal1 = dfResultsModelsTotal.copy()\n",
    "\n",
    "dfResultssModelsTotal1"
   ]
  },
  {
   "cell_type": "code",
   "execution_count": 23,
   "metadata": {},
   "outputs": [
    {
     "name": "stderr",
     "output_type": "stream",
     "text": [
      "Some weights of the model checkpoint at bert-base-multilingual-cased were not used when initializing BertForSequenceClassification: ['cls.predictions.bias', 'cls.predictions.transform.dense.weight', 'cls.predictions.transform.dense.bias', 'cls.predictions.decoder.weight', 'cls.seq_relationship.weight', 'cls.seq_relationship.bias', 'cls.predictions.transform.LayerNorm.weight', 'cls.predictions.transform.LayerNorm.bias']\n",
      "- This IS expected if you are initializing BertForSequenceClassification from the checkpoint of a model trained on another task or with another architecture (e.g. initializing a BertForSequenceClassification model from a BertForPreTraining model).\n",
      "- This IS NOT expected if you are initializing BertForSequenceClassification from the checkpoint of a model that you expect to be exactly identical (initializing a BertForSequenceClassification model from a BertForSequenceClassification model).\n",
      "Some weights of BertForSequenceClassification were not initialized from the model checkpoint at bert-base-multilingual-cased and are newly initialized: ['classifier.weight', 'classifier.bias']\n",
      "You should probably TRAIN this model on a down-stream task to be able to use it for predictions and inference.\n"
     ]
    },
    {
     "data": {
      "application/vnd.jupyter.widget-view+json": {
       "model_id": "1b729e202270407fba8f4d0c6a373342",
       "version_major": 2,
       "version_minor": 0
      },
      "text/plain": [
       "  0%|          | 0/3 [00:00<?, ?it/s]"
      ]
     },
     "metadata": {},
     "output_type": "display_data"
    },
    {
     "data": {
      "application/vnd.jupyter.widget-view+json": {
       "model_id": "2278498cc22941a29e42f299e6873da4",
       "version_major": 2,
       "version_minor": 0
      },
      "text/plain": [
       "Epoch:   0%|          | 0/15 [00:00<?, ?it/s]"
      ]
     },
     "metadata": {},
     "output_type": "display_data"
    },
    {
     "data": {
      "application/vnd.jupyter.widget-view+json": {
       "model_id": "b6d2d8330d404502ba973cdc6dc902e8",
       "version_major": 2,
       "version_minor": 0
      },
      "text/plain": [
       "Running Epoch 0 of 15:   0%|          | 0/44 [00:00<?, ?it/s]"
      ]
     },
     "metadata": {},
     "output_type": "display_data"
    },
    {
     "data": {
      "application/vnd.jupyter.widget-view+json": {
       "model_id": "743c982e19014a3cacd7aac604d54ff7",
       "version_major": 2,
       "version_minor": 0
      },
      "text/plain": [
       "Running Epoch 1 of 15:   0%|          | 0/44 [00:00<?, ?it/s]"
      ]
     },
     "metadata": {},
     "output_type": "display_data"
    },
    {
     "data": {
      "application/vnd.jupyter.widget-view+json": {
       "model_id": "9dcc0a697cfe42689601909fc0a58cb2",
       "version_major": 2,
       "version_minor": 0
      },
      "text/plain": [
       "Running Epoch 2 of 15:   0%|          | 0/44 [00:00<?, ?it/s]"
      ]
     },
     "metadata": {},
     "output_type": "display_data"
    },
    {
     "data": {
      "application/vnd.jupyter.widget-view+json": {
       "model_id": "855500e72db2435b999e50543cdb1003",
       "version_major": 2,
       "version_minor": 0
      },
      "text/plain": [
       "Running Epoch 3 of 15:   0%|          | 0/44 [00:00<?, ?it/s]"
      ]
     },
     "metadata": {},
     "output_type": "display_data"
    },
    {
     "data": {
      "application/vnd.jupyter.widget-view+json": {
       "model_id": "d3fe6cd39493462eb2f3c8bfb38626c5",
       "version_major": 2,
       "version_minor": 0
      },
      "text/plain": [
       "Running Epoch 4 of 15:   0%|          | 0/44 [00:00<?, ?it/s]"
      ]
     },
     "metadata": {},
     "output_type": "display_data"
    },
    {
     "data": {
      "application/vnd.jupyter.widget-view+json": {
       "model_id": "bbe4329427ec4907af77621e104121be",
       "version_major": 2,
       "version_minor": 0
      },
      "text/plain": [
       "Running Epoch 5 of 15:   0%|          | 0/44 [00:00<?, ?it/s]"
      ]
     },
     "metadata": {},
     "output_type": "display_data"
    },
    {
     "data": {
      "application/vnd.jupyter.widget-view+json": {
       "model_id": "ccd5ba4b9b9840159cbeb4357d528df9",
       "version_major": 2,
       "version_minor": 0
      },
      "text/plain": [
       "Running Epoch 6 of 15:   0%|          | 0/44 [00:00<?, ?it/s]"
      ]
     },
     "metadata": {},
     "output_type": "display_data"
    },
    {
     "data": {
      "application/vnd.jupyter.widget-view+json": {
       "model_id": "f193f9899bce41aca18f20474533e9f0",
       "version_major": 2,
       "version_minor": 0
      },
      "text/plain": [
       "Running Epoch 7 of 15:   0%|          | 0/44 [00:00<?, ?it/s]"
      ]
     },
     "metadata": {},
     "output_type": "display_data"
    },
    {
     "data": {
      "application/vnd.jupyter.widget-view+json": {
       "model_id": "dcdf1bd5c66d4718818d74a54c79f2e9",
       "version_major": 2,
       "version_minor": 0
      },
      "text/plain": [
       "Running Epoch 8 of 15:   0%|          | 0/44 [00:00<?, ?it/s]"
      ]
     },
     "metadata": {},
     "output_type": "display_data"
    },
    {
     "data": {
      "application/vnd.jupyter.widget-view+json": {
       "model_id": "11ee037da42849e1b2ec1706b485be0d",
       "version_major": 2,
       "version_minor": 0
      },
      "text/plain": [
       "Running Epoch 9 of 15:   0%|          | 0/44 [00:00<?, ?it/s]"
      ]
     },
     "metadata": {},
     "output_type": "display_data"
    },
    {
     "data": {
      "application/vnd.jupyter.widget-view+json": {
       "model_id": "fc4e986cdb4b4f66b6e893a32da1c6a0",
       "version_major": 2,
       "version_minor": 0
      },
      "text/plain": [
       "Running Epoch 10 of 15:   0%|          | 0/44 [00:00<?, ?it/s]"
      ]
     },
     "metadata": {},
     "output_type": "display_data"
    },
    {
     "data": {
      "application/vnd.jupyter.widget-view+json": {
       "model_id": "872dd9cd10244dafbf926fd0e9b39eeb",
       "version_major": 2,
       "version_minor": 0
      },
      "text/plain": [
       "Running Epoch 11 of 15:   0%|          | 0/44 [00:00<?, ?it/s]"
      ]
     },
     "metadata": {},
     "output_type": "display_data"
    },
    {
     "data": {
      "application/vnd.jupyter.widget-view+json": {
       "model_id": "54b3d5091b9740c49ca5b736bc5fb2a9",
       "version_major": 2,
       "version_minor": 0
      },
      "text/plain": [
       "Running Epoch 12 of 15:   0%|          | 0/44 [00:00<?, ?it/s]"
      ]
     },
     "metadata": {},
     "output_type": "display_data"
    },
    {
     "data": {
      "application/vnd.jupyter.widget-view+json": {
       "model_id": "d41e76fb51c340068599a045c2842865",
       "version_major": 2,
       "version_minor": 0
      },
      "text/plain": [
       "Running Epoch 13 of 15:   0%|          | 0/44 [00:00<?, ?it/s]"
      ]
     },
     "metadata": {},
     "output_type": "display_data"
    },
    {
     "data": {
      "application/vnd.jupyter.widget-view+json": {
       "model_id": "3f974600428c48b999d1e144bdd74a9d",
       "version_major": 2,
       "version_minor": 0
      },
      "text/plain": [
       "Running Epoch 14 of 15:   0%|          | 0/44 [00:00<?, ?it/s]"
      ]
     },
     "metadata": {},
     "output_type": "display_data"
    },
    {
     "data": {
      "application/vnd.jupyter.widget-view+json": {
       "model_id": "4ea86823821743759e620722fcf60f6d",
       "version_major": 2,
       "version_minor": 0
      },
      "text/plain": [
       "Running Evaluation:   0%|          | 0/19 [00:00<?, ?it/s]"
      ]
     },
     "metadata": {},
     "output_type": "display_data"
    },
    {
     "name": "stdout",
     "output_type": "stream",
     "text": [
      "{'mcc': 0.6804666441154533, 'tp': 94, 'tn': 442, 'fp': 25, 'fn': 39, 'auroc': 0.9412181417140281, 'auprc': 0.859752732054035, 'f1': 0.8933333333333333, 'acc': 0.8933333333333333, 'eval_loss': 0.5884849820806841}\n"
     ]
    },
    {
     "name": "stderr",
     "output_type": "stream",
     "text": [
      "Some weights of the model checkpoint at roberta-base were not used when initializing RobertaForSequenceClassification: ['lm_head.bias', 'lm_head.dense.weight', 'lm_head.dense.bias', 'lm_head.layer_norm.weight', 'lm_head.layer_norm.bias', 'lm_head.decoder.weight']\n",
      "- This IS expected if you are initializing RobertaForSequenceClassification from the checkpoint of a model trained on another task or with another architecture (e.g. initializing a BertForSequenceClassification model from a BertForPreTraining model).\n",
      "- This IS NOT expected if you are initializing RobertaForSequenceClassification from the checkpoint of a model that you expect to be exactly identical (initializing a BertForSequenceClassification model from a BertForSequenceClassification model).\n",
      "Some weights of RobertaForSequenceClassification were not initialized from the model checkpoint at roberta-base and are newly initialized: ['classifier.dense.weight', 'classifier.dense.bias', 'classifier.out_proj.weight', 'classifier.out_proj.bias']\n",
      "You should probably TRAIN this model on a down-stream task to be able to use it for predictions and inference.\n"
     ]
    },
    {
     "data": {
      "application/vnd.jupyter.widget-view+json": {
       "model_id": "5a25357250c94fc3b313441daa459bb1",
       "version_major": 2,
       "version_minor": 0
      },
      "text/plain": [
       "  0%|          | 0/3 [00:00<?, ?it/s]"
      ]
     },
     "metadata": {},
     "output_type": "display_data"
    },
    {
     "data": {
      "application/vnd.jupyter.widget-view+json": {
       "model_id": "c397c66f48484e01a3875f26496dbf75",
       "version_major": 2,
       "version_minor": 0
      },
      "text/plain": [
       "Epoch:   0%|          | 0/15 [00:00<?, ?it/s]"
      ]
     },
     "metadata": {},
     "output_type": "display_data"
    },
    {
     "data": {
      "application/vnd.jupyter.widget-view+json": {
       "model_id": "7db98b8b220a4200b989dee850141d68",
       "version_major": 2,
       "version_minor": 0
      },
      "text/plain": [
       "Running Epoch 0 of 15:   0%|          | 0/44 [00:00<?, ?it/s]"
      ]
     },
     "metadata": {},
     "output_type": "display_data"
    },
    {
     "data": {
      "application/vnd.jupyter.widget-view+json": {
       "model_id": "eb41f3280bc64d43a1a1eaa88ff014b7",
       "version_major": 2,
       "version_minor": 0
      },
      "text/plain": [
       "Running Epoch 1 of 15:   0%|          | 0/44 [00:00<?, ?it/s]"
      ]
     },
     "metadata": {},
     "output_type": "display_data"
    },
    {
     "data": {
      "application/vnd.jupyter.widget-view+json": {
       "model_id": "27a64f002f304720a852f7f4c7cf43a0",
       "version_major": 2,
       "version_minor": 0
      },
      "text/plain": [
       "Running Epoch 2 of 15:   0%|          | 0/44 [00:00<?, ?it/s]"
      ]
     },
     "metadata": {},
     "output_type": "display_data"
    },
    {
     "data": {
      "application/vnd.jupyter.widget-view+json": {
       "model_id": "4123d161d5e543e181b90624ab9449b2",
       "version_major": 2,
       "version_minor": 0
      },
      "text/plain": [
       "Running Epoch 3 of 15:   0%|          | 0/44 [00:00<?, ?it/s]"
      ]
     },
     "metadata": {},
     "output_type": "display_data"
    },
    {
     "data": {
      "application/vnd.jupyter.widget-view+json": {
       "model_id": "33ff8d5e2c1c467ebd86ce3c74eed755",
       "version_major": 2,
       "version_minor": 0
      },
      "text/plain": [
       "Running Epoch 4 of 15:   0%|          | 0/44 [00:00<?, ?it/s]"
      ]
     },
     "metadata": {},
     "output_type": "display_data"
    },
    {
     "data": {
      "application/vnd.jupyter.widget-view+json": {
       "model_id": "60ff30e7e31740968a5ab92acc02d943",
       "version_major": 2,
       "version_minor": 0
      },
      "text/plain": [
       "Running Epoch 5 of 15:   0%|          | 0/44 [00:00<?, ?it/s]"
      ]
     },
     "metadata": {},
     "output_type": "display_data"
    },
    {
     "data": {
      "application/vnd.jupyter.widget-view+json": {
       "model_id": "b985efbb39df4fa59c280fcbb2f5623f",
       "version_major": 2,
       "version_minor": 0
      },
      "text/plain": [
       "Running Epoch 6 of 15:   0%|          | 0/44 [00:00<?, ?it/s]"
      ]
     },
     "metadata": {},
     "output_type": "display_data"
    },
    {
     "data": {
      "application/vnd.jupyter.widget-view+json": {
       "model_id": "47fdfbb9614744c7aa40cc9d3c649725",
       "version_major": 2,
       "version_minor": 0
      },
      "text/plain": [
       "Running Epoch 7 of 15:   0%|          | 0/44 [00:00<?, ?it/s]"
      ]
     },
     "metadata": {},
     "output_type": "display_data"
    },
    {
     "data": {
      "application/vnd.jupyter.widget-view+json": {
       "model_id": "291f4800f9a84059a89b967e2fd90e53",
       "version_major": 2,
       "version_minor": 0
      },
      "text/plain": [
       "Running Epoch 8 of 15:   0%|          | 0/44 [00:00<?, ?it/s]"
      ]
     },
     "metadata": {},
     "output_type": "display_data"
    },
    {
     "data": {
      "application/vnd.jupyter.widget-view+json": {
       "model_id": "fe977ca060144bf4a8e4ed9cff39cdb6",
       "version_major": 2,
       "version_minor": 0
      },
      "text/plain": [
       "Running Epoch 9 of 15:   0%|          | 0/44 [00:00<?, ?it/s]"
      ]
     },
     "metadata": {},
     "output_type": "display_data"
    },
    {
     "data": {
      "application/vnd.jupyter.widget-view+json": {
       "model_id": "9e5cf9f29f6b4103801dd1e6d6206fe8",
       "version_major": 2,
       "version_minor": 0
      },
      "text/plain": [
       "Running Epoch 10 of 15:   0%|          | 0/44 [00:00<?, ?it/s]"
      ]
     },
     "metadata": {},
     "output_type": "display_data"
    },
    {
     "data": {
      "application/vnd.jupyter.widget-view+json": {
       "model_id": "967eef7e43ac47e088597987ad06167b",
       "version_major": 2,
       "version_minor": 0
      },
      "text/plain": [
       "Running Epoch 11 of 15:   0%|          | 0/44 [00:00<?, ?it/s]"
      ]
     },
     "metadata": {},
     "output_type": "display_data"
    },
    {
     "data": {
      "application/vnd.jupyter.widget-view+json": {
       "model_id": "3e32453c561a40969c829725fc36c4b6",
       "version_major": 2,
       "version_minor": 0
      },
      "text/plain": [
       "Running Epoch 12 of 15:   0%|          | 0/44 [00:00<?, ?it/s]"
      ]
     },
     "metadata": {},
     "output_type": "display_data"
    },
    {
     "data": {
      "application/vnd.jupyter.widget-view+json": {
       "model_id": "fa783fe8f5e14ccb8e69830bc01383f9",
       "version_major": 2,
       "version_minor": 0
      },
      "text/plain": [
       "Running Epoch 13 of 15:   0%|          | 0/44 [00:00<?, ?it/s]"
      ]
     },
     "metadata": {},
     "output_type": "display_data"
    },
    {
     "data": {
      "application/vnd.jupyter.widget-view+json": {
       "model_id": "b00d3957d4ea49b79c1e15e4e0a0acae",
       "version_major": 2,
       "version_minor": 0
      },
      "text/plain": [
       "Running Epoch 14 of 15:   0%|          | 0/44 [00:00<?, ?it/s]"
      ]
     },
     "metadata": {},
     "output_type": "display_data"
    },
    {
     "data": {
      "application/vnd.jupyter.widget-view+json": {
       "model_id": "98586f8db3cc4a99af0075e700b6e736",
       "version_major": 2,
       "version_minor": 0
      },
      "text/plain": [
       "Running Evaluation:   0%|          | 0/19 [00:00<?, ?it/s]"
      ]
     },
     "metadata": {},
     "output_type": "display_data"
    },
    {
     "name": "stdout",
     "output_type": "stream",
     "text": [
      "{'mcc': 0.7669397136369968, 'tp': 108, 'tn': 444, 'fp': 23, 'fn': 25, 'auroc': 0.9549838192912689, 'auprc': 0.873153799511355, 'f1': 0.92, 'acc': 0.92, 'eval_loss': 0.5654342046105548}\n"
     ]
    },
    {
     "name": "stderr",
     "output_type": "stream",
     "text": [
      "Some weights of the model checkpoint at distilbert-base-cased were not used when initializing DistilBertForSequenceClassification: ['vocab_transform.weight', 'vocab_transform.bias', 'vocab_layer_norm.weight', 'vocab_layer_norm.bias', 'vocab_projector.weight', 'vocab_projector.bias']\n",
      "- This IS expected if you are initializing DistilBertForSequenceClassification from the checkpoint of a model trained on another task or with another architecture (e.g. initializing a BertForSequenceClassification model from a BertForPreTraining model).\n",
      "- This IS NOT expected if you are initializing DistilBertForSequenceClassification from the checkpoint of a model that you expect to be exactly identical (initializing a BertForSequenceClassification model from a BertForSequenceClassification model).\n",
      "Some weights of DistilBertForSequenceClassification were not initialized from the model checkpoint at distilbert-base-cased and are newly initialized: ['pre_classifier.weight', 'pre_classifier.bias', 'classifier.weight', 'classifier.bias']\n",
      "You should probably TRAIN this model on a down-stream task to be able to use it for predictions and inference.\n"
     ]
    },
    {
     "data": {
      "application/vnd.jupyter.widget-view+json": {
       "model_id": "7d09cee0e3f248638d359e6301e665fa",
       "version_major": 2,
       "version_minor": 0
      },
      "text/plain": [
       "  0%|          | 0/3 [00:00<?, ?it/s]"
      ]
     },
     "metadata": {},
     "output_type": "display_data"
    },
    {
     "data": {
      "application/vnd.jupyter.widget-view+json": {
       "model_id": "46b69a436a964ec6b4b8e0d3dded747b",
       "version_major": 2,
       "version_minor": 0
      },
      "text/plain": [
       "Epoch:   0%|          | 0/15 [00:00<?, ?it/s]"
      ]
     },
     "metadata": {},
     "output_type": "display_data"
    },
    {
     "data": {
      "application/vnd.jupyter.widget-view+json": {
       "model_id": "f96538cbb27f426f8063c41d2ed61488",
       "version_major": 2,
       "version_minor": 0
      },
      "text/plain": [
       "Running Epoch 0 of 15:   0%|          | 0/44 [00:00<?, ?it/s]"
      ]
     },
     "metadata": {},
     "output_type": "display_data"
    },
    {
     "data": {
      "application/vnd.jupyter.widget-view+json": {
       "model_id": "c8acf015530941208f117a28bb68a7f5",
       "version_major": 2,
       "version_minor": 0
      },
      "text/plain": [
       "Running Epoch 1 of 15:   0%|          | 0/44 [00:00<?, ?it/s]"
      ]
     },
     "metadata": {},
     "output_type": "display_data"
    },
    {
     "data": {
      "application/vnd.jupyter.widget-view+json": {
       "model_id": "077e80d567274348b7e7d5c0bc7dc1f3",
       "version_major": 2,
       "version_minor": 0
      },
      "text/plain": [
       "Running Epoch 2 of 15:   0%|          | 0/44 [00:00<?, ?it/s]"
      ]
     },
     "metadata": {},
     "output_type": "display_data"
    },
    {
     "data": {
      "application/vnd.jupyter.widget-view+json": {
       "model_id": "80b46e4b460f4747a5e4dd0c7e0e6124",
       "version_major": 2,
       "version_minor": 0
      },
      "text/plain": [
       "Running Epoch 3 of 15:   0%|          | 0/44 [00:00<?, ?it/s]"
      ]
     },
     "metadata": {},
     "output_type": "display_data"
    },
    {
     "data": {
      "application/vnd.jupyter.widget-view+json": {
       "model_id": "6ac9bbea5b654ecba0915224e6aaa6a8",
       "version_major": 2,
       "version_minor": 0
      },
      "text/plain": [
       "Running Epoch 4 of 15:   0%|          | 0/44 [00:00<?, ?it/s]"
      ]
     },
     "metadata": {},
     "output_type": "display_data"
    },
    {
     "data": {
      "application/vnd.jupyter.widget-view+json": {
       "model_id": "c5ff4c8c0d664e0fae4a3c9438474913",
       "version_major": 2,
       "version_minor": 0
      },
      "text/plain": [
       "Running Epoch 5 of 15:   0%|          | 0/44 [00:00<?, ?it/s]"
      ]
     },
     "metadata": {},
     "output_type": "display_data"
    },
    {
     "data": {
      "application/vnd.jupyter.widget-view+json": {
       "model_id": "7e3703f31aaf408a97adadbf5313a768",
       "version_major": 2,
       "version_minor": 0
      },
      "text/plain": [
       "Running Epoch 6 of 15:   0%|          | 0/44 [00:00<?, ?it/s]"
      ]
     },
     "metadata": {},
     "output_type": "display_data"
    },
    {
     "data": {
      "application/vnd.jupyter.widget-view+json": {
       "model_id": "c94b4bf67a0445558d379c96a888ee92",
       "version_major": 2,
       "version_minor": 0
      },
      "text/plain": [
       "Running Epoch 7 of 15:   0%|          | 0/44 [00:00<?, ?it/s]"
      ]
     },
     "metadata": {},
     "output_type": "display_data"
    },
    {
     "data": {
      "application/vnd.jupyter.widget-view+json": {
       "model_id": "5610b9fdf4d44ca0b51234df8ee6a9cf",
       "version_major": 2,
       "version_minor": 0
      },
      "text/plain": [
       "Running Epoch 8 of 15:   0%|          | 0/44 [00:00<?, ?it/s]"
      ]
     },
     "metadata": {},
     "output_type": "display_data"
    },
    {
     "data": {
      "application/vnd.jupyter.widget-view+json": {
       "model_id": "c9065555450f4991ab8a3acf0fa0669a",
       "version_major": 2,
       "version_minor": 0
      },
      "text/plain": [
       "Running Epoch 9 of 15:   0%|          | 0/44 [00:00<?, ?it/s]"
      ]
     },
     "metadata": {},
     "output_type": "display_data"
    },
    {
     "data": {
      "application/vnd.jupyter.widget-view+json": {
       "model_id": "f18e74890e314e488d9602c2e7af0439",
       "version_major": 2,
       "version_minor": 0
      },
      "text/plain": [
       "Running Epoch 10 of 15:   0%|          | 0/44 [00:00<?, ?it/s]"
      ]
     },
     "metadata": {},
     "output_type": "display_data"
    },
    {
     "data": {
      "application/vnd.jupyter.widget-view+json": {
       "model_id": "e9d87bbe86754ff0948253b6447eb49b",
       "version_major": 2,
       "version_minor": 0
      },
      "text/plain": [
       "Running Epoch 11 of 15:   0%|          | 0/44 [00:00<?, ?it/s]"
      ]
     },
     "metadata": {},
     "output_type": "display_data"
    },
    {
     "data": {
      "application/vnd.jupyter.widget-view+json": {
       "model_id": "a8a7419d8f2b4ba2b6d4aaecd1da8f49",
       "version_major": 2,
       "version_minor": 0
      },
      "text/plain": [
       "Running Epoch 12 of 15:   0%|          | 0/44 [00:00<?, ?it/s]"
      ]
     },
     "metadata": {},
     "output_type": "display_data"
    },
    {
     "data": {
      "application/vnd.jupyter.widget-view+json": {
       "model_id": "ba44dba1888b435ab7866a857ebd8bbf",
       "version_major": 2,
       "version_minor": 0
      },
      "text/plain": [
       "Running Epoch 13 of 15:   0%|          | 0/44 [00:00<?, ?it/s]"
      ]
     },
     "metadata": {},
     "output_type": "display_data"
    },
    {
     "data": {
      "application/vnd.jupyter.widget-view+json": {
       "model_id": "62339443bcca42138dd58e84dd0ffb49",
       "version_major": 2,
       "version_minor": 0
      },
      "text/plain": [
       "Running Epoch 14 of 15:   0%|          | 0/44 [00:00<?, ?it/s]"
      ]
     },
     "metadata": {},
     "output_type": "display_data"
    },
    {
     "data": {
      "application/vnd.jupyter.widget-view+json": {
       "model_id": "c44cdc14a244467f87d8a5d141d5514a",
       "version_major": 2,
       "version_minor": 0
      },
      "text/plain": [
       "Running Evaluation:   0%|          | 0/19 [00:00<?, ?it/s]"
      ]
     },
     "metadata": {},
     "output_type": "display_data"
    },
    {
     "name": "stdout",
     "output_type": "stream",
     "text": [
      "{'mcc': 0.7183756605962599, 'tp': 103, 'tn': 439, 'fp': 28, 'fn': 30, 'auroc': 0.9407834361063258, 'auprc': 0.7921601549353562, 'f1': 0.9033333333333333, 'acc': 0.9033333333333333, 'eval_loss': 0.5269416707635269}\n"
     ]
    },
    {
     "name": "stderr",
     "output_type": "stream",
     "text": [
      "Some weights of the model checkpoint at camembert-base were not used when initializing CamembertForSequenceClassification: ['lm_head.bias', 'lm_head.dense.weight', 'lm_head.dense.bias', 'lm_head.layer_norm.weight', 'lm_head.layer_norm.bias', 'lm_head.decoder.weight']\n",
      "- This IS expected if you are initializing CamembertForSequenceClassification from the checkpoint of a model trained on another task or with another architecture (e.g. initializing a BertForSequenceClassification model from a BertForPreTraining model).\n",
      "- This IS NOT expected if you are initializing CamembertForSequenceClassification from the checkpoint of a model that you expect to be exactly identical (initializing a BertForSequenceClassification model from a BertForSequenceClassification model).\n",
      "Some weights of CamembertForSequenceClassification were not initialized from the model checkpoint at camembert-base and are newly initialized: ['classifier.dense.weight', 'classifier.dense.bias', 'classifier.out_proj.weight', 'classifier.out_proj.bias']\n",
      "You should probably TRAIN this model on a down-stream task to be able to use it for predictions and inference.\n"
     ]
    },
    {
     "data": {
      "application/vnd.jupyter.widget-view+json": {
       "model_id": "925f9758882e4a0b838e6c98105bb1dc",
       "version_major": 2,
       "version_minor": 0
      },
      "text/plain": [
       "Epoch:   0%|          | 0/15 [00:00<?, ?it/s]"
      ]
     },
     "metadata": {},
     "output_type": "display_data"
    },
    {
     "data": {
      "application/vnd.jupyter.widget-view+json": {
       "model_id": "009ce8743a6643c6ad8491d08f310aef",
       "version_major": 2,
       "version_minor": 0
      },
      "text/plain": [
       "Running Epoch 0 of 15:   0%|          | 0/44 [00:00<?, ?it/s]"
      ]
     },
     "metadata": {},
     "output_type": "display_data"
    },
    {
     "data": {
      "application/vnd.jupyter.widget-view+json": {
       "model_id": "80461b25fa714fe9b082726226042bdf",
       "version_major": 2,
       "version_minor": 0
      },
      "text/plain": [
       "Running Epoch 1 of 15:   0%|          | 0/44 [00:00<?, ?it/s]"
      ]
     },
     "metadata": {},
     "output_type": "display_data"
    },
    {
     "data": {
      "application/vnd.jupyter.widget-view+json": {
       "model_id": "62c93179e6dc4ca1b6df2debea69d1c5",
       "version_major": 2,
       "version_minor": 0
      },
      "text/plain": [
       "Running Epoch 2 of 15:   0%|          | 0/44 [00:00<?, ?it/s]"
      ]
     },
     "metadata": {},
     "output_type": "display_data"
    },
    {
     "data": {
      "application/vnd.jupyter.widget-view+json": {
       "model_id": "c3da70e5be9642c1923757f4391c14da",
       "version_major": 2,
       "version_minor": 0
      },
      "text/plain": [
       "Running Epoch 3 of 15:   0%|          | 0/44 [00:00<?, ?it/s]"
      ]
     },
     "metadata": {},
     "output_type": "display_data"
    },
    {
     "data": {
      "application/vnd.jupyter.widget-view+json": {
       "model_id": "3669bd1af3f44470b2972d8f80a7c039",
       "version_major": 2,
       "version_minor": 0
      },
      "text/plain": [
       "Running Epoch 4 of 15:   0%|          | 0/44 [00:00<?, ?it/s]"
      ]
     },
     "metadata": {},
     "output_type": "display_data"
    },
    {
     "data": {
      "application/vnd.jupyter.widget-view+json": {
       "model_id": "a27e1cefb26443a4854763a1f7f7a66b",
       "version_major": 2,
       "version_minor": 0
      },
      "text/plain": [
       "Running Epoch 5 of 15:   0%|          | 0/44 [00:00<?, ?it/s]"
      ]
     },
     "metadata": {},
     "output_type": "display_data"
    },
    {
     "data": {
      "application/vnd.jupyter.widget-view+json": {
       "model_id": "a1b92badbb014bfab7c700d6a5ee5c03",
       "version_major": 2,
       "version_minor": 0
      },
      "text/plain": [
       "Running Epoch 6 of 15:   0%|          | 0/44 [00:00<?, ?it/s]"
      ]
     },
     "metadata": {},
     "output_type": "display_data"
    },
    {
     "data": {
      "application/vnd.jupyter.widget-view+json": {
       "model_id": "b4337b1aeb0c4e57a1a9d2ed95e64c80",
       "version_major": 2,
       "version_minor": 0
      },
      "text/plain": [
       "Running Epoch 7 of 15:   0%|          | 0/44 [00:00<?, ?it/s]"
      ]
     },
     "metadata": {},
     "output_type": "display_data"
    },
    {
     "data": {
      "application/vnd.jupyter.widget-view+json": {
       "model_id": "360be999f89642f18a775acfcfafdc18",
       "version_major": 2,
       "version_minor": 0
      },
      "text/plain": [
       "Running Epoch 8 of 15:   0%|          | 0/44 [00:00<?, ?it/s]"
      ]
     },
     "metadata": {},
     "output_type": "display_data"
    },
    {
     "data": {
      "application/vnd.jupyter.widget-view+json": {
       "model_id": "e939403f049643ffb3fb81added1f8c4",
       "version_major": 2,
       "version_minor": 0
      },
      "text/plain": [
       "Running Epoch 9 of 15:   0%|          | 0/44 [00:00<?, ?it/s]"
      ]
     },
     "metadata": {},
     "output_type": "display_data"
    },
    {
     "data": {
      "application/vnd.jupyter.widget-view+json": {
       "model_id": "2298af6606734bf19a4ca4db65e51f6d",
       "version_major": 2,
       "version_minor": 0
      },
      "text/plain": [
       "Running Epoch 10 of 15:   0%|          | 0/44 [00:00<?, ?it/s]"
      ]
     },
     "metadata": {},
     "output_type": "display_data"
    },
    {
     "data": {
      "application/vnd.jupyter.widget-view+json": {
       "model_id": "fda925d6503344ba92f46c244a9164d1",
       "version_major": 2,
       "version_minor": 0
      },
      "text/plain": [
       "Running Epoch 11 of 15:   0%|          | 0/44 [00:00<?, ?it/s]"
      ]
     },
     "metadata": {},
     "output_type": "display_data"
    },
    {
     "data": {
      "application/vnd.jupyter.widget-view+json": {
       "model_id": "524f575abab942c5b5770a6ab8b46f8f",
       "version_major": 2,
       "version_minor": 0
      },
      "text/plain": [
       "Running Epoch 12 of 15:   0%|          | 0/44 [00:00<?, ?it/s]"
      ]
     },
     "metadata": {},
     "output_type": "display_data"
    },
    {
     "data": {
      "application/vnd.jupyter.widget-view+json": {
       "model_id": "d8a6131272f549d0b7f92b27fe8aa741",
       "version_major": 2,
       "version_minor": 0
      },
      "text/plain": [
       "Running Epoch 13 of 15:   0%|          | 0/44 [00:00<?, ?it/s]"
      ]
     },
     "metadata": {},
     "output_type": "display_data"
    },
    {
     "data": {
      "application/vnd.jupyter.widget-view+json": {
       "model_id": "973fe6056f564713ad6413addf440456",
       "version_major": 2,
       "version_minor": 0
      },
      "text/plain": [
       "Running Epoch 14 of 15:   0%|          | 0/44 [00:00<?, ?it/s]"
      ]
     },
     "metadata": {},
     "output_type": "display_data"
    },
    {
     "data": {
      "application/vnd.jupyter.widget-view+json": {
       "model_id": "83869bf5a8084f49bb36a0caa48838f5",
       "version_major": 2,
       "version_minor": 0
      },
      "text/plain": [
       "Running Evaluation:   0%|          | 0/19 [00:00<?, ?it/s]"
      ]
     },
     "metadata": {},
     "output_type": "display_data"
    },
    {
     "name": "stdout",
     "output_type": "stream",
     "text": [
      "{'mcc': 0.7039875559775932, 'tp': 95, 'tn': 446, 'fp': 21, 'fn': 38, 'auroc': 0.9592986749529069, 'auprc': 0.8363776108758486, 'f1': 0.9016666666666667, 'acc': 0.9016666666666666, 'eval_loss': 0.38299128045573044}\n"
     ]
    },
    {
     "name": "stderr",
     "output_type": "stream",
     "text": [
      "Some weights of the model checkpoint at albert-base-v1 were not used when initializing AlbertForSequenceClassification: ['predictions.bias', 'predictions.LayerNorm.weight', 'predictions.LayerNorm.bias', 'predictions.dense.weight', 'predictions.dense.bias', 'predictions.decoder.weight', 'predictions.decoder.bias']\n",
      "- This IS expected if you are initializing AlbertForSequenceClassification from the checkpoint of a model trained on another task or with another architecture (e.g. initializing a BertForSequenceClassification model from a BertForPreTraining model).\n",
      "- This IS NOT expected if you are initializing AlbertForSequenceClassification from the checkpoint of a model that you expect to be exactly identical (initializing a BertForSequenceClassification model from a BertForSequenceClassification model).\n",
      "Some weights of AlbertForSequenceClassification were not initialized from the model checkpoint at albert-base-v1 and are newly initialized: ['classifier.weight', 'classifier.bias']\n",
      "You should probably TRAIN this model on a down-stream task to be able to use it for predictions and inference.\n"
     ]
    },
    {
     "data": {
      "application/vnd.jupyter.widget-view+json": {
       "model_id": "9d5a44be818f41759d9a7b12f61dbf1d",
       "version_major": 2,
       "version_minor": 0
      },
      "text/plain": [
       "  0%|          | 0/3 [00:00<?, ?it/s]"
      ]
     },
     "metadata": {},
     "output_type": "display_data"
    },
    {
     "data": {
      "application/vnd.jupyter.widget-view+json": {
       "model_id": "0b5fce1c645e459c93c5a15f332f8ca8",
       "version_major": 2,
       "version_minor": 0
      },
      "text/plain": [
       "Epoch:   0%|          | 0/15 [00:00<?, ?it/s]"
      ]
     },
     "metadata": {},
     "output_type": "display_data"
    },
    {
     "data": {
      "application/vnd.jupyter.widget-view+json": {
       "model_id": "523365af5af440ecb77fc911a1175da9",
       "version_major": 2,
       "version_minor": 0
      },
      "text/plain": [
       "Running Epoch 0 of 15:   0%|          | 0/44 [00:00<?, ?it/s]"
      ]
     },
     "metadata": {},
     "output_type": "display_data"
    },
    {
     "data": {
      "application/vnd.jupyter.widget-view+json": {
       "model_id": "90646642382b430e83a56add69fc78e4",
       "version_major": 2,
       "version_minor": 0
      },
      "text/plain": [
       "Running Epoch 1 of 15:   0%|          | 0/44 [00:00<?, ?it/s]"
      ]
     },
     "metadata": {},
     "output_type": "display_data"
    },
    {
     "data": {
      "application/vnd.jupyter.widget-view+json": {
       "model_id": "077d36444ac74a37a524bafa572115f1",
       "version_major": 2,
       "version_minor": 0
      },
      "text/plain": [
       "Running Epoch 2 of 15:   0%|          | 0/44 [00:00<?, ?it/s]"
      ]
     },
     "metadata": {},
     "output_type": "display_data"
    },
    {
     "data": {
      "application/vnd.jupyter.widget-view+json": {
       "model_id": "ea45f65c117e4ed6b45a46a18d1fd59e",
       "version_major": 2,
       "version_minor": 0
      },
      "text/plain": [
       "Running Epoch 3 of 15:   0%|          | 0/44 [00:00<?, ?it/s]"
      ]
     },
     "metadata": {},
     "output_type": "display_data"
    },
    {
     "data": {
      "application/vnd.jupyter.widget-view+json": {
       "model_id": "e00ec8b3121a4c81ba9d8c2cd553c43d",
       "version_major": 2,
       "version_minor": 0
      },
      "text/plain": [
       "Running Epoch 4 of 15:   0%|          | 0/44 [00:00<?, ?it/s]"
      ]
     },
     "metadata": {},
     "output_type": "display_data"
    },
    {
     "data": {
      "application/vnd.jupyter.widget-view+json": {
       "model_id": "3fd37db372584ebb9586c3fb13ba5b03",
       "version_major": 2,
       "version_minor": 0
      },
      "text/plain": [
       "Running Epoch 5 of 15:   0%|          | 0/44 [00:00<?, ?it/s]"
      ]
     },
     "metadata": {},
     "output_type": "display_data"
    },
    {
     "data": {
      "application/vnd.jupyter.widget-view+json": {
       "model_id": "4bb074c9ce2d4b1dbf54a314e3850f0e",
       "version_major": 2,
       "version_minor": 0
      },
      "text/plain": [
       "Running Epoch 6 of 15:   0%|          | 0/44 [00:00<?, ?it/s]"
      ]
     },
     "metadata": {},
     "output_type": "display_data"
    },
    {
     "data": {
      "application/vnd.jupyter.widget-view+json": {
       "model_id": "86b0bb7eea944208b3d7429b95949133",
       "version_major": 2,
       "version_minor": 0
      },
      "text/plain": [
       "Running Epoch 7 of 15:   0%|          | 0/44 [00:00<?, ?it/s]"
      ]
     },
     "metadata": {},
     "output_type": "display_data"
    },
    {
     "data": {
      "application/vnd.jupyter.widget-view+json": {
       "model_id": "575dbba5d5cb47879b7593a168cdd279",
       "version_major": 2,
       "version_minor": 0
      },
      "text/plain": [
       "Running Epoch 8 of 15:   0%|          | 0/44 [00:00<?, ?it/s]"
      ]
     },
     "metadata": {},
     "output_type": "display_data"
    },
    {
     "data": {
      "application/vnd.jupyter.widget-view+json": {
       "model_id": "3a1b0827c7ce4268a5e2fe2dd92bf16b",
       "version_major": 2,
       "version_minor": 0
      },
      "text/plain": [
       "Running Epoch 9 of 15:   0%|          | 0/44 [00:00<?, ?it/s]"
      ]
     },
     "metadata": {},
     "output_type": "display_data"
    },
    {
     "data": {
      "application/vnd.jupyter.widget-view+json": {
       "model_id": "f6fb58ae62684fc0a5d68066597fcd8c",
       "version_major": 2,
       "version_minor": 0
      },
      "text/plain": [
       "Running Epoch 10 of 15:   0%|          | 0/44 [00:00<?, ?it/s]"
      ]
     },
     "metadata": {},
     "output_type": "display_data"
    },
    {
     "data": {
      "application/vnd.jupyter.widget-view+json": {
       "model_id": "4fc79bc912684b4da320af38cbd6b378",
       "version_major": 2,
       "version_minor": 0
      },
      "text/plain": [
       "Running Epoch 11 of 15:   0%|          | 0/44 [00:00<?, ?it/s]"
      ]
     },
     "metadata": {},
     "output_type": "display_data"
    },
    {
     "data": {
      "application/vnd.jupyter.widget-view+json": {
       "model_id": "65e2a4c9775d405bb48816d8849f2a83",
       "version_major": 2,
       "version_minor": 0
      },
      "text/plain": [
       "Running Epoch 12 of 15:   0%|          | 0/44 [00:00<?, ?it/s]"
      ]
     },
     "metadata": {},
     "output_type": "display_data"
    },
    {
     "data": {
      "application/vnd.jupyter.widget-view+json": {
       "model_id": "dbd4c81da8b94d43af73e65669301fd0",
       "version_major": 2,
       "version_minor": 0
      },
      "text/plain": [
       "Running Epoch 13 of 15:   0%|          | 0/44 [00:00<?, ?it/s]"
      ]
     },
     "metadata": {},
     "output_type": "display_data"
    },
    {
     "data": {
      "application/vnd.jupyter.widget-view+json": {
       "model_id": "8c84eb4a5cbd4ac9a9debe812677c4fb",
       "version_major": 2,
       "version_minor": 0
      },
      "text/plain": [
       "Running Epoch 14 of 15:   0%|          | 0/44 [00:00<?, ?it/s]"
      ]
     },
     "metadata": {},
     "output_type": "display_data"
    },
    {
     "data": {
      "application/vnd.jupyter.widget-view+json": {
       "model_id": "245c929c87864e4784f66bce13412949",
       "version_major": 2,
       "version_minor": 0
      },
      "text/plain": [
       "Running Evaluation:   0%|          | 0/19 [00:00<?, ?it/s]"
      ]
     },
     "metadata": {},
     "output_type": "display_data"
    },
    {
     "name": "stdout",
     "output_type": "stream",
     "text": [
      "{'mcc': 0.640215246735987, 'tp': 90, 'tn': 438, 'fp': 29, 'fn': 43, 'auroc': 0.9371930897908584, 'auprc': 0.8298615465356246, 'f1': 0.88, 'acc': 0.88, 'eval_loss': 0.7025844407709021}\n"
     ]
    },
    {
     "name": "stderr",
     "output_type": "stream",
     "text": [
      "Some weights of the model checkpoint at flaubert/flaubert_base_cased were not used when initializing FlaubertForSequenceClassification: ['pred_layer.proj.bias', 'pred_layer.proj.weight']\n",
      "- This IS expected if you are initializing FlaubertForSequenceClassification from the checkpoint of a model trained on another task or with another architecture (e.g. initializing a BertForSequenceClassification model from a BertForPreTraining model).\n",
      "- This IS NOT expected if you are initializing FlaubertForSequenceClassification from the checkpoint of a model that you expect to be exactly identical (initializing a BertForSequenceClassification model from a BertForSequenceClassification model).\n",
      "Some weights of FlaubertForSequenceClassification were not initialized from the model checkpoint at flaubert/flaubert_base_cased and are newly initialized: ['position_embeddings.weight', 'embeddings.weight', 'layer_norm_emb.weight', 'layer_norm_emb.bias', 'attentions.0.q_lin.weight', 'attentions.0.q_lin.bias', 'attentions.0.k_lin.weight', 'attentions.0.k_lin.bias', 'attentions.0.v_lin.weight', 'attentions.0.v_lin.bias', 'attentions.0.out_lin.weight', 'attentions.0.out_lin.bias', 'attentions.1.q_lin.weight', 'attentions.1.q_lin.bias', 'attentions.1.k_lin.weight', 'attentions.1.k_lin.bias', 'attentions.1.v_lin.weight', 'attentions.1.v_lin.bias', 'attentions.1.out_lin.weight', 'attentions.1.out_lin.bias', 'attentions.2.q_lin.weight', 'attentions.2.q_lin.bias', 'attentions.2.k_lin.weight', 'attentions.2.k_lin.bias', 'attentions.2.v_lin.weight', 'attentions.2.v_lin.bias', 'attentions.2.out_lin.weight', 'attentions.2.out_lin.bias', 'attentions.3.q_lin.weight', 'attentions.3.q_lin.bias', 'attentions.3.k_lin.weight', 'attentions.3.k_lin.bias', 'attentions.3.v_lin.weight', 'attentions.3.v_lin.bias', 'attentions.3.out_lin.weight', 'attentions.3.out_lin.bias', 'attentions.4.q_lin.weight', 'attentions.4.q_lin.bias', 'attentions.4.k_lin.weight', 'attentions.4.k_lin.bias', 'attentions.4.v_lin.weight', 'attentions.4.v_lin.bias', 'attentions.4.out_lin.weight', 'attentions.4.out_lin.bias', 'attentions.5.q_lin.weight', 'attentions.5.q_lin.bias', 'attentions.5.k_lin.weight', 'attentions.5.k_lin.bias', 'attentions.5.v_lin.weight', 'attentions.5.v_lin.bias', 'attentions.5.out_lin.weight', 'attentions.5.out_lin.bias', 'attentions.6.q_lin.weight', 'attentions.6.q_lin.bias', 'attentions.6.k_lin.weight', 'attentions.6.k_lin.bias', 'attentions.6.v_lin.weight', 'attentions.6.v_lin.bias', 'attentions.6.out_lin.weight', 'attentions.6.out_lin.bias', 'attentions.7.q_lin.weight', 'attentions.7.q_lin.bias', 'attentions.7.k_lin.weight', 'attentions.7.k_lin.bias', 'attentions.7.v_lin.weight', 'attentions.7.v_lin.bias', 'attentions.7.out_lin.weight', 'attentions.7.out_lin.bias', 'attentions.8.q_lin.weight', 'attentions.8.q_lin.bias', 'attentions.8.k_lin.weight', 'attentions.8.k_lin.bias', 'attentions.8.v_lin.weight', 'attentions.8.v_lin.bias', 'attentions.8.out_lin.weight', 'attentions.8.out_lin.bias', 'attentions.9.q_lin.weight', 'attentions.9.q_lin.bias', 'attentions.9.k_lin.weight', 'attentions.9.k_lin.bias', 'attentions.9.v_lin.weight', 'attentions.9.v_lin.bias', 'attentions.9.out_lin.weight', 'attentions.9.out_lin.bias', 'attentions.10.q_lin.weight', 'attentions.10.q_lin.bias', 'attentions.10.k_lin.weight', 'attentions.10.k_lin.bias', 'attentions.10.v_lin.weight', 'attentions.10.v_lin.bias', 'attentions.10.out_lin.weight', 'attentions.10.out_lin.bias', 'attentions.11.q_lin.weight', 'attentions.11.q_lin.bias', 'attentions.11.k_lin.weight', 'attentions.11.k_lin.bias', 'attentions.11.v_lin.weight', 'attentions.11.v_lin.bias', 'attentions.11.out_lin.weight', 'attentions.11.out_lin.bias', 'layer_norm1.0.weight', 'layer_norm1.0.bias', 'layer_norm1.1.weight', 'layer_norm1.1.bias', 'layer_norm1.2.weight', 'layer_norm1.2.bias', 'layer_norm1.3.weight', 'layer_norm1.3.bias', 'layer_norm1.4.weight', 'layer_norm1.4.bias', 'layer_norm1.5.weight', 'layer_norm1.5.bias', 'layer_norm1.6.weight', 'layer_norm1.6.bias', 'layer_norm1.7.weight', 'layer_norm1.7.bias', 'layer_norm1.8.weight', 'layer_norm1.8.bias', 'layer_norm1.9.weight', 'layer_norm1.9.bias', 'layer_norm1.10.weight', 'layer_norm1.10.bias', 'layer_norm1.11.weight', 'layer_norm1.11.bias', 'ffns.0.lin1.weight', 'ffns.0.lin1.bias', 'ffns.0.lin2.weight', 'ffns.0.lin2.bias', 'ffns.1.lin1.weight', 'ffns.1.lin1.bias', 'ffns.1.lin2.weight', 'ffns.1.lin2.bias', 'ffns.2.lin1.weight', 'ffns.2.lin1.bias', 'ffns.2.lin2.weight', 'ffns.2.lin2.bias', 'ffns.3.lin1.weight', 'ffns.3.lin1.bias', 'ffns.3.lin2.weight', 'ffns.3.lin2.bias', 'ffns.4.lin1.weight', 'ffns.4.lin1.bias', 'ffns.4.lin2.weight', 'ffns.4.lin2.bias', 'ffns.5.lin1.weight', 'ffns.5.lin1.bias', 'ffns.5.lin2.weight', 'ffns.5.lin2.bias', 'ffns.6.lin1.weight', 'ffns.6.lin1.bias', 'ffns.6.lin2.weight', 'ffns.6.lin2.bias', 'ffns.7.lin1.weight', 'ffns.7.lin1.bias', 'ffns.7.lin2.weight', 'ffns.7.lin2.bias', 'ffns.8.lin1.weight', 'ffns.8.lin1.bias', 'ffns.8.lin2.weight', 'ffns.8.lin2.bias', 'ffns.9.lin1.weight', 'ffns.9.lin1.bias', 'ffns.9.lin2.weight', 'ffns.9.lin2.bias', 'ffns.10.lin1.weight', 'ffns.10.lin1.bias', 'ffns.10.lin2.weight', 'ffns.10.lin2.bias', 'ffns.11.lin1.weight', 'ffns.11.lin1.bias', 'ffns.11.lin2.weight', 'ffns.11.lin2.bias', 'layer_norm2.0.weight', 'layer_norm2.0.bias', 'layer_norm2.1.weight', 'layer_norm2.1.bias', 'layer_norm2.2.weight', 'layer_norm2.2.bias', 'layer_norm2.3.weight', 'layer_norm2.3.bias', 'layer_norm2.4.weight', 'layer_norm2.4.bias', 'layer_norm2.5.weight', 'layer_norm2.5.bias', 'layer_norm2.6.weight', 'layer_norm2.6.bias', 'layer_norm2.7.weight', 'layer_norm2.7.bias', 'layer_norm2.8.weight', 'layer_norm2.8.bias', 'layer_norm2.9.weight', 'layer_norm2.9.bias', 'layer_norm2.10.weight', 'layer_norm2.10.bias', 'layer_norm2.11.weight', 'layer_norm2.11.bias', 'sequence_summary.summary.weight', 'sequence_summary.summary.bias']\n",
      "You should probably TRAIN this model on a down-stream task to be able to use it for predictions and inference.\n"
     ]
    },
    {
     "data": {
      "application/vnd.jupyter.widget-view+json": {
       "model_id": "d4f68f8d717340db91f4fffb1bc216a3",
       "version_major": 2,
       "version_minor": 0
      },
      "text/plain": [
       "  0%|          | 0/3 [00:00<?, ?it/s]"
      ]
     },
     "metadata": {},
     "output_type": "display_data"
    },
    {
     "data": {
      "application/vnd.jupyter.widget-view+json": {
       "model_id": "fc8f6ecd44b2434eae4bc7cf98ae41f2",
       "version_major": 2,
       "version_minor": 0
      },
      "text/plain": [
       "Epoch:   0%|          | 0/15 [00:00<?, ?it/s]"
      ]
     },
     "metadata": {},
     "output_type": "display_data"
    },
    {
     "data": {
      "application/vnd.jupyter.widget-view+json": {
       "model_id": "943b942358f94583beb6209dde8d3f0a",
       "version_major": 2,
       "version_minor": 0
      },
      "text/plain": [
       "Running Epoch 0 of 15:   0%|          | 0/44 [00:00<?, ?it/s]"
      ]
     },
     "metadata": {},
     "output_type": "display_data"
    },
    {
     "data": {
      "application/vnd.jupyter.widget-view+json": {
       "model_id": "c40b6c85a7144dc49a4c58fabb4cf585",
       "version_major": 2,
       "version_minor": 0
      },
      "text/plain": [
       "Running Epoch 1 of 15:   0%|          | 0/44 [00:00<?, ?it/s]"
      ]
     },
     "metadata": {},
     "output_type": "display_data"
    },
    {
     "data": {
      "application/vnd.jupyter.widget-view+json": {
       "model_id": "7a1e06bc442d4f9dbe3006608648b488",
       "version_major": 2,
       "version_minor": 0
      },
      "text/plain": [
       "Running Epoch 2 of 15:   0%|          | 0/44 [00:00<?, ?it/s]"
      ]
     },
     "metadata": {},
     "output_type": "display_data"
    },
    {
     "data": {
      "application/vnd.jupyter.widget-view+json": {
       "model_id": "6a5d9620bcb5491095efb3f40bbdcdbd",
       "version_major": 2,
       "version_minor": 0
      },
      "text/plain": [
       "Running Epoch 3 of 15:   0%|          | 0/44 [00:00<?, ?it/s]"
      ]
     },
     "metadata": {},
     "output_type": "display_data"
    },
    {
     "data": {
      "application/vnd.jupyter.widget-view+json": {
       "model_id": "fa649794f6bf43fab7aa70fcd126a05a",
       "version_major": 2,
       "version_minor": 0
      },
      "text/plain": [
       "Running Epoch 4 of 15:   0%|          | 0/44 [00:00<?, ?it/s]"
      ]
     },
     "metadata": {},
     "output_type": "display_data"
    },
    {
     "data": {
      "application/vnd.jupyter.widget-view+json": {
       "model_id": "8cfe8e7ba5c24d00b16113f353a6659e",
       "version_major": 2,
       "version_minor": 0
      },
      "text/plain": [
       "Running Epoch 5 of 15:   0%|          | 0/44 [00:00<?, ?it/s]"
      ]
     },
     "metadata": {},
     "output_type": "display_data"
    },
    {
     "data": {
      "application/vnd.jupyter.widget-view+json": {
       "model_id": "9444c208b186437184f62201a2bc56a3",
       "version_major": 2,
       "version_minor": 0
      },
      "text/plain": [
       "Running Epoch 6 of 15:   0%|          | 0/44 [00:00<?, ?it/s]"
      ]
     },
     "metadata": {},
     "output_type": "display_data"
    },
    {
     "data": {
      "application/vnd.jupyter.widget-view+json": {
       "model_id": "758e16c10fbe42b6bdc7dcd081b241fa",
       "version_major": 2,
       "version_minor": 0
      },
      "text/plain": [
       "Running Epoch 7 of 15:   0%|          | 0/44 [00:00<?, ?it/s]"
      ]
     },
     "metadata": {},
     "output_type": "display_data"
    },
    {
     "data": {
      "application/vnd.jupyter.widget-view+json": {
       "model_id": "8371ac229c9e42438712971a00340010",
       "version_major": 2,
       "version_minor": 0
      },
      "text/plain": [
       "Running Epoch 8 of 15:   0%|          | 0/44 [00:00<?, ?it/s]"
      ]
     },
     "metadata": {},
     "output_type": "display_data"
    },
    {
     "data": {
      "application/vnd.jupyter.widget-view+json": {
       "model_id": "e5f4768173e547fb8876fdab97554ea6",
       "version_major": 2,
       "version_minor": 0
      },
      "text/plain": [
       "Running Epoch 9 of 15:   0%|          | 0/44 [00:00<?, ?it/s]"
      ]
     },
     "metadata": {},
     "output_type": "display_data"
    },
    {
     "data": {
      "application/vnd.jupyter.widget-view+json": {
       "model_id": "7412372097804a42accebd7bf3533819",
       "version_major": 2,
       "version_minor": 0
      },
      "text/plain": [
       "Running Epoch 10 of 15:   0%|          | 0/44 [00:00<?, ?it/s]"
      ]
     },
     "metadata": {},
     "output_type": "display_data"
    },
    {
     "data": {
      "application/vnd.jupyter.widget-view+json": {
       "model_id": "32c47846d424477baa06a7ff610e3acf",
       "version_major": 2,
       "version_minor": 0
      },
      "text/plain": [
       "Running Epoch 11 of 15:   0%|          | 0/44 [00:00<?, ?it/s]"
      ]
     },
     "metadata": {},
     "output_type": "display_data"
    },
    {
     "data": {
      "application/vnd.jupyter.widget-view+json": {
       "model_id": "fbb4d1a76edb41a4a9d6fbe79bb9bba8",
       "version_major": 2,
       "version_minor": 0
      },
      "text/plain": [
       "Running Epoch 12 of 15:   0%|          | 0/44 [00:00<?, ?it/s]"
      ]
     },
     "metadata": {},
     "output_type": "display_data"
    },
    {
     "data": {
      "application/vnd.jupyter.widget-view+json": {
       "model_id": "f1beb1c9e9734f8ba15d5df990270f9f",
       "version_major": 2,
       "version_minor": 0
      },
      "text/plain": [
       "Running Epoch 13 of 15:   0%|          | 0/44 [00:00<?, ?it/s]"
      ]
     },
     "metadata": {},
     "output_type": "display_data"
    },
    {
     "data": {
      "application/vnd.jupyter.widget-view+json": {
       "model_id": "f949b000743c4225abf4e0b4386fbe3f",
       "version_major": 2,
       "version_minor": 0
      },
      "text/plain": [
       "Running Epoch 14 of 15:   0%|          | 0/44 [00:00<?, ?it/s]"
      ]
     },
     "metadata": {},
     "output_type": "display_data"
    },
    {
     "data": {
      "application/vnd.jupyter.widget-view+json": {
       "model_id": "cec46cc06a0c46f48e89f351cb6a04b4",
       "version_major": 2,
       "version_minor": 0
      },
      "text/plain": [
       "Running Evaluation:   0%|          | 0/19 [00:00<?, ?it/s]"
      ]
     },
     "metadata": {},
     "output_type": "display_data"
    },
    {
     "name": "stdout",
     "output_type": "stream",
     "text": [
      "{'mcc': 0.7213880931315745, 'tp': 105, 'tn': 437, 'fp': 30, 'fn': 28, 'auroc': 0.9534864999758497, 'auprc': 0.8579517607376339, 'f1': 0.9033333333333333, 'acc': 0.9033333333333333, 'eval_loss': 0.3026840605429913}\n"
     ]
    }
   ],
   "source": [
    "'''\n",
    "torch.load(model1, 'model1.pt')\n",
    "model1.train_model(train_df1)\n",
    "result1, model_outputs1, wrong_predictions1 = model1.eval_model(test_df1, f1=f1_multiclass, acc=accuracy_score)\n",
    "print(result1)\n",
    "del model1\n",
    "gc.collect()\n",
    "'''\n",
    "#gc.collect()\n",
    "#torch.cuda.empty_cache()\n",
    "limitsave=0\n",
    "\n",
    "'''\n",
    "train_df1 = pd.DataFrame({ 'text_cleaned': X1_train, 'target': y1_train })\n",
    "test_df1 = pd.DataFrame({ 'text_cleaned': X1_test, 'target': y1_test })\n",
    "'''\n",
    "\n",
    "train_df1 = pd.DataFrame({ 'text_cleaned': X2_train, 'target': y2_train })\n",
    "test_df1 = pd.DataFrame({ 'text_cleaned': X2_test, 'target': y2_test })\n",
    "'''\n",
    "train_df1 = pd.DataFrame({ 'text_cleaned': X3_train, 'target': y3_train })\n",
    "test_df1 = pd.DataFrame({ 'text_cleaned': X3_test, 'target': y3_test })\n",
    "\n",
    "train_df1 = pd.DataFrame({ 'text_cleaned': X4_train, 'target': y4_train })\n",
    "test_df1 = pd.DataFrame({ 'text_cleaned': X4_test, 'target': y4_test })\n",
    "'''\n",
    "\n",
    "for i in range(0,N_ITER):\n",
    "    model1 = ClassificationModel(\n",
    "    \"bert\", \"bert-base-multilingual-cased\",\n",
    "        use_cuda = True,\n",
    "        args=train_args\n",
    "    )\n",
    "    model1.train_model(train_df1)\n",
    "    result1, model_outputs1, wrong_predictions1 = model1.eval_model(test_df1, f1=f1_multiclass, acc=accuracy_score)\n",
    "    print(result1)\n",
    "    if(i<limitsave):\n",
    "        torch.save(model1, 'model1'+str(i)+'.pt')\n",
    "    del model1\n",
    "    gc.collect()\n",
    "    torch.cuda.empty_cache()\n",
    "    if(i==0):\n",
    "        dfResultsModels1 = pd.DataFrame.from_dict(result1, orient=\"index\").T\n",
    "    else:\n",
    "        dfResultsModels1b = pd.DataFrame.from_dict(result1, orient=\"index\").T\n",
    "        dfResultsModels1 = dfResultsModels1.append(dfResultsModels1b)\n",
    "        \n",
    "dfResultsModels1Trans = pd.DataFrame(dfResultsModels1.mean(axis=0)).T\n",
    "dfResultsModels1Trans['f1'] = calcule_f1(dfResultsModels1Trans)\n",
    "\n",
    "dfResultsModelsTotal = dfResultsModels1Trans.copy()\n",
    "dfResultsModelsTotal.to_csv('dfResultsModelsTotal-2.csv')\n",
    "\n",
    "#dfResultsModelsTotal = pd.read_csv('dfResultsModelsTotal.csv', encoding='utf8', error_bad_lines=False)\n",
    "        \n",
    "for i in range(0,N_ITER):\n",
    "    model1c = ClassificationModel(\n",
    "    \"roberta\", \"roberta-base\",\n",
    "        use_cuda = True,\n",
    "        args=train_args\n",
    "    )\n",
    "    model1c.train_model(train_df1)\n",
    "\n",
    "    result1c, model_outputs1c, wrong_predictions1c = model1c.eval_model(test_df1, f1=f1_multiclass, acc=accuracy_score)\n",
    "    print(result1c)\n",
    "    if(i<limitsave):\n",
    "        torch.save(model1c, 'model1c'+str(i)+'.pt')\n",
    "    del model1c\n",
    "    gc.collect()\n",
    "    if(i==0):\n",
    "        dfResultsModels1c = pd.DataFrame.from_dict(result1c, orient=\"index\").T\n",
    "    else:\n",
    "        dfResultsModels1b = pd.DataFrame.from_dict(result1c, orient=\"index\").T\n",
    "        dfResultsModels1c = dfResultsModels1c.append(dfResultsModels1b)\n",
    "\n",
    "dfResultsModels1cTrans = pd.DataFrame(dfResultsModels1c.mean(axis=0)).T\n",
    "dfResultsModels1cTrans['f1'] = calcule_f1(dfResultsModels1cTrans)\n",
    "dfResultsModelsTotal = dfResultsModelsTotal.append(dfResultsModels1cTrans)\n",
    "dfResultsModelsTotal.to_csv('dfResultsModelsTotal-2.csv')\n",
    "\n",
    "\n",
    "\n",
    "for i in range(0,N_ITER):\n",
    "    model1d = ClassificationModel(\n",
    "    \"distilbert\", \"distilbert-base-cased\",\n",
    "        use_cuda = True,\n",
    "        args=train_args\n",
    "    )\n",
    "    model1d.train_model(train_df1)\n",
    "\n",
    "    result1d, model_outputs1d, wrong_predictions1d = model1d.eval_model(test_df1, f1=f1_multiclass, acc=accuracy_score)\n",
    "    print(result1d)\n",
    "    if(i<limitsave):\n",
    "        torch.save(model1d, 'model1d'+str(i)+'.pt')\n",
    "    del model1d\n",
    "    gc.collect()\n",
    "    if(i==0):\n",
    "        dfResultsModels1d = pd.DataFrame.from_dict(result1d, orient=\"index\").T\n",
    "    else:\n",
    "        dfResultsModels1b = pd.DataFrame.from_dict(result1d, orient=\"index\").T\n",
    "        dfResultsModels1d = dfResultsModels1d.append(dfResultsModels1b)\n",
    "\n",
    "dfResultsModels1dTrans = pd.DataFrame(dfResultsModels1d.mean(axis=0)).T\n",
    "dfResultsModels1dTrans['f1'] = calcule_f1(dfResultsModels1dTrans)\n",
    "dfResultsModelsTotal = dfResultsModelsTotal.append(dfResultsModels1dTrans)\n",
    "\n",
    "dfResultsModelsTotal.to_csv('dfResultsModelsTotal-2.csv')\n",
    "\n",
    "\n",
    "\n",
    "for i in range(0,N_ITER):\n",
    "    model1e = ClassificationModel(\n",
    "    \"camembert\", \"camembert-base\",\n",
    "        use_cuda = True,\n",
    "        args=train_args\n",
    "    )\n",
    "    model1e.train_model(train_df1)\n",
    "\n",
    "    result1e, model_outputs1e, wrong_predictions1e = model1e.eval_model(test_df1, f1=f1_multiclass, acc=accuracy_score)\n",
    "    print(result1e)\n",
    "    if(i<limitsave):\n",
    "        torch.save(model1e, 'model1e'+str(i)+'.pt')\n",
    "    del model1e\n",
    "    gc.collect()\n",
    "    if(i==0):\n",
    "        dfResultsModels1e = pd.DataFrame.from_dict(result1e, orient=\"index\").T\n",
    "    else:\n",
    "        dfResultsModels1b = pd.DataFrame.from_dict(result1e, orient=\"index\").T\n",
    "        dfResultsModels1e = dfResultsModels1e.append(dfResultsModels1b)\n",
    "\n",
    "dfResultsModels1eTrans = pd.DataFrame(dfResultsModels1e.mean(axis=0)).T\n",
    "dfResultsModels1eTrans['f1'] = calcule_f1(dfResultsModels1eTrans)\n",
    "dfResultsModelsTotal = dfResultsModelsTotal.append(dfResultsModels1eTrans)\n",
    "\n",
    "dfResultsModelsTotal.to_csv('dfResultsModelsTotal-2.csv')\n",
    "\n",
    "\n",
    "for i in range(0,N_ITER):\n",
    "    model1f = ClassificationModel(\n",
    "    \"albert\", \"albert-base-v1\",\n",
    "        use_cuda = True,\n",
    "        args=train_args\n",
    "    )\n",
    "    model1f.train_model(train_df1)\n",
    "\n",
    "    result1f, model_outputs1f, wrong_predictions1f = model1f.eval_model(test_df1, f1=f1_multiclass, acc=accuracy_score)\n",
    "    print(result1f)\n",
    "    if(i<limitsave):\n",
    "        torch.save(model1f, 'model1f'+str(i)+'.pt')\n",
    "    del model1f\n",
    "    gc.collect()\n",
    "    if(i==0):\n",
    "        dfResultsModels1f = pd.DataFrame.from_dict(result1f, orient=\"index\").T\n",
    "    else:\n",
    "        dfResultsModels1b = pd.DataFrame.from_dict(result1f, orient=\"index\").T\n",
    "        dfResultsModels1f = dfResultsModels1f.append(dfResultsModels1b)\n",
    "\n",
    "dfResultsModels1fTrans = pd.DataFrame(dfResultsModels1f.mean(axis=0)).T\n",
    "dfResultsModels1fTrans['f1'] = calcule_f1(dfResultsModels1fTrans)\n",
    "dfResultsModelsTotal = dfResultsModelsTotal.append(dfResultsModels1fTrans)\n",
    "dfResultsModelsTotal.to_csv('dfResultsModelsTotal-2.csv')\n",
    "\n",
    "\n",
    "\n",
    "for i in range(0,N_ITER):\n",
    "    model1g = ClassificationModel(\n",
    "    \"flaubert\",\"flaubert/flaubert_base_cased\",\n",
    "        use_cuda = True,\n",
    "        args=train_args\n",
    "    )\n",
    "    model1g.train_model(train_df1)\n",
    "\n",
    "    result1g, model_outputs1g, wrong_predictions1g = model1g.eval_model(test_df1, f1=f1_multiclass, acc=accuracy_score)\n",
    "    print(result1g)\n",
    "    if(i<limitsave):\n",
    "        torch.save(model1g, 'model1g'+str(i)+'.pt')\n",
    "    del model1g\n",
    "    gc.collect()\n",
    "    if(i==0):\n",
    "        dfResultsModels1g = pd.DataFrame.from_dict(result1g, orient=\"index\").T\n",
    "    else:\n",
    "        dfResultsModels1b = pd.DataFrame.from_dict(result1g, orient=\"index\").T\n",
    "        dfResultsModels1g = dfResultsModels1g.append(dfResultsModels1b)\n",
    "\n",
    "dfResultsModels1gTrans = pd.DataFrame(dfResultsModels1g.mean(axis=0)).T\n",
    "dfResultsModels1gTrans['f1'] = calcule_f1(dfResultsModels1gTrans)\n",
    "dfResultsModelsTotal = dfResultsModelsTotal.append(dfResultsModels1gTrans)\n",
    "dfResultsModelsTotal.to_csv('dfResultsModelsTotal-2.csv')\n",
    "\n"
   ]
  },
  {
   "cell_type": "code",
   "execution_count": 29,
   "metadata": {},
   "outputs": [
    {
     "data": {
      "text/html": [
       "<div>\n",
       "<style scoped>\n",
       "    .dataframe tbody tr th:only-of-type {\n",
       "        vertical-align: middle;\n",
       "    }\n",
       "\n",
       "    .dataframe tbody tr th {\n",
       "        vertical-align: top;\n",
       "    }\n",
       "\n",
       "    .dataframe thead th {\n",
       "        text-align: right;\n",
       "    }\n",
       "</style>\n",
       "<table border=\"1\" class=\"dataframe\">\n",
       "  <thead>\n",
       "    <tr style=\"text-align: right;\">\n",
       "      <th></th>\n",
       "      <th>mcc</th>\n",
       "      <th>tp</th>\n",
       "      <th>tn</th>\n",
       "      <th>fp</th>\n",
       "      <th>fn</th>\n",
       "      <th>auroc</th>\n",
       "      <th>auprc</th>\n",
       "      <th>f1</th>\n",
       "      <th>acc</th>\n",
       "      <th>eval_loss</th>\n",
       "    </tr>\n",
       "  </thead>\n",
       "  <tbody>\n",
       "    <tr>\n",
       "      <th>BERT</th>\n",
       "      <td>0.680467</td>\n",
       "      <td>94.0</td>\n",
       "      <td>442.0</td>\n",
       "      <td>25.0</td>\n",
       "      <td>39.0</td>\n",
       "      <td>0.941218</td>\n",
       "      <td>0.859753</td>\n",
       "      <td>0.746032</td>\n",
       "      <td>0.893333</td>\n",
       "      <td>0.588485</td>\n",
       "    </tr>\n",
       "    <tr>\n",
       "      <th>RoBERTa</th>\n",
       "      <td>0.766940</td>\n",
       "      <td>108.0</td>\n",
       "      <td>444.0</td>\n",
       "      <td>23.0</td>\n",
       "      <td>25.0</td>\n",
       "      <td>0.954984</td>\n",
       "      <td>0.873154</td>\n",
       "      <td>0.818182</td>\n",
       "      <td>0.920000</td>\n",
       "      <td>0.565434</td>\n",
       "    </tr>\n",
       "    <tr>\n",
       "      <th>DistilBERT</th>\n",
       "      <td>0.718376</td>\n",
       "      <td>103.0</td>\n",
       "      <td>439.0</td>\n",
       "      <td>28.0</td>\n",
       "      <td>30.0</td>\n",
       "      <td>0.940783</td>\n",
       "      <td>0.792160</td>\n",
       "      <td>0.780303</td>\n",
       "      <td>0.903333</td>\n",
       "      <td>0.526942</td>\n",
       "    </tr>\n",
       "    <tr>\n",
       "      <th>CamemBERT</th>\n",
       "      <td>0.703988</td>\n",
       "      <td>95.0</td>\n",
       "      <td>446.0</td>\n",
       "      <td>21.0</td>\n",
       "      <td>38.0</td>\n",
       "      <td>0.959299</td>\n",
       "      <td>0.836378</td>\n",
       "      <td>0.763052</td>\n",
       "      <td>0.901667</td>\n",
       "      <td>0.382991</td>\n",
       "    </tr>\n",
       "    <tr>\n",
       "      <th>Albert</th>\n",
       "      <td>0.640215</td>\n",
       "      <td>90.0</td>\n",
       "      <td>438.0</td>\n",
       "      <td>29.0</td>\n",
       "      <td>43.0</td>\n",
       "      <td>0.937193</td>\n",
       "      <td>0.829862</td>\n",
       "      <td>0.714286</td>\n",
       "      <td>0.880000</td>\n",
       "      <td>0.702584</td>\n",
       "    </tr>\n",
       "    <tr>\n",
       "      <th>Flaubert</th>\n",
       "      <td>0.721388</td>\n",
       "      <td>105.0</td>\n",
       "      <td>437.0</td>\n",
       "      <td>30.0</td>\n",
       "      <td>28.0</td>\n",
       "      <td>0.953486</td>\n",
       "      <td>0.857952</td>\n",
       "      <td>0.783582</td>\n",
       "      <td>0.903333</td>\n",
       "      <td>0.302684</td>\n",
       "    </tr>\n",
       "  </tbody>\n",
       "</table>\n",
       "</div>"
      ],
      "text/plain": [
       "                 mcc     tp     tn    fp    fn     auroc     auprc        f1  \\\n",
       "BERT        0.680467   94.0  442.0  25.0  39.0  0.941218  0.859753  0.746032   \n",
       "RoBERTa     0.766940  108.0  444.0  23.0  25.0  0.954984  0.873154  0.818182   \n",
       "DistilBERT  0.718376  103.0  439.0  28.0  30.0  0.940783  0.792160  0.780303   \n",
       "CamemBERT   0.703988   95.0  446.0  21.0  38.0  0.959299  0.836378  0.763052   \n",
       "Albert      0.640215   90.0  438.0  29.0  43.0  0.937193  0.829862  0.714286   \n",
       "Flaubert    0.721388  105.0  437.0  30.0  28.0  0.953486  0.857952  0.783582   \n",
       "\n",
       "                 acc  eval_loss  \n",
       "BERT        0.893333   0.588485  \n",
       "RoBERTa     0.920000   0.565434  \n",
       "DistilBERT  0.903333   0.526942  \n",
       "CamemBERT   0.901667   0.382991  \n",
       "Albert      0.880000   0.702584  \n",
       "Flaubert    0.903333   0.302684  "
      ]
     },
     "execution_count": 29,
     "metadata": {},
     "output_type": "execute_result"
    }
   ],
   "source": [
    "\n",
    "#dfResultsModelsTotal.reindex(indexBERT)\n",
    "dfResultsModelsTotal = dfResultsModelsTotal.reset_index(drop=True)\n",
    "dfResultsModelsTotal.index = indexBERT\n",
    "dfResultsModelsTotal\n",
    "\n",
    "dfResultssModelsTotal2 = dfResultsModelsTotal.copy()\n",
    "\n",
    "dfResultssModelsTotal2"
   ]
  },
  {
   "cell_type": "code",
   "execution_count": 30,
   "metadata": {},
   "outputs": [
    {
     "name": "stderr",
     "output_type": "stream",
     "text": [
      "Some weights of the model checkpoint at bert-base-multilingual-cased were not used when initializing BertForSequenceClassification: ['cls.predictions.bias', 'cls.predictions.transform.dense.weight', 'cls.predictions.transform.dense.bias', 'cls.predictions.decoder.weight', 'cls.seq_relationship.weight', 'cls.seq_relationship.bias', 'cls.predictions.transform.LayerNorm.weight', 'cls.predictions.transform.LayerNorm.bias']\n",
      "- This IS expected if you are initializing BertForSequenceClassification from the checkpoint of a model trained on another task or with another architecture (e.g. initializing a BertForSequenceClassification model from a BertForPreTraining model).\n",
      "- This IS NOT expected if you are initializing BertForSequenceClassification from the checkpoint of a model that you expect to be exactly identical (initializing a BertForSequenceClassification model from a BertForSequenceClassification model).\n",
      "Some weights of BertForSequenceClassification were not initialized from the model checkpoint at bert-base-multilingual-cased and are newly initialized: ['classifier.weight', 'classifier.bias']\n",
      "You should probably TRAIN this model on a down-stream task to be able to use it for predictions and inference.\n",
      "C:\\Users\\MICROSOFT\\Anaconda3\\envs\\tfm2\\lib\\site-packages\\simpletransformers\\classification\\classification_model.py:446: UserWarning: Dataframe headers not specified. Falling back to using column 0 as text and column 1 as labels.\n",
      "  \"Dataframe headers not specified. Falling back to using column 0 as text and column 1 as labels.\"\n"
     ]
    },
    {
     "data": {
      "application/vnd.jupyter.widget-view+json": {
       "model_id": "9687eaa6f5b84e4691257ef631c2660e",
       "version_major": 2,
       "version_minor": 0
      },
      "text/plain": [
       "  0%|          | 0/3 [00:00<?, ?it/s]"
      ]
     },
     "metadata": {},
     "output_type": "display_data"
    },
    {
     "data": {
      "application/vnd.jupyter.widget-view+json": {
       "model_id": "a1fad997b752484d8ac17384998045f6",
       "version_major": 2,
       "version_minor": 0
      },
      "text/plain": [
       "Epoch:   0%|          | 0/15 [00:00<?, ?it/s]"
      ]
     },
     "metadata": {},
     "output_type": "display_data"
    },
    {
     "data": {
      "application/vnd.jupyter.widget-view+json": {
       "model_id": "1d66fb118d7441daa1c3ff77e69e3737",
       "version_major": 2,
       "version_minor": 0
      },
      "text/plain": [
       "Running Epoch 0 of 15:   0%|          | 0/44 [00:00<?, ?it/s]"
      ]
     },
     "metadata": {},
     "output_type": "display_data"
    },
    {
     "data": {
      "application/vnd.jupyter.widget-view+json": {
       "model_id": "11f963e63f1e48e38a5d4453b559562e",
       "version_major": 2,
       "version_minor": 0
      },
      "text/plain": [
       "Running Epoch 1 of 15:   0%|          | 0/44 [00:00<?, ?it/s]"
      ]
     },
     "metadata": {},
     "output_type": "display_data"
    },
    {
     "data": {
      "application/vnd.jupyter.widget-view+json": {
       "model_id": "f0c45899f2874ccea8e70511e1bec82c",
       "version_major": 2,
       "version_minor": 0
      },
      "text/plain": [
       "Running Epoch 2 of 15:   0%|          | 0/44 [00:00<?, ?it/s]"
      ]
     },
     "metadata": {},
     "output_type": "display_data"
    },
    {
     "data": {
      "application/vnd.jupyter.widget-view+json": {
       "model_id": "275b23204ac94473811ca6d645a0728b",
       "version_major": 2,
       "version_minor": 0
      },
      "text/plain": [
       "Running Epoch 3 of 15:   0%|          | 0/44 [00:00<?, ?it/s]"
      ]
     },
     "metadata": {},
     "output_type": "display_data"
    },
    {
     "data": {
      "application/vnd.jupyter.widget-view+json": {
       "model_id": "1d77e7019c50422bb52f468ccb4a4905",
       "version_major": 2,
       "version_minor": 0
      },
      "text/plain": [
       "Running Epoch 4 of 15:   0%|          | 0/44 [00:00<?, ?it/s]"
      ]
     },
     "metadata": {},
     "output_type": "display_data"
    },
    {
     "data": {
      "application/vnd.jupyter.widget-view+json": {
       "model_id": "5e4b58ff093f41a18322c4fddcdda6ff",
       "version_major": 2,
       "version_minor": 0
      },
      "text/plain": [
       "Running Epoch 5 of 15:   0%|          | 0/44 [00:00<?, ?it/s]"
      ]
     },
     "metadata": {},
     "output_type": "display_data"
    },
    {
     "data": {
      "application/vnd.jupyter.widget-view+json": {
       "model_id": "608d3581521a424890915e75bc796514",
       "version_major": 2,
       "version_minor": 0
      },
      "text/plain": [
       "Running Epoch 6 of 15:   0%|          | 0/44 [00:00<?, ?it/s]"
      ]
     },
     "metadata": {},
     "output_type": "display_data"
    },
    {
     "data": {
      "application/vnd.jupyter.widget-view+json": {
       "model_id": "24aa90b3c5804f7fb1354fd6198ac563",
       "version_major": 2,
       "version_minor": 0
      },
      "text/plain": [
       "Running Epoch 7 of 15:   0%|          | 0/44 [00:00<?, ?it/s]"
      ]
     },
     "metadata": {},
     "output_type": "display_data"
    },
    {
     "data": {
      "application/vnd.jupyter.widget-view+json": {
       "model_id": "996ba3e52bea44cdb68355d8460c6182",
       "version_major": 2,
       "version_minor": 0
      },
      "text/plain": [
       "Running Epoch 8 of 15:   0%|          | 0/44 [00:00<?, ?it/s]"
      ]
     },
     "metadata": {},
     "output_type": "display_data"
    },
    {
     "data": {
      "application/vnd.jupyter.widget-view+json": {
       "model_id": "027335517424458e823d8b74a6097128",
       "version_major": 2,
       "version_minor": 0
      },
      "text/plain": [
       "Running Epoch 9 of 15:   0%|          | 0/44 [00:00<?, ?it/s]"
      ]
     },
     "metadata": {},
     "output_type": "display_data"
    },
    {
     "data": {
      "application/vnd.jupyter.widget-view+json": {
       "model_id": "e6296579006743a5a104b8150ef94f00",
       "version_major": 2,
       "version_minor": 0
      },
      "text/plain": [
       "Running Epoch 10 of 15:   0%|          | 0/44 [00:00<?, ?it/s]"
      ]
     },
     "metadata": {},
     "output_type": "display_data"
    },
    {
     "data": {
      "application/vnd.jupyter.widget-view+json": {
       "model_id": "9d5374ec35cd413aa24860bdc1efc3ff",
       "version_major": 2,
       "version_minor": 0
      },
      "text/plain": [
       "Running Epoch 11 of 15:   0%|          | 0/44 [00:00<?, ?it/s]"
      ]
     },
     "metadata": {},
     "output_type": "display_data"
    },
    {
     "data": {
      "application/vnd.jupyter.widget-view+json": {
       "model_id": "1a7a8d9da3c546a7b0a05a428ef7b903",
       "version_major": 2,
       "version_minor": 0
      },
      "text/plain": [
       "Running Epoch 12 of 15:   0%|          | 0/44 [00:00<?, ?it/s]"
      ]
     },
     "metadata": {},
     "output_type": "display_data"
    },
    {
     "data": {
      "application/vnd.jupyter.widget-view+json": {
       "model_id": "c3221e77a0404182998bd38c44124463",
       "version_major": 2,
       "version_minor": 0
      },
      "text/plain": [
       "Running Epoch 13 of 15:   0%|          | 0/44 [00:00<?, ?it/s]"
      ]
     },
     "metadata": {},
     "output_type": "display_data"
    },
    {
     "data": {
      "application/vnd.jupyter.widget-view+json": {
       "model_id": "10c483999e5342c8b04201ad0968c287",
       "version_major": 2,
       "version_minor": 0
      },
      "text/plain": [
       "Running Epoch 14 of 15:   0%|          | 0/44 [00:00<?, ?it/s]"
      ]
     },
     "metadata": {},
     "output_type": "display_data"
    },
    {
     "name": "stderr",
     "output_type": "stream",
     "text": [
      "C:\\Users\\MICROSOFT\\Anaconda3\\envs\\tfm2\\lib\\site-packages\\simpletransformers\\classification\\classification_model.py:1026: UserWarning: Dataframe headers not specified. Falling back to using column 0 as text and column 1 as labels.\n",
      "  \"Dataframe headers not specified. Falling back to using column 0 as text and column 1 as labels.\"\n"
     ]
    },
    {
     "data": {
      "application/vnd.jupyter.widget-view+json": {
       "model_id": "c08e73cdd0834cc9a4571aafa0d9a5e1",
       "version_major": 2,
       "version_minor": 0
      },
      "text/plain": [
       "Running Evaluation:   0%|          | 0/19 [00:00<?, ?it/s]"
      ]
     },
     "metadata": {},
     "output_type": "display_data"
    },
    {
     "name": "stdout",
     "output_type": "stream",
     "text": [
      "{'mcc': 0.687142707500405, 'tp': 194, 'tn': 316, 'fp': 43, 'fn': 47, 'auroc': 0.8969359331476322, 'auprc': 0.870660833085849, 'f1': 0.85, 'acc': 0.85, 'eval_loss': 0.8461961993016303}\n"
     ]
    },
    {
     "name": "stderr",
     "output_type": "stream",
     "text": [
      "Some weights of the model checkpoint at roberta-base were not used when initializing RobertaForSequenceClassification: ['lm_head.bias', 'lm_head.dense.weight', 'lm_head.dense.bias', 'lm_head.layer_norm.weight', 'lm_head.layer_norm.bias', 'lm_head.decoder.weight']\n",
      "- This IS expected if you are initializing RobertaForSequenceClassification from the checkpoint of a model trained on another task or with another architecture (e.g. initializing a BertForSequenceClassification model from a BertForPreTraining model).\n",
      "- This IS NOT expected if you are initializing RobertaForSequenceClassification from the checkpoint of a model that you expect to be exactly identical (initializing a BertForSequenceClassification model from a BertForSequenceClassification model).\n",
      "Some weights of RobertaForSequenceClassification were not initialized from the model checkpoint at roberta-base and are newly initialized: ['classifier.dense.weight', 'classifier.dense.bias', 'classifier.out_proj.weight', 'classifier.out_proj.bias']\n",
      "You should probably TRAIN this model on a down-stream task to be able to use it for predictions and inference.\n"
     ]
    },
    {
     "data": {
      "application/vnd.jupyter.widget-view+json": {
       "model_id": "fcd9db97863543ac98cd22207c54c877",
       "version_major": 2,
       "version_minor": 0
      },
      "text/plain": [
       "  0%|          | 0/3 [00:00<?, ?it/s]"
      ]
     },
     "metadata": {},
     "output_type": "display_data"
    },
    {
     "data": {
      "application/vnd.jupyter.widget-view+json": {
       "model_id": "e0420088ac0e455b89626b145bd1c50d",
       "version_major": 2,
       "version_minor": 0
      },
      "text/plain": [
       "Epoch:   0%|          | 0/15 [00:00<?, ?it/s]"
      ]
     },
     "metadata": {},
     "output_type": "display_data"
    },
    {
     "data": {
      "application/vnd.jupyter.widget-view+json": {
       "model_id": "a5e645ef55984b07b798ba08a510bb03",
       "version_major": 2,
       "version_minor": 0
      },
      "text/plain": [
       "Running Epoch 0 of 15:   0%|          | 0/44 [00:00<?, ?it/s]"
      ]
     },
     "metadata": {},
     "output_type": "display_data"
    },
    {
     "data": {
      "application/vnd.jupyter.widget-view+json": {
       "model_id": "da6f0c1480c74473ac4338801e8caff5",
       "version_major": 2,
       "version_minor": 0
      },
      "text/plain": [
       "Running Epoch 1 of 15:   0%|          | 0/44 [00:00<?, ?it/s]"
      ]
     },
     "metadata": {},
     "output_type": "display_data"
    },
    {
     "data": {
      "application/vnd.jupyter.widget-view+json": {
       "model_id": "d45b5ea954554dab98d1ac19df28e539",
       "version_major": 2,
       "version_minor": 0
      },
      "text/plain": [
       "Running Epoch 2 of 15:   0%|          | 0/44 [00:00<?, ?it/s]"
      ]
     },
     "metadata": {},
     "output_type": "display_data"
    },
    {
     "data": {
      "application/vnd.jupyter.widget-view+json": {
       "model_id": "95fec95fb5b54e138f47df3775684f9b",
       "version_major": 2,
       "version_minor": 0
      },
      "text/plain": [
       "Running Epoch 3 of 15:   0%|          | 0/44 [00:00<?, ?it/s]"
      ]
     },
     "metadata": {},
     "output_type": "display_data"
    },
    {
     "data": {
      "application/vnd.jupyter.widget-view+json": {
       "model_id": "30d42a6db2a44c18b90a11ac870dcaf6",
       "version_major": 2,
       "version_minor": 0
      },
      "text/plain": [
       "Running Epoch 4 of 15:   0%|          | 0/44 [00:00<?, ?it/s]"
      ]
     },
     "metadata": {},
     "output_type": "display_data"
    },
    {
     "data": {
      "application/vnd.jupyter.widget-view+json": {
       "model_id": "c531d5bc956b477896b26de2f33cbbb8",
       "version_major": 2,
       "version_minor": 0
      },
      "text/plain": [
       "Running Epoch 5 of 15:   0%|          | 0/44 [00:00<?, ?it/s]"
      ]
     },
     "metadata": {},
     "output_type": "display_data"
    },
    {
     "data": {
      "application/vnd.jupyter.widget-view+json": {
       "model_id": "51a8d26226804d77979e2998ed4bd7d5",
       "version_major": 2,
       "version_minor": 0
      },
      "text/plain": [
       "Running Epoch 6 of 15:   0%|          | 0/44 [00:00<?, ?it/s]"
      ]
     },
     "metadata": {},
     "output_type": "display_data"
    },
    {
     "data": {
      "application/vnd.jupyter.widget-view+json": {
       "model_id": "2dc28246e8a6492a90dcc2eac2ffe1c9",
       "version_major": 2,
       "version_minor": 0
      },
      "text/plain": [
       "Running Epoch 7 of 15:   0%|          | 0/44 [00:00<?, ?it/s]"
      ]
     },
     "metadata": {},
     "output_type": "display_data"
    },
    {
     "data": {
      "application/vnd.jupyter.widget-view+json": {
       "model_id": "f7275c303e654c599a33a7669c949222",
       "version_major": 2,
       "version_minor": 0
      },
      "text/plain": [
       "Running Epoch 8 of 15:   0%|          | 0/44 [00:00<?, ?it/s]"
      ]
     },
     "metadata": {},
     "output_type": "display_data"
    },
    {
     "data": {
      "application/vnd.jupyter.widget-view+json": {
       "model_id": "324d6740cdc24ce9b5169833c2e46fdd",
       "version_major": 2,
       "version_minor": 0
      },
      "text/plain": [
       "Running Epoch 9 of 15:   0%|          | 0/44 [00:00<?, ?it/s]"
      ]
     },
     "metadata": {},
     "output_type": "display_data"
    },
    {
     "data": {
      "application/vnd.jupyter.widget-view+json": {
       "model_id": "f31aa0a57c384d14b8d1389bf2b47deb",
       "version_major": 2,
       "version_minor": 0
      },
      "text/plain": [
       "Running Epoch 10 of 15:   0%|          | 0/44 [00:00<?, ?it/s]"
      ]
     },
     "metadata": {},
     "output_type": "display_data"
    },
    {
     "data": {
      "application/vnd.jupyter.widget-view+json": {
       "model_id": "ad2c770b552e434c8c05690845f30b0e",
       "version_major": 2,
       "version_minor": 0
      },
      "text/plain": [
       "Running Epoch 11 of 15:   0%|          | 0/44 [00:00<?, ?it/s]"
      ]
     },
     "metadata": {},
     "output_type": "display_data"
    },
    {
     "data": {
      "application/vnd.jupyter.widget-view+json": {
       "model_id": "55f569f239454b6297dd7a41ef0222fd",
       "version_major": 2,
       "version_minor": 0
      },
      "text/plain": [
       "Running Epoch 12 of 15:   0%|          | 0/44 [00:00<?, ?it/s]"
      ]
     },
     "metadata": {},
     "output_type": "display_data"
    },
    {
     "data": {
      "application/vnd.jupyter.widget-view+json": {
       "model_id": "da4b66977135426f86e7cc8c6673e942",
       "version_major": 2,
       "version_minor": 0
      },
      "text/plain": [
       "Running Epoch 13 of 15:   0%|          | 0/44 [00:00<?, ?it/s]"
      ]
     },
     "metadata": {},
     "output_type": "display_data"
    },
    {
     "data": {
      "application/vnd.jupyter.widget-view+json": {
       "model_id": "3133f6f4bdc14afa957ba27867b2b92a",
       "version_major": 2,
       "version_minor": 0
      },
      "text/plain": [
       "Running Epoch 14 of 15:   0%|          | 0/44 [00:00<?, ?it/s]"
      ]
     },
     "metadata": {},
     "output_type": "display_data"
    },
    {
     "data": {
      "application/vnd.jupyter.widget-view+json": {
       "model_id": "039b8f3f42134483bd62e9470e6ed05d",
       "version_major": 2,
       "version_minor": 0
      },
      "text/plain": [
       "Running Evaluation:   0%|          | 0/19 [00:00<?, ?it/s]"
      ]
     },
     "metadata": {},
     "output_type": "display_data"
    },
    {
     "name": "stdout",
     "output_type": "stream",
     "text": [
      "{'mcc': 0.7383794874099359, 'tp': 197, 'tn': 328, 'fp': 31, 'fn': 44, 'auroc': 0.9143771888255758, 'auprc': 0.9065378731932237, 'f1': 0.875, 'acc': 0.875, 'eval_loss': 0.8846329952541151}\n"
     ]
    },
    {
     "name": "stderr",
     "output_type": "stream",
     "text": [
      "Some weights of the model checkpoint at distilbert-base-cased were not used when initializing DistilBertForSequenceClassification: ['vocab_transform.weight', 'vocab_transform.bias', 'vocab_layer_norm.weight', 'vocab_layer_norm.bias', 'vocab_projector.weight', 'vocab_projector.bias']\n",
      "- This IS expected if you are initializing DistilBertForSequenceClassification from the checkpoint of a model trained on another task or with another architecture (e.g. initializing a BertForSequenceClassification model from a BertForPreTraining model).\n",
      "- This IS NOT expected if you are initializing DistilBertForSequenceClassification from the checkpoint of a model that you expect to be exactly identical (initializing a BertForSequenceClassification model from a BertForSequenceClassification model).\n",
      "Some weights of DistilBertForSequenceClassification were not initialized from the model checkpoint at distilbert-base-cased and are newly initialized: ['pre_classifier.weight', 'pre_classifier.bias', 'classifier.weight', 'classifier.bias']\n",
      "You should probably TRAIN this model on a down-stream task to be able to use it for predictions and inference.\n"
     ]
    },
    {
     "data": {
      "application/vnd.jupyter.widget-view+json": {
       "model_id": "87599669ba4c46b5b137d9f5e10104d7",
       "version_major": 2,
       "version_minor": 0
      },
      "text/plain": [
       "  0%|          | 0/3 [00:00<?, ?it/s]"
      ]
     },
     "metadata": {},
     "output_type": "display_data"
    },
    {
     "data": {
      "application/vnd.jupyter.widget-view+json": {
       "model_id": "e11ea3a8a6f942bba29f6addae0d4208",
       "version_major": 2,
       "version_minor": 0
      },
      "text/plain": [
       "Epoch:   0%|          | 0/15 [00:00<?, ?it/s]"
      ]
     },
     "metadata": {},
     "output_type": "display_data"
    },
    {
     "data": {
      "application/vnd.jupyter.widget-view+json": {
       "model_id": "d9382d0c988e4933b992b5622a579949",
       "version_major": 2,
       "version_minor": 0
      },
      "text/plain": [
       "Running Epoch 0 of 15:   0%|          | 0/44 [00:00<?, ?it/s]"
      ]
     },
     "metadata": {},
     "output_type": "display_data"
    },
    {
     "data": {
      "application/vnd.jupyter.widget-view+json": {
       "model_id": "be212e520f40413ab30164682ee0f7d8",
       "version_major": 2,
       "version_minor": 0
      },
      "text/plain": [
       "Running Epoch 1 of 15:   0%|          | 0/44 [00:00<?, ?it/s]"
      ]
     },
     "metadata": {},
     "output_type": "display_data"
    },
    {
     "data": {
      "application/vnd.jupyter.widget-view+json": {
       "model_id": "850c60287a6144659814f8be102a4668",
       "version_major": 2,
       "version_minor": 0
      },
      "text/plain": [
       "Running Epoch 2 of 15:   0%|          | 0/44 [00:00<?, ?it/s]"
      ]
     },
     "metadata": {},
     "output_type": "display_data"
    },
    {
     "data": {
      "application/vnd.jupyter.widget-view+json": {
       "model_id": "08f3b2e249d349ce843e6dea48e7b138",
       "version_major": 2,
       "version_minor": 0
      },
      "text/plain": [
       "Running Epoch 3 of 15:   0%|          | 0/44 [00:00<?, ?it/s]"
      ]
     },
     "metadata": {},
     "output_type": "display_data"
    },
    {
     "data": {
      "application/vnd.jupyter.widget-view+json": {
       "model_id": "c435ae5fb1ca46b684a1e23f33214007",
       "version_major": 2,
       "version_minor": 0
      },
      "text/plain": [
       "Running Epoch 4 of 15:   0%|          | 0/44 [00:00<?, ?it/s]"
      ]
     },
     "metadata": {},
     "output_type": "display_data"
    },
    {
     "data": {
      "application/vnd.jupyter.widget-view+json": {
       "model_id": "37ab88b339d941a2aef7c48c79053daa",
       "version_major": 2,
       "version_minor": 0
      },
      "text/plain": [
       "Running Epoch 5 of 15:   0%|          | 0/44 [00:00<?, ?it/s]"
      ]
     },
     "metadata": {},
     "output_type": "display_data"
    },
    {
     "data": {
      "application/vnd.jupyter.widget-view+json": {
       "model_id": "0edee7559f224fc3a4b7ed19625fece2",
       "version_major": 2,
       "version_minor": 0
      },
      "text/plain": [
       "Running Epoch 6 of 15:   0%|          | 0/44 [00:00<?, ?it/s]"
      ]
     },
     "metadata": {},
     "output_type": "display_data"
    },
    {
     "data": {
      "application/vnd.jupyter.widget-view+json": {
       "model_id": "166e292f3e5244349eb755b90b238aa1",
       "version_major": 2,
       "version_minor": 0
      },
      "text/plain": [
       "Running Epoch 7 of 15:   0%|          | 0/44 [00:00<?, ?it/s]"
      ]
     },
     "metadata": {},
     "output_type": "display_data"
    },
    {
     "data": {
      "application/vnd.jupyter.widget-view+json": {
       "model_id": "bdaac28e0250404f8fd0e6d825af3955",
       "version_major": 2,
       "version_minor": 0
      },
      "text/plain": [
       "Running Epoch 8 of 15:   0%|          | 0/44 [00:00<?, ?it/s]"
      ]
     },
     "metadata": {},
     "output_type": "display_data"
    },
    {
     "data": {
      "application/vnd.jupyter.widget-view+json": {
       "model_id": "f5f548c90100409aa61ca6ed268256cd",
       "version_major": 2,
       "version_minor": 0
      },
      "text/plain": [
       "Running Epoch 9 of 15:   0%|          | 0/44 [00:00<?, ?it/s]"
      ]
     },
     "metadata": {},
     "output_type": "display_data"
    },
    {
     "data": {
      "application/vnd.jupyter.widget-view+json": {
       "model_id": "c3bd3eaa9e2b45a0846fb78ca54a3c72",
       "version_major": 2,
       "version_minor": 0
      },
      "text/plain": [
       "Running Epoch 10 of 15:   0%|          | 0/44 [00:00<?, ?it/s]"
      ]
     },
     "metadata": {},
     "output_type": "display_data"
    },
    {
     "data": {
      "application/vnd.jupyter.widget-view+json": {
       "model_id": "9f1c4e3eb67a4f46bbbaf6c316de6b51",
       "version_major": 2,
       "version_minor": 0
      },
      "text/plain": [
       "Running Epoch 11 of 15:   0%|          | 0/44 [00:00<?, ?it/s]"
      ]
     },
     "metadata": {},
     "output_type": "display_data"
    },
    {
     "data": {
      "application/vnd.jupyter.widget-view+json": {
       "model_id": "ed24e459bb874077b454303b76b95d40",
       "version_major": 2,
       "version_minor": 0
      },
      "text/plain": [
       "Running Epoch 12 of 15:   0%|          | 0/44 [00:00<?, ?it/s]"
      ]
     },
     "metadata": {},
     "output_type": "display_data"
    },
    {
     "data": {
      "application/vnd.jupyter.widget-view+json": {
       "model_id": "accf75c111ea482b9f8e857a0f9630d0",
       "version_major": 2,
       "version_minor": 0
      },
      "text/plain": [
       "Running Epoch 13 of 15:   0%|          | 0/44 [00:00<?, ?it/s]"
      ]
     },
     "metadata": {},
     "output_type": "display_data"
    },
    {
     "data": {
      "application/vnd.jupyter.widget-view+json": {
       "model_id": "57f918d2a0fa4e1da530b6462798b953",
       "version_major": 2,
       "version_minor": 0
      },
      "text/plain": [
       "Running Epoch 14 of 15:   0%|          | 0/44 [00:00<?, ?it/s]"
      ]
     },
     "metadata": {},
     "output_type": "display_data"
    },
    {
     "data": {
      "application/vnd.jupyter.widget-view+json": {
       "model_id": "804e90ea9ca84ce79904b78fc6fb2076",
       "version_major": 2,
       "version_minor": 0
      },
      "text/plain": [
       "Running Evaluation:   0%|          | 0/19 [00:00<?, ?it/s]"
      ]
     },
     "metadata": {},
     "output_type": "display_data"
    },
    {
     "name": "stdout",
     "output_type": "stream",
     "text": [
      "{'mcc': 0.6995273003620833, 'tp': 183, 'tn': 331, 'fp': 28, 'fn': 58, 'auroc': 0.9039517331453206, 'auprc': 0.8925897850155664, 'f1': 0.8566666666666667, 'acc': 0.8566666666666667, 'eval_loss': 0.7765977931650061}\n"
     ]
    },
    {
     "name": "stderr",
     "output_type": "stream",
     "text": [
      "Some weights of the model checkpoint at camembert-base were not used when initializing CamembertForSequenceClassification: ['lm_head.bias', 'lm_head.dense.weight', 'lm_head.dense.bias', 'lm_head.layer_norm.weight', 'lm_head.layer_norm.bias', 'lm_head.decoder.weight']\n",
      "- This IS expected if you are initializing CamembertForSequenceClassification from the checkpoint of a model trained on another task or with another architecture (e.g. initializing a BertForSequenceClassification model from a BertForPreTraining model).\n",
      "- This IS NOT expected if you are initializing CamembertForSequenceClassification from the checkpoint of a model that you expect to be exactly identical (initializing a BertForSequenceClassification model from a BertForSequenceClassification model).\n",
      "Some weights of CamembertForSequenceClassification were not initialized from the model checkpoint at camembert-base and are newly initialized: ['classifier.dense.weight', 'classifier.dense.bias', 'classifier.out_proj.weight', 'classifier.out_proj.bias']\n",
      "You should probably TRAIN this model on a down-stream task to be able to use it for predictions and inference.\n",
      "C:\\Users\\MICROSOFT\\Anaconda3\\envs\\tfm2\\lib\\site-packages\\simpletransformers\\classification\\classification_model.py:345: UserWarning: use_multiprocessing automatically disabled as camembert fails when using multiprocessing for feature conversion.\n",
      "  f\"use_multiprocessing automatically disabled as {model_type}\"\n"
     ]
    },
    {
     "data": {
      "application/vnd.jupyter.widget-view+json": {
       "model_id": "4db5207fedfa4c7382e5096ff31b317d",
       "version_major": 2,
       "version_minor": 0
      },
      "text/plain": [
       "Epoch:   0%|          | 0/15 [00:00<?, ?it/s]"
      ]
     },
     "metadata": {},
     "output_type": "display_data"
    },
    {
     "data": {
      "application/vnd.jupyter.widget-view+json": {
       "model_id": "bf3000e2a10141338bddfadb0a988146",
       "version_major": 2,
       "version_minor": 0
      },
      "text/plain": [
       "Running Epoch 0 of 15:   0%|          | 0/44 [00:00<?, ?it/s]"
      ]
     },
     "metadata": {},
     "output_type": "display_data"
    },
    {
     "data": {
      "application/vnd.jupyter.widget-view+json": {
       "model_id": "c0679f07699f45d98a7519fd6ce08054",
       "version_major": 2,
       "version_minor": 0
      },
      "text/plain": [
       "Running Epoch 1 of 15:   0%|          | 0/44 [00:00<?, ?it/s]"
      ]
     },
     "metadata": {},
     "output_type": "display_data"
    },
    {
     "data": {
      "application/vnd.jupyter.widget-view+json": {
       "model_id": "ab71e63c918042d688de6ca1007ca041",
       "version_major": 2,
       "version_minor": 0
      },
      "text/plain": [
       "Running Epoch 2 of 15:   0%|          | 0/44 [00:00<?, ?it/s]"
      ]
     },
     "metadata": {},
     "output_type": "display_data"
    },
    {
     "data": {
      "application/vnd.jupyter.widget-view+json": {
       "model_id": "64625e681d634117b3f30ea4024d47a2",
       "version_major": 2,
       "version_minor": 0
      },
      "text/plain": [
       "Running Epoch 3 of 15:   0%|          | 0/44 [00:00<?, ?it/s]"
      ]
     },
     "metadata": {},
     "output_type": "display_data"
    },
    {
     "data": {
      "application/vnd.jupyter.widget-view+json": {
       "model_id": "dd3d0938a4744ee0a7b8e28642f1ae0f",
       "version_major": 2,
       "version_minor": 0
      },
      "text/plain": [
       "Running Epoch 4 of 15:   0%|          | 0/44 [00:00<?, ?it/s]"
      ]
     },
     "metadata": {},
     "output_type": "display_data"
    },
    {
     "data": {
      "application/vnd.jupyter.widget-view+json": {
       "model_id": "745ab0606aff4c708b16872d06cb4f48",
       "version_major": 2,
       "version_minor": 0
      },
      "text/plain": [
       "Running Epoch 5 of 15:   0%|          | 0/44 [00:00<?, ?it/s]"
      ]
     },
     "metadata": {},
     "output_type": "display_data"
    },
    {
     "data": {
      "application/vnd.jupyter.widget-view+json": {
       "model_id": "991f02b0e0204341917305995409eeee",
       "version_major": 2,
       "version_minor": 0
      },
      "text/plain": [
       "Running Epoch 6 of 15:   0%|          | 0/44 [00:00<?, ?it/s]"
      ]
     },
     "metadata": {},
     "output_type": "display_data"
    },
    {
     "data": {
      "application/vnd.jupyter.widget-view+json": {
       "model_id": "4a1bc6a0ccc04131880ce4c01fe06497",
       "version_major": 2,
       "version_minor": 0
      },
      "text/plain": [
       "Running Epoch 7 of 15:   0%|          | 0/44 [00:00<?, ?it/s]"
      ]
     },
     "metadata": {},
     "output_type": "display_data"
    },
    {
     "data": {
      "application/vnd.jupyter.widget-view+json": {
       "model_id": "7eeaee9a4c34419dac02d02366ce9aac",
       "version_major": 2,
       "version_minor": 0
      },
      "text/plain": [
       "Running Epoch 8 of 15:   0%|          | 0/44 [00:00<?, ?it/s]"
      ]
     },
     "metadata": {},
     "output_type": "display_data"
    },
    {
     "data": {
      "application/vnd.jupyter.widget-view+json": {
       "model_id": "22a6c124faae440c8e879a4089a7fc5f",
       "version_major": 2,
       "version_minor": 0
      },
      "text/plain": [
       "Running Epoch 9 of 15:   0%|          | 0/44 [00:00<?, ?it/s]"
      ]
     },
     "metadata": {},
     "output_type": "display_data"
    },
    {
     "data": {
      "application/vnd.jupyter.widget-view+json": {
       "model_id": "58e5c472b43f48459674af17d9e24732",
       "version_major": 2,
       "version_minor": 0
      },
      "text/plain": [
       "Running Epoch 10 of 15:   0%|          | 0/44 [00:00<?, ?it/s]"
      ]
     },
     "metadata": {},
     "output_type": "display_data"
    },
    {
     "data": {
      "application/vnd.jupyter.widget-view+json": {
       "model_id": "68faeb09dc2544399a8f9d579ba3939e",
       "version_major": 2,
       "version_minor": 0
      },
      "text/plain": [
       "Running Epoch 11 of 15:   0%|          | 0/44 [00:00<?, ?it/s]"
      ]
     },
     "metadata": {},
     "output_type": "display_data"
    },
    {
     "data": {
      "application/vnd.jupyter.widget-view+json": {
       "model_id": "cae4ee2310a34e9b986013d438645d4a",
       "version_major": 2,
       "version_minor": 0
      },
      "text/plain": [
       "Running Epoch 12 of 15:   0%|          | 0/44 [00:00<?, ?it/s]"
      ]
     },
     "metadata": {},
     "output_type": "display_data"
    },
    {
     "data": {
      "application/vnd.jupyter.widget-view+json": {
       "model_id": "463e212586bd491a905b33e52f492c81",
       "version_major": 2,
       "version_minor": 0
      },
      "text/plain": [
       "Running Epoch 13 of 15:   0%|          | 0/44 [00:00<?, ?it/s]"
      ]
     },
     "metadata": {},
     "output_type": "display_data"
    },
    {
     "data": {
      "application/vnd.jupyter.widget-view+json": {
       "model_id": "ad769c1ecb7b4460a0cf18a291d52f32",
       "version_major": 2,
       "version_minor": 0
      },
      "text/plain": [
       "Running Epoch 14 of 15:   0%|          | 0/44 [00:00<?, ?it/s]"
      ]
     },
     "metadata": {},
     "output_type": "display_data"
    },
    {
     "data": {
      "application/vnd.jupyter.widget-view+json": {
       "model_id": "1c642ad126dd44c99122926abd8bf13b",
       "version_major": 2,
       "version_minor": 0
      },
      "text/plain": [
       "Running Evaluation:   0%|          | 0/19 [00:00<?, ?it/s]"
      ]
     },
     "metadata": {},
     "output_type": "display_data"
    },
    {
     "name": "stdout",
     "output_type": "stream",
     "text": [
      "{'mcc': 0.7418848022593254, 'tp': 208, 'tn': 317, 'fp': 42, 'fn': 33, 'auroc': 0.9166425871773831, 'auprc': 0.9073782877318629, 'f1': 0.875, 'acc': 0.875, 'eval_loss': 0.44313280715754155}\n"
     ]
    },
    {
     "name": "stderr",
     "output_type": "stream",
     "text": [
      "Some weights of the model checkpoint at albert-base-v1 were not used when initializing AlbertForSequenceClassification: ['predictions.bias', 'predictions.LayerNorm.weight', 'predictions.LayerNorm.bias', 'predictions.dense.weight', 'predictions.dense.bias', 'predictions.decoder.weight', 'predictions.decoder.bias']\n",
      "- This IS expected if you are initializing AlbertForSequenceClassification from the checkpoint of a model trained on another task or with another architecture (e.g. initializing a BertForSequenceClassification model from a BertForPreTraining model).\n",
      "- This IS NOT expected if you are initializing AlbertForSequenceClassification from the checkpoint of a model that you expect to be exactly identical (initializing a BertForSequenceClassification model from a BertForSequenceClassification model).\n",
      "Some weights of AlbertForSequenceClassification were not initialized from the model checkpoint at albert-base-v1 and are newly initialized: ['classifier.weight', 'classifier.bias']\n",
      "You should probably TRAIN this model on a down-stream task to be able to use it for predictions and inference.\n"
     ]
    },
    {
     "data": {
      "application/vnd.jupyter.widget-view+json": {
       "model_id": "9cc6530ed56946569a7137f0984df37a",
       "version_major": 2,
       "version_minor": 0
      },
      "text/plain": [
       "  0%|          | 0/3 [00:00<?, ?it/s]"
      ]
     },
     "metadata": {},
     "output_type": "display_data"
    },
    {
     "data": {
      "application/vnd.jupyter.widget-view+json": {
       "model_id": "35da0afb53e446fb96427cb175279cff",
       "version_major": 2,
       "version_minor": 0
      },
      "text/plain": [
       "Epoch:   0%|          | 0/15 [00:00<?, ?it/s]"
      ]
     },
     "metadata": {},
     "output_type": "display_data"
    },
    {
     "data": {
      "application/vnd.jupyter.widget-view+json": {
       "model_id": "a3c62e2713d94272b016e2dd8893a120",
       "version_major": 2,
       "version_minor": 0
      },
      "text/plain": [
       "Running Epoch 0 of 15:   0%|          | 0/44 [00:00<?, ?it/s]"
      ]
     },
     "metadata": {},
     "output_type": "display_data"
    },
    {
     "data": {
      "application/vnd.jupyter.widget-view+json": {
       "model_id": "0e85e80e562f4f4ebf6f5fdc6c652fac",
       "version_major": 2,
       "version_minor": 0
      },
      "text/plain": [
       "Running Epoch 1 of 15:   0%|          | 0/44 [00:00<?, ?it/s]"
      ]
     },
     "metadata": {},
     "output_type": "display_data"
    },
    {
     "data": {
      "application/vnd.jupyter.widget-view+json": {
       "model_id": "c568b2cd9794401496a419e7144b5287",
       "version_major": 2,
       "version_minor": 0
      },
      "text/plain": [
       "Running Epoch 2 of 15:   0%|          | 0/44 [00:00<?, ?it/s]"
      ]
     },
     "metadata": {},
     "output_type": "display_data"
    },
    {
     "data": {
      "application/vnd.jupyter.widget-view+json": {
       "model_id": "3bbcf8166d9d42418767dd34e7e528e4",
       "version_major": 2,
       "version_minor": 0
      },
      "text/plain": [
       "Running Epoch 3 of 15:   0%|          | 0/44 [00:00<?, ?it/s]"
      ]
     },
     "metadata": {},
     "output_type": "display_data"
    },
    {
     "data": {
      "application/vnd.jupyter.widget-view+json": {
       "model_id": "adf923b508bf4328b7ea3039780680b2",
       "version_major": 2,
       "version_minor": 0
      },
      "text/plain": [
       "Running Epoch 4 of 15:   0%|          | 0/44 [00:00<?, ?it/s]"
      ]
     },
     "metadata": {},
     "output_type": "display_data"
    },
    {
     "data": {
      "application/vnd.jupyter.widget-view+json": {
       "model_id": "5089605dda74481482289af85387d394",
       "version_major": 2,
       "version_minor": 0
      },
      "text/plain": [
       "Running Epoch 5 of 15:   0%|          | 0/44 [00:00<?, ?it/s]"
      ]
     },
     "metadata": {},
     "output_type": "display_data"
    },
    {
     "data": {
      "application/vnd.jupyter.widget-view+json": {
       "model_id": "53fa224fb28f45f3a36969dfeab244c6",
       "version_major": 2,
       "version_minor": 0
      },
      "text/plain": [
       "Running Epoch 6 of 15:   0%|          | 0/44 [00:00<?, ?it/s]"
      ]
     },
     "metadata": {},
     "output_type": "display_data"
    },
    {
     "data": {
      "application/vnd.jupyter.widget-view+json": {
       "model_id": "0a22a59aeb834d4e821892726d7dc3b0",
       "version_major": 2,
       "version_minor": 0
      },
      "text/plain": [
       "Running Epoch 7 of 15:   0%|          | 0/44 [00:00<?, ?it/s]"
      ]
     },
     "metadata": {},
     "output_type": "display_data"
    },
    {
     "data": {
      "application/vnd.jupyter.widget-view+json": {
       "model_id": "9da7c708b4e64f24b4d154a7e363749a",
       "version_major": 2,
       "version_minor": 0
      },
      "text/plain": [
       "Running Epoch 8 of 15:   0%|          | 0/44 [00:00<?, ?it/s]"
      ]
     },
     "metadata": {},
     "output_type": "display_data"
    },
    {
     "data": {
      "application/vnd.jupyter.widget-view+json": {
       "model_id": "ff0b3b0508ec43e1aa28b9bac085dbea",
       "version_major": 2,
       "version_minor": 0
      },
      "text/plain": [
       "Running Epoch 9 of 15:   0%|          | 0/44 [00:00<?, ?it/s]"
      ]
     },
     "metadata": {},
     "output_type": "display_data"
    },
    {
     "data": {
      "application/vnd.jupyter.widget-view+json": {
       "model_id": "b267cb9ad1de4e53969e162b84703d94",
       "version_major": 2,
       "version_minor": 0
      },
      "text/plain": [
       "Running Epoch 10 of 15:   0%|          | 0/44 [00:00<?, ?it/s]"
      ]
     },
     "metadata": {},
     "output_type": "display_data"
    },
    {
     "data": {
      "application/vnd.jupyter.widget-view+json": {
       "model_id": "89cc0853e29a4d80b317e2abf4e08cb5",
       "version_major": 2,
       "version_minor": 0
      },
      "text/plain": [
       "Running Epoch 11 of 15:   0%|          | 0/44 [00:00<?, ?it/s]"
      ]
     },
     "metadata": {},
     "output_type": "display_data"
    },
    {
     "data": {
      "application/vnd.jupyter.widget-view+json": {
       "model_id": "a2bd15034375414593b5f0d7f1ac0cce",
       "version_major": 2,
       "version_minor": 0
      },
      "text/plain": [
       "Running Epoch 12 of 15:   0%|          | 0/44 [00:00<?, ?it/s]"
      ]
     },
     "metadata": {},
     "output_type": "display_data"
    },
    {
     "data": {
      "application/vnd.jupyter.widget-view+json": {
       "model_id": "8ec5f1723bb44eb58e9b3a50e13ae624",
       "version_major": 2,
       "version_minor": 0
      },
      "text/plain": [
       "Running Epoch 13 of 15:   0%|          | 0/44 [00:00<?, ?it/s]"
      ]
     },
     "metadata": {},
     "output_type": "display_data"
    },
    {
     "data": {
      "application/vnd.jupyter.widget-view+json": {
       "model_id": "85d838e941b844cf9d010fa3ee185bd6",
       "version_major": 2,
       "version_minor": 0
      },
      "text/plain": [
       "Running Epoch 14 of 15:   0%|          | 0/44 [00:00<?, ?it/s]"
      ]
     },
     "metadata": {},
     "output_type": "display_data"
    },
    {
     "data": {
      "application/vnd.jupyter.widget-view+json": {
       "model_id": "d0ac289d319d467797e1e7ad11586d8f",
       "version_major": 2,
       "version_minor": 0
      },
      "text/plain": [
       "Running Evaluation:   0%|          | 0/19 [00:00<?, ?it/s]"
      ]
     },
     "metadata": {},
     "output_type": "display_data"
    },
    {
     "name": "stdout",
     "output_type": "stream",
     "text": [
      "{'mcc': 0.6579658556319247, 'tp': 186, 'tn': 316, 'fp': 43, 'fn': 55, 'auroc': 0.8971670962447554, 'auprc': 0.8764506305707795, 'f1': 0.8366666666666667, 'acc': 0.8366666666666667, 'eval_loss': 0.9671129929391962}\n"
     ]
    },
    {
     "name": "stderr",
     "output_type": "stream",
     "text": [
      "Some weights of the model checkpoint at flaubert/flaubert_base_cased were not used when initializing FlaubertForSequenceClassification: ['pred_layer.proj.bias', 'pred_layer.proj.weight']\n",
      "- This IS expected if you are initializing FlaubertForSequenceClassification from the checkpoint of a model trained on another task or with another architecture (e.g. initializing a BertForSequenceClassification model from a BertForPreTraining model).\n",
      "- This IS NOT expected if you are initializing FlaubertForSequenceClassification from the checkpoint of a model that you expect to be exactly identical (initializing a BertForSequenceClassification model from a BertForSequenceClassification model).\n",
      "Some weights of FlaubertForSequenceClassification were not initialized from the model checkpoint at flaubert/flaubert_base_cased and are newly initialized: ['position_embeddings.weight', 'embeddings.weight', 'layer_norm_emb.weight', 'layer_norm_emb.bias', 'attentions.0.q_lin.weight', 'attentions.0.q_lin.bias', 'attentions.0.k_lin.weight', 'attentions.0.k_lin.bias', 'attentions.0.v_lin.weight', 'attentions.0.v_lin.bias', 'attentions.0.out_lin.weight', 'attentions.0.out_lin.bias', 'attentions.1.q_lin.weight', 'attentions.1.q_lin.bias', 'attentions.1.k_lin.weight', 'attentions.1.k_lin.bias', 'attentions.1.v_lin.weight', 'attentions.1.v_lin.bias', 'attentions.1.out_lin.weight', 'attentions.1.out_lin.bias', 'attentions.2.q_lin.weight', 'attentions.2.q_lin.bias', 'attentions.2.k_lin.weight', 'attentions.2.k_lin.bias', 'attentions.2.v_lin.weight', 'attentions.2.v_lin.bias', 'attentions.2.out_lin.weight', 'attentions.2.out_lin.bias', 'attentions.3.q_lin.weight', 'attentions.3.q_lin.bias', 'attentions.3.k_lin.weight', 'attentions.3.k_lin.bias', 'attentions.3.v_lin.weight', 'attentions.3.v_lin.bias', 'attentions.3.out_lin.weight', 'attentions.3.out_lin.bias', 'attentions.4.q_lin.weight', 'attentions.4.q_lin.bias', 'attentions.4.k_lin.weight', 'attentions.4.k_lin.bias', 'attentions.4.v_lin.weight', 'attentions.4.v_lin.bias', 'attentions.4.out_lin.weight', 'attentions.4.out_lin.bias', 'attentions.5.q_lin.weight', 'attentions.5.q_lin.bias', 'attentions.5.k_lin.weight', 'attentions.5.k_lin.bias', 'attentions.5.v_lin.weight', 'attentions.5.v_lin.bias', 'attentions.5.out_lin.weight', 'attentions.5.out_lin.bias', 'attentions.6.q_lin.weight', 'attentions.6.q_lin.bias', 'attentions.6.k_lin.weight', 'attentions.6.k_lin.bias', 'attentions.6.v_lin.weight', 'attentions.6.v_lin.bias', 'attentions.6.out_lin.weight', 'attentions.6.out_lin.bias', 'attentions.7.q_lin.weight', 'attentions.7.q_lin.bias', 'attentions.7.k_lin.weight', 'attentions.7.k_lin.bias', 'attentions.7.v_lin.weight', 'attentions.7.v_lin.bias', 'attentions.7.out_lin.weight', 'attentions.7.out_lin.bias', 'attentions.8.q_lin.weight', 'attentions.8.q_lin.bias', 'attentions.8.k_lin.weight', 'attentions.8.k_lin.bias', 'attentions.8.v_lin.weight', 'attentions.8.v_lin.bias', 'attentions.8.out_lin.weight', 'attentions.8.out_lin.bias', 'attentions.9.q_lin.weight', 'attentions.9.q_lin.bias', 'attentions.9.k_lin.weight', 'attentions.9.k_lin.bias', 'attentions.9.v_lin.weight', 'attentions.9.v_lin.bias', 'attentions.9.out_lin.weight', 'attentions.9.out_lin.bias', 'attentions.10.q_lin.weight', 'attentions.10.q_lin.bias', 'attentions.10.k_lin.weight', 'attentions.10.k_lin.bias', 'attentions.10.v_lin.weight', 'attentions.10.v_lin.bias', 'attentions.10.out_lin.weight', 'attentions.10.out_lin.bias', 'attentions.11.q_lin.weight', 'attentions.11.q_lin.bias', 'attentions.11.k_lin.weight', 'attentions.11.k_lin.bias', 'attentions.11.v_lin.weight', 'attentions.11.v_lin.bias', 'attentions.11.out_lin.weight', 'attentions.11.out_lin.bias', 'layer_norm1.0.weight', 'layer_norm1.0.bias', 'layer_norm1.1.weight', 'layer_norm1.1.bias', 'layer_norm1.2.weight', 'layer_norm1.2.bias', 'layer_norm1.3.weight', 'layer_norm1.3.bias', 'layer_norm1.4.weight', 'layer_norm1.4.bias', 'layer_norm1.5.weight', 'layer_norm1.5.bias', 'layer_norm1.6.weight', 'layer_norm1.6.bias', 'layer_norm1.7.weight', 'layer_norm1.7.bias', 'layer_norm1.8.weight', 'layer_norm1.8.bias', 'layer_norm1.9.weight', 'layer_norm1.9.bias', 'layer_norm1.10.weight', 'layer_norm1.10.bias', 'layer_norm1.11.weight', 'layer_norm1.11.bias', 'ffns.0.lin1.weight', 'ffns.0.lin1.bias', 'ffns.0.lin2.weight', 'ffns.0.lin2.bias', 'ffns.1.lin1.weight', 'ffns.1.lin1.bias', 'ffns.1.lin2.weight', 'ffns.1.lin2.bias', 'ffns.2.lin1.weight', 'ffns.2.lin1.bias', 'ffns.2.lin2.weight', 'ffns.2.lin2.bias', 'ffns.3.lin1.weight', 'ffns.3.lin1.bias', 'ffns.3.lin2.weight', 'ffns.3.lin2.bias', 'ffns.4.lin1.weight', 'ffns.4.lin1.bias', 'ffns.4.lin2.weight', 'ffns.4.lin2.bias', 'ffns.5.lin1.weight', 'ffns.5.lin1.bias', 'ffns.5.lin2.weight', 'ffns.5.lin2.bias', 'ffns.6.lin1.weight', 'ffns.6.lin1.bias', 'ffns.6.lin2.weight', 'ffns.6.lin2.bias', 'ffns.7.lin1.weight', 'ffns.7.lin1.bias', 'ffns.7.lin2.weight', 'ffns.7.lin2.bias', 'ffns.8.lin1.weight', 'ffns.8.lin1.bias', 'ffns.8.lin2.weight', 'ffns.8.lin2.bias', 'ffns.9.lin1.weight', 'ffns.9.lin1.bias', 'ffns.9.lin2.weight', 'ffns.9.lin2.bias', 'ffns.10.lin1.weight', 'ffns.10.lin1.bias', 'ffns.10.lin2.weight', 'ffns.10.lin2.bias', 'ffns.11.lin1.weight', 'ffns.11.lin1.bias', 'ffns.11.lin2.weight', 'ffns.11.lin2.bias', 'layer_norm2.0.weight', 'layer_norm2.0.bias', 'layer_norm2.1.weight', 'layer_norm2.1.bias', 'layer_norm2.2.weight', 'layer_norm2.2.bias', 'layer_norm2.3.weight', 'layer_norm2.3.bias', 'layer_norm2.4.weight', 'layer_norm2.4.bias', 'layer_norm2.5.weight', 'layer_norm2.5.bias', 'layer_norm2.6.weight', 'layer_norm2.6.bias', 'layer_norm2.7.weight', 'layer_norm2.7.bias', 'layer_norm2.8.weight', 'layer_norm2.8.bias', 'layer_norm2.9.weight', 'layer_norm2.9.bias', 'layer_norm2.10.weight', 'layer_norm2.10.bias', 'layer_norm2.11.weight', 'layer_norm2.11.bias', 'sequence_summary.summary.weight', 'sequence_summary.summary.bias']\n",
      "You should probably TRAIN this model on a down-stream task to be able to use it for predictions and inference.\n"
     ]
    },
    {
     "data": {
      "application/vnd.jupyter.widget-view+json": {
       "model_id": "5d6a7882fbaf431b853c673cad587789",
       "version_major": 2,
       "version_minor": 0
      },
      "text/plain": [
       "  0%|          | 0/3 [00:00<?, ?it/s]"
      ]
     },
     "metadata": {},
     "output_type": "display_data"
    },
    {
     "data": {
      "application/vnd.jupyter.widget-view+json": {
       "model_id": "6e08afab74324a2f8d74dbd24f178938",
       "version_major": 2,
       "version_minor": 0
      },
      "text/plain": [
       "Epoch:   0%|          | 0/15 [00:00<?, ?it/s]"
      ]
     },
     "metadata": {},
     "output_type": "display_data"
    },
    {
     "data": {
      "application/vnd.jupyter.widget-view+json": {
       "model_id": "81db6ef4946d44e598c334084111e2af",
       "version_major": 2,
       "version_minor": 0
      },
      "text/plain": [
       "Running Epoch 0 of 15:   0%|          | 0/44 [00:00<?, ?it/s]"
      ]
     },
     "metadata": {},
     "output_type": "display_data"
    },
    {
     "data": {
      "application/vnd.jupyter.widget-view+json": {
       "model_id": "0f204a801fc34ca98f8647e7f9ca69a4",
       "version_major": 2,
       "version_minor": 0
      },
      "text/plain": [
       "Running Epoch 1 of 15:   0%|          | 0/44 [00:00<?, ?it/s]"
      ]
     },
     "metadata": {},
     "output_type": "display_data"
    },
    {
     "data": {
      "application/vnd.jupyter.widget-view+json": {
       "model_id": "2318f37bad7c4e0b89adac0766f909e8",
       "version_major": 2,
       "version_minor": 0
      },
      "text/plain": [
       "Running Epoch 2 of 15:   0%|          | 0/44 [00:00<?, ?it/s]"
      ]
     },
     "metadata": {},
     "output_type": "display_data"
    },
    {
     "data": {
      "application/vnd.jupyter.widget-view+json": {
       "model_id": "e33a2fbe7993462aa60dec264eb3f323",
       "version_major": 2,
       "version_minor": 0
      },
      "text/plain": [
       "Running Epoch 3 of 15:   0%|          | 0/44 [00:00<?, ?it/s]"
      ]
     },
     "metadata": {},
     "output_type": "display_data"
    },
    {
     "data": {
      "application/vnd.jupyter.widget-view+json": {
       "model_id": "b569a5f76523457dbdfd41ef7e633245",
       "version_major": 2,
       "version_minor": 0
      },
      "text/plain": [
       "Running Epoch 4 of 15:   0%|          | 0/44 [00:00<?, ?it/s]"
      ]
     },
     "metadata": {},
     "output_type": "display_data"
    },
    {
     "data": {
      "application/vnd.jupyter.widget-view+json": {
       "model_id": "963a456d8ae44bbda6dbab2377a8990e",
       "version_major": 2,
       "version_minor": 0
      },
      "text/plain": [
       "Running Epoch 5 of 15:   0%|          | 0/44 [00:00<?, ?it/s]"
      ]
     },
     "metadata": {},
     "output_type": "display_data"
    },
    {
     "data": {
      "application/vnd.jupyter.widget-view+json": {
       "model_id": "6a35972514f24e75b41bfcd66a1d6379",
       "version_major": 2,
       "version_minor": 0
      },
      "text/plain": [
       "Running Epoch 6 of 15:   0%|          | 0/44 [00:00<?, ?it/s]"
      ]
     },
     "metadata": {},
     "output_type": "display_data"
    },
    {
     "data": {
      "application/vnd.jupyter.widget-view+json": {
       "model_id": "f1665d6ad4814dcf8ab5f203cf29919a",
       "version_major": 2,
       "version_minor": 0
      },
      "text/plain": [
       "Running Epoch 7 of 15:   0%|          | 0/44 [00:00<?, ?it/s]"
      ]
     },
     "metadata": {},
     "output_type": "display_data"
    },
    {
     "data": {
      "application/vnd.jupyter.widget-view+json": {
       "model_id": "952c93ad53d6437bbaa5c34f082030a0",
       "version_major": 2,
       "version_minor": 0
      },
      "text/plain": [
       "Running Epoch 8 of 15:   0%|          | 0/44 [00:00<?, ?it/s]"
      ]
     },
     "metadata": {},
     "output_type": "display_data"
    },
    {
     "data": {
      "application/vnd.jupyter.widget-view+json": {
       "model_id": "56469d0813f4460095b11b90b697ffaa",
       "version_major": 2,
       "version_minor": 0
      },
      "text/plain": [
       "Running Epoch 9 of 15:   0%|          | 0/44 [00:00<?, ?it/s]"
      ]
     },
     "metadata": {},
     "output_type": "display_data"
    },
    {
     "data": {
      "application/vnd.jupyter.widget-view+json": {
       "model_id": "1d408ef4437b4e1884c99415338d7514",
       "version_major": 2,
       "version_minor": 0
      },
      "text/plain": [
       "Running Epoch 10 of 15:   0%|          | 0/44 [00:00<?, ?it/s]"
      ]
     },
     "metadata": {},
     "output_type": "display_data"
    },
    {
     "data": {
      "application/vnd.jupyter.widget-view+json": {
       "model_id": "3d49fc48430b4c089728153a59eef520",
       "version_major": 2,
       "version_minor": 0
      },
      "text/plain": [
       "Running Epoch 11 of 15:   0%|          | 0/44 [00:00<?, ?it/s]"
      ]
     },
     "metadata": {},
     "output_type": "display_data"
    },
    {
     "data": {
      "application/vnd.jupyter.widget-view+json": {
       "model_id": "1c883298a6624ac0adfeab8f22e1faa3",
       "version_major": 2,
       "version_minor": 0
      },
      "text/plain": [
       "Running Epoch 12 of 15:   0%|          | 0/44 [00:00<?, ?it/s]"
      ]
     },
     "metadata": {},
     "output_type": "display_data"
    },
    {
     "data": {
      "application/vnd.jupyter.widget-view+json": {
       "model_id": "03d9864160754983911d716ec09baad0",
       "version_major": 2,
       "version_minor": 0
      },
      "text/plain": [
       "Running Epoch 13 of 15:   0%|          | 0/44 [00:00<?, ?it/s]"
      ]
     },
     "metadata": {},
     "output_type": "display_data"
    },
    {
     "data": {
      "application/vnd.jupyter.widget-view+json": {
       "model_id": "b1d150bfcb974064a60c45332609bd5e",
       "version_major": 2,
       "version_minor": 0
      },
      "text/plain": [
       "Running Epoch 14 of 15:   0%|          | 0/44 [00:00<?, ?it/s]"
      ]
     },
     "metadata": {},
     "output_type": "display_data"
    },
    {
     "data": {
      "application/vnd.jupyter.widget-view+json": {
       "model_id": "966cf61851594f1d8d22713ef8416fdd",
       "version_major": 2,
       "version_minor": 0
      },
      "text/plain": [
       "Running Evaluation:   0%|          | 0/19 [00:00<?, ?it/s]"
      ]
     },
     "metadata": {},
     "output_type": "display_data"
    },
    {
     "name": "stdout",
     "output_type": "stream",
     "text": [
      "{'mcc': 0.6655581323959822, 'tp': 189, 'tn': 315, 'fp': 44, 'fn': 52, 'auroc': 0.9028652665888417, 'auprc': 0.8889469049427654, 'f1': 0.8399999999999999, 'acc': 0.84, 'eval_loss': 0.6985738453896422}\n"
     ]
    }
   ],
   "source": [
    "'''\n",
    "torch.load(model1, 'model1.pt')\n",
    "model1.train_model(train_df1)\n",
    "result1, model_outputs1, wrong_predictions1 = model1.eval_model(test_df1, f1=f1_multiclass, acc=accuracy_score)\n",
    "print(result1)\n",
    "del model1\n",
    "gc.collect()\n",
    "'''\n",
    "#gc.collect()\n",
    "#torch.cuda.empty_cache()\n",
    "limitsave=0\n",
    "\n",
    "'''\n",
    "train_df1 = pd.DataFrame({ 'text_cleaned': X1_train, 'target': y1_train })\n",
    "test_df1 = pd.DataFrame({ 'text_cleaned': X1_test, 'target': y1_test })\n",
    "\n",
    "\n",
    "train_df1 = pd.DataFrame({ 'text_cleaned': X2_train, 'target': y2_train })\n",
    "test_df1 = pd.DataFrame({ 'text_cleaned': X2_test, 'target': y2_test })\n",
    "'''\n",
    "train_df1 = pd.DataFrame({ 'text_cleaned': X3_train, 'target': y3_train })\n",
    "test_df1 = pd.DataFrame({ 'text_cleaned': X3_test, 'target': y3_test })\n",
    "'''\n",
    "train_df1 = pd.DataFrame({ 'text_cleaned': X4_train, 'target': y4_train })\n",
    "test_df1 = pd.DataFrame({ 'text_cleaned': X4_test, 'target': y4_test })\n",
    "'''\n",
    "\n",
    "for i in range(0,N_ITER):\n",
    "    model1 = ClassificationModel(\n",
    "    \"bert\", \"bert-base-multilingual-cased\",\n",
    "        use_cuda = True,\n",
    "        args=train_args\n",
    "    )\n",
    "    model1.train_model(train_df1)\n",
    "    result1, model_outputs1, wrong_predictions1 = model1.eval_model(test_df1, f1=f1_multiclass, acc=accuracy_score)\n",
    "    print(result1)\n",
    "    if(i<limitsave):\n",
    "        torch.save(model1, 'model1'+str(i)+'.pt')\n",
    "    del model1\n",
    "    gc.collect()\n",
    "    torch.cuda.empty_cache()\n",
    "    if(i==0):\n",
    "        dfResultsModels1 = pd.DataFrame.from_dict(result1, orient=\"index\").T\n",
    "    else:\n",
    "        dfResultsModels1b = pd.DataFrame.from_dict(result1, orient=\"index\").T\n",
    "        dfResultsModels1 = dfResultsModels1.append(dfResultsModels1b)\n",
    "        \n",
    "dfResultsModels1Trans = pd.DataFrame(dfResultsModels1.mean(axis=0)).T\n",
    "dfResultsModels1Trans['f1'] = calcule_f1(dfResultsModels1Trans)\n",
    "\n",
    "dfResultsModelsTotal = dfResultsModels1Trans.copy()\n",
    "dfResultsModelsTotal.to_csv('dfResultsModelsTotal-3.csv')\n",
    "\n",
    "#dfResultsModelsTotal = pd.read_csv('dfResultsModelsTotal.csv', encoding='utf8', error_bad_lines=False)\n",
    "        \n",
    "for i in range(0,N_ITER):\n",
    "    model1c = ClassificationModel(\n",
    "    \"roberta\", \"roberta-base\",\n",
    "        use_cuda = True,\n",
    "        args=train_args\n",
    "    )\n",
    "    model1c.train_model(train_df1)\n",
    "\n",
    "    result1c, model_outputs1c, wrong_predictions1c = model1c.eval_model(test_df1, f1=f1_multiclass, acc=accuracy_score)\n",
    "    print(result1c)\n",
    "    if(i<limitsave):\n",
    "        torch.save(model1c, 'model1c'+str(i)+'.pt')\n",
    "    del model1c\n",
    "    gc.collect()\n",
    "    if(i==0):\n",
    "        dfResultsModels1c = pd.DataFrame.from_dict(result1c, orient=\"index\").T\n",
    "    else:\n",
    "        dfResultsModels1b = pd.DataFrame.from_dict(result1c, orient=\"index\").T\n",
    "        dfResultsModels1c = dfResultsModels1c.append(dfResultsModels1b)\n",
    "\n",
    "dfResultsModels1cTrans = pd.DataFrame(dfResultsModels1c.mean(axis=0)).T\n",
    "dfResultsModels1cTrans['f1'] = calcule_f1(dfResultsModels1cTrans)\n",
    "dfResultsModelsTotal = dfResultsModelsTotal.append(dfResultsModels1cTrans)\n",
    "dfResultsModelsTotal.to_csv('dfResultsModelsTotal-3.csv')\n",
    "\n",
    "\n",
    "\n",
    "for i in range(0,N_ITER):\n",
    "    model1d = ClassificationModel(\n",
    "    \"distilbert\", \"distilbert-base-cased\",\n",
    "        use_cuda = True,\n",
    "        args=train_args\n",
    "    )\n",
    "    model1d.train_model(train_df1)\n",
    "\n",
    "    result1d, model_outputs1d, wrong_predictions1d = model1d.eval_model(test_df1, f1=f1_multiclass, acc=accuracy_score)\n",
    "    print(result1d)\n",
    "    if(i<limitsave):\n",
    "        torch.save(model1d, 'model1d'+str(i)+'.pt')\n",
    "    del model1d\n",
    "    gc.collect()\n",
    "    if(i==0):\n",
    "        dfResultsModels1d = pd.DataFrame.from_dict(result1d, orient=\"index\").T\n",
    "    else:\n",
    "        dfResultsModels1b = pd.DataFrame.from_dict(result1d, orient=\"index\").T\n",
    "        dfResultsModels1d = dfResultsModels1d.append(dfResultsModels1b)\n",
    "\n",
    "dfResultsModels1dTrans = pd.DataFrame(dfResultsModels1d.mean(axis=0)).T\n",
    "dfResultsModels1dTrans['f1'] = calcule_f1(dfResultsModels1dTrans)\n",
    "dfResultsModelsTotal = dfResultsModelsTotal.append(dfResultsModels1dTrans)\n",
    "\n",
    "dfResultsModelsTotal.to_csv('dfResultsModelsTotal-3.csv')\n",
    "\n",
    "\n",
    "\n",
    "for i in range(0,N_ITER):\n",
    "    model1e = ClassificationModel(\n",
    "    \"camembert\", \"camembert-base\",\n",
    "        use_cuda = True,\n",
    "        args=train_args\n",
    "    )\n",
    "    model1e.train_model(train_df1)\n",
    "\n",
    "    result1e, model_outputs1e, wrong_predictions1e = model1e.eval_model(test_df1, f1=f1_multiclass, acc=accuracy_score)\n",
    "    print(result1e)\n",
    "    if(i<limitsave):\n",
    "        torch.save(model1e, 'model1e'+str(i)+'.pt')\n",
    "    del model1e\n",
    "    gc.collect()\n",
    "    if(i==0):\n",
    "        dfResultsModels1e = pd.DataFrame.from_dict(result1e, orient=\"index\").T\n",
    "    else:\n",
    "        dfResultsModels1b = pd.DataFrame.from_dict(result1e, orient=\"index\").T\n",
    "        dfResultsModels1e = dfResultsModels1e.append(dfResultsModels1b)\n",
    "\n",
    "dfResultsModels1eTrans = pd.DataFrame(dfResultsModels1e.mean(axis=0)).T\n",
    "dfResultsModels1eTrans['f1'] = calcule_f1(dfResultsModels1eTrans)\n",
    "dfResultsModelsTotal = dfResultsModelsTotal.append(dfResultsModels1eTrans)\n",
    "\n",
    "dfResultsModelsTotal.to_csv('dfResultsModelsTotal-3.csv')\n",
    "\n",
    "\n",
    "for i in range(0,N_ITER):\n",
    "    model1f = ClassificationModel(\n",
    "    \"albert\", \"albert-base-v1\",\n",
    "        use_cuda = True,\n",
    "        args=train_args\n",
    "    )\n",
    "    model1f.train_model(train_df1)\n",
    "\n",
    "    result1f, model_outputs1f, wrong_predictions1f = model1f.eval_model(test_df1, f1=f1_multiclass, acc=accuracy_score)\n",
    "    print(result1f)\n",
    "    if(i<limitsave):\n",
    "        torch.save(model1f, 'model1f'+str(i)+'.pt')\n",
    "    del model1f\n",
    "    gc.collect()\n",
    "    if(i==0):\n",
    "        dfResultsModels1f = pd.DataFrame.from_dict(result1f, orient=\"index\").T\n",
    "    else:\n",
    "        dfResultsModels1b = pd.DataFrame.from_dict(result1f, orient=\"index\").T\n",
    "        dfResultsModels1f = dfResultsModels1f.append(dfResultsModels1b)\n",
    "\n",
    "dfResultsModels1fTrans = pd.DataFrame(dfResultsModels1f.mean(axis=0)).T\n",
    "dfResultsModels1fTrans['f1'] = calcule_f1(dfResultsModels1fTrans)\n",
    "dfResultsModelsTotal = dfResultsModelsTotal.append(dfResultsModels1fTrans)\n",
    "dfResultsModelsTotal.to_csv('dfResultsModelsTotal-3.csv')\n",
    "\n",
    "\n",
    "\n",
    "for i in range(0,N_ITER):\n",
    "    model1g = ClassificationModel(\n",
    "    \"flaubert\",\"flaubert/flaubert_base_cased\",\n",
    "        use_cuda = True,\n",
    "        args=train_args\n",
    "    )\n",
    "    model1g.train_model(train_df1)\n",
    "\n",
    "    result1g, model_outputs1g, wrong_predictions1g = model1g.eval_model(test_df1, f1=f1_multiclass, acc=accuracy_score)\n",
    "    print(result1g)\n",
    "    if(i<limitsave):\n",
    "        torch.save(model1g, 'model1g'+str(i)+'.pt')\n",
    "    del model1g\n",
    "    gc.collect()\n",
    "    if(i==0):\n",
    "        dfResultsModels1g = pd.DataFrame.from_dict(result1g, orient=\"index\").T\n",
    "    else:\n",
    "        dfResultsModels1b = pd.DataFrame.from_dict(result1g, orient=\"index\").T\n",
    "        dfResultsModels1g = dfResultsModels1g.append(dfResultsModels1b)\n",
    "\n",
    "dfResultsModels1gTrans = pd.DataFrame(dfResultsModels1g.mean(axis=0)).T\n",
    "dfResultsModels1gTrans['f1'] = calcule_f1(dfResultsModels1gTrans)\n",
    "dfResultsModelsTotal = dfResultsModelsTotal.append(dfResultsModels1gTrans)\n",
    "dfResultsModelsTotal.to_csv('dfResultsModelsTotal-3.csv')\n",
    "\n"
   ]
  },
  {
   "cell_type": "code",
   "execution_count": 31,
   "metadata": {},
   "outputs": [
    {
     "data": {
      "text/html": [
       "<div>\n",
       "<style scoped>\n",
       "    .dataframe tbody tr th:only-of-type {\n",
       "        vertical-align: middle;\n",
       "    }\n",
       "\n",
       "    .dataframe tbody tr th {\n",
       "        vertical-align: top;\n",
       "    }\n",
       "\n",
       "    .dataframe thead th {\n",
       "        text-align: right;\n",
       "    }\n",
       "</style>\n",
       "<table border=\"1\" class=\"dataframe\">\n",
       "  <thead>\n",
       "    <tr style=\"text-align: right;\">\n",
       "      <th></th>\n",
       "      <th>mcc</th>\n",
       "      <th>tp</th>\n",
       "      <th>tn</th>\n",
       "      <th>fp</th>\n",
       "      <th>fn</th>\n",
       "      <th>auroc</th>\n",
       "      <th>auprc</th>\n",
       "      <th>f1</th>\n",
       "      <th>acc</th>\n",
       "      <th>eval_loss</th>\n",
       "    </tr>\n",
       "  </thead>\n",
       "  <tbody>\n",
       "    <tr>\n",
       "      <th>BERT</th>\n",
       "      <td>0.687143</td>\n",
       "      <td>194.0</td>\n",
       "      <td>316.0</td>\n",
       "      <td>43.0</td>\n",
       "      <td>47.0</td>\n",
       "      <td>0.896936</td>\n",
       "      <td>0.870661</td>\n",
       "      <td>0.811715</td>\n",
       "      <td>0.850000</td>\n",
       "      <td>0.846196</td>\n",
       "    </tr>\n",
       "    <tr>\n",
       "      <th>RoBERTa</th>\n",
       "      <td>0.738379</td>\n",
       "      <td>197.0</td>\n",
       "      <td>328.0</td>\n",
       "      <td>31.0</td>\n",
       "      <td>44.0</td>\n",
       "      <td>0.914377</td>\n",
       "      <td>0.906538</td>\n",
       "      <td>0.840085</td>\n",
       "      <td>0.875000</td>\n",
       "      <td>0.884633</td>\n",
       "    </tr>\n",
       "    <tr>\n",
       "      <th>DistilBERT</th>\n",
       "      <td>0.699527</td>\n",
       "      <td>183.0</td>\n",
       "      <td>331.0</td>\n",
       "      <td>28.0</td>\n",
       "      <td>58.0</td>\n",
       "      <td>0.903952</td>\n",
       "      <td>0.892590</td>\n",
       "      <td>0.809735</td>\n",
       "      <td>0.856667</td>\n",
       "      <td>0.776598</td>\n",
       "    </tr>\n",
       "    <tr>\n",
       "      <th>CamemBERT</th>\n",
       "      <td>0.741885</td>\n",
       "      <td>208.0</td>\n",
       "      <td>317.0</td>\n",
       "      <td>42.0</td>\n",
       "      <td>33.0</td>\n",
       "      <td>0.916643</td>\n",
       "      <td>0.907378</td>\n",
       "      <td>0.847251</td>\n",
       "      <td>0.875000</td>\n",
       "      <td>0.443133</td>\n",
       "    </tr>\n",
       "    <tr>\n",
       "      <th>Albert</th>\n",
       "      <td>0.657966</td>\n",
       "      <td>186.0</td>\n",
       "      <td>316.0</td>\n",
       "      <td>43.0</td>\n",
       "      <td>55.0</td>\n",
       "      <td>0.897167</td>\n",
       "      <td>0.876451</td>\n",
       "      <td>0.791489</td>\n",
       "      <td>0.836667</td>\n",
       "      <td>0.967113</td>\n",
       "    </tr>\n",
       "    <tr>\n",
       "      <th>Flaubert</th>\n",
       "      <td>0.665558</td>\n",
       "      <td>189.0</td>\n",
       "      <td>315.0</td>\n",
       "      <td>44.0</td>\n",
       "      <td>52.0</td>\n",
       "      <td>0.902865</td>\n",
       "      <td>0.888947</td>\n",
       "      <td>0.797468</td>\n",
       "      <td>0.840000</td>\n",
       "      <td>0.698574</td>\n",
       "    </tr>\n",
       "  </tbody>\n",
       "</table>\n",
       "</div>"
      ],
      "text/plain": [
       "                 mcc     tp     tn    fp    fn     auroc     auprc        f1  \\\n",
       "BERT        0.687143  194.0  316.0  43.0  47.0  0.896936  0.870661  0.811715   \n",
       "RoBERTa     0.738379  197.0  328.0  31.0  44.0  0.914377  0.906538  0.840085   \n",
       "DistilBERT  0.699527  183.0  331.0  28.0  58.0  0.903952  0.892590  0.809735   \n",
       "CamemBERT   0.741885  208.0  317.0  42.0  33.0  0.916643  0.907378  0.847251   \n",
       "Albert      0.657966  186.0  316.0  43.0  55.0  0.897167  0.876451  0.791489   \n",
       "Flaubert    0.665558  189.0  315.0  44.0  52.0  0.902865  0.888947  0.797468   \n",
       "\n",
       "                 acc  eval_loss  \n",
       "BERT        0.850000   0.846196  \n",
       "RoBERTa     0.875000   0.884633  \n",
       "DistilBERT  0.856667   0.776598  \n",
       "CamemBERT   0.875000   0.443133  \n",
       "Albert      0.836667   0.967113  \n",
       "Flaubert    0.840000   0.698574  "
      ]
     },
     "execution_count": 31,
     "metadata": {},
     "output_type": "execute_result"
    }
   ],
   "source": [
    "\n",
    "#dfResultsModelsTotal.reindex(indexBERT)\n",
    "dfResultsModelsTotal = dfResultsModelsTotal.reset_index(drop=True)\n",
    "dfResultsModelsTotal.index = indexBERT\n",
    "dfResultsModelsTotal\n",
    "\n",
    "dfResultssModelsTotal3 = dfResultsModelsTotal.copy()\n",
    "\n",
    "dfResultssModelsTotal3"
   ]
  },
  {
   "cell_type": "code",
   "execution_count": 32,
   "metadata": {},
   "outputs": [
    {
     "name": "stderr",
     "output_type": "stream",
     "text": [
      "Some weights of the model checkpoint at bert-base-multilingual-cased were not used when initializing BertForSequenceClassification: ['cls.predictions.bias', 'cls.predictions.transform.dense.weight', 'cls.predictions.transform.dense.bias', 'cls.predictions.decoder.weight', 'cls.seq_relationship.weight', 'cls.seq_relationship.bias', 'cls.predictions.transform.LayerNorm.weight', 'cls.predictions.transform.LayerNorm.bias']\n",
      "- This IS expected if you are initializing BertForSequenceClassification from the checkpoint of a model trained on another task or with another architecture (e.g. initializing a BertForSequenceClassification model from a BertForPreTraining model).\n",
      "- This IS NOT expected if you are initializing BertForSequenceClassification from the checkpoint of a model that you expect to be exactly identical (initializing a BertForSequenceClassification model from a BertForSequenceClassification model).\n",
      "Some weights of BertForSequenceClassification were not initialized from the model checkpoint at bert-base-multilingual-cased and are newly initialized: ['classifier.weight', 'classifier.bias']\n",
      "You should probably TRAIN this model on a down-stream task to be able to use it for predictions and inference.\n",
      "C:\\Users\\MICROSOFT\\Anaconda3\\envs\\tfm2\\lib\\site-packages\\simpletransformers\\classification\\classification_model.py:446: UserWarning: Dataframe headers not specified. Falling back to using column 0 as text and column 1 as labels.\n",
      "  \"Dataframe headers not specified. Falling back to using column 0 as text and column 1 as labels.\"\n"
     ]
    },
    {
     "data": {
      "application/vnd.jupyter.widget-view+json": {
       "model_id": "4fd8742b0b7e485284ad6b88a49513a7",
       "version_major": 2,
       "version_minor": 0
      },
      "text/plain": [
       "  0%|          | 0/3 [00:00<?, ?it/s]"
      ]
     },
     "metadata": {},
     "output_type": "display_data"
    },
    {
     "data": {
      "application/vnd.jupyter.widget-view+json": {
       "model_id": "8acd8913dfa24f5d9e23118ae3ab9707",
       "version_major": 2,
       "version_minor": 0
      },
      "text/plain": [
       "Epoch:   0%|          | 0/15 [00:00<?, ?it/s]"
      ]
     },
     "metadata": {},
     "output_type": "display_data"
    },
    {
     "data": {
      "application/vnd.jupyter.widget-view+json": {
       "model_id": "0fed158e3bbf423c85a87456119bdba4",
       "version_major": 2,
       "version_minor": 0
      },
      "text/plain": [
       "Running Epoch 0 of 15:   0%|          | 0/44 [00:00<?, ?it/s]"
      ]
     },
     "metadata": {},
     "output_type": "display_data"
    },
    {
     "data": {
      "application/vnd.jupyter.widget-view+json": {
       "model_id": "c8605729037b4ae7b61d85a26e7eb62e",
       "version_major": 2,
       "version_minor": 0
      },
      "text/plain": [
       "Running Epoch 1 of 15:   0%|          | 0/44 [00:00<?, ?it/s]"
      ]
     },
     "metadata": {},
     "output_type": "display_data"
    },
    {
     "data": {
      "application/vnd.jupyter.widget-view+json": {
       "model_id": "21cd6cfc863541d593f2261eeb613fd9",
       "version_major": 2,
       "version_minor": 0
      },
      "text/plain": [
       "Running Epoch 2 of 15:   0%|          | 0/44 [00:00<?, ?it/s]"
      ]
     },
     "metadata": {},
     "output_type": "display_data"
    },
    {
     "data": {
      "application/vnd.jupyter.widget-view+json": {
       "model_id": "61cfc5c7559e46849c4d5d60eda9bc31",
       "version_major": 2,
       "version_minor": 0
      },
      "text/plain": [
       "Running Epoch 3 of 15:   0%|          | 0/44 [00:00<?, ?it/s]"
      ]
     },
     "metadata": {},
     "output_type": "display_data"
    },
    {
     "data": {
      "application/vnd.jupyter.widget-view+json": {
       "model_id": "f8952151511f479a858a2aedfdd588f0",
       "version_major": 2,
       "version_minor": 0
      },
      "text/plain": [
       "Running Epoch 4 of 15:   0%|          | 0/44 [00:00<?, ?it/s]"
      ]
     },
     "metadata": {},
     "output_type": "display_data"
    },
    {
     "data": {
      "application/vnd.jupyter.widget-view+json": {
       "model_id": "2f2be427763a4a179d47d8ff3a7c86f4",
       "version_major": 2,
       "version_minor": 0
      },
      "text/plain": [
       "Running Epoch 5 of 15:   0%|          | 0/44 [00:00<?, ?it/s]"
      ]
     },
     "metadata": {},
     "output_type": "display_data"
    },
    {
     "data": {
      "application/vnd.jupyter.widget-view+json": {
       "model_id": "a8c6d69f134540cba5f1c7e86d0f2e64",
       "version_major": 2,
       "version_minor": 0
      },
      "text/plain": [
       "Running Epoch 6 of 15:   0%|          | 0/44 [00:00<?, ?it/s]"
      ]
     },
     "metadata": {},
     "output_type": "display_data"
    },
    {
     "data": {
      "application/vnd.jupyter.widget-view+json": {
       "model_id": "ff7ed9d71a4c499592a2fafe12579fbc",
       "version_major": 2,
       "version_minor": 0
      },
      "text/plain": [
       "Running Epoch 7 of 15:   0%|          | 0/44 [00:00<?, ?it/s]"
      ]
     },
     "metadata": {},
     "output_type": "display_data"
    },
    {
     "data": {
      "application/vnd.jupyter.widget-view+json": {
       "model_id": "9420889f9a204a068bc2b1cf9a5f2508",
       "version_major": 2,
       "version_minor": 0
      },
      "text/plain": [
       "Running Epoch 8 of 15:   0%|          | 0/44 [00:00<?, ?it/s]"
      ]
     },
     "metadata": {},
     "output_type": "display_data"
    },
    {
     "data": {
      "application/vnd.jupyter.widget-view+json": {
       "model_id": "dd48bffe225947adab78f136b86120cf",
       "version_major": 2,
       "version_minor": 0
      },
      "text/plain": [
       "Running Epoch 9 of 15:   0%|          | 0/44 [00:00<?, ?it/s]"
      ]
     },
     "metadata": {},
     "output_type": "display_data"
    },
    {
     "data": {
      "application/vnd.jupyter.widget-view+json": {
       "model_id": "820cf6e22717497897bb920ff74f9c0e",
       "version_major": 2,
       "version_minor": 0
      },
      "text/plain": [
       "Running Epoch 10 of 15:   0%|          | 0/44 [00:00<?, ?it/s]"
      ]
     },
     "metadata": {},
     "output_type": "display_data"
    },
    {
     "data": {
      "application/vnd.jupyter.widget-view+json": {
       "model_id": "01f73e68d3704c76b512d8fcb1370c3d",
       "version_major": 2,
       "version_minor": 0
      },
      "text/plain": [
       "Running Epoch 11 of 15:   0%|          | 0/44 [00:00<?, ?it/s]"
      ]
     },
     "metadata": {},
     "output_type": "display_data"
    },
    {
     "data": {
      "application/vnd.jupyter.widget-view+json": {
       "model_id": "fb9a32746421488e807c87a8aca46276",
       "version_major": 2,
       "version_minor": 0
      },
      "text/plain": [
       "Running Epoch 12 of 15:   0%|          | 0/44 [00:00<?, ?it/s]"
      ]
     },
     "metadata": {},
     "output_type": "display_data"
    },
    {
     "data": {
      "application/vnd.jupyter.widget-view+json": {
       "model_id": "76b2306d2e35422495e476c90313e38b",
       "version_major": 2,
       "version_minor": 0
      },
      "text/plain": [
       "Running Epoch 13 of 15:   0%|          | 0/44 [00:00<?, ?it/s]"
      ]
     },
     "metadata": {},
     "output_type": "display_data"
    },
    {
     "data": {
      "application/vnd.jupyter.widget-view+json": {
       "model_id": "1a96a2caf62644d1b640fbc49f1ba844",
       "version_major": 2,
       "version_minor": 0
      },
      "text/plain": [
       "Running Epoch 14 of 15:   0%|          | 0/44 [00:00<?, ?it/s]"
      ]
     },
     "metadata": {},
     "output_type": "display_data"
    },
    {
     "name": "stderr",
     "output_type": "stream",
     "text": [
      "C:\\Users\\MICROSOFT\\Anaconda3\\envs\\tfm2\\lib\\site-packages\\simpletransformers\\classification\\classification_model.py:1026: UserWarning: Dataframe headers not specified. Falling back to using column 0 as text and column 1 as labels.\n",
      "  \"Dataframe headers not specified. Falling back to using column 0 as text and column 1 as labels.\"\n"
     ]
    },
    {
     "data": {
      "application/vnd.jupyter.widget-view+json": {
       "model_id": "b68599ed630d48c6aa75f6db491d6d3c",
       "version_major": 2,
       "version_minor": 0
      },
      "text/plain": [
       "Running Evaluation:   0%|          | 0/19 [00:00<?, ?it/s]"
      ]
     },
     "metadata": {},
     "output_type": "display_data"
    },
    {
     "name": "stdout",
     "output_type": "stream",
     "text": [
      "{'mcc': 0.8404827503275641, 'tp': 127, 'tn': 438, 'fp': 17, 'fn': 18, 'auroc': 0.9608184918529745, 'auprc': 0.9000526546930264, 'f1': 0.9416666666666667, 'acc': 0.9416666666666667, 'eval_loss': 0.35246441427826586}\n"
     ]
    },
    {
     "name": "stderr",
     "output_type": "stream",
     "text": [
      "Some weights of the model checkpoint at roberta-base were not used when initializing RobertaForSequenceClassification: ['lm_head.bias', 'lm_head.dense.weight', 'lm_head.dense.bias', 'lm_head.layer_norm.weight', 'lm_head.layer_norm.bias', 'lm_head.decoder.weight']\n",
      "- This IS expected if you are initializing RobertaForSequenceClassification from the checkpoint of a model trained on another task or with another architecture (e.g. initializing a BertForSequenceClassification model from a BertForPreTraining model).\n",
      "- This IS NOT expected if you are initializing RobertaForSequenceClassification from the checkpoint of a model that you expect to be exactly identical (initializing a BertForSequenceClassification model from a BertForSequenceClassification model).\n",
      "Some weights of RobertaForSequenceClassification were not initialized from the model checkpoint at roberta-base and are newly initialized: ['classifier.dense.weight', 'classifier.dense.bias', 'classifier.out_proj.weight', 'classifier.out_proj.bias']\n",
      "You should probably TRAIN this model on a down-stream task to be able to use it for predictions and inference.\n"
     ]
    },
    {
     "data": {
      "application/vnd.jupyter.widget-view+json": {
       "model_id": "142ebd09d9c94bb6a824811105aa94f4",
       "version_major": 2,
       "version_minor": 0
      },
      "text/plain": [
       "  0%|          | 0/3 [00:00<?, ?it/s]"
      ]
     },
     "metadata": {},
     "output_type": "display_data"
    },
    {
     "data": {
      "application/vnd.jupyter.widget-view+json": {
       "model_id": "22a8b0ecf0394c7c95d1d0c298a994c3",
       "version_major": 2,
       "version_minor": 0
      },
      "text/plain": [
       "Epoch:   0%|          | 0/15 [00:00<?, ?it/s]"
      ]
     },
     "metadata": {},
     "output_type": "display_data"
    },
    {
     "data": {
      "application/vnd.jupyter.widget-view+json": {
       "model_id": "095730e6b81a499bbf98fe1a4d6f3479",
       "version_major": 2,
       "version_minor": 0
      },
      "text/plain": [
       "Running Epoch 0 of 15:   0%|          | 0/44 [00:00<?, ?it/s]"
      ]
     },
     "metadata": {},
     "output_type": "display_data"
    },
    {
     "data": {
      "application/vnd.jupyter.widget-view+json": {
       "model_id": "048fd130671945dd9b817eb71e124162",
       "version_major": 2,
       "version_minor": 0
      },
      "text/plain": [
       "Running Epoch 1 of 15:   0%|          | 0/44 [00:00<?, ?it/s]"
      ]
     },
     "metadata": {},
     "output_type": "display_data"
    },
    {
     "data": {
      "application/vnd.jupyter.widget-view+json": {
       "model_id": "7fcc1e900614443daa5802d0668982ce",
       "version_major": 2,
       "version_minor": 0
      },
      "text/plain": [
       "Running Epoch 2 of 15:   0%|          | 0/44 [00:00<?, ?it/s]"
      ]
     },
     "metadata": {},
     "output_type": "display_data"
    },
    {
     "data": {
      "application/vnd.jupyter.widget-view+json": {
       "model_id": "b5228d4554db4616bdad425de5dc11e9",
       "version_major": 2,
       "version_minor": 0
      },
      "text/plain": [
       "Running Epoch 3 of 15:   0%|          | 0/44 [00:00<?, ?it/s]"
      ]
     },
     "metadata": {},
     "output_type": "display_data"
    },
    {
     "data": {
      "application/vnd.jupyter.widget-view+json": {
       "model_id": "ffdacea7a4544583b1e13a9937301c7c",
       "version_major": 2,
       "version_minor": 0
      },
      "text/plain": [
       "Running Epoch 4 of 15:   0%|          | 0/44 [00:00<?, ?it/s]"
      ]
     },
     "metadata": {},
     "output_type": "display_data"
    },
    {
     "data": {
      "application/vnd.jupyter.widget-view+json": {
       "model_id": "3b35b25c62ec4e94a7d254b7e218e173",
       "version_major": 2,
       "version_minor": 0
      },
      "text/plain": [
       "Running Epoch 5 of 15:   0%|          | 0/44 [00:00<?, ?it/s]"
      ]
     },
     "metadata": {},
     "output_type": "display_data"
    },
    {
     "data": {
      "application/vnd.jupyter.widget-view+json": {
       "model_id": "d1026576a61b47a283c8062973e2e9d6",
       "version_major": 2,
       "version_minor": 0
      },
      "text/plain": [
       "Running Epoch 6 of 15:   0%|          | 0/44 [00:00<?, ?it/s]"
      ]
     },
     "metadata": {},
     "output_type": "display_data"
    },
    {
     "data": {
      "application/vnd.jupyter.widget-view+json": {
       "model_id": "bb82286c17404fc2a05fcca82576c51a",
       "version_major": 2,
       "version_minor": 0
      },
      "text/plain": [
       "Running Epoch 7 of 15:   0%|          | 0/44 [00:00<?, ?it/s]"
      ]
     },
     "metadata": {},
     "output_type": "display_data"
    },
    {
     "data": {
      "application/vnd.jupyter.widget-view+json": {
       "model_id": "e9319e9958da421ea49cee2e791bd70c",
       "version_major": 2,
       "version_minor": 0
      },
      "text/plain": [
       "Running Epoch 8 of 15:   0%|          | 0/44 [00:00<?, ?it/s]"
      ]
     },
     "metadata": {},
     "output_type": "display_data"
    },
    {
     "data": {
      "application/vnd.jupyter.widget-view+json": {
       "model_id": "acf7b3d518794190adc3dd8d0044874b",
       "version_major": 2,
       "version_minor": 0
      },
      "text/plain": [
       "Running Epoch 9 of 15:   0%|          | 0/44 [00:00<?, ?it/s]"
      ]
     },
     "metadata": {},
     "output_type": "display_data"
    },
    {
     "data": {
      "application/vnd.jupyter.widget-view+json": {
       "model_id": "0ac90e7e2d264041ac1b3eb6bd6bff31",
       "version_major": 2,
       "version_minor": 0
      },
      "text/plain": [
       "Running Epoch 10 of 15:   0%|          | 0/44 [00:00<?, ?it/s]"
      ]
     },
     "metadata": {},
     "output_type": "display_data"
    },
    {
     "data": {
      "application/vnd.jupyter.widget-view+json": {
       "model_id": "af1d5c71ec6d4e3dabb230d641084508",
       "version_major": 2,
       "version_minor": 0
      },
      "text/plain": [
       "Running Epoch 11 of 15:   0%|          | 0/44 [00:00<?, ?it/s]"
      ]
     },
     "metadata": {},
     "output_type": "display_data"
    },
    {
     "data": {
      "application/vnd.jupyter.widget-view+json": {
       "model_id": "0db59092660746c9b082625a3e3445c2",
       "version_major": 2,
       "version_minor": 0
      },
      "text/plain": [
       "Running Epoch 12 of 15:   0%|          | 0/44 [00:00<?, ?it/s]"
      ]
     },
     "metadata": {},
     "output_type": "display_data"
    },
    {
     "data": {
      "application/vnd.jupyter.widget-view+json": {
       "model_id": "86f64f377a614cbb951f5b202df349f5",
       "version_major": 2,
       "version_minor": 0
      },
      "text/plain": [
       "Running Epoch 13 of 15:   0%|          | 0/44 [00:00<?, ?it/s]"
      ]
     },
     "metadata": {},
     "output_type": "display_data"
    },
    {
     "data": {
      "application/vnd.jupyter.widget-view+json": {
       "model_id": "150068f6d11e4d9b82eb72e9f15de761",
       "version_major": 2,
       "version_minor": 0
      },
      "text/plain": [
       "Running Epoch 14 of 15:   0%|          | 0/44 [00:00<?, ?it/s]"
      ]
     },
     "metadata": {},
     "output_type": "display_data"
    },
    {
     "data": {
      "application/vnd.jupyter.widget-view+json": {
       "model_id": "55930b2082d34d47b21f85329d56a69c",
       "version_major": 2,
       "version_minor": 0
      },
      "text/plain": [
       "Running Evaluation:   0%|          | 0/19 [00:00<?, ?it/s]"
      ]
     },
     "metadata": {},
     "output_type": "display_data"
    },
    {
     "name": "stdout",
     "output_type": "stream",
     "text": [
      "{'mcc': 0.8412304920861793, 'tp': 128, 'tn': 437, 'fp': 18, 'fn': 17, 'auroc': 0.969973474801061, 'auprc': 0.9252367863112452, 'f1': 0.9416666666666667, 'acc': 0.9416666666666667, 'eval_loss': 0.35767537747482203}\n"
     ]
    },
    {
     "name": "stderr",
     "output_type": "stream",
     "text": [
      "Some weights of the model checkpoint at distilbert-base-cased were not used when initializing DistilBertForSequenceClassification: ['vocab_transform.weight', 'vocab_transform.bias', 'vocab_layer_norm.weight', 'vocab_layer_norm.bias', 'vocab_projector.weight', 'vocab_projector.bias']\n",
      "- This IS expected if you are initializing DistilBertForSequenceClassification from the checkpoint of a model trained on another task or with another architecture (e.g. initializing a BertForSequenceClassification model from a BertForPreTraining model).\n",
      "- This IS NOT expected if you are initializing DistilBertForSequenceClassification from the checkpoint of a model that you expect to be exactly identical (initializing a BertForSequenceClassification model from a BertForSequenceClassification model).\n",
      "Some weights of DistilBertForSequenceClassification were not initialized from the model checkpoint at distilbert-base-cased and are newly initialized: ['pre_classifier.weight', 'pre_classifier.bias', 'classifier.weight', 'classifier.bias']\n",
      "You should probably TRAIN this model on a down-stream task to be able to use it for predictions and inference.\n"
     ]
    },
    {
     "data": {
      "application/vnd.jupyter.widget-view+json": {
       "model_id": "5f8bc16675ff434f96b63b5f844199e7",
       "version_major": 2,
       "version_minor": 0
      },
      "text/plain": [
       "  0%|          | 0/3 [00:00<?, ?it/s]"
      ]
     },
     "metadata": {},
     "output_type": "display_data"
    },
    {
     "data": {
      "application/vnd.jupyter.widget-view+json": {
       "model_id": "573887596dd2489884bf7af76a526224",
       "version_major": 2,
       "version_minor": 0
      },
      "text/plain": [
       "Epoch:   0%|          | 0/15 [00:00<?, ?it/s]"
      ]
     },
     "metadata": {},
     "output_type": "display_data"
    },
    {
     "data": {
      "application/vnd.jupyter.widget-view+json": {
       "model_id": "997b72ce75154f51ac40a697c320e966",
       "version_major": 2,
       "version_minor": 0
      },
      "text/plain": [
       "Running Epoch 0 of 15:   0%|          | 0/44 [00:00<?, ?it/s]"
      ]
     },
     "metadata": {},
     "output_type": "display_data"
    },
    {
     "data": {
      "application/vnd.jupyter.widget-view+json": {
       "model_id": "8cf8481540f64fd180104635a27f2f94",
       "version_major": 2,
       "version_minor": 0
      },
      "text/plain": [
       "Running Epoch 1 of 15:   0%|          | 0/44 [00:00<?, ?it/s]"
      ]
     },
     "metadata": {},
     "output_type": "display_data"
    },
    {
     "data": {
      "application/vnd.jupyter.widget-view+json": {
       "model_id": "78f216999258482795ec8f4998719eae",
       "version_major": 2,
       "version_minor": 0
      },
      "text/plain": [
       "Running Epoch 2 of 15:   0%|          | 0/44 [00:00<?, ?it/s]"
      ]
     },
     "metadata": {},
     "output_type": "display_data"
    },
    {
     "data": {
      "application/vnd.jupyter.widget-view+json": {
       "model_id": "e6830025602b4a4dbcc2dc7c80edf313",
       "version_major": 2,
       "version_minor": 0
      },
      "text/plain": [
       "Running Epoch 3 of 15:   0%|          | 0/44 [00:00<?, ?it/s]"
      ]
     },
     "metadata": {},
     "output_type": "display_data"
    },
    {
     "data": {
      "application/vnd.jupyter.widget-view+json": {
       "model_id": "02167ff008b54fa5adc7f943f5fd434b",
       "version_major": 2,
       "version_minor": 0
      },
      "text/plain": [
       "Running Epoch 4 of 15:   0%|          | 0/44 [00:00<?, ?it/s]"
      ]
     },
     "metadata": {},
     "output_type": "display_data"
    },
    {
     "data": {
      "application/vnd.jupyter.widget-view+json": {
       "model_id": "3a10853de2354521ae00ed1bfa9ddaba",
       "version_major": 2,
       "version_minor": 0
      },
      "text/plain": [
       "Running Epoch 5 of 15:   0%|          | 0/44 [00:00<?, ?it/s]"
      ]
     },
     "metadata": {},
     "output_type": "display_data"
    },
    {
     "data": {
      "application/vnd.jupyter.widget-view+json": {
       "model_id": "98d72ef941094f4089333482218cb4a5",
       "version_major": 2,
       "version_minor": 0
      },
      "text/plain": [
       "Running Epoch 6 of 15:   0%|          | 0/44 [00:00<?, ?it/s]"
      ]
     },
     "metadata": {},
     "output_type": "display_data"
    },
    {
     "data": {
      "application/vnd.jupyter.widget-view+json": {
       "model_id": "debae716a1444d82b615e608900f2d53",
       "version_major": 2,
       "version_minor": 0
      },
      "text/plain": [
       "Running Epoch 7 of 15:   0%|          | 0/44 [00:00<?, ?it/s]"
      ]
     },
     "metadata": {},
     "output_type": "display_data"
    },
    {
     "data": {
      "application/vnd.jupyter.widget-view+json": {
       "model_id": "040f11d83209483f888a08c561c526cc",
       "version_major": 2,
       "version_minor": 0
      },
      "text/plain": [
       "Running Epoch 8 of 15:   0%|          | 0/44 [00:00<?, ?it/s]"
      ]
     },
     "metadata": {},
     "output_type": "display_data"
    },
    {
     "data": {
      "application/vnd.jupyter.widget-view+json": {
       "model_id": "927b7889e1ca4a72b1a413431e72dd84",
       "version_major": 2,
       "version_minor": 0
      },
      "text/plain": [
       "Running Epoch 9 of 15:   0%|          | 0/44 [00:00<?, ?it/s]"
      ]
     },
     "metadata": {},
     "output_type": "display_data"
    },
    {
     "data": {
      "application/vnd.jupyter.widget-view+json": {
       "model_id": "5885ecc4aa0e43dea4a3d69f148c6f6b",
       "version_major": 2,
       "version_minor": 0
      },
      "text/plain": [
       "Running Epoch 10 of 15:   0%|          | 0/44 [00:00<?, ?it/s]"
      ]
     },
     "metadata": {},
     "output_type": "display_data"
    },
    {
     "data": {
      "application/vnd.jupyter.widget-view+json": {
       "model_id": "88105da86180414bbc57b26d92b63147",
       "version_major": 2,
       "version_minor": 0
      },
      "text/plain": [
       "Running Epoch 11 of 15:   0%|          | 0/44 [00:00<?, ?it/s]"
      ]
     },
     "metadata": {},
     "output_type": "display_data"
    },
    {
     "data": {
      "application/vnd.jupyter.widget-view+json": {
       "model_id": "ae12b8cdd2ce46d69dc41ca0e2e67667",
       "version_major": 2,
       "version_minor": 0
      },
      "text/plain": [
       "Running Epoch 12 of 15:   0%|          | 0/44 [00:00<?, ?it/s]"
      ]
     },
     "metadata": {},
     "output_type": "display_data"
    },
    {
     "data": {
      "application/vnd.jupyter.widget-view+json": {
       "model_id": "758612e3580642759061ec6f69c5cccf",
       "version_major": 2,
       "version_minor": 0
      },
      "text/plain": [
       "Running Epoch 13 of 15:   0%|          | 0/44 [00:00<?, ?it/s]"
      ]
     },
     "metadata": {},
     "output_type": "display_data"
    },
    {
     "data": {
      "application/vnd.jupyter.widget-view+json": {
       "model_id": "2e99a2f992d34b71a3a89dcf36a551b7",
       "version_major": 2,
       "version_minor": 0
      },
      "text/plain": [
       "Running Epoch 14 of 15:   0%|          | 0/44 [00:00<?, ?it/s]"
      ]
     },
     "metadata": {},
     "output_type": "display_data"
    },
    {
     "data": {
      "application/vnd.jupyter.widget-view+json": {
       "model_id": "999305c290ca439eb0744576fe3ef97b",
       "version_major": 2,
       "version_minor": 0
      },
      "text/plain": [
       "Running Evaluation:   0%|          | 0/19 [00:00<?, ?it/s]"
      ]
     },
     "metadata": {},
     "output_type": "display_data"
    },
    {
     "name": "stdout",
     "output_type": "stream",
     "text": [
      "{'mcc': 0.8552058897025939, 'tp': 130, 'tn': 438, 'fp': 17, 'fn': 15, 'auroc': 0.9701553618794997, 'auprc': 0.9360094814600952, 'f1': 0.9466666666666667, 'acc': 0.9466666666666667, 'eval_loss': 0.2695685645326433}\n"
     ]
    },
    {
     "name": "stderr",
     "output_type": "stream",
     "text": [
      "Some weights of the model checkpoint at camembert-base were not used when initializing CamembertForSequenceClassification: ['lm_head.bias', 'lm_head.dense.weight', 'lm_head.dense.bias', 'lm_head.layer_norm.weight', 'lm_head.layer_norm.bias', 'lm_head.decoder.weight']\n",
      "- This IS expected if you are initializing CamembertForSequenceClassification from the checkpoint of a model trained on another task or with another architecture (e.g. initializing a BertForSequenceClassification model from a BertForPreTraining model).\n",
      "- This IS NOT expected if you are initializing CamembertForSequenceClassification from the checkpoint of a model that you expect to be exactly identical (initializing a BertForSequenceClassification model from a BertForSequenceClassification model).\n",
      "Some weights of CamembertForSequenceClassification were not initialized from the model checkpoint at camembert-base and are newly initialized: ['classifier.dense.weight', 'classifier.dense.bias', 'classifier.out_proj.weight', 'classifier.out_proj.bias']\n",
      "You should probably TRAIN this model on a down-stream task to be able to use it for predictions and inference.\n",
      "C:\\Users\\MICROSOFT\\Anaconda3\\envs\\tfm2\\lib\\site-packages\\simpletransformers\\classification\\classification_model.py:345: UserWarning: use_multiprocessing automatically disabled as camembert fails when using multiprocessing for feature conversion.\n",
      "  f\"use_multiprocessing automatically disabled as {model_type}\"\n"
     ]
    },
    {
     "data": {
      "application/vnd.jupyter.widget-view+json": {
       "model_id": "6e64cfd1f2d9463888813f7d18d4d3d9",
       "version_major": 2,
       "version_minor": 0
      },
      "text/plain": [
       "Epoch:   0%|          | 0/15 [00:00<?, ?it/s]"
      ]
     },
     "metadata": {},
     "output_type": "display_data"
    },
    {
     "data": {
      "application/vnd.jupyter.widget-view+json": {
       "model_id": "a56639ecd99b42b1961829c5f89b65a9",
       "version_major": 2,
       "version_minor": 0
      },
      "text/plain": [
       "Running Epoch 0 of 15:   0%|          | 0/44 [00:00<?, ?it/s]"
      ]
     },
     "metadata": {},
     "output_type": "display_data"
    },
    {
     "data": {
      "application/vnd.jupyter.widget-view+json": {
       "model_id": "d5acf674a6944241849a129c2f814fb8",
       "version_major": 2,
       "version_minor": 0
      },
      "text/plain": [
       "Running Epoch 1 of 15:   0%|          | 0/44 [00:00<?, ?it/s]"
      ]
     },
     "metadata": {},
     "output_type": "display_data"
    },
    {
     "data": {
      "application/vnd.jupyter.widget-view+json": {
       "model_id": "3fae92bcbfd340af8048535ea9d6bd91",
       "version_major": 2,
       "version_minor": 0
      },
      "text/plain": [
       "Running Epoch 2 of 15:   0%|          | 0/44 [00:00<?, ?it/s]"
      ]
     },
     "metadata": {},
     "output_type": "display_data"
    },
    {
     "data": {
      "application/vnd.jupyter.widget-view+json": {
       "model_id": "9d8539d4f8314336a0a268f0656ebedd",
       "version_major": 2,
       "version_minor": 0
      },
      "text/plain": [
       "Running Epoch 3 of 15:   0%|          | 0/44 [00:00<?, ?it/s]"
      ]
     },
     "metadata": {},
     "output_type": "display_data"
    },
    {
     "data": {
      "application/vnd.jupyter.widget-view+json": {
       "model_id": "a7a062ca8207433c81644eb8082d20bf",
       "version_major": 2,
       "version_minor": 0
      },
      "text/plain": [
       "Running Epoch 4 of 15:   0%|          | 0/44 [00:00<?, ?it/s]"
      ]
     },
     "metadata": {},
     "output_type": "display_data"
    },
    {
     "data": {
      "application/vnd.jupyter.widget-view+json": {
       "model_id": "4adb0304d0734862b6383f4f691d67e9",
       "version_major": 2,
       "version_minor": 0
      },
      "text/plain": [
       "Running Epoch 5 of 15:   0%|          | 0/44 [00:00<?, ?it/s]"
      ]
     },
     "metadata": {},
     "output_type": "display_data"
    },
    {
     "data": {
      "application/vnd.jupyter.widget-view+json": {
       "model_id": "db2fa2a710ec4408b5deae7cf3c5d096",
       "version_major": 2,
       "version_minor": 0
      },
      "text/plain": [
       "Running Epoch 6 of 15:   0%|          | 0/44 [00:00<?, ?it/s]"
      ]
     },
     "metadata": {},
     "output_type": "display_data"
    },
    {
     "data": {
      "application/vnd.jupyter.widget-view+json": {
       "model_id": "84d382fa26d44b259a21a5841e2d312a",
       "version_major": 2,
       "version_minor": 0
      },
      "text/plain": [
       "Running Epoch 7 of 15:   0%|          | 0/44 [00:00<?, ?it/s]"
      ]
     },
     "metadata": {},
     "output_type": "display_data"
    },
    {
     "data": {
      "application/vnd.jupyter.widget-view+json": {
       "model_id": "23d72b352839452a8a34ea5b089690eb",
       "version_major": 2,
       "version_minor": 0
      },
      "text/plain": [
       "Running Epoch 8 of 15:   0%|          | 0/44 [00:00<?, ?it/s]"
      ]
     },
     "metadata": {},
     "output_type": "display_data"
    },
    {
     "data": {
      "application/vnd.jupyter.widget-view+json": {
       "model_id": "7ba55d9fecff4c39a2d180daf0707569",
       "version_major": 2,
       "version_minor": 0
      },
      "text/plain": [
       "Running Epoch 9 of 15:   0%|          | 0/44 [00:00<?, ?it/s]"
      ]
     },
     "metadata": {},
     "output_type": "display_data"
    },
    {
     "data": {
      "application/vnd.jupyter.widget-view+json": {
       "model_id": "f19eb63f1ac0446d97e8ad8ddbc21595",
       "version_major": 2,
       "version_minor": 0
      },
      "text/plain": [
       "Running Epoch 10 of 15:   0%|          | 0/44 [00:00<?, ?it/s]"
      ]
     },
     "metadata": {},
     "output_type": "display_data"
    },
    {
     "data": {
      "application/vnd.jupyter.widget-view+json": {
       "model_id": "1d353eeb94e14e6b9d6082381572a868",
       "version_major": 2,
       "version_minor": 0
      },
      "text/plain": [
       "Running Epoch 11 of 15:   0%|          | 0/44 [00:00<?, ?it/s]"
      ]
     },
     "metadata": {},
     "output_type": "display_data"
    },
    {
     "data": {
      "application/vnd.jupyter.widget-view+json": {
       "model_id": "9f7a7be9782947129ed213f2f8dd0570",
       "version_major": 2,
       "version_minor": 0
      },
      "text/plain": [
       "Running Epoch 12 of 15:   0%|          | 0/44 [00:00<?, ?it/s]"
      ]
     },
     "metadata": {},
     "output_type": "display_data"
    },
    {
     "data": {
      "application/vnd.jupyter.widget-view+json": {
       "model_id": "bf2d7be3a63342e6a3f4e3b127338720",
       "version_major": 2,
       "version_minor": 0
      },
      "text/plain": [
       "Running Epoch 13 of 15:   0%|          | 0/44 [00:00<?, ?it/s]"
      ]
     },
     "metadata": {},
     "output_type": "display_data"
    },
    {
     "data": {
      "application/vnd.jupyter.widget-view+json": {
       "model_id": "11d8d3d157e144f3ae26ff591ee87666",
       "version_major": 2,
       "version_minor": 0
      },
      "text/plain": [
       "Running Epoch 14 of 15:   0%|          | 0/44 [00:00<?, ?it/s]"
      ]
     },
     "metadata": {},
     "output_type": "display_data"
    },
    {
     "data": {
      "application/vnd.jupyter.widget-view+json": {
       "model_id": "61e0909199774b70983ef0605333ce0c",
       "version_major": 2,
       "version_minor": 0
      },
      "text/plain": [
       "Running Evaluation:   0%|          | 0/19 [00:00<?, ?it/s]"
      ]
     },
     "metadata": {},
     "output_type": "display_data"
    },
    {
     "name": "stdout",
     "output_type": "stream",
     "text": [
      "{'mcc': 0.8495848107220527, 'tp': 139, 'tn': 425, 'fp': 30, 'fn': 6, 'auroc': 0.9715649867374005, 'auprc': 0.9151448913876274, 'f1': 0.94, 'acc': 0.94, 'eval_loss': 0.23203151771112493}\n"
     ]
    },
    {
     "name": "stderr",
     "output_type": "stream",
     "text": [
      "Some weights of the model checkpoint at albert-base-v1 were not used when initializing AlbertForSequenceClassification: ['predictions.bias', 'predictions.LayerNorm.weight', 'predictions.LayerNorm.bias', 'predictions.dense.weight', 'predictions.dense.bias', 'predictions.decoder.weight', 'predictions.decoder.bias']\n",
      "- This IS expected if you are initializing AlbertForSequenceClassification from the checkpoint of a model trained on another task or with another architecture (e.g. initializing a BertForSequenceClassification model from a BertForPreTraining model).\n",
      "- This IS NOT expected if you are initializing AlbertForSequenceClassification from the checkpoint of a model that you expect to be exactly identical (initializing a BertForSequenceClassification model from a BertForSequenceClassification model).\n",
      "Some weights of AlbertForSequenceClassification were not initialized from the model checkpoint at albert-base-v1 and are newly initialized: ['classifier.weight', 'classifier.bias']\n",
      "You should probably TRAIN this model on a down-stream task to be able to use it for predictions and inference.\n"
     ]
    },
    {
     "data": {
      "application/vnd.jupyter.widget-view+json": {
       "model_id": "0c273b30abdc44b49e264c35e270f344",
       "version_major": 2,
       "version_minor": 0
      },
      "text/plain": [
       "  0%|          | 0/3 [00:00<?, ?it/s]"
      ]
     },
     "metadata": {},
     "output_type": "display_data"
    },
    {
     "data": {
      "application/vnd.jupyter.widget-view+json": {
       "model_id": "7d7cd7fb2aed4396abfcb47dfc31a513",
       "version_major": 2,
       "version_minor": 0
      },
      "text/plain": [
       "Epoch:   0%|          | 0/15 [00:00<?, ?it/s]"
      ]
     },
     "metadata": {},
     "output_type": "display_data"
    },
    {
     "data": {
      "application/vnd.jupyter.widget-view+json": {
       "model_id": "a5da135a092a49be8e3bb19024c93394",
       "version_major": 2,
       "version_minor": 0
      },
      "text/plain": [
       "Running Epoch 0 of 15:   0%|          | 0/44 [00:00<?, ?it/s]"
      ]
     },
     "metadata": {},
     "output_type": "display_data"
    },
    {
     "data": {
      "application/vnd.jupyter.widget-view+json": {
       "model_id": "622c505ee4b740ecb9b97847b7bff5bc",
       "version_major": 2,
       "version_minor": 0
      },
      "text/plain": [
       "Running Epoch 1 of 15:   0%|          | 0/44 [00:00<?, ?it/s]"
      ]
     },
     "metadata": {},
     "output_type": "display_data"
    },
    {
     "data": {
      "application/vnd.jupyter.widget-view+json": {
       "model_id": "50f8cb4fbe08441dbe28ba1354d1d6d8",
       "version_major": 2,
       "version_minor": 0
      },
      "text/plain": [
       "Running Epoch 2 of 15:   0%|          | 0/44 [00:00<?, ?it/s]"
      ]
     },
     "metadata": {},
     "output_type": "display_data"
    },
    {
     "data": {
      "application/vnd.jupyter.widget-view+json": {
       "model_id": "b72bf7a92a4b4a23bc83b37ce5ffc9b7",
       "version_major": 2,
       "version_minor": 0
      },
      "text/plain": [
       "Running Epoch 3 of 15:   0%|          | 0/44 [00:00<?, ?it/s]"
      ]
     },
     "metadata": {},
     "output_type": "display_data"
    },
    {
     "data": {
      "application/vnd.jupyter.widget-view+json": {
       "model_id": "8b58f22cf06b451fb78984703a7fde70",
       "version_major": 2,
       "version_minor": 0
      },
      "text/plain": [
       "Running Epoch 4 of 15:   0%|          | 0/44 [00:00<?, ?it/s]"
      ]
     },
     "metadata": {},
     "output_type": "display_data"
    },
    {
     "data": {
      "application/vnd.jupyter.widget-view+json": {
       "model_id": "e04829a01acd420480460a6574f83cbf",
       "version_major": 2,
       "version_minor": 0
      },
      "text/plain": [
       "Running Epoch 5 of 15:   0%|          | 0/44 [00:00<?, ?it/s]"
      ]
     },
     "metadata": {},
     "output_type": "display_data"
    },
    {
     "data": {
      "application/vnd.jupyter.widget-view+json": {
       "model_id": "f91506faaa574f33b3bc17bd41f9576d",
       "version_major": 2,
       "version_minor": 0
      },
      "text/plain": [
       "Running Epoch 6 of 15:   0%|          | 0/44 [00:00<?, ?it/s]"
      ]
     },
     "metadata": {},
     "output_type": "display_data"
    },
    {
     "data": {
      "application/vnd.jupyter.widget-view+json": {
       "model_id": "d9f8b9c7e4f844caa52f57ec76df4d7c",
       "version_major": 2,
       "version_minor": 0
      },
      "text/plain": [
       "Running Epoch 7 of 15:   0%|          | 0/44 [00:00<?, ?it/s]"
      ]
     },
     "metadata": {},
     "output_type": "display_data"
    },
    {
     "data": {
      "application/vnd.jupyter.widget-view+json": {
       "model_id": "366a50d4a5b24be1a6949f81bdf904bf",
       "version_major": 2,
       "version_minor": 0
      },
      "text/plain": [
       "Running Epoch 8 of 15:   0%|          | 0/44 [00:00<?, ?it/s]"
      ]
     },
     "metadata": {},
     "output_type": "display_data"
    },
    {
     "data": {
      "application/vnd.jupyter.widget-view+json": {
       "model_id": "18aa6d9401a94cd1b8f3db268086b59a",
       "version_major": 2,
       "version_minor": 0
      },
      "text/plain": [
       "Running Epoch 9 of 15:   0%|          | 0/44 [00:00<?, ?it/s]"
      ]
     },
     "metadata": {},
     "output_type": "display_data"
    },
    {
     "data": {
      "application/vnd.jupyter.widget-view+json": {
       "model_id": "51ca602db774404a910a1872d733da15",
       "version_major": 2,
       "version_minor": 0
      },
      "text/plain": [
       "Running Epoch 10 of 15:   0%|          | 0/44 [00:00<?, ?it/s]"
      ]
     },
     "metadata": {},
     "output_type": "display_data"
    },
    {
     "data": {
      "application/vnd.jupyter.widget-view+json": {
       "model_id": "41c6e4e21c954083ad04365e0035583e",
       "version_major": 2,
       "version_minor": 0
      },
      "text/plain": [
       "Running Epoch 11 of 15:   0%|          | 0/44 [00:00<?, ?it/s]"
      ]
     },
     "metadata": {},
     "output_type": "display_data"
    },
    {
     "data": {
      "application/vnd.jupyter.widget-view+json": {
       "model_id": "8ba21d8982bc45208198e3f9e0e5e626",
       "version_major": 2,
       "version_minor": 0
      },
      "text/plain": [
       "Running Epoch 12 of 15:   0%|          | 0/44 [00:00<?, ?it/s]"
      ]
     },
     "metadata": {},
     "output_type": "display_data"
    },
    {
     "data": {
      "application/vnd.jupyter.widget-view+json": {
       "model_id": "975d95f0a5b2437185d1a8af5670b191",
       "version_major": 2,
       "version_minor": 0
      },
      "text/plain": [
       "Running Epoch 13 of 15:   0%|          | 0/44 [00:00<?, ?it/s]"
      ]
     },
     "metadata": {},
     "output_type": "display_data"
    },
    {
     "data": {
      "application/vnd.jupyter.widget-view+json": {
       "model_id": "f887699d9d314592abb9a4bb7e1dd4e2",
       "version_major": 2,
       "version_minor": 0
      },
      "text/plain": [
       "Running Epoch 14 of 15:   0%|          | 0/44 [00:00<?, ?it/s]"
      ]
     },
     "metadata": {},
     "output_type": "display_data"
    },
    {
     "data": {
      "application/vnd.jupyter.widget-view+json": {
       "model_id": "76b5ca04bff74bf9b55da78451c8a705",
       "version_major": 2,
       "version_minor": 0
      },
      "text/plain": [
       "Running Evaluation:   0%|          | 0/19 [00:00<?, ?it/s]"
      ]
     },
     "metadata": {},
     "output_type": "display_data"
    },
    {
     "name": "stdout",
     "output_type": "stream",
     "text": [
      "{'mcc': 0.8359098175374288, 'tp': 131, 'tn': 432, 'fp': 23, 'fn': 14, 'auroc': 0.9588632057597574, 'auprc': 0.9122921612292234, 'f1': 0.9383333333333334, 'acc': 0.9383333333333334, 'eval_loss': 0.30726843043904456}\n"
     ]
    },
    {
     "name": "stderr",
     "output_type": "stream",
     "text": [
      "Some weights of the model checkpoint at flaubert/flaubert_base_cased were not used when initializing FlaubertForSequenceClassification: ['pred_layer.proj.bias', 'pred_layer.proj.weight']\n",
      "- This IS expected if you are initializing FlaubertForSequenceClassification from the checkpoint of a model trained on another task or with another architecture (e.g. initializing a BertForSequenceClassification model from a BertForPreTraining model).\n",
      "- This IS NOT expected if you are initializing FlaubertForSequenceClassification from the checkpoint of a model that you expect to be exactly identical (initializing a BertForSequenceClassification model from a BertForSequenceClassification model).\n",
      "Some weights of FlaubertForSequenceClassification were not initialized from the model checkpoint at flaubert/flaubert_base_cased and are newly initialized: ['position_embeddings.weight', 'embeddings.weight', 'layer_norm_emb.weight', 'layer_norm_emb.bias', 'attentions.0.q_lin.weight', 'attentions.0.q_lin.bias', 'attentions.0.k_lin.weight', 'attentions.0.k_lin.bias', 'attentions.0.v_lin.weight', 'attentions.0.v_lin.bias', 'attentions.0.out_lin.weight', 'attentions.0.out_lin.bias', 'attentions.1.q_lin.weight', 'attentions.1.q_lin.bias', 'attentions.1.k_lin.weight', 'attentions.1.k_lin.bias', 'attentions.1.v_lin.weight', 'attentions.1.v_lin.bias', 'attentions.1.out_lin.weight', 'attentions.1.out_lin.bias', 'attentions.2.q_lin.weight', 'attentions.2.q_lin.bias', 'attentions.2.k_lin.weight', 'attentions.2.k_lin.bias', 'attentions.2.v_lin.weight', 'attentions.2.v_lin.bias', 'attentions.2.out_lin.weight', 'attentions.2.out_lin.bias', 'attentions.3.q_lin.weight', 'attentions.3.q_lin.bias', 'attentions.3.k_lin.weight', 'attentions.3.k_lin.bias', 'attentions.3.v_lin.weight', 'attentions.3.v_lin.bias', 'attentions.3.out_lin.weight', 'attentions.3.out_lin.bias', 'attentions.4.q_lin.weight', 'attentions.4.q_lin.bias', 'attentions.4.k_lin.weight', 'attentions.4.k_lin.bias', 'attentions.4.v_lin.weight', 'attentions.4.v_lin.bias', 'attentions.4.out_lin.weight', 'attentions.4.out_lin.bias', 'attentions.5.q_lin.weight', 'attentions.5.q_lin.bias', 'attentions.5.k_lin.weight', 'attentions.5.k_lin.bias', 'attentions.5.v_lin.weight', 'attentions.5.v_lin.bias', 'attentions.5.out_lin.weight', 'attentions.5.out_lin.bias', 'attentions.6.q_lin.weight', 'attentions.6.q_lin.bias', 'attentions.6.k_lin.weight', 'attentions.6.k_lin.bias', 'attentions.6.v_lin.weight', 'attentions.6.v_lin.bias', 'attentions.6.out_lin.weight', 'attentions.6.out_lin.bias', 'attentions.7.q_lin.weight', 'attentions.7.q_lin.bias', 'attentions.7.k_lin.weight', 'attentions.7.k_lin.bias', 'attentions.7.v_lin.weight', 'attentions.7.v_lin.bias', 'attentions.7.out_lin.weight', 'attentions.7.out_lin.bias', 'attentions.8.q_lin.weight', 'attentions.8.q_lin.bias', 'attentions.8.k_lin.weight', 'attentions.8.k_lin.bias', 'attentions.8.v_lin.weight', 'attentions.8.v_lin.bias', 'attentions.8.out_lin.weight', 'attentions.8.out_lin.bias', 'attentions.9.q_lin.weight', 'attentions.9.q_lin.bias', 'attentions.9.k_lin.weight', 'attentions.9.k_lin.bias', 'attentions.9.v_lin.weight', 'attentions.9.v_lin.bias', 'attentions.9.out_lin.weight', 'attentions.9.out_lin.bias', 'attentions.10.q_lin.weight', 'attentions.10.q_lin.bias', 'attentions.10.k_lin.weight', 'attentions.10.k_lin.bias', 'attentions.10.v_lin.weight', 'attentions.10.v_lin.bias', 'attentions.10.out_lin.weight', 'attentions.10.out_lin.bias', 'attentions.11.q_lin.weight', 'attentions.11.q_lin.bias', 'attentions.11.k_lin.weight', 'attentions.11.k_lin.bias', 'attentions.11.v_lin.weight', 'attentions.11.v_lin.bias', 'attentions.11.out_lin.weight', 'attentions.11.out_lin.bias', 'layer_norm1.0.weight', 'layer_norm1.0.bias', 'layer_norm1.1.weight', 'layer_norm1.1.bias', 'layer_norm1.2.weight', 'layer_norm1.2.bias', 'layer_norm1.3.weight', 'layer_norm1.3.bias', 'layer_norm1.4.weight', 'layer_norm1.4.bias', 'layer_norm1.5.weight', 'layer_norm1.5.bias', 'layer_norm1.6.weight', 'layer_norm1.6.bias', 'layer_norm1.7.weight', 'layer_norm1.7.bias', 'layer_norm1.8.weight', 'layer_norm1.8.bias', 'layer_norm1.9.weight', 'layer_norm1.9.bias', 'layer_norm1.10.weight', 'layer_norm1.10.bias', 'layer_norm1.11.weight', 'layer_norm1.11.bias', 'ffns.0.lin1.weight', 'ffns.0.lin1.bias', 'ffns.0.lin2.weight', 'ffns.0.lin2.bias', 'ffns.1.lin1.weight', 'ffns.1.lin1.bias', 'ffns.1.lin2.weight', 'ffns.1.lin2.bias', 'ffns.2.lin1.weight', 'ffns.2.lin1.bias', 'ffns.2.lin2.weight', 'ffns.2.lin2.bias', 'ffns.3.lin1.weight', 'ffns.3.lin1.bias', 'ffns.3.lin2.weight', 'ffns.3.lin2.bias', 'ffns.4.lin1.weight', 'ffns.4.lin1.bias', 'ffns.4.lin2.weight', 'ffns.4.lin2.bias', 'ffns.5.lin1.weight', 'ffns.5.lin1.bias', 'ffns.5.lin2.weight', 'ffns.5.lin2.bias', 'ffns.6.lin1.weight', 'ffns.6.lin1.bias', 'ffns.6.lin2.weight', 'ffns.6.lin2.bias', 'ffns.7.lin1.weight', 'ffns.7.lin1.bias', 'ffns.7.lin2.weight', 'ffns.7.lin2.bias', 'ffns.8.lin1.weight', 'ffns.8.lin1.bias', 'ffns.8.lin2.weight', 'ffns.8.lin2.bias', 'ffns.9.lin1.weight', 'ffns.9.lin1.bias', 'ffns.9.lin2.weight', 'ffns.9.lin2.bias', 'ffns.10.lin1.weight', 'ffns.10.lin1.bias', 'ffns.10.lin2.weight', 'ffns.10.lin2.bias', 'ffns.11.lin1.weight', 'ffns.11.lin1.bias', 'ffns.11.lin2.weight', 'ffns.11.lin2.bias', 'layer_norm2.0.weight', 'layer_norm2.0.bias', 'layer_norm2.1.weight', 'layer_norm2.1.bias', 'layer_norm2.2.weight', 'layer_norm2.2.bias', 'layer_norm2.3.weight', 'layer_norm2.3.bias', 'layer_norm2.4.weight', 'layer_norm2.4.bias', 'layer_norm2.5.weight', 'layer_norm2.5.bias', 'layer_norm2.6.weight', 'layer_norm2.6.bias', 'layer_norm2.7.weight', 'layer_norm2.7.bias', 'layer_norm2.8.weight', 'layer_norm2.8.bias', 'layer_norm2.9.weight', 'layer_norm2.9.bias', 'layer_norm2.10.weight', 'layer_norm2.10.bias', 'layer_norm2.11.weight', 'layer_norm2.11.bias', 'sequence_summary.summary.weight', 'sequence_summary.summary.bias']\n",
      "You should probably TRAIN this model on a down-stream task to be able to use it for predictions and inference.\n"
     ]
    },
    {
     "data": {
      "application/vnd.jupyter.widget-view+json": {
       "model_id": "1e4ea79c256a411d965d5e2e7c3a2bbe",
       "version_major": 2,
       "version_minor": 0
      },
      "text/plain": [
       "  0%|          | 0/3 [00:00<?, ?it/s]"
      ]
     },
     "metadata": {},
     "output_type": "display_data"
    },
    {
     "data": {
      "application/vnd.jupyter.widget-view+json": {
       "model_id": "7abec841d0554f6c93522c9a916c04c5",
       "version_major": 2,
       "version_minor": 0
      },
      "text/plain": [
       "Epoch:   0%|          | 0/15 [00:00<?, ?it/s]"
      ]
     },
     "metadata": {},
     "output_type": "display_data"
    },
    {
     "data": {
      "application/vnd.jupyter.widget-view+json": {
       "model_id": "43c6156ea1824464ac9df5f8c88442a9",
       "version_major": 2,
       "version_minor": 0
      },
      "text/plain": [
       "Running Epoch 0 of 15:   0%|          | 0/44 [00:00<?, ?it/s]"
      ]
     },
     "metadata": {},
     "output_type": "display_data"
    },
    {
     "data": {
      "application/vnd.jupyter.widget-view+json": {
       "model_id": "e9c18b5caf8646b6b807a49bea28199a",
       "version_major": 2,
       "version_minor": 0
      },
      "text/plain": [
       "Running Epoch 1 of 15:   0%|          | 0/44 [00:00<?, ?it/s]"
      ]
     },
     "metadata": {},
     "output_type": "display_data"
    },
    {
     "data": {
      "application/vnd.jupyter.widget-view+json": {
       "model_id": "f793d0c435794b7eb916c0594e2dbc18",
       "version_major": 2,
       "version_minor": 0
      },
      "text/plain": [
       "Running Epoch 2 of 15:   0%|          | 0/44 [00:00<?, ?it/s]"
      ]
     },
     "metadata": {},
     "output_type": "display_data"
    },
    {
     "data": {
      "application/vnd.jupyter.widget-view+json": {
       "model_id": "4358e611e4a0442b827ce65efe1b5008",
       "version_major": 2,
       "version_minor": 0
      },
      "text/plain": [
       "Running Epoch 3 of 15:   0%|          | 0/44 [00:00<?, ?it/s]"
      ]
     },
     "metadata": {},
     "output_type": "display_data"
    },
    {
     "data": {
      "application/vnd.jupyter.widget-view+json": {
       "model_id": "252b4d4cdc4440928996eb0cfe6dde96",
       "version_major": 2,
       "version_minor": 0
      },
      "text/plain": [
       "Running Epoch 4 of 15:   0%|          | 0/44 [00:00<?, ?it/s]"
      ]
     },
     "metadata": {},
     "output_type": "display_data"
    },
    {
     "data": {
      "application/vnd.jupyter.widget-view+json": {
       "model_id": "7d9af74f87194f5882bc9ca4c8e89984",
       "version_major": 2,
       "version_minor": 0
      },
      "text/plain": [
       "Running Epoch 5 of 15:   0%|          | 0/44 [00:00<?, ?it/s]"
      ]
     },
     "metadata": {},
     "output_type": "display_data"
    },
    {
     "data": {
      "application/vnd.jupyter.widget-view+json": {
       "model_id": "287b8fe5a76646e8ae3c395c84381a80",
       "version_major": 2,
       "version_minor": 0
      },
      "text/plain": [
       "Running Epoch 6 of 15:   0%|          | 0/44 [00:00<?, ?it/s]"
      ]
     },
     "metadata": {},
     "output_type": "display_data"
    },
    {
     "data": {
      "application/vnd.jupyter.widget-view+json": {
       "model_id": "62e1c1254d3c4fdd8ae86251e70a8508",
       "version_major": 2,
       "version_minor": 0
      },
      "text/plain": [
       "Running Epoch 7 of 15:   0%|          | 0/44 [00:00<?, ?it/s]"
      ]
     },
     "metadata": {},
     "output_type": "display_data"
    },
    {
     "data": {
      "application/vnd.jupyter.widget-view+json": {
       "model_id": "26ae457c9c3245f583fc0c99a036bd3b",
       "version_major": 2,
       "version_minor": 0
      },
      "text/plain": [
       "Running Epoch 8 of 15:   0%|          | 0/44 [00:00<?, ?it/s]"
      ]
     },
     "metadata": {},
     "output_type": "display_data"
    },
    {
     "data": {
      "application/vnd.jupyter.widget-view+json": {
       "model_id": "2d76f332146946a28a63cc97eca078da",
       "version_major": 2,
       "version_minor": 0
      },
      "text/plain": [
       "Running Epoch 9 of 15:   0%|          | 0/44 [00:00<?, ?it/s]"
      ]
     },
     "metadata": {},
     "output_type": "display_data"
    },
    {
     "data": {
      "application/vnd.jupyter.widget-view+json": {
       "model_id": "d7c509a3d0184c3981239bed478bdef2",
       "version_major": 2,
       "version_minor": 0
      },
      "text/plain": [
       "Running Epoch 10 of 15:   0%|          | 0/44 [00:00<?, ?it/s]"
      ]
     },
     "metadata": {},
     "output_type": "display_data"
    },
    {
     "data": {
      "application/vnd.jupyter.widget-view+json": {
       "model_id": "332657eef8c94916aa9f9bda176f05d4",
       "version_major": 2,
       "version_minor": 0
      },
      "text/plain": [
       "Running Epoch 11 of 15:   0%|          | 0/44 [00:00<?, ?it/s]"
      ]
     },
     "metadata": {},
     "output_type": "display_data"
    },
    {
     "data": {
      "application/vnd.jupyter.widget-view+json": {
       "model_id": "b209a395aa874d10997332653b1b7ed1",
       "version_major": 2,
       "version_minor": 0
      },
      "text/plain": [
       "Running Epoch 12 of 15:   0%|          | 0/44 [00:00<?, ?it/s]"
      ]
     },
     "metadata": {},
     "output_type": "display_data"
    },
    {
     "data": {
      "application/vnd.jupyter.widget-view+json": {
       "model_id": "c28e71483b824dd1914da9b4bdfb2234",
       "version_major": 2,
       "version_minor": 0
      },
      "text/plain": [
       "Running Epoch 13 of 15:   0%|          | 0/44 [00:00<?, ?it/s]"
      ]
     },
     "metadata": {},
     "output_type": "display_data"
    },
    {
     "data": {
      "application/vnd.jupyter.widget-view+json": {
       "model_id": "c013133f5f2247379cb01ba9c2d75223",
       "version_major": 2,
       "version_minor": 0
      },
      "text/plain": [
       "Running Epoch 14 of 15:   0%|          | 0/44 [00:00<?, ?it/s]"
      ]
     },
     "metadata": {},
     "output_type": "display_data"
    },
    {
     "data": {
      "application/vnd.jupyter.widget-view+json": {
       "model_id": "54785ea6d162458a8a7c14d8e263e7f9",
       "version_major": 2,
       "version_minor": 0
      },
      "text/plain": [
       "Running Evaluation:   0%|          | 0/19 [00:00<?, ?it/s]"
      ]
     },
     "metadata": {},
     "output_type": "display_data"
    },
    {
     "name": "stdout",
     "output_type": "stream",
     "text": [
      "{'mcc': 0.8348894277000711, 'tp': 125, 'tn': 439, 'fp': 16, 'fn': 20, 'auroc': 0.9639408866995075, 'auprc': 0.9326364205318103, 'f1': 0.94, 'acc': 0.94, 'eval_loss': 0.3923614771675171}\n"
     ]
    }
   ],
   "source": [
    "'''\n",
    "torch.load(model1, 'model1.pt')\n",
    "model1.train_model(train_df1)\n",
    "result1, model_outputs1, wrong_predictions1 = model1.eval_model(test_df1, f1=f1_multiclass, acc=accuracy_score)\n",
    "print(result1)\n",
    "del model1\n",
    "gc.collect()\n",
    "'''\n",
    "#gc.collect()\n",
    "#torch.cuda.empty_cache()\n",
    "limitsave=0\n",
    "\n",
    "'''\n",
    "train_df1 = pd.DataFrame({ 'text_cleaned': X1_train, 'target': y1_train })\n",
    "test_df1 = pd.DataFrame({ 'text_cleaned': X1_test, 'target': y1_test })\n",
    "\n",
    "\n",
    "train_df1 = pd.DataFrame({ 'text_cleaned': X2_train, 'target': y2_train })\n",
    "test_df1 = pd.DataFrame({ 'text_cleaned': X2_test, 'target': y2_test })\n",
    "\n",
    "train_df1 = pd.DataFrame({ 'text_cleaned': X3_train, 'target': y3_train })\n",
    "test_df1 = pd.DataFrame({ 'text_cleaned': X3_test, 'target': y3_test })\n",
    "'''\n",
    "train_df1 = pd.DataFrame({ 'text_cleaned': X4_train, 'target': y4_train })\n",
    "test_df1 = pd.DataFrame({ 'text_cleaned': X4_test, 'target': y4_test })\n",
    "\n",
    "\n",
    "for i in range(0,N_ITER):\n",
    "    model1 = ClassificationModel(\n",
    "    \"bert\", \"bert-base-multilingual-cased\",\n",
    "        use_cuda = True,\n",
    "        args=train_args\n",
    "    )\n",
    "    model1.train_model(train_df1)\n",
    "    result1, model_outputs1, wrong_predictions1 = model1.eval_model(test_df1, f1=f1_multiclass, acc=accuracy_score)\n",
    "    print(result1)\n",
    "    if(i<limitsave):\n",
    "        torch.save(model1, 'model1'+str(i)+'.pt')\n",
    "    del model1\n",
    "    gc.collect()\n",
    "    torch.cuda.empty_cache()\n",
    "    if(i==0):\n",
    "        dfResultsModels1 = pd.DataFrame.from_dict(result1, orient=\"index\").T\n",
    "    else:\n",
    "        dfResultsModels1b = pd.DataFrame.from_dict(result1, orient=\"index\").T\n",
    "        dfResultsModels1 = dfResultsModels1.append(dfResultsModels1b)\n",
    "        \n",
    "dfResultsModels1Trans = pd.DataFrame(dfResultsModels1.mean(axis=0)).T\n",
    "dfResultsModels1Trans['f1'] = calcule_f1(dfResultsModels1Trans)\n",
    "\n",
    "dfResultsModelsTotal = dfResultsModels1Trans.copy()\n",
    "dfResultsModelsTotal.to_csv('dfResultsModelsTotal-4.csv')\n",
    "\n",
    "#dfResultsModelsTotal = pd.read_csv('dfResultsModelsTotal.csv', encoding='utf8', error_bad_lines=False)\n",
    "        \n",
    "for i in range(0,N_ITER):\n",
    "    model1c = ClassificationModel(\n",
    "    \"roberta\", \"roberta-base\",\n",
    "        use_cuda = True,\n",
    "        args=train_args\n",
    "    )\n",
    "    model1c.train_model(train_df1)\n",
    "\n",
    "    result1c, model_outputs1c, wrong_predictions1c = model1c.eval_model(test_df1, f1=f1_multiclass, acc=accuracy_score)\n",
    "    print(result1c)\n",
    "    if(i<limitsave):\n",
    "        torch.save(model1c, 'model1c'+str(i)+'.pt')\n",
    "    del model1c\n",
    "    gc.collect()\n",
    "    if(i==0):\n",
    "        dfResultsModels1c = pd.DataFrame.from_dict(result1c, orient=\"index\").T\n",
    "    else:\n",
    "        dfResultsModels1b = pd.DataFrame.from_dict(result1c, orient=\"index\").T\n",
    "        dfResultsModels1c = dfResultsModels1c.append(dfResultsModels1b)\n",
    "\n",
    "dfResultsModels1cTrans = pd.DataFrame(dfResultsModels1c.mean(axis=0)).T\n",
    "dfResultsModels1cTrans['f1'] = calcule_f1(dfResultsModels1cTrans)\n",
    "dfResultsModelsTotal = dfResultsModelsTotal.append(dfResultsModels1cTrans)\n",
    "dfResultsModelsTotal.to_csv('dfResultsModelsTotal-4.csv')\n",
    "\n",
    "\n",
    "\n",
    "for i in range(0,N_ITER):\n",
    "    model1d = ClassificationModel(\n",
    "    \"distilbert\", \"distilbert-base-cased\",\n",
    "        use_cuda = True,\n",
    "        args=train_args\n",
    "    )\n",
    "    model1d.train_model(train_df1)\n",
    "\n",
    "    result1d, model_outputs1d, wrong_predictions1d = model1d.eval_model(test_df1, f1=f1_multiclass, acc=accuracy_score)\n",
    "    print(result1d)\n",
    "    if(i<limitsave):\n",
    "        torch.save(model1d, 'model1d'+str(i)+'.pt')\n",
    "    del model1d\n",
    "    gc.collect()\n",
    "    if(i==0):\n",
    "        dfResultsModels1d = pd.DataFrame.from_dict(result1d, orient=\"index\").T\n",
    "    else:\n",
    "        dfResultsModels1b = pd.DataFrame.from_dict(result1d, orient=\"index\").T\n",
    "        dfResultsModels1d = dfResultsModels1d.append(dfResultsModels1b)\n",
    "\n",
    "dfResultsModels1dTrans = pd.DataFrame(dfResultsModels1d.mean(axis=0)).T\n",
    "dfResultsModels1dTrans['f1'] = calcule_f1(dfResultsModels1dTrans)\n",
    "dfResultsModelsTotal = dfResultsModelsTotal.append(dfResultsModels1dTrans)\n",
    "\n",
    "dfResultsModelsTotal.to_csv('dfResultsModelsTotal-4.csv')\n",
    "\n",
    "\n",
    "\n",
    "for i in range(0,N_ITER):\n",
    "    model1e = ClassificationModel(\n",
    "    \"camembert\", \"camembert-base\",\n",
    "        use_cuda = True,\n",
    "        args=train_args\n",
    "    )\n",
    "    model1e.train_model(train_df1)\n",
    "\n",
    "    result1e, model_outputs1e, wrong_predictions1e = model1e.eval_model(test_df1, f1=f1_multiclass, acc=accuracy_score)\n",
    "    print(result1e)\n",
    "    if(i<limitsave):\n",
    "        torch.save(model1e, 'model1e'+str(i)+'.pt')\n",
    "    del model1e\n",
    "    gc.collect()\n",
    "    if(i==0):\n",
    "        dfResultsModels1e = pd.DataFrame.from_dict(result1e, orient=\"index\").T\n",
    "    else:\n",
    "        dfResultsModels1b = pd.DataFrame.from_dict(result1e, orient=\"index\").T\n",
    "        dfResultsModels1e = dfResultsModels1e.append(dfResultsModels1b)\n",
    "\n",
    "dfResultsModels1eTrans = pd.DataFrame(dfResultsModels1e.mean(axis=0)).T\n",
    "dfResultsModels1eTrans['f1'] = calcule_f1(dfResultsModels1eTrans)\n",
    "dfResultsModelsTotal = dfResultsModelsTotal.append(dfResultsModels1eTrans)\n",
    "\n",
    "dfResultsModelsTotal.to_csv('dfResultsModelsTotal-4.csv')\n",
    "\n",
    "\n",
    "for i in range(0,N_ITER):\n",
    "    model1f = ClassificationModel(\n",
    "    \"albert\", \"albert-base-v1\",\n",
    "        use_cuda = True,\n",
    "        args=train_args\n",
    "    )\n",
    "    model1f.train_model(train_df1)\n",
    "\n",
    "    result1f, model_outputs1f, wrong_predictions1f = model1f.eval_model(test_df1, f1=f1_multiclass, acc=accuracy_score)\n",
    "    print(result1f)\n",
    "    if(i<limitsave):\n",
    "        torch.save(model1f, 'model1f'+str(i)+'.pt')\n",
    "    del model1f\n",
    "    gc.collect()\n",
    "    if(i==0):\n",
    "        dfResultsModels1f = pd.DataFrame.from_dict(result1f, orient=\"index\").T\n",
    "    else:\n",
    "        dfResultsModels1b = pd.DataFrame.from_dict(result1f, orient=\"index\").T\n",
    "        dfResultsModels1f = dfResultsModels1f.append(dfResultsModels1b)\n",
    "\n",
    "dfResultsModels1fTrans = pd.DataFrame(dfResultsModels1f.mean(axis=0)).T\n",
    "dfResultsModels1fTrans['f1'] = calcule_f1(dfResultsModels1fTrans)\n",
    "dfResultsModelsTotal = dfResultsModelsTotal.append(dfResultsModels1fTrans)\n",
    "dfResultsModelsTotal.to_csv('dfResultsModelsTotal-4.csv')\n",
    "\n",
    "\n",
    "\n",
    "for i in range(0,N_ITER):\n",
    "    model1g = ClassificationModel(\n",
    "    \"flaubert\",\"flaubert/flaubert_base_cased\",\n",
    "        use_cuda = True,\n",
    "        args=train_args\n",
    "    )\n",
    "    model1g.train_model(train_df1)\n",
    "\n",
    "    result1g, model_outputs1g, wrong_predictions1g = model1g.eval_model(test_df1, f1=f1_multiclass, acc=accuracy_score)\n",
    "    print(result1g)\n",
    "    if(i<limitsave):\n",
    "        torch.save(model1g, 'model1g'+str(i)+'.pt')\n",
    "    del model1g\n",
    "    gc.collect()\n",
    "    if(i==0):\n",
    "        dfResultsModels1g = pd.DataFrame.from_dict(result1g, orient=\"index\").T\n",
    "    else:\n",
    "        dfResultsModels1b = pd.DataFrame.from_dict(result1g, orient=\"index\").T\n",
    "        dfResultsModels1g = dfResultsModels1g.append(dfResultsModels1b)\n",
    "\n",
    "dfResultsModels1gTrans = pd.DataFrame(dfResultsModels1g.mean(axis=0)).T\n",
    "dfResultsModels1gTrans['f1'] = calcule_f1(dfResultsModels1gTrans)\n",
    "dfResultsModelsTotal = dfResultsModelsTotal.append(dfResultsModels1gTrans)\n",
    "dfResultsModelsTotal.to_csv('dfResultsModelsTotal-4.csv')\n",
    "\n"
   ]
  },
  {
   "cell_type": "code",
   "execution_count": 33,
   "metadata": {},
   "outputs": [
    {
     "data": {
      "text/html": [
       "<div>\n",
       "<style scoped>\n",
       "    .dataframe tbody tr th:only-of-type {\n",
       "        vertical-align: middle;\n",
       "    }\n",
       "\n",
       "    .dataframe tbody tr th {\n",
       "        vertical-align: top;\n",
       "    }\n",
       "\n",
       "    .dataframe thead th {\n",
       "        text-align: right;\n",
       "    }\n",
       "</style>\n",
       "<table border=\"1\" class=\"dataframe\">\n",
       "  <thead>\n",
       "    <tr style=\"text-align: right;\">\n",
       "      <th></th>\n",
       "      <th>mcc</th>\n",
       "      <th>tp</th>\n",
       "      <th>tn</th>\n",
       "      <th>fp</th>\n",
       "      <th>fn</th>\n",
       "      <th>auroc</th>\n",
       "      <th>auprc</th>\n",
       "      <th>f1</th>\n",
       "      <th>acc</th>\n",
       "      <th>eval_loss</th>\n",
       "    </tr>\n",
       "  </thead>\n",
       "  <tbody>\n",
       "    <tr>\n",
       "      <th>BERT</th>\n",
       "      <td>0.840483</td>\n",
       "      <td>127.0</td>\n",
       "      <td>438.0</td>\n",
       "      <td>17.0</td>\n",
       "      <td>18.0</td>\n",
       "      <td>0.960818</td>\n",
       "      <td>0.900053</td>\n",
       "      <td>0.878893</td>\n",
       "      <td>0.941667</td>\n",
       "      <td>0.352464</td>\n",
       "    </tr>\n",
       "    <tr>\n",
       "      <th>RoBERTa</th>\n",
       "      <td>0.841230</td>\n",
       "      <td>128.0</td>\n",
       "      <td>437.0</td>\n",
       "      <td>18.0</td>\n",
       "      <td>17.0</td>\n",
       "      <td>0.969973</td>\n",
       "      <td>0.925237</td>\n",
       "      <td>0.879725</td>\n",
       "      <td>0.941667</td>\n",
       "      <td>0.357675</td>\n",
       "    </tr>\n",
       "    <tr>\n",
       "      <th>DistilBERT</th>\n",
       "      <td>0.855206</td>\n",
       "      <td>130.0</td>\n",
       "      <td>438.0</td>\n",
       "      <td>17.0</td>\n",
       "      <td>15.0</td>\n",
       "      <td>0.970155</td>\n",
       "      <td>0.936009</td>\n",
       "      <td>0.890411</td>\n",
       "      <td>0.946667</td>\n",
       "      <td>0.269569</td>\n",
       "    </tr>\n",
       "    <tr>\n",
       "      <th>CamemBERT</th>\n",
       "      <td>0.849585</td>\n",
       "      <td>139.0</td>\n",
       "      <td>425.0</td>\n",
       "      <td>30.0</td>\n",
       "      <td>6.0</td>\n",
       "      <td>0.971565</td>\n",
       "      <td>0.915145</td>\n",
       "      <td>0.885350</td>\n",
       "      <td>0.940000</td>\n",
       "      <td>0.232032</td>\n",
       "    </tr>\n",
       "    <tr>\n",
       "      <th>Albert</th>\n",
       "      <td>0.835910</td>\n",
       "      <td>131.0</td>\n",
       "      <td>432.0</td>\n",
       "      <td>23.0</td>\n",
       "      <td>14.0</td>\n",
       "      <td>0.958863</td>\n",
       "      <td>0.912292</td>\n",
       "      <td>0.876254</td>\n",
       "      <td>0.938333</td>\n",
       "      <td>0.307268</td>\n",
       "    </tr>\n",
       "    <tr>\n",
       "      <th>Flaubert</th>\n",
       "      <td>0.834889</td>\n",
       "      <td>125.0</td>\n",
       "      <td>439.0</td>\n",
       "      <td>16.0</td>\n",
       "      <td>20.0</td>\n",
       "      <td>0.963941</td>\n",
       "      <td>0.932636</td>\n",
       "      <td>0.874126</td>\n",
       "      <td>0.940000</td>\n",
       "      <td>0.392361</td>\n",
       "    </tr>\n",
       "  </tbody>\n",
       "</table>\n",
       "</div>"
      ],
      "text/plain": [
       "                 mcc     tp     tn    fp    fn     auroc     auprc        f1  \\\n",
       "BERT        0.840483  127.0  438.0  17.0  18.0  0.960818  0.900053  0.878893   \n",
       "RoBERTa     0.841230  128.0  437.0  18.0  17.0  0.969973  0.925237  0.879725   \n",
       "DistilBERT  0.855206  130.0  438.0  17.0  15.0  0.970155  0.936009  0.890411   \n",
       "CamemBERT   0.849585  139.0  425.0  30.0   6.0  0.971565  0.915145  0.885350   \n",
       "Albert      0.835910  131.0  432.0  23.0  14.0  0.958863  0.912292  0.876254   \n",
       "Flaubert    0.834889  125.0  439.0  16.0  20.0  0.963941  0.932636  0.874126   \n",
       "\n",
       "                 acc  eval_loss  \n",
       "BERT        0.941667   0.352464  \n",
       "RoBERTa     0.941667   0.357675  \n",
       "DistilBERT  0.946667   0.269569  \n",
       "CamemBERT   0.940000   0.232032  \n",
       "Albert      0.938333   0.307268  \n",
       "Flaubert    0.940000   0.392361  "
      ]
     },
     "execution_count": 33,
     "metadata": {},
     "output_type": "execute_result"
    }
   ],
   "source": [
    "\n",
    "#dfResultsModelsTotal.reindex(indexBERT)\n",
    "dfResultsModelsTotal = dfResultsModelsTotal.reset_index(drop=True)\n",
    "dfResultsModelsTotal.index = indexBERT\n",
    "dfResultsModelsTotal\n",
    "\n",
    "dfResultssModelsTotal4 = dfResultsModelsTotal.copy()\n",
    "\n",
    "dfResultssModelsTotal4"
   ]
  },
  {
   "cell_type": "code",
   "execution_count": null,
   "metadata": {},
   "outputs": [],
   "source": []
  },
  {
   "cell_type": "code",
   "execution_count": null,
   "metadata": {},
   "outputs": [],
   "source": []
  },
  {
   "cell_type": "code",
   "execution_count": null,
   "metadata": {},
   "outputs": [],
   "source": []
  },
  {
   "cell_type": "code",
   "execution_count": null,
   "metadata": {},
   "outputs": [],
   "source": [
    "import sys,gc,torch\n",
    "#sys.getsizeof(wrong_predictions4g)\n",
    "gc.collect()\n",
    "torch.cuda.empty_cache()"
   ]
  },
  {
   "cell_type": "code",
   "execution_count": null,
   "metadata": {},
   "outputs": [],
   "source": []
  },
  {
   "cell_type": "code",
   "execution_count": null,
   "metadata": {},
   "outputs": [],
   "source": []
  },
  {
   "cell_type": "code",
   "execution_count": null,
   "metadata": {},
   "outputs": [],
   "source": [
    "def f1_multiclass(labels, preds):\n",
    "    return f1_score(labels, preds, average='micro')\n",
    "\n",
    "result1, model_outputs1, wrong_predictions1 = model1.eval_model(test_df1, f1=f1_multiclass, acc=accuracy_score)\n",
    "result1b, model_outputs1b, wrong_predictions1b = model1b.eval_model(test_df1, f1=f1_multiclass, acc=accuracy_score)\n",
    "result1c, model_outputs1c, wrong_predictions1c = model1c.eval_model(test_df1, f1=f1_multiclass, acc=accuracy_score)\n",
    "result1d, model_outputs1d, wrong_predictions1d = model1d.eval_model(test_df1, f1=f1_multiclass, acc=accuracy_score)\n",
    "result1e, model_outputs1e, wrong_predictions1e = model1e.eval_model(test_df1, f1=f1_multiclass, acc=accuracy_score)\n",
    "result1f, model_outputs1f, wrong_predictions1f = model1f.eval_model(test_df1, f1=f1_multiclass, acc=accuracy_score)\n",
    "result1g, model_outputs1g, wrong_predictions1g = model1g.eval_model(test_df1, f1=f1_multiclass, acc=accuracy_score)\n",
    "#result1h, model_outputs1h, wrong_predictions1h = model1h.eval_model(test_df1, f1=f1_multiclass, acc=accuracy_score)\n",
    "\n",
    "\n",
    "#result2, model_outputs2, wrong_predictions2 = model2.eval_model(test_df2, f1=f1_multiclass, acc=accuracy_score)\n",
    "#result3, model_outputs3, wrong_predictions3 = model3.eval_model(test_df3, f1=f1_multiclass, acc=accuracy_score)\n",
    "#result4, model_outputs4, wrong_predictions4 = model4.eval_model(test_df4, f1=f1_multiclass, acc=accuracy_score)\n",
    "\n",
    "\n",
    "print(result1)\n",
    "print(result1b)\n",
    "print(result1c)\n",
    "print(result1d)\n",
    "print(result1e)\n",
    "print(result1f)\n",
    "print(result1g)\n",
    "print(result1h)\n",
    "#print(result2)\n",
    "#print(result3)\n",
    "#print(result4)"
   ]
  },
  {
   "cell_type": "code",
   "execution_count": null,
   "metadata": {},
   "outputs": [],
   "source": []
  },
  {
   "cell_type": "code",
   "execution_count": null,
   "metadata": {},
   "outputs": [],
   "source": []
  },
  {
   "cell_type": "code",
   "execution_count": null,
   "metadata": {},
   "outputs": [],
   "source": [
    "import torch\n",
    "import gc\n",
    "gc.collect()\n",
    "print(torch.cuda.memory_summary(device=0, abbreviated=False))\n"
   ]
  },
  {
   "cell_type": "code",
   "execution_count": null,
   "metadata": {},
   "outputs": [],
   "source": []
  },
  {
   "cell_type": "code",
   "execution_count": null,
   "metadata": {},
   "outputs": [],
   "source": [
    "import tensorflow_hub as hub\n",
    "import tensorflow as tf\n",
    "import bert\n",
    "FullTokenizer = bert.bert_tokenization.FullTokenizer\n",
    "from tensorflow.keras.models import Model       # Keras is the new high level API for TensorFlow\n",
    "import math\n",
    "\n"
   ]
  },
  {
   "cell_type": "code",
   "execution_count": null,
   "metadata": {},
   "outputs": [],
   "source": [
    "max_seq_length = 128  # Your choice here.\n",
    "input_word_ids = tf.keras.layers.Input(shape=(max_seq_length,), dtype=tf.int32,\n",
    "                                       name=\"input_word_ids\")\n",
    "input_mask = tf.keras.layers.Input(shape=(max_seq_length,), dtype=tf.int32,\n",
    "                                   name=\"input_mask\")\n",
    "segment_ids = tf.keras.layers.Input(shape=(max_seq_length,), dtype=tf.int32,\n",
    "                                    name=\"segment_ids\")\n",
    "bert_layer = hub.KerasLayer(\"https://tfhub.dev/tensorflow/bert_en_uncased_L-12_H-768_A-12/1\",\n",
    "                            trainable=True)\n",
    "pooled_output, sequence_output = bert_layer([input_word_ids, input_mask, segment_ids])\n",
    "\n",
    "\n",
    "# See BERT paper: https://arxiv.org/pdf/1810.04805.pdf\n",
    "# And BERT implementation convert_single_example() at https://github.com/google-research/bert/blob/master/run_classifier.py\n",
    "\n",
    "def get_masks(tokens, max_seq_length):\n",
    "    \"\"\"Mask for padding\"\"\"\n",
    "    if len(tokens)>max_seq_length:\n",
    "        raise IndexError(\"Token length more than max seq length!\")\n",
    "    return [1]*len(tokens) + [0] * (max_seq_length - len(tokens))\n",
    "\n",
    "\n",
    "def get_segments(tokens, max_seq_length):\n",
    "    \"\"\"Segments: 0 for the first sequence, 1 for the second\"\"\"\n",
    "    if len(tokens)>max_seq_length:\n",
    "        raise IndexError(\"Token length more than max seq length!\")\n",
    "    segments = []\n",
    "    current_segment_id = 0\n",
    "    for token in tokens:\n",
    "        segments.append(current_segment_id)\n",
    "        if token == \"[SEP]\":\n",
    "            current_segment_id = 1\n",
    "    return segments + [0] * (max_seq_length - len(tokens))\n",
    "\n",
    "\n",
    "def get_ids(tokens, tokenizer, max_seq_length):\n",
    "    \"\"\"Token ids from Tokenizer vocab\"\"\"\n",
    "    token_ids = tokenizer.convert_tokens_to_ids(tokens)\n",
    "    input_ids = token_ids + [0] * (max_seq_length-len(token_ids))\n",
    "    return input_ids\n",
    "\n",
    "vocab_file = bert_layer.resolved_object.vocab_file.asset_path.numpy()\n",
    "do_lower_case = bert_layer.resolved_object.do_lower_case.numpy()\n",
    "tokenizer = FullTokenizer(vocab_file, do_lower_case)"
   ]
  },
  {
   "cell_type": "code",
   "execution_count": null,
   "metadata": {},
   "outputs": [],
   "source": [
    "import gc\n",
    "del variables\n",
    "gc.collect()\n",
    "print(torch.cuda.memory_summary(device=0, abbreviated=False))\n"
   ]
  },
  {
   "cell_type": "code",
   "execution_count": null,
   "metadata": {},
   "outputs": [],
   "source": []
  }
 ],
 "metadata": {
  "kernelspec": {
   "display_name": "Python 3",
   "language": "python",
   "name": "python3"
  },
  "language_info": {
   "codemirror_mode": {
    "name": "ipython",
    "version": 3
   },
   "file_extension": ".py",
   "mimetype": "text/x-python",
   "name": "python",
   "nbconvert_exporter": "python",
   "pygments_lexer": "ipython3",
   "version": "3.7.9"
  }
 },
 "nbformat": 4,
 "nbformat_minor": 4
}
