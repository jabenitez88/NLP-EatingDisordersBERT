{
 "cells": [
  {
   "cell_type": "markdown",
   "metadata": {},
   "source": [
    "# Tweets about eating disorders\n",
    "## 01. Pre-processing and initial data cleaning\n",
    "\n",
    "Loading data in dataframes.\n",
    "There are 3 sets of data. In each set a different group of words has been used to collect the tweets by streaming:\n",
    "- data1: anorexia, anorexic, dietary disorders, inappetence, feeding disorder, food problem, binge eating, anorectic\n",
    "- data2: eating disorders, bulimia, food issues, loss of appetite, food issue, food hater, eat healthier, disturbed eating habits, abnormal eating habits, abnormal eating habit\n",
    "- data3: binge-vomit syndrome, bingeing, bulimarexia, anorexic skinny, eating healthy\n",
    "\n",
    "The data was collected between October 20, 2020 and December 26, 2020 using <a href=\"https://github.com/congosto/t-hoarder\" target=\"_blank\">t-hoarder</a>.\n",
    " "
   ]
  },
  {
   "cell_type": "code",
   "execution_count": 2,
   "metadata": {},
   "outputs": [
    {
     "name": "stderr",
     "output_type": "stream",
     "text": [
      "b'Skipping line 11759: expected 30 fields, saw 43\\nSkipping line 18793: expected 30 fields, saw 40\\n'\n",
      "b'Skipping line 55842: expected 30 fields, saw 40\\nSkipping line 60390: expected 30 fields, saw 40\\nSkipping line 60890: expected 30 fields, saw 40\\n'\n",
      "b'Skipping line 73925: expected 30 fields, saw 40\\n'\n",
      "b'Skipping line 102016: expected 30 fields, saw 40\\nSkipping line 104827: expected 30 fields, saw 40\\nSkipping line 108727: expected 30 fields, saw 43\\nSkipping line 108732: expected 30 fields, saw 43\\nSkipping line 108740: expected 30 fields, saw 43\\nSkipping line 108789: expected 30 fields, saw 33\\nSkipping line 120270: expected 30 fields, saw 40\\nSkipping line 127724: expected 30 fields, saw 43\\nSkipping line 129613: expected 30 fields, saw 40\\n'\n",
      "C:\\Users\\MICROSOFT\\Anaconda3\\envs\\tfm\\lib\\site-packages\\IPython\\core\\interactiveshell.py:3156: DtypeWarning: Columns (27) have mixed types.Specify dtype option on import or set low_memory=False.\n",
      "  interactivity=interactivity, compiler=compiler, result=result)\n",
      "b'Skipping line 6577: expected 30 fields, saw 40\\nSkipping line 23869: expected 30 fields, saw 43\\nSkipping line 23897: expected 30 fields, saw 43\\nSkipping line 24369: expected 30 fields, saw 43\\nSkipping line 25978: expected 30 fields, saw 43\\nSkipping line 28786: expected 30 fields, saw 43\\nSkipping line 32378: expected 30 fields, saw 40\\n'\n",
      "b'Skipping line 34071: expected 30 fields, saw 40\\nSkipping line 34388: expected 30 fields, saw 40\\nSkipping line 58874: expected 30 fields, saw 40\\n'\n",
      "b'Skipping line 69528: expected 30 fields, saw 43\\nSkipping line 69532: expected 30 fields, saw 43\\nSkipping line 69543: expected 30 fields, saw 43\\nSkipping line 69545: expected 30 fields, saw 43\\nSkipping line 69551: expected 30 fields, saw 43\\nSkipping line 69567: expected 30 fields, saw 43\\nSkipping line 69590: expected 30 fields, saw 33\\nSkipping line 69600: expected 30 fields, saw 43\\nSkipping line 69623: expected 30 fields, saw 43\\nSkipping line 69716: expected 30 fields, saw 43\\nSkipping line 69739: expected 30 fields, saw 43\\nSkipping line 69770: expected 30 fields, saw 43\\nSkipping line 69837: expected 30 fields, saw 43\\nSkipping line 69850: expected 30 fields, saw 43\\nSkipping line 70005: expected 30 fields, saw 43\\nSkipping line 70030: expected 30 fields, saw 43\\nSkipping line 70033: expected 30 fields, saw 43\\nSkipping line 70227: expected 30 fields, saw 43\\nSkipping line 70270: expected 30 fields, saw 43\\nSkipping line 70955: expected 30 fields, saw 43\\nSkipping line 71986: expected 30 fields, saw 43\\nSkipping line 72140: expected 30 fields, saw 43\\nSkipping line 72200: expected 30 fields, saw 43\\nSkipping line 72288: expected 30 fields, saw 43\\nSkipping line 72777: expected 30 fields, saw 43\\nSkipping line 73980: expected 30 fields, saw 43\\nSkipping line 73989: expected 30 fields, saw 43\\nSkipping line 74122: expected 30 fields, saw 39\\nSkipping line 74958: expected 30 fields, saw 43\\nSkipping line 76323: expected 30 fields, saw 43\\nSkipping line 76334: expected 30 fields, saw 40\\nSkipping line 76824: expected 30 fields, saw 43\\nSkipping line 81851: expected 30 fields, saw 40\\nSkipping line 87908: expected 30 fields, saw 40\\nSkipping line 90398: expected 30 fields, saw 43\\nSkipping line 92303: expected 30 fields, saw 43\\n'\n",
      "b'Skipping line 104253: expected 30 fields, saw 40\\nSkipping line 112848: expected 30 fields, saw 40\\nSkipping line 114850: expected 30 fields, saw 40\\nSkipping line 122506: expected 30 fields, saw 40\\nSkipping line 128985: expected 30 fields, saw 40\\n'\n",
      "b'Skipping line 2371: expected 30 fields, saw 40\\nSkipping line 13930: expected 30 fields, saw 43\\nSkipping line 23860: expected 30 fields, saw 39\\n'\n",
      "b'Skipping line 37853: expected 30 fields, saw 40\\nSkipping line 39096: expected 30 fields, saw 43\\nSkipping line 41866: expected 30 fields, saw 40\\nSkipping line 44169: expected 30 fields, saw 40\\nSkipping line 49896: expected 30 fields, saw 40\\nSkipping line 52552: expected 30 fields, saw 40\\nSkipping line 53893: expected 30 fields, saw 43\\nSkipping line 56801: expected 30 fields, saw 40\\nSkipping line 64221: expected 30 fields, saw 40\\n'\n",
      "b'Skipping line 73275: expected 30 fields, saw 43\\nSkipping line 82159: expected 30 fields, saw 40\\nSkipping line 82895: expected 30 fields, saw 40\\nSkipping line 83937: expected 30 fields, saw 40\\nSkipping line 86414: expected 30 fields, saw 40\\nSkipping line 88453: expected 30 fields, saw 40\\n'\n",
      "b'Skipping line 100490: expected 30 fields, saw 40\\nSkipping line 102870: expected 30 fields, saw 40\\nSkipping line 113572: expected 30 fields, saw 43\\nSkipping line 119187: expected 30 fields, saw 40\\nSkipping line 119292: expected 30 fields, saw 40\\n'\n",
      "b'Skipping line 1874: expected 30 fields, saw 43\\nSkipping line 20876: expected 30 fields, saw 43\\nSkipping line 23719: expected 30 fields, saw 40\\n'\n",
      "b'Skipping line 36785: expected 30 fields, saw 33\\nSkipping line 40492: expected 30 fields, saw 40\\nSkipping line 44259: expected 30 fields, saw 40\\nSkipping line 44515: expected 30 fields, saw 43\\nSkipping line 47950: expected 30 fields, saw 43\\nSkipping line 56063: expected 30 fields, saw 40\\nSkipping line 59363: expected 30 fields, saw 40\\nSkipping line 62016: expected 30 fields, saw 33\\nSkipping line 62391: expected 30 fields, saw 43\\nSkipping line 62676: expected 30 fields, saw 43\\n'\n",
      "b'Skipping line 84769: expected 30 fields, saw 33\\nSkipping line 90038: expected 30 fields, saw 40\\nSkipping line 93287: expected 30 fields, saw 40\\nSkipping line 97203: expected 30 fields, saw 43\\n'\n",
      "b'Skipping line 101047: expected 30 fields, saw 40\\nSkipping line 118488: expected 30 fields, saw 43\\n'\n",
      "b'Skipping line 2181: expected 30 fields, saw 40\\nSkipping line 8094: expected 30 fields, saw 40\\nSkipping line 19313: expected 30 fields, saw 40\\nSkipping line 19999: expected 30 fields, saw 40\\nSkipping line 20330: expected 30 fields, saw 40\\n'\n",
      "b'Skipping line 34386: expected 30 fields, saw 40\\nSkipping line 53839: expected 30 fields, saw 40\\n'\n",
      "b'Skipping line 72430: expected 30 fields, saw 40\\nSkipping line 85300: expected 30 fields, saw 43\\nSkipping line 87894: expected 30 fields, saw 43\\nSkipping line 87935: expected 30 fields, saw 43\\nSkipping line 87945: expected 30 fields, saw 33\\nSkipping line 91036: expected 30 fields, saw 40\\n'\n",
      "b'Skipping line 106652: expected 30 fields, saw 40\\nSkipping line 110841: expected 30 fields, saw 40\\n'\n",
      "C:\\Users\\MICROSOFT\\Anaconda3\\envs\\tfm\\lib\\site-packages\\IPython\\core\\interactiveshell.py:3156: DtypeWarning: Columns (0,27) have mixed types.Specify dtype option on import or set low_memory=False.\n",
      "  interactivity=interactivity, compiler=compiler, result=result)\n",
      "b'Skipping line 13621: expected 30 fields, saw 40\\nSkipping line 28036: expected 30 fields, saw 40\\n'\n",
      "b'Skipping line 32932: expected 30 fields, saw 43\\nSkipping line 34190: expected 30 fields, saw 40\\nSkipping line 37794: expected 30 fields, saw 40\\nSkipping line 40442: expected 30 fields, saw 40\\n'\n",
      "b'Skipping line 89373: expected 30 fields, saw 40\\n'\n",
      "b'Skipping line 101024: expected 30 fields, saw 40\\nSkipping line 107382: expected 30 fields, saw 40\\nSkipping line 111765: expected 30 fields, saw 40\\nSkipping line 112294: expected 30 fields, saw 40\\nSkipping line 114715: expected 30 fields, saw 40\\nSkipping line 116517: expected 30 fields, saw 40\\nSkipping line 124266: expected 30 fields, saw 40\\n'\n",
      "b'Skipping line 33630: expected 30 fields, saw 40\\nSkipping line 40031: expected 30 fields, saw 40\\nSkipping line 41367: expected 30 fields, saw 40\\nSkipping line 42403: expected 30 fields, saw 40\\nSkipping line 58156: expected 30 fields, saw 40\\nSkipping line 61657: expected 30 fields, saw 40\\nSkipping line 63881: expected 30 fields, saw 40\\n'\n",
      "b'Skipping line 66583: expected 30 fields, saw 40\\n'\n",
      "b'Skipping line 2463: expected 30 fields, saw 40\\nSkipping line 5438: expected 30 fields, saw 43\\n'\n",
      "b'Skipping line 37723: expected 30 fields, saw 43\\nSkipping line 54723: expected 30 fields, saw 40\\n'\n",
      "b'Skipping line 69675: expected 30 fields, saw 40\\nSkipping line 69733: expected 30 fields, saw 40\\nSkipping line 84149: expected 30 fields, saw 43\\nSkipping line 85006: expected 30 fields, saw 40\\nSkipping line 88473: expected 30 fields, saw 40\\nSkipping line 95737: expected 30 fields, saw 40\\nSkipping line 97249: expected 30 fields, saw 34\\n'\n",
      "b'Skipping line 104791: expected 30 fields, saw 40\\nSkipping line 110090: expected 30 fields, saw 40\\nSkipping line 110484: expected 30 fields, saw 40\\nSkipping line 110666: expected 30 fields, saw 40\\nSkipping line 127306: expected 30 fields, saw 40\\nSkipping line 128276: expected 30 fields, saw 40\\nSkipping line 128732: expected 30 fields, saw 40\\n'\n",
      "b'Skipping line 19393: expected 30 fields, saw 40\\nSkipping line 22502: expected 30 fields, saw 43\\nSkipping line 23258: expected 30 fields, saw 40\\nSkipping line 29030: expected 30 fields, saw 40\\nSkipping line 29379: expected 30 fields, saw 40\\n'\n",
      "b'Skipping line 35918: expected 30 fields, saw 43\\nSkipping line 36007: expected 30 fields, saw 33\\nSkipping line 45767: expected 30 fields, saw 40\\nSkipping line 48214: expected 30 fields, saw 33\\nSkipping line 51109: expected 30 fields, saw 40\\nSkipping line 56379: expected 30 fields, saw 40\\nSkipping line 58517: expected 30 fields, saw 39\\n'\n",
      "b'Skipping line 76816: expected 30 fields, saw 40\\nSkipping line 93403: expected 30 fields, saw 40\\nSkipping line 93894: expected 30 fields, saw 40\\nSkipping line 97374: expected 30 fields, saw 40\\n'\n"
     ]
    }
   ],
   "source": [
    "import os\n",
    "import pandas as pd\n",
    "\n",
    "data1_0 = pd.read_csv('streaming_ed-data1_0.txt', encoding='utf8', sep=\"\\t\", header = None, error_bad_lines=False)\n",
    "data1_1 = pd.read_csv('streaming_ed-data1_1.txt', encoding='utf8', sep=\"\\t\", header = None, error_bad_lines=False)\n",
    "data1_2 = pd.read_csv('streaming_ed-data1_2.txt',  encoding='utf8', sep=\"\\t\", header = None, error_bad_lines=False)\n",
    "data1_3 = pd.read_csv('streaming_ed-data1_3.txt',  encoding='utf8', sep=\"\\t\", header = None, error_bad_lines=False)\n",
    "data2_0 = pd.read_csv('streaming_ed-data2_0.txt', encoding='utf8', sep=\"\\t\", header = None, error_bad_lines=False)\n",
    "data2_1 = pd.read_csv('streaming_ed-data2_1.txt', encoding='utf8', sep=\"\\t\", header = None, error_bad_lines=False)\n",
    "data2_2 = pd.read_csv('streaming_ed-data2_2.txt', encoding='utf8', sep=\"\\t\", header = None, error_bad_lines=False)\n",
    "data2_3 = pd.read_csv('streaming_ed-data2_3.txt', encoding='utf8', sep=\"\\t\", header = None, error_bad_lines=False)\n",
    "data3_0 = pd.read_csv('streaming_ed-data3_0.txt', encoding='utf8', sep=\"\\t\", header = None, error_bad_lines=False)\n",
    "data3_1 = pd.read_csv('streaming_ed-data3_1.txt', encoding='utf8', sep=\"\\t\", header = None, error_bad_lines=False)"
   ]
  },
  {
   "cell_type": "markdown",
   "metadata": {},
   "source": [
    "We created a function to process all the dataframes by adding the names to the different columns and removing strings that do not give us information to leave the content clean.\n",
    "\n",
    "From all the information received, data are selected that are useful for analysing the context of the tweet:\n",
    "\n",
    "- id.tweet: tweet identifier. It is a growing number that is assigning Twitter sequentially to each message.\n",
    "- date: date and GMT time of the tweet.\n",
    "- @author: username of the tweet's author.\n",
    "- text: text of the tweet.\n",
    "- app: application from which the tweet has been published.\n",
    "- id.author: author's identifier. It is a growing number that is assigned to Twitter users as they are discharged.\n",
    "- followers: number of followers at the time of publication.\n",
    "- following: number of users followed at the time of publication.\n",
    "- statuses: number of tweets published previously.\n",
    "- location: location declared in the user profile.\n",
    "- urls: link if the tweet contains a URL, otherwise the value None is stored.\n",
    "- geolocation: coordinates if the tweet is geolocated, otherwise None is stored.\n",
    "- name: name provided by the user.\n",
    "- description: description of the user.\n",
    "- url_media: URL if the tweet contains multimedia information, otherwise the value None is stored.\n",
    "- type.media: type of multimedia information (photo, video,.), in case it does not exist, its value is None.\n",
    "- quoted: original tweet that has been quoted.\n",
    "- relation: RT, reply, quote or None.\n",
    "- replied_id: tweet replied.\n",
    "- user.replied: user replied.\n",
    "- retweeted_id: id of tweet replied.\n",
    "- user.retweeted: user retweeted.\n",
    "- quoted_id: id of tweet quoted.\n",
    "- user.quoted: user quoted.\n",
    "- first.HT: first hasthag found on the tweet.\n",
    "- lang: language of tweet.\n",
    "- create_at: date of creation of the tweeting user account.\n",
    "- verified: information on whether the account is verified or not.\n",
    "- avatar: avatar of user account.\n",
    "- link: link to the tweet.\n",
    "\n",
    "Some data such as location, name and bio may contain line breaks or tabs. To avoid conflicts with the delimiters, the tabs and line breaks in these data are filtered out."
   ]
  },
  {
   "cell_type": "code",
   "execution_count": 3,
   "metadata": {},
   "outputs": [],
   "source": [
    "def pre_df(data, group):\n",
    "    data.columns = [\"id_tweet\",\"date\",\"author\",\"text\",\"app\",\"id_user\",\"followers\",\"following\",\"statuses\",\"location\",\"urls\",\"geolocation\",\"name\",\"description\",\n",
    "                             \"url_media\",\"type_media\",\"quoted\",\"relation\",\"replied_id\",\"user_replied\",\"retweeted_id\",\"user_retweeted\",\"quoted_id\",\"user_quoted\",\"first_HT\",\n",
    "                             \"lang\",\"created_at\",\"verified\",\"avatar\",\"link\"]\n",
    "    data['app'] = data['app'].astype('str').map(lambda x: x.lstrip('via='))\n",
    "    data['id_user'] = data['id_user'].astype('str').map(lambda x: x.lstrip('id='))\n",
    "    data['followers'] = data['followers'].astype('str').map(lambda x: x.lstrip('followers='))\n",
    "    data['following'] = data['following'].astype('str').map(lambda x: x.lstrip('following='))\n",
    "    data['statuses'] = data['statuses'].astype('str').map(lambda x: x.lstrip('statuses='))\n",
    "    data['location'] = data['location'].astype('str').map(lambda x: x.lstrip('loc='))\n",
    "    data['stream_group'] = group"
   ]
  },
  {
   "cell_type": "code",
   "execution_count": 4,
   "metadata": {},
   "outputs": [],
   "source": [
    "pre_df(data1_0, 1)\n",
    "pre_df(data1_1, 1)\n",
    "pre_df(data1_2, 1)\n",
    "pre_df(data1_3, 1)\n",
    "pre_df(data2_0, 2)\n",
    "pre_df(data2_1, 2)\n",
    "pre_df(data2_2, 2)\n",
    "pre_df(data2_3, 2)\n",
    "pre_df(data3_0, 3)\n",
    "pre_df(data3_1, 3)"
   ]
  },
  {
   "cell_type": "code",
   "execution_count": 5,
   "metadata": {},
   "outputs": [],
   "source": [
    "pd.set_option('display.max_columns', None)\n",
    "pd.set_option('display.max_rows', None)\n",
    "pd.options.display.max_colwidth = 300\n",
    "#data2_1.info(memory_usage=\"deep\")"
   ]
  },
  {
   "cell_type": "markdown",
   "metadata": {},
   "source": [
    "We unite all the data sets into one."
   ]
  },
  {
   "cell_type": "code",
   "execution_count": 6,
   "metadata": {},
   "outputs": [],
   "source": [
    "objs = [data1_0, data1_1, data1_2, data1_3, data2_0, data2_1, data2_2, data2_3, data3_0, data3_1]\n",
    "\n",
    "data_tot = pd.concat(\n",
    "    objs,\n",
    "    axis=0,\n",
    "    join=\"outer\",\n",
    "    ignore_index=True,\n",
    "    copy=True\n",
    ")"
   ]
  },
  {
   "cell_type": "code",
   "execution_count": 7,
   "metadata": {},
   "outputs": [
    {
     "data": {
      "text/plain": [
       "(1085957, 31)"
      ]
     },
     "execution_count": 7,
     "metadata": {},
     "output_type": "execute_result"
    }
   ],
   "source": [
    "data_tot.shape"
   ]
  },
  {
   "cell_type": "markdown",
   "metadata": {},
   "source": [
    "We have collected 1,085,957 tweets in total.\n",
    "\n",
    "We count how many tweets are original and how many are retuits, quotes or responses to other tweets."
   ]
  },
  {
   "cell_type": "code",
   "execution_count": 8,
   "metadata": {},
   "outputs": [
    {
     "data": {
      "text/plain": [
       "relation\n",
       "2020-11-13 19:43:31         1\n",
       "False                      15\n",
       "None                   218993\n",
       "RT                     404882\n",
       "True                        1\n",
       "quote                  260223\n",
       "reply                  201776\n",
       "Name: text, dtype: int64"
      ]
     },
     "execution_count": 8,
     "metadata": {},
     "output_type": "execute_result"
    }
   ],
   "source": [
    "data_tot.groupby('relation')['text'].count()"
   ]
  },
  {
   "cell_type": "markdown",
   "metadata": {},
   "source": [
    "We detected 17 tweets that were not stored correctly and deleted them."
   ]
  },
  {
   "cell_type": "code",
   "execution_count": 9,
   "metadata": {},
   "outputs": [],
   "source": [
    "data_tot_cl = data_tot.query('relation != \"False\" and relation != \"True\" and relation != \"2020-11-13 19:43:31\"')"
   ]
  },
  {
   "cell_type": "code",
   "execution_count": 10,
   "metadata": {},
   "outputs": [
    {
     "data": {
      "text/plain": [
       "relation\n",
       "None     218993\n",
       "RT       404882\n",
       "quote    260223\n",
       "reply    201776\n",
       "Name: text, dtype: int64"
      ]
     },
     "execution_count": 10,
     "metadata": {},
     "output_type": "execute_result"
    }
   ],
   "source": [
    "data_tot_cl.groupby('relation')['text'].count()"
   ]
  },
  {
   "cell_type": "code",
   "execution_count": 11,
   "metadata": {},
   "outputs": [
    {
     "data": {
      "text/plain": [
       "(1085940, 31)"
      ]
     },
     "execution_count": 11,
     "metadata": {},
     "output_type": "execute_result"
    }
   ],
   "source": [
    "data_tot_cl.shape"
   ]
  },
  {
   "cell_type": "markdown",
   "metadata": {},
   "source": [
    "We then calculate the usage memory of the dataframe and try to optimize it by performing the following tasks\n",
    "- Converting the numerical columns to numbers.\n",
    "- Convert the dates to datetime.\n",
    "- Convert the rest of the objects into categories.\n",
    "\n",
    "Thanks to all these steps, we reduced the original dataframe from 2.7GB to 1.1GB."
   ]
  },
  {
   "cell_type": "code",
   "execution_count": 12,
   "metadata": {},
   "outputs": [],
   "source": [
    "def usageForType(df):\n",
    "    for ctype in ['float','float64','int64','int','object','datetime','category']:\n",
    "        columnType = df.select_dtypes(include=[ctype])\n",
    "        meanMemoryUsage = columnType.memory_usage(deep=True).mean()\n",
    "        meanMemoryUsageMB = meanMemoryUsage / 1024 ** 2\n",
    "        print(\"Memory usage for type \",ctype , \" : {:0.5f} MB\".format(meanMemoryUsageMB))"
   ]
  },
  {
   "cell_type": "code",
   "execution_count": 13,
   "metadata": {},
   "outputs": [],
   "source": [
    "data_tot_cl = data_tot_cl[data_tot_cl['date'].notna()]"
   ]
  },
  {
   "cell_type": "code",
   "execution_count": 14,
   "metadata": {},
   "outputs": [
    {
     "name": "stdout",
     "output_type": "stream",
     "text": [
      "<class 'pandas.core.frame.DataFrame'>\n",
      "Int64Index: 1085898 entries, 0 to 1085956\n",
      "Data columns (total 31 columns):\n",
      " #   Column          Non-Null Count    Dtype \n",
      "---  ------          --------------    ----- \n",
      " 0   id_tweet        1085898 non-null  object\n",
      " 1   date            1085898 non-null  object\n",
      " 2   author          1085898 non-null  object\n",
      " 3   text            1085898 non-null  object\n",
      " 4   app             1085898 non-null  object\n",
      " 5   id_user         1085898 non-null  object\n",
      " 6   followers       1085898 non-null  object\n",
      " 7   following       1085898 non-null  object\n",
      " 8   statuses        1085898 non-null  object\n",
      " 9   location        1085898 non-null  object\n",
      " 10  urls            1085898 non-null  object\n",
      " 11  geolocation     1085898 non-null  object\n",
      " 12  name            1085835 non-null  object\n",
      " 13  description     1085885 non-null  object\n",
      " 14  url_media       1085895 non-null  object\n",
      " 15  type_media      1085895 non-null  object\n",
      " 16  quoted          1085895 non-null  object\n",
      " 17  relation        1085874 non-null  object\n",
      " 18  replied_id      1085874 non-null  object\n",
      " 19  user_replied    1085874 non-null  object\n",
      " 20  retweeted_id    1085874 non-null  object\n",
      " 21  user_retweeted  1085874 non-null  object\n",
      " 22  quoted_id       1085874 non-null  object\n",
      " 23  user_quoted     1085874 non-null  object\n",
      " 24  first_HT        1085874 non-null  object\n",
      " 25  lang            1085874 non-null  object\n",
      " 26  created_at      1085874 non-null  object\n",
      " 27  verified        1085849 non-null  object\n",
      " 28  avatar          1085849 non-null  object\n",
      " 29  link            1085847 non-null  object\n",
      " 30  stream_group    1085898 non-null  int64 \n",
      "dtypes: int64(1), object(30)\n",
      "memory usage: 2.7 GB\n"
     ]
    }
   ],
   "source": [
    "data_tot_cl.info(memory_usage=\"deep\")"
   ]
  },
  {
   "cell_type": "code",
   "execution_count": 15,
   "metadata": {},
   "outputs": [
    {
     "name": "stdout",
     "output_type": "stream",
     "text": [
      "Memory usage for type  float  : 8.28474 MB\n",
      "Memory usage for type  float64  : 8.28474 MB\n",
      "Memory usage for type  int64  : 8.28474 MB\n",
      "Memory usage for type  int  : 8.28474 MB\n",
      "Memory usage for type  object  : 88.00062 MB\n",
      "Memory usage for type  datetime  : 8.28474 MB\n",
      "Memory usage for type  category  : 8.28474 MB\n"
     ]
    }
   ],
   "source": [
    "usageForType(data_tot_cl)"
   ]
  },
  {
   "cell_type": "code",
   "execution_count": 16,
   "metadata": {},
   "outputs": [
    {
     "data": {
      "text/plain": [
       "0    1318513897826123776\n",
       "Name: id_tweet, dtype: object"
      ]
     },
     "execution_count": 16,
     "metadata": {},
     "output_type": "execute_result"
    }
   ],
   "source": [
    "data_tot_cl['id_tweet'].head(1)"
   ]
  },
  {
   "cell_type": "code",
   "execution_count": 17,
   "metadata": {},
   "outputs": [],
   "source": [
    "data_tot_cl.loc[:,'id_tweet'] = pd.to_numeric(data_tot_cl.loc[:,'id_tweet'], errors='coerce')\n",
    "data_tot_cl.loc[:,'id_user'] = pd.to_numeric(data_tot_cl.loc[:,'id_user'], errors='coerce')\n",
    "data_tot_cl.loc[:,'followers'] = pd.to_numeric(data_tot_cl.loc[:,'followers'], errors='coerce')\n",
    "data_tot_cl.loc[:,'following'] = pd.to_numeric(data_tot_cl.loc[:,'following'], errors='coerce')\n",
    "data_tot_cl.loc[:,'replied_id'] = pd.to_numeric(data_tot_cl.loc[:,'replied_id'], errors='coerce')\n",
    "data_tot_cl.loc[:,'retweeted_id'] = pd.to_numeric(data_tot_cl.loc[:,'retweeted_id'], errors='coerce')\n",
    "data_tot_cl.loc[:,'quoted_id'] = pd.to_numeric(data_tot_cl.loc[:,'quoted_id'], errors='coerce')\n",
    "data_tot_cl.loc[:,'user_replied'] = pd.to_numeric(data_tot_cl.loc[:,'user_replied'], errors='coerce')\n",
    "data_tot_cl.loc[:,'user_retweeted'] = pd.to_numeric(data_tot_cl.loc[:,'user_retweeted'], errors='coerce')\n",
    "data_tot_cl.loc[:,'user_quoted'] = pd.to_numeric(data_tot_cl.loc[:,'user_quoted'], errors='coerce')"
   ]
  },
  {
   "cell_type": "code",
   "execution_count": 18,
   "metadata": {},
   "outputs": [],
   "source": [
    "data_tot_cl['date'] = pd.to_datetime(data_tot_cl['date'], errors='coerce', infer_datetime_format=True)\n",
    "data_tot_cl['created_at'] = pd.to_datetime(data_tot_cl['created_at'], errors='coerce', infer_datetime_format=True)"
   ]
  },
  {
   "cell_type": "code",
   "execution_count": 19,
   "metadata": {},
   "outputs": [],
   "source": [
    "for col in data_tot_cl.columns:            \n",
    "       if \"object\" in str(data_tot_cl[col].dtype):\n",
    "            data_tot_cl[col] = data_tot_cl[col].astype('category')"
   ]
  },
  {
   "cell_type": "code",
   "execution_count": 20,
   "metadata": {},
   "outputs": [
    {
     "name": "stdout",
     "output_type": "stream",
     "text": [
      "<class 'pandas.core.frame.DataFrame'>\n",
      "Int64Index: 1085898 entries, 0 to 1085956\n",
      "Data columns (total 31 columns):\n",
      " #   Column          Non-Null Count    Dtype         \n",
      "---  ------          --------------    -----         \n",
      " 0   id_tweet        1085895 non-null  float64       \n",
      " 1   date            1085895 non-null  datetime64[ns]\n",
      " 2   author          1085898 non-null  category      \n",
      " 3   text            1085898 non-null  category      \n",
      " 4   app             1085898 non-null  category      \n",
      " 5   id_user         1085877 non-null  float64       \n",
      " 6   followers       1085877 non-null  float64       \n",
      " 7   following       1085878 non-null  float64       \n",
      " 8   statuses        1085898 non-null  category      \n",
      " 9   location        1085898 non-null  category      \n",
      " 10  urls            1085898 non-null  category      \n",
      " 11  geolocation     1085898 non-null  category      \n",
      " 12  name            1085835 non-null  category      \n",
      " 13  description     1085885 non-null  category      \n",
      " 14  url_media       1085895 non-null  category      \n",
      " 15  type_media      1085895 non-null  category      \n",
      " 16  quoted          1085895 non-null  category      \n",
      " 17  relation        1085874 non-null  category      \n",
      " 18  replied_id      207243 non-null   float64       \n",
      " 19  user_replied    26 non-null       float64       \n",
      " 20  retweeted_id    404882 non-null   float64       \n",
      " 21  user_retweeted  1 non-null        float64       \n",
      " 22  quoted_id       260223 non-null   float64       \n",
      " 23  user_quoted     0 non-null        float64       \n",
      " 24  first_HT        1085874 non-null  category      \n",
      " 25  lang            1085874 non-null  category      \n",
      " 26  created_at      1085847 non-null  datetime64[ns]\n",
      " 27  verified        1085849 non-null  category      \n",
      " 28  avatar          1085849 non-null  category      \n",
      " 29  link            1085847 non-null  category      \n",
      " 30  stream_group    1085898 non-null  int64         \n",
      "dtypes: category(18), datetime64[ns](2), float64(10), int64(1)\n",
      "memory usage: 1.1 GB\n"
     ]
    }
   ],
   "source": [
    "data_tot_cl.info(memory_usage=\"deep\")"
   ]
  },
  {
   "cell_type": "code",
   "execution_count": 21,
   "metadata": {},
   "outputs": [],
   "source": [
    "pd.set_option('float_format', '{:.0f}'.format)"
   ]
  },
  {
   "cell_type": "markdown",
   "metadata": {},
   "source": [
    "We make a cross between the columns 'id.tweet' and 'retweeted_id' so that we remove all the tweets that are retuits of already existing tweets."
   ]
  },
  {
   "cell_type": "code",
   "execution_count": 22,
   "metadata": {},
   "outputs": [],
   "source": [
    "id_tweets = set(data_tot_cl['id_tweet'].unique())\n",
    "data_tot_cl[\"origtweetishere\"] = data_tot_cl['retweeted_id'].map(lambda x : True if x in id_tweets else False) "
   ]
  },
  {
   "cell_type": "code",
   "execution_count": 23,
   "metadata": {},
   "outputs": [
    {
     "data": {
      "text/plain": [
       "404882"
      ]
     },
     "execution_count": 23,
     "metadata": {},
     "output_type": "execute_result"
    }
   ],
   "source": [
    "data_tot_cl.query('relation == \"RT\"')['id_tweet'].count()"
   ]
  },
  {
   "cell_type": "code",
   "execution_count": 24,
   "metadata": {},
   "outputs": [
    {
     "data": {
      "text/plain": [
       "origtweetishere\n",
       "False    743272\n",
       "True     342623\n",
       "Name: id_tweet, dtype: int64"
      ]
     },
     "execution_count": 24,
     "metadata": {},
     "output_type": "execute_result"
    }
   ],
   "source": [
    "data_tot_cl.groupby('origtweetishere')['id_tweet'].count()"
   ]
  },
  {
   "cell_type": "markdown",
   "metadata": {},
   "source": [
    "Of 404,882 retuits, 342,623 belong to tuits already stored in the dataframe."
   ]
  },
  {
   "cell_type": "code",
   "execution_count": 25,
   "metadata": {},
   "outputs": [],
   "source": [
    "data_tot_cl = data_tot_cl.query('origtweetishere == False')"
   ]
  },
  {
   "cell_type": "code",
   "execution_count": 26,
   "metadata": {},
   "outputs": [],
   "source": [
    "data_tot_cl = data_tot_cl.drop(['origtweetishere'], axis=1)"
   ]
  },
  {
   "cell_type": "code",
   "execution_count": 27,
   "metadata": {},
   "outputs": [
    {
     "data": {
      "text/plain": [
       "(743275, 31)"
      ]
     },
     "execution_count": 27,
     "metadata": {},
     "output_type": "execute_result"
    }
   ],
   "source": [
    "data_tot_cl.shape"
   ]
  },
  {
   "cell_type": "markdown",
   "metadata": {},
   "source": [
    "We now eliminate possible repeated tweets since, initially, we unified 3 data sets that could have common tweets."
   ]
  },
  {
   "cell_type": "code",
   "execution_count": 28,
   "metadata": {},
   "outputs": [],
   "source": [
    "data_tot_cl = data_tot_cl.drop_duplicates()"
   ]
  },
  {
   "cell_type": "code",
   "execution_count": 29,
   "metadata": {},
   "outputs": [],
   "source": [
    "data_tot_cl = data_tot_cl.loc[~data_tot_cl['text'].duplicated()]"
   ]
  },
  {
   "cell_type": "code",
   "execution_count": 30,
   "metadata": {},
   "outputs": [],
   "source": [
    "data_tot_cl = data_tot_cl.loc[~data_tot_cl['id_tweet'].duplicated()]"
   ]
  },
  {
   "cell_type": "code",
   "execution_count": 31,
   "metadata": {},
   "outputs": [],
   "source": [
    "data_tot_cl = data_tot_cl.query('lang == \"en\"')"
   ]
  },
  {
   "cell_type": "code",
   "execution_count": 32,
   "metadata": {},
   "outputs": [
    {
     "name": "stdout",
     "output_type": "stream",
     "text": [
      "\n",
      "Tweets info:\n",
      "nunique    494025\n",
      "count      494025\n",
      "size       494025\n",
      "Name: text, dtype: int64\n",
      "\n",
      "Users info:\n",
      "nunique    349634\n",
      "count      494025\n",
      "size       494025\n",
      "Name: id_user, dtype: int64\n",
      "\n",
      "Group info:\n",
      "nunique         3\n",
      "count      494025\n",
      "size       494025\n",
      "Name: stream_group, dtype: int64\n",
      "\n",
      "Group by group:\n",
      "stream_group\n",
      "1    179217\n",
      "2    176976\n",
      "3    137832\n",
      "Name: id_tweet, dtype: int64\n",
      "\n",
      "Detecting duplicates by id_tweet:\n",
      "nunique    494025\n",
      "count      494025\n",
      "size       494025\n",
      "Name: id_tweet, dtype: int64\n"
     ]
    }
   ],
   "source": [
    "print('\\nTweets info:')\n",
    "print(data_tot_cl['text'].agg(['nunique','count','size']))\n",
    "print('\\nUsers info:')\n",
    "print(data_tot_cl['id_user'].agg(['nunique','count','size']))\n",
    "print('\\nGroup info:')\n",
    "print(data_tot_cl['stream_group'].agg(['nunique','count','size']))\n",
    "print('\\nGroup by group:')\n",
    "print(data_tot_cl.groupby('stream_group')['id_tweet'].count())\n",
    "print('\\nDetecting duplicates by id_tweet:')\n",
    "print(data_tot_cl['id_tweet'].agg(['nunique','count','size']))"
   ]
  },
  {
   "cell_type": "code",
   "execution_count": 33,
   "metadata": {},
   "outputs": [],
   "source": [
    "data_tot_cl = data_tot_cl.reset_index()"
   ]
  },
  {
   "cell_type": "code",
   "execution_count": 34,
   "metadata": {},
   "outputs": [],
   "source": [
    "tweets = data_tot_cl.copy()"
   ]
  },
  {
   "cell_type": "code",
   "execution_count": 35,
   "metadata": {},
   "outputs": [],
   "source": [
    "tweets['text_orig'] = data_tot_cl['text'].map(str)"
   ]
  },
  {
   "cell_type": "code",
   "execution_count": 36,
   "metadata": {},
   "outputs": [],
   "source": [
    "tweets = tweets.drop(['index'], axis=1)"
   ]
  },
  {
   "cell_type": "code",
   "execution_count": 37,
   "metadata": {},
   "outputs": [],
   "source": [
    "tweets_orig = tweets.copy()"
   ]
  },
  {
   "cell_type": "code",
   "execution_count": 38,
   "metadata": {},
   "outputs": [
    {
     "name": "stderr",
     "output_type": "stream",
     "text": [
      "[nltk_data] Downloading package wordnet to\n",
      "[nltk_data]     C:\\Users\\MICROSOFT\\AppData\\Roaming\\nltk_data...\n",
      "[nltk_data]   Package wordnet is already up-to-date!\n",
      "[nltk_data] Downloading package stopwords to\n",
      "[nltk_data]     C:\\Users\\MICROSOFT\\AppData\\Roaming\\nltk_data...\n",
      "[nltk_data]   Package stopwords is already up-to-date!\n"
     ]
    },
    {
     "ename": "TypeError",
     "evalue": "unhashable type: 'list'",
     "output_type": "error",
     "traceback": [
      "\u001b[1;31m---------------------------------------------------------------------------\u001b[0m",
      "\u001b[1;31mTypeError\u001b[0m                                 Traceback (most recent call last)",
      "\u001b[1;32mpandas\\_libs\\hashtable_class_helper.pxi\u001b[0m in \u001b[0;36mpandas._libs.hashtable.PyObjectHashTable.map_locations\u001b[1;34m()\u001b[0m\n",
      "\u001b[1;31mTypeError\u001b[0m: unhashable type: 'list'"
     ]
    },
    {
     "name": "stderr",
     "output_type": "stream",
     "text": [
      "Exception ignored in: 'pandas._libs.index.IndexEngine._call_map_locations'\n",
      "Traceback (most recent call last):\n",
      "  File \"pandas\\_libs\\hashtable_class_helper.pxi\", line 1652, in pandas._libs.hashtable.PyObjectHashTable.map_locations\n",
      "TypeError: unhashable type: 'list'\n"
     ]
    }
   ],
   "source": [
    "import pandas as pd\n",
    "import numpy as np\n",
    "import json\n",
    "from collections import Counter\n",
    "from wordcloud import WordCloud\n",
    "import matplotlib.pyplot as plt\n",
    "import re, string, unicodedata\n",
    "import nltk\n",
    "from nltk import word_tokenize, sent_tokenize, FreqDist\n",
    "from nltk.corpus import stopwords\n",
    "from nltk.stem import LancasterStemmer, WordNetLemmatizer\n",
    "nltk.download\n",
    "nltk.download('wordnet')\n",
    "nltk.download('stopwords')\n",
    "from nltk.tokenize import TweetTokenizer\n",
    "\n",
    "import preprocessor as p\n",
    "tweets['hashtag'] = tweets['text_orig'].apply(lambda x: re.findall(r\"#(\\w+)\", x))\n",
    "\n",
    "def preprocess_tweet(row):\n",
    "    text = row['text']\n",
    "    text = p.clean(text)\n",
    "    return text\n",
    "\n",
    "tweets['text'] = tweets.apply(preprocess_tweet, axis=1)"
   ]
  },
  {
   "cell_type": "code",
   "execution_count": 39,
   "metadata": {},
   "outputs": [
    {
     "data": {
      "text/plain": [
       "0              [BBCPanorama]\n",
       "1                         []\n",
       "2                         []\n",
       "3    [anorexia, BodyofWater]\n",
       "4                         []\n",
       "5                         []\n",
       "6                         []\n",
       "7                         []\n",
       "8                         []\n",
       "9                         []\n",
       "Name: hashtag, dtype: object"
      ]
     },
     "execution_count": 39,
     "metadata": {},
     "output_type": "execute_result"
    }
   ],
   "source": [
    "tweets['hashtag'].head(10)"
   ]
  },
  {
   "cell_type": "code",
   "execution_count": 40,
   "metadata": {},
   "outputs": [],
   "source": [
    "def preprocess_data(data):\n",
    "    #Removes Numbers\n",
    "    data = data.astype(str).str.replace('\\d+', '')\n",
    "    lower_text = data.str.lower()\n",
    "    lemmatizer = nltk.stem.WordNetLemmatizer()\n",
    "    w_tokenizer =  TweetTokenizer()\n",
    " \n",
    "    def lemmatize_text(text):\n",
    "        return [(lemmatizer.lemmatize(w)) for w \\\n",
    "                       in w_tokenizer.tokenize((text))]\n",
    "    \n",
    "    def remove_punctuation(words):\n",
    "        new_words = []\n",
    "        for word in words:\n",
    "            new_word = re.sub(r'[^\\w\\s]', '', (word))\n",
    "            if new_word != '':\n",
    "                new_words.append(new_word)\n",
    "        return new_words\n",
    "    words = lower_text.apply(lemmatize_text)\n",
    "    words = words.apply(remove_punctuation)\n",
    "    return pd.DataFrame(words)\n",
    "\n",
    "pre_tweets = preprocess_data(tweets['text'])\n",
    "tweets['text'] = pre_tweets\n",
    "stop_words = set(stopwords.words('english'))\n",
    "tweets['text'] = tweets['text'].apply(lambda x: [item for item in \\\n",
    "                                    x if item not in stop_words])"
   ]
  },
  {
   "cell_type": "code",
   "execution_count": 41,
   "metadata": {},
   "outputs": [],
   "source": [
    "tweets['hashtag'].dropna(inplace=True)"
   ]
  },
  {
   "cell_type": "code",
   "execution_count": 42,
   "metadata": {},
   "outputs": [
    {
     "data": {
      "text/plain": [
       "0    [BBCPanorama]\n",
       "1               []\n",
       "2               []\n",
       "Name: hashtag, dtype: object"
      ]
     },
     "execution_count": 42,
     "metadata": {},
     "output_type": "execute_result"
    }
   ],
   "source": [
    "tweets2 = tweets.copy()\n",
    "\n",
    "tweets2['hashtag'].head(3)\n",
    "tweets2 = tweets2.reset_index(drop=True)\n",
    "tweets2['hashtag'].head(3)"
   ]
  },
  {
   "cell_type": "code",
   "execution_count": 43,
   "metadata": {},
   "outputs": [
    {
     "name": "stdout",
     "output_type": "stream",
     "text": [
      "Reading twitter - 1grams ...\n",
      "Reading twitter - 2grams ...\n"
     ]
    },
    {
     "name": "stderr",
     "output_type": "stream",
     "text": [
      "C:\\Users\\MICROSOFT\\Anaconda3\\envs\\tfm\\lib\\site-packages\\ekphrasis\\classes\\exmanager.py:14: FutureWarning: Possible nested set at position 42\n",
      "  regexes = {k.lower(): re.compile(self.expressions[k]) for k, v in\n"
     ]
    },
    {
     "name": "stdout",
     "output_type": "stream",
     "text": [
      "(494025, 33)\n"
     ]
    },
    {
     "data": {
      "image/png": "[encoded data removed]",
      "text/plain": [
       "<Figure size 864x720 with 1 Axes>"
      ]
     },
     "metadata": {
      "needs_background": "light"
     },
     "output_type": "display_data"
    }
   ],
   "source": [
    "from ekphrasis.classes.segmenter import Segmenter\n",
    "\n",
    "# segmenter using the word statistics from Twitter\n",
    "seg_tw = Segmenter(corpus=\"twitter\")\n",
    "a = []\n",
    "\n",
    "#tweets2 = tweets.copy()\n",
    "#tweets['hashtag'] = tweets['hashtag'].dropna(inplace=True)\n",
    "tweets = tweets.reset_index(drop=True)\n",
    "print(tweets.shape)\n",
    "\n",
    "for i in range(len(tweets)):\n",
    "    if tweets['hashtag'][i] != a:\n",
    "        listToStr1 = ' '.join([str(elem) for elem in \\\n",
    "                                       tweets['hashtag'][i]])\n",
    "        tweets.loc[i,'Segmented#'] = seg_tw.segment(listToStr1)\n",
    "\n",
    "#Frequency of words\n",
    "fdist = FreqDist(tweets['Segmented#'])\n",
    "#WordCloud\n",
    "wc = WordCloud(width=800, height=400, max_words=50).generate_from_frequencies(fdist)\n",
    "plt.figure(figsize=(12,10))\n",
    "plt.imshow(wc, interpolation=\"bilinear\")\n",
    "plt.axis(\"off\")\n",
    "plt.show()"
   ]
  },
  {
   "cell_type": "code",
   "execution_count": 44,
   "metadata": {},
   "outputs": [],
   "source": [
    "tweets.to_csv('tweets.csv', encoding='utf-8')"
   ]
  },
  {
   "cell_type": "code",
   "execution_count": 60,
   "metadata": {},
   "outputs": [
    {
     "name": "stdout",
     "output_type": "stream",
     "text": [
      "FreqDist({'hey mp': 684, 'healthy': 501, 'pltpinkmonday': 338, 'be wise eat right': 337, 'covid 19': 274, 'ed twt': 272, 'anorexia': 252, 'eating disorders': 239, 'end sars': 226, 'the bachelorette': 208, ...})\n"
     ]
    }
   ],
   "source": [
    "fdist.pprint(10)"
   ]
  },
  {
   "cell_type": "code",
   "execution_count": null,
   "metadata": {},
   "outputs": [],
   "source": [
    "dff.head(10)"
   ]
  },
  {
   "cell_type": "code",
   "execution_count": null,
   "metadata": {},
   "outputs": [],
   "source": []
  }
 ],
 "metadata": {
  "kernelspec": {
   "display_name": "Python 3 (ipykernel)",
   "language": "python",
   "name": "python3"
  },
  "language_info": {
   "codemirror_mode": {
    "name": "ipython",
    "version": 3
   },
   "file_extension": ".py",
   "mimetype": "text/x-python",
   "name": "python",
   "nbconvert_exporter": "python",
   "pygments_lexer": "ipython3",
   "version": "3.7.11"
  }
 },
 "nbformat": 4,
 "nbformat_minor": 4
}
